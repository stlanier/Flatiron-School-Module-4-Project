{
 "cells": [
  {
   "cell_type": "code",
   "execution_count": 1,
   "metadata": {},
   "outputs": [
    {
     "name": "stderr",
     "output_type": "stream",
     "text": [
      "Using TensorFlow backend.\n"
     ]
    }
   ],
   "source": [
    "import numpy as np\n",
    "import pandas as pd\n",
    "import keras\n",
    "import pickle\n",
    "import sklearn\n",
    "import analysis_util as util\n",
    "from imblearn.over_sampling import SMOTE\n",
    "from sklearn.linear_model import LogisticRegressionCV\n",
    "from sklearn.model_selection import GridSearchCV\n",
    "from sklearn.decomposition import TruncatedSVD\n",
    "from sklearn.metrics import roc_curve, auc, plot_roc_curve\n",
    "from sklearn.preprocessing import label_binarize\n",
    "from sklearn.ensemble import RandomForestClassifier, IsolationForest\n",
    "from sklearn.naive_bayes import MultinomialNB\n",
    "from sklearn.svm import SVC\n",
    "from keras import metrics, models, layers, optimizers\n",
    "import matplotlib.pyplot as plt\n",
    "%matplotlib inline\n",
    "np.random.seed(42)"
   ]
  },
  {
   "cell_type": "code",
   "execution_count": 2,
   "metadata": {},
   "outputs": [],
   "source": [
    "clfs = [LogisticRegressionCV(cv=5),  \n",
    "        RandomForestClassifier(n_estimators=100), \n",
    "        SVC()]"
   ]
  },
  {
   "cell_type": "code",
   "execution_count": 3,
   "metadata": {},
   "outputs": [],
   "source": [
    "with open(\"../data/X_train.txt\", \"rb\") as fp:  \n",
    "    X_train = pickle.load(fp)\n",
    "    \n",
    "with open(\"../data/smote_X_train.txt\", \"rb\") as fp:  \n",
    "    smote_X_train = pickle.load(fp)\n",
    "    \n",
    "with open(\"../data/X_train_val.txt\", \"rb\") as fp:  \n",
    "    X_train_val = pickle.load(fp)\n",
    "    \n",
    "with open(\"../data/X_test.txt\", \"rb\") as fp:  \n",
    "    X_test = pickle.load(fp)\n",
    "    \n",
    "    \n",
    "with open(\"../data/y_train.txt\", \"rb\") as fp:  \n",
    "    y_train = pickle.load(fp)\n",
    "    \n",
    "with open(\"../data/smote_y_train.txt\", \"rb\") as fp:  \n",
    "    smote_y_train = pickle.load(fp)\n",
    "    \n",
    "with open(\"../data/y_train_val.txt\", \"rb\") as fp:  \n",
    "    y_train_val = pickle.load(fp)\n",
    "    \n",
    "with open(\"../data/y_test.txt\", \"rb\") as fp:  \n",
    "    y_test = pickle.load(fp)"
   ]
  },
  {
   "cell_type": "code",
   "execution_count": 4,
   "metadata": {},
   "outputs": [],
   "source": [
    "neg_y_train = [1 if x == 0 else 0 for x in y_train]\n",
    "neg_y_train_val = [1 if x == 0 else 0 for x in y_train_val]\n",
    "neg_y_test = [1 if x == 0 else 0 for x in y_test]"
   ]
  },
  {
   "cell_type": "code",
   "execution_count": 6,
   "metadata": {},
   "outputs": [],
   "source": [
    "neg_y_train_ohe = keras.utils.to_categorical(neg_y_train, 2)\n",
    "neg_y_train_val_ohe = keras.utils.to_categorical(neg_y_train_val, 2)\n",
    "neg_y_test_ohe = keras.utils.to_categorical(neg_y_test, 2)"
   ]
  },
  {
   "cell_type": "code",
   "execution_count": 12,
   "metadata": {},
   "outputs": [
    {
     "data": {
      "text/plain": [
       "0    0.93782\n",
       "1    0.06218\n",
       "dtype: float64"
      ]
     },
     "execution_count": 12,
     "metadata": {},
     "output_type": "execute_result"
    }
   ],
   "source": [
    "pd.Series(neg_y_train).value_counts(normalize=True)"
   ]
  },
  {
   "cell_type": "code",
   "execution_count": 13,
   "metadata": {},
   "outputs": [
    {
     "data": {
      "text/plain": [
       "{0: 1.0663030509630134, 1: 16.082262210796916}"
      ]
     },
     "execution_count": 13,
     "metadata": {},
     "output_type": "execute_result"
    }
   ],
   "source": [
    "dict(1/pd.Series(neg_y_train).value_counts(normalize=True))\n"
   ]
  },
  {
   "cell_type": "code",
   "execution_count": 15,
   "metadata": {
    "scrolled": true
   },
   "outputs": [
    {
     "name": "stdout",
     "output_type": "stream",
     "text": [
      "Train on 6256 samples, validate on 1340 samples\n",
      "Epoch 1/20\n",
      "6256/6256 [==============================] - 9s 1ms/step - loss: 1.3864 - get_f1: 0.1124 - val_loss: 0.6960 - val_get_f1: 0.1192\n",
      "Epoch 2/20\n",
      "6256/6256 [==============================] - 7s 1ms/step - loss: 1.3863 - get_f1: 0.1177 - val_loss: 0.6907 - val_get_f1: 0.1032\n",
      "Epoch 3/20\n",
      "6256/6256 [==============================] - 7s 1ms/step - loss: 1.3849 - get_f1: 0.1211 - val_loss: 0.6924 - val_get_f1: 0.1156\n",
      "Epoch 4/20\n",
      "6256/6256 [==============================] - 7s 1ms/step - loss: 1.3847 - get_f1: 0.1251 - val_loss: 0.6861 - val_get_f1: 0.0797\n",
      "Epoch 5/20\n",
      "6256/6256 [==============================] - 7s 1ms/step - loss: 1.3832 - get_f1: 0.1340 - val_loss: 0.6923 - val_get_f1: 0.1370\n",
      "Epoch 6/20\n",
      "6256/6256 [==============================] - 7s 1ms/step - loss: 1.3814 - get_f1: 0.1289 - val_loss: 0.6866 - val_get_f1: 0.1060\n",
      "Epoch 7/20\n",
      "6256/6256 [==============================] - 7s 1ms/step - loss: 1.3809 - get_f1: 0.1423 - val_loss: 0.6909 - val_get_f1: 0.1652\n",
      "Epoch 8/20\n",
      "6256/6256 [==============================] - 7s 1ms/step - loss: 1.3813 - get_f1: 0.1254 - val_loss: 0.6924 - val_get_f1: 0.1545\n",
      "Epoch 9/20\n",
      "6256/6256 [==============================] - 7s 1ms/step - loss: 1.3793 - get_f1: 0.1361 - val_loss: 0.6851 - val_get_f1: 0.1249\n",
      "Epoch 10/20\n",
      "6256/6256 [==============================] - 7s 1ms/step - loss: 1.3759 - get_f1: 0.1616 - val_loss: 0.6867 - val_get_f1: 0.1695\n",
      "Epoch 11/20\n",
      "6256/6256 [==============================] - 7s 1ms/step - loss: 1.3784 - get_f1: 0.1424 - val_loss: 0.6898 - val_get_f1: 0.1760\n",
      "Epoch 12/20\n",
      "6256/6256 [==============================] - 7s 1ms/step - loss: 1.3760 - get_f1: 0.1375 - val_loss: 0.6848 - val_get_f1: 0.1801\n",
      "Epoch 13/20\n",
      "6256/6256 [==============================] - 7s 1ms/step - loss: 1.3743 - get_f1: 0.1408 - val_loss: 0.6758 - val_get_f1: 0.1697\n",
      "Epoch 14/20\n",
      "6256/6256 [==============================] - 7s 1ms/step - loss: 1.3719 - get_f1: 0.1548 - val_loss: 0.6789 - val_get_f1: 0.1962\n",
      "Epoch 15/20\n",
      "6256/6256 [==============================] - 7s 1ms/step - loss: 1.3679 - get_f1: 0.1724 - val_loss: 0.6841 - val_get_f1: 0.1933\n",
      "Epoch 16/20\n",
      "6256/6256 [==============================] - 7s 1ms/step - loss: 1.3648 - get_f1: 0.1711 - val_loss: 0.6886 - val_get_f1: 0.1675\n",
      "Epoch 17/20\n",
      "6256/6256 [==============================] - 7s 1ms/step - loss: 1.3647 - get_f1: 0.1589 - val_loss: 0.6731 - val_get_f1: 0.2170\n",
      "Epoch 18/20\n",
      "6256/6256 [==============================] - 7s 1ms/step - loss: 1.3609 - get_f1: 0.1824 - val_loss: 0.6838 - val_get_f1: 0.1738\n",
      "Epoch 19/20\n",
      "6256/6256 [==============================] - 7s 1ms/step - loss: 1.3565 - get_f1: 0.1728 - val_loss: 0.6733 - val_get_f1: 0.2065\n",
      "Epoch 20/20\n",
      "6256/6256 [==============================] - 7s 1ms/step - loss: 1.3500 - get_f1: 0.1929 - val_loss: 0.6831 - val_get_f1: 0.1775\n"
     ]
    }
   ],
   "source": [
    "class_weight = dict(1/pd.Series(neg_y_train).value_counts(normalize=True))\n",
    "# class_weight = {0:1000000, 1:1}\n",
    "\n",
    "clf_ann = models.Sequential()\n",
    "clf_ann.add(layers.Dropout(.3, input_shape=(X_train.shape[1], )))\n",
    "clf_ann.add(layers.Dense(1000, activation='relu'))\n",
    "clf_ann.add(layers.Dropout(.3))\n",
    "clf_ann.add(layers.Dense(500, activation='relu'))\n",
    "clf_ann.add(layers.Dropout(.3))\n",
    "clf_ann.add(layers.Dense(100, activation='relu'))\n",
    "clf_ann.add(layers.Dropout(.3))\n",
    "clf_ann.add(layers.Dense(1, activation='sigmoid'))\n",
    "clf_ann.compile(optimizer='SGD', \n",
    "                loss='binary_crossentropy',\n",
    "                metrics=[util.get_f1])\n",
    "history = clf_ann.fit(X_train, neg_y_train, epochs=20, batch_size=100, class_weight=class_weight, validation_data=(X_train_val, neg_y_train_val))"
   ]
  },
  {
   "cell_type": "code",
   "execution_count": 16,
   "metadata": {
    "scrolled": true
   },
   "outputs": [
    {
     "name": "stdout",
     "output_type": "stream",
     "text": [
      "[[100.   0.]\n",
      " [100.   0.]]\n",
      "\n",
      "              precision    recall  f1-score   support\n",
      "\n",
      "           0       0.94      1.00      0.97      1255\n",
      "           1       0.00      0.00      0.00        85\n",
      "\n",
      "    accuracy                           0.94      1340\n",
      "   macro avg       0.47      0.50      0.48      1340\n",
      "weighted avg       0.88      0.94      0.91      1340\n",
      "\n"
     ]
    },
    {
     "name": "stderr",
     "output_type": "stream",
     "text": [
      "/Users/stlanier/opt/anaconda3/envs/learn-env/lib/python3.6/site-packages/sklearn/metrics/_classification.py:1221: UndefinedMetricWarning: Precision and F-score are ill-defined and being set to 0.0 in labels with no predicted samples. Use `zero_division` parameter to control this behavior.\n",
      "  _warn_prf(average, modifier, msg_start, len(result))\n"
     ]
    }
   ],
   "source": [
    "yhat_train_val = clf_ann.predict(X_train_val)\n",
    "yhat_train_val = [np.argmax(y) for y in yhat_train_val]\n",
    "util.report(neg_y_train_val, yhat_train_val)"
   ]
  },
  {
   "cell_type": "code",
   "execution_count": 17,
   "metadata": {
    "scrolled": true
   },
   "outputs": [
    {
     "name": "stderr",
     "output_type": "stream",
     "text": [
      "/Users/stlanier/opt/anaconda3/envs/learn-env/lib/python3.6/site-packages/sklearn/linear_model/_logistic.py:764: ConvergenceWarning: lbfgs failed to converge (status=1):\n",
      "STOP: TOTAL NO. of ITERATIONS REACHED LIMIT.\n",
      "\n",
      "Increase the number of iterations (max_iter) or scale the data as shown in:\n",
      "    https://scikit-learn.org/stable/modules/preprocessing.html\n",
      "Please also refer to the documentation for alternative solver options:\n",
      "    https://scikit-learn.org/stable/modules/linear_model.html#logistic-regression\n",
      "  extra_warning_msg=_LOGISTIC_SOLVER_CONVERGENCE_MSG)\n",
      "/Users/stlanier/opt/anaconda3/envs/learn-env/lib/python3.6/site-packages/sklearn/linear_model/_logistic.py:764: ConvergenceWarning: lbfgs failed to converge (status=1):\n",
      "STOP: TOTAL NO. of ITERATIONS REACHED LIMIT.\n",
      "\n",
      "Increase the number of iterations (max_iter) or scale the data as shown in:\n",
      "    https://scikit-learn.org/stable/modules/preprocessing.html\n",
      "Please also refer to the documentation for alternative solver options:\n",
      "    https://scikit-learn.org/stable/modules/linear_model.html#logistic-regression\n",
      "  extra_warning_msg=_LOGISTIC_SOLVER_CONVERGENCE_MSG)\n",
      "/Users/stlanier/opt/anaconda3/envs/learn-env/lib/python3.6/site-packages/sklearn/linear_model/_logistic.py:764: ConvergenceWarning: lbfgs failed to converge (status=1):\n",
      "STOP: TOTAL NO. of ITERATIONS REACHED LIMIT.\n",
      "\n",
      "Increase the number of iterations (max_iter) or scale the data as shown in:\n",
      "    https://scikit-learn.org/stable/modules/preprocessing.html\n",
      "Please also refer to the documentation for alternative solver options:\n",
      "    https://scikit-learn.org/stable/modules/linear_model.html#logistic-regression\n",
      "  extra_warning_msg=_LOGISTIC_SOLVER_CONVERGENCE_MSG)\n",
      "/Users/stlanier/opt/anaconda3/envs/learn-env/lib/python3.6/site-packages/sklearn/linear_model/_logistic.py:764: ConvergenceWarning: lbfgs failed to converge (status=1):\n",
      "STOP: TOTAL NO. of ITERATIONS REACHED LIMIT.\n",
      "\n",
      "Increase the number of iterations (max_iter) or scale the data as shown in:\n",
      "    https://scikit-learn.org/stable/modules/preprocessing.html\n",
      "Please also refer to the documentation for alternative solver options:\n",
      "    https://scikit-learn.org/stable/modules/linear_model.html#logistic-regression\n",
      "  extra_warning_msg=_LOGISTIC_SOLVER_CONVERGENCE_MSG)\n",
      "/Users/stlanier/opt/anaconda3/envs/learn-env/lib/python3.6/site-packages/sklearn/linear_model/_logistic.py:764: ConvergenceWarning: lbfgs failed to converge (status=1):\n",
      "STOP: TOTAL NO. of ITERATIONS REACHED LIMIT.\n",
      "\n",
      "Increase the number of iterations (max_iter) or scale the data as shown in:\n",
      "    https://scikit-learn.org/stable/modules/preprocessing.html\n",
      "Please also refer to the documentation for alternative solver options:\n",
      "    https://scikit-learn.org/stable/modules/linear_model.html#logistic-regression\n",
      "  extra_warning_msg=_LOGISTIC_SOLVER_CONVERGENCE_MSG)\n",
      "/Users/stlanier/opt/anaconda3/envs/learn-env/lib/python3.6/site-packages/sklearn/linear_model/_logistic.py:764: ConvergenceWarning: lbfgs failed to converge (status=1):\n",
      "STOP: TOTAL NO. of ITERATIONS REACHED LIMIT.\n",
      "\n",
      "Increase the number of iterations (max_iter) or scale the data as shown in:\n",
      "    https://scikit-learn.org/stable/modules/preprocessing.html\n",
      "Please also refer to the documentation for alternative solver options:\n",
      "    https://scikit-learn.org/stable/modules/linear_model.html#logistic-regression\n",
      "  extra_warning_msg=_LOGISTIC_SOLVER_CONVERGENCE_MSG)\n",
      "/Users/stlanier/opt/anaconda3/envs/learn-env/lib/python3.6/site-packages/sklearn/linear_model/_logistic.py:764: ConvergenceWarning: lbfgs failed to converge (status=1):\n",
      "STOP: TOTAL NO. of ITERATIONS REACHED LIMIT.\n",
      "\n",
      "Increase the number of iterations (max_iter) or scale the data as shown in:\n",
      "    https://scikit-learn.org/stable/modules/preprocessing.html\n",
      "Please also refer to the documentation for alternative solver options:\n",
      "    https://scikit-learn.org/stable/modules/linear_model.html#logistic-regression\n",
      "  extra_warning_msg=_LOGISTIC_SOLVER_CONVERGENCE_MSG)\n",
      "/Users/stlanier/opt/anaconda3/envs/learn-env/lib/python3.6/site-packages/sklearn/linear_model/_logistic.py:764: ConvergenceWarning: lbfgs failed to converge (status=1):\n",
      "STOP: TOTAL NO. of ITERATIONS REACHED LIMIT.\n",
      "\n",
      "Increase the number of iterations (max_iter) or scale the data as shown in:\n",
      "    https://scikit-learn.org/stable/modules/preprocessing.html\n",
      "Please also refer to the documentation for alternative solver options:\n",
      "    https://scikit-learn.org/stable/modules/linear_model.html#logistic-regression\n",
      "  extra_warning_msg=_LOGISTIC_SOLVER_CONVERGENCE_MSG)\n",
      "/Users/stlanier/opt/anaconda3/envs/learn-env/lib/python3.6/site-packages/sklearn/linear_model/_logistic.py:764: ConvergenceWarning: lbfgs failed to converge (status=1):\n",
      "STOP: TOTAL NO. of ITERATIONS REACHED LIMIT.\n",
      "\n",
      "Increase the number of iterations (max_iter) or scale the data as shown in:\n",
      "    https://scikit-learn.org/stable/modules/preprocessing.html\n",
      "Please also refer to the documentation for alternative solver options:\n",
      "    https://scikit-learn.org/stable/modules/linear_model.html#logistic-regression\n",
      "  extra_warning_msg=_LOGISTIC_SOLVER_CONVERGENCE_MSG)\n",
      "/Users/stlanier/opt/anaconda3/envs/learn-env/lib/python3.6/site-packages/sklearn/linear_model/_logistic.py:764: ConvergenceWarning: lbfgs failed to converge (status=1):\n",
      "STOP: TOTAL NO. of ITERATIONS REACHED LIMIT.\n",
      "\n",
      "Increase the number of iterations (max_iter) or scale the data as shown in:\n",
      "    https://scikit-learn.org/stable/modules/preprocessing.html\n",
      "Please also refer to the documentation for alternative solver options:\n",
      "    https://scikit-learn.org/stable/modules/linear_model.html#logistic-regression\n",
      "  extra_warning_msg=_LOGISTIC_SOLVER_CONVERGENCE_MSG)\n",
      "/Users/stlanier/opt/anaconda3/envs/learn-env/lib/python3.6/site-packages/sklearn/linear_model/_logistic.py:764: ConvergenceWarning: lbfgs failed to converge (status=1):\n",
      "STOP: TOTAL NO. of ITERATIONS REACHED LIMIT.\n",
      "\n",
      "Increase the number of iterations (max_iter) or scale the data as shown in:\n",
      "    https://scikit-learn.org/stable/modules/preprocessing.html\n",
      "Please also refer to the documentation for alternative solver options:\n",
      "    https://scikit-learn.org/stable/modules/linear_model.html#logistic-regression\n",
      "  extra_warning_msg=_LOGISTIC_SOLVER_CONVERGENCE_MSG)\n",
      "/Users/stlanier/opt/anaconda3/envs/learn-env/lib/python3.6/site-packages/sklearn/linear_model/_logistic.py:764: ConvergenceWarning: lbfgs failed to converge (status=1):\n",
      "STOP: TOTAL NO. of ITERATIONS REACHED LIMIT.\n",
      "\n",
      "Increase the number of iterations (max_iter) or scale the data as shown in:\n",
      "    https://scikit-learn.org/stable/modules/preprocessing.html\n",
      "Please also refer to the documentation for alternative solver options:\n",
      "    https://scikit-learn.org/stable/modules/linear_model.html#logistic-regression\n",
      "  extra_warning_msg=_LOGISTIC_SOLVER_CONVERGENCE_MSG)\n",
      "/Users/stlanier/opt/anaconda3/envs/learn-env/lib/python3.6/site-packages/sklearn/linear_model/_logistic.py:764: ConvergenceWarning: lbfgs failed to converge (status=1):\n",
      "STOP: TOTAL NO. of ITERATIONS REACHED LIMIT.\n",
      "\n",
      "Increase the number of iterations (max_iter) or scale the data as shown in:\n",
      "    https://scikit-learn.org/stable/modules/preprocessing.html\n",
      "Please also refer to the documentation for alternative solver options:\n",
      "    https://scikit-learn.org/stable/modules/linear_model.html#logistic-regression\n",
      "  extra_warning_msg=_LOGISTIC_SOLVER_CONVERGENCE_MSG)\n",
      "/Users/stlanier/opt/anaconda3/envs/learn-env/lib/python3.6/site-packages/sklearn/linear_model/_logistic.py:764: ConvergenceWarning: lbfgs failed to converge (status=1):\n",
      "STOP: TOTAL NO. of ITERATIONS REACHED LIMIT.\n",
      "\n",
      "Increase the number of iterations (max_iter) or scale the data as shown in:\n",
      "    https://scikit-learn.org/stable/modules/preprocessing.html\n",
      "Please also refer to the documentation for alternative solver options:\n",
      "    https://scikit-learn.org/stable/modules/linear_model.html#logistic-regression\n",
      "  extra_warning_msg=_LOGISTIC_SOLVER_CONVERGENCE_MSG)\n",
      "/Users/stlanier/opt/anaconda3/envs/learn-env/lib/python3.6/site-packages/sklearn/linear_model/_logistic.py:764: ConvergenceWarning: lbfgs failed to converge (status=1):\n",
      "STOP: TOTAL NO. of ITERATIONS REACHED LIMIT.\n",
      "\n",
      "Increase the number of iterations (max_iter) or scale the data as shown in:\n",
      "    https://scikit-learn.org/stable/modules/preprocessing.html\n",
      "Please also refer to the documentation for alternative solver options:\n",
      "    https://scikit-learn.org/stable/modules/linear_model.html#logistic-regression\n",
      "  extra_warning_msg=_LOGISTIC_SOLVER_CONVERGENCE_MSG)\n"
     ]
    },
    {
     "name": "stdout",
     "output_type": "stream",
     "text": [
      "LogisticRegressionCV(cv=5)\n",
      "--Train--\n",
      "[[100.    0. ]\n",
      " [ 14.7  85.3]]\n",
      "\n",
      "              precision    recall  f1-score   support\n",
      "\n",
      "           0       0.99      1.00      1.00      5867\n",
      "           1       1.00      0.85      0.92       389\n",
      "\n",
      "    accuracy                           0.99      6256\n",
      "   macro avg       0.99      0.93      0.96      6256\n",
      "weighted avg       0.99      0.99      0.99      6256\n",
      "\n",
      "--Validation--\n",
      "[[99.   1. ]\n",
      " [89.4 10.6]]\n",
      "\n",
      "              precision    recall  f1-score   support\n",
      "\n",
      "           0       0.94      0.99      0.97      1255\n",
      "           1       0.43      0.11      0.17        85\n",
      "\n",
      "    accuracy                           0.93      1340\n",
      "   macro avg       0.69      0.55      0.57      1340\n",
      "weighted avg       0.91      0.93      0.92      1340\n",
      "\n",
      "RandomForestClassifier()\n",
      "--Train--\n",
      "[[100.    0. ]\n",
      " [  0.3  99.7]]\n",
      "\n",
      "              precision    recall  f1-score   support\n",
      "\n",
      "           0       1.00      1.00      1.00      5867\n",
      "           1       1.00      1.00      1.00       389\n",
      "\n",
      "    accuracy                           1.00      6256\n",
      "   macro avg       1.00      1.00      1.00      6256\n",
      "weighted avg       1.00      1.00      1.00      6256\n",
      "\n",
      "--Validation--\n",
      "[[99.6  0.4]\n",
      " [90.6  9.4]]\n",
      "\n",
      "              precision    recall  f1-score   support\n",
      "\n",
      "           0       0.94      1.00      0.97      1255\n",
      "           1       0.62      0.09      0.16        85\n",
      "\n",
      "    accuracy                           0.94      1340\n",
      "   macro avg       0.78      0.55      0.57      1340\n",
      "weighted avg       0.92      0.94      0.92      1340\n",
      "\n",
      "SVC()\n",
      "--Train--\n",
      "[[100.    0. ]\n",
      " [ 60.4  39.6]]\n",
      "\n",
      "              precision    recall  f1-score   support\n",
      "\n",
      "           0       0.96      1.00      0.98      5867\n",
      "           1       0.99      0.40      0.57       389\n",
      "\n",
      "    accuracy                           0.96      6256\n",
      "   macro avg       0.98      0.70      0.77      6256\n",
      "weighted avg       0.96      0.96      0.95      6256\n",
      "\n",
      "--Validation--\n",
      "[[99.9  0.1]\n",
      " [95.3  4.7]]\n",
      "\n",
      "              precision    recall  f1-score   support\n",
      "\n",
      "           0       0.94      1.00      0.97      1255\n",
      "           1       0.80      0.05      0.09        85\n",
      "\n",
      "    accuracy                           0.94      1340\n",
      "   macro avg       0.87      0.52      0.53      1340\n",
      "weighted avg       0.93      0.94      0.91      1340\n",
      "\n"
     ]
    }
   ],
   "source": [
    "for clf in clfs:\n",
    "    clf.fit(X_train, neg_y_train)\n",
    "    print(f'{clf}')\n",
    "    print('--Train--')\n",
    "    util.report(neg_y_train, clf.predict(X_train))\n",
    "    print('--Validation--')\n",
    "    util.report(neg_y_train_val, clf.predict(X_train_val))"
   ]
  },
  {
   "cell_type": "code",
   "execution_count": null,
   "metadata": {},
   "outputs": [],
   "source": []
  },
  {
   "cell_type": "code",
   "execution_count": null,
   "metadata": {},
   "outputs": [],
   "source": [
    "## try Talos (gridsearch for neural networks)\n",
    "## try ntlk.sentiment.vader for tagging pos/neg words"
   ]
  },
  {
   "cell_type": "code",
   "execution_count": 27,
   "metadata": {},
   "outputs": [],
   "source": [
    "index_of_pos_neutral_train = [i for i, x in enumerate(y_train) if x==2]\n",
    "X_train_isof = [X_train[i,:] for i in index_of_pos_neutral_train]"
   ]
  },
  {
   "cell_type": "code",
   "execution_count": null,
   "metadata": {},
   "outputs": [],
   "source": []
  },
  {
   "cell_type": "code",
   "execution_count": 32,
   "metadata": {},
   "outputs": [],
   "source": [
    "isof = IsolationForest(n_estimators=500, random_state=42).fit(X_train_isof)"
   ]
  },
  {
   "cell_type": "code",
   "execution_count": 33,
   "metadata": {},
   "outputs": [],
   "source": [
    "yhat_train = isof.predict(X_train)"
   ]
  },
  {
   "cell_type": "code",
   "execution_count": 34,
   "metadata": {},
   "outputs": [
    {
     "data": {
      "text/plain": [
       "{1}"
      ]
     },
     "execution_count": 34,
     "metadata": {},
     "output_type": "execute_result"
    }
   ],
   "source": [
    "set(yhat_train)"
   ]
  },
  {
   "cell_type": "code",
   "execution_count": 31,
   "metadata": {},
   "outputs": [
    {
     "data": {
      "text/plain": [
       "{1}"
      ]
     },
     "execution_count": 31,
     "metadata": {},
     "output_type": "execute_result"
    }
   ],
   "source": [
    "yhat_val = isof.predict(X_train_val)\n",
    "set(yhat_val)"
   ]
  },
  {
   "cell_type": "code",
   "execution_count": 15,
   "metadata": {},
   "outputs": [],
   "source": [
    "## not detecting any outliers (=-1) in train or val data."
   ]
  },
  {
   "cell_type": "code",
   "execution_count": 16,
   "metadata": {},
   "outputs": [],
   "source": [
    "with open(\"../data/bigram_X_train.txt\", \"rb\") as fp:  \n",
    "    bigram_X_train = pickle.load(fp)"
   ]
  },
  {
   "cell_type": "code",
   "execution_count": 18,
   "metadata": {},
   "outputs": [
    {
     "data": {
      "text/plain": [
       "{1}"
      ]
     },
     "execution_count": 18,
     "metadata": {},
     "output_type": "execute_result"
    }
   ],
   "source": [
    "isof_bigram = IsolationForest(random_state=42).fit(bigram_X_train)\n",
    "yhat_bigram_train = isof_bigram.predict(bigram_X_train)\n",
    "set(yhat_bigram_train)"
   ]
  },
  {
   "cell_type": "code",
   "execution_count": 19,
   "metadata": {},
   "outputs": [],
   "source": [
    "## not detecting any outliers in train data including bigrams."
   ]
  },
  {
   "cell_type": "code",
   "execution_count": null,
   "metadata": {},
   "outputs": [],
   "source": []
  }
 ],
 "metadata": {
  "kernelspec": {
   "display_name": "Python 3",
   "language": "python",
   "name": "python3"
  },
  "language_info": {
   "codemirror_mode": {
    "name": "ipython",
    "version": 3
   },
   "file_extension": ".py",
   "mimetype": "text/x-python",
   "name": "python",
   "nbconvert_exporter": "python",
   "pygments_lexer": "ipython3",
   "version": "3.6.12"
  }
 },
 "nbformat": 4,
 "nbformat_minor": 4
}
