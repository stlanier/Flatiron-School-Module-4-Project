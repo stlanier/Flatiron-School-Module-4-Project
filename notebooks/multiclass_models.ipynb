{
 "cells": [
  {
   "cell_type": "markdown",
   "metadata": {},
   "source": [
    "# Classifying Product Reviews by Sentiment"
   ]
  },
  {
   "cell_type": "markdown",
   "metadata": {},
   "source": [
    "## Introduction"
   ]
  },
  {
   "cell_type": "markdown",
   "metadata": {},
   "source": [
    "For my fourth module project for Flatiron School, I chose a natural language processing problem, trying to classify [product reviews](https://data.world/crowdflower/brands-and-product-emotions) as positive, negative, or neither. Key challenges when approaching this problem were the multi-class nature of the dataset and class imbalances––reviews without emotion were much more common than either positive or negative reviews. Because of class imbalances, I used F1 scores (rather than accuracy) to determine model success, and my best models achieved 0.53 F1 scores on test data."
   ]
  },
  {
   "cell_type": "markdown",
   "metadata": {},
   "source": [
    "## Imports"
   ]
  },
  {
   "cell_type": "code",
   "execution_count": 29,
   "metadata": {},
   "outputs": [],
   "source": [
    "import numpy as np\n",
    "import pandas as pd\n",
    "import keras\n",
    "import pickle\n",
    "import sklearn\n",
    "import analysis_util as util\n",
    "from imblearn.over_sampling import SMOTE\n",
    "from sklearn.linear_model import LogisticRegressionCV\n",
    "from sklearn.model_selection import GridSearchCV\n",
    "from sklearn.metrics import roc_curve, auc, plot_roc_curve\n",
    "from sklearn.preprocessing import label_binarize\n",
    "from sklearn.ensemble import RandomForestClassifier\n",
    "from sklearn.naive_bayes import MultinomialNB\n",
    "from sklearn.svm import SVC\n",
    "from keras import metrics, models, layers, optimizers\n",
    "import matplotlib.pyplot as plt\n",
    "%matplotlib inline\n",
    "np.random.seed(42)"
   ]
  },
  {
   "cell_type": "code",
   "execution_count": 35,
   "metadata": {},
   "outputs": [],
   "source": [
    "clfs = [LogisticRegressionCV(cv=5), \n",
    "        RandomForestClassifier(n_estimators=100), \n",
    "        SVC()]"
   ]
  },
  {
   "cell_type": "code",
   "execution_count": 31,
   "metadata": {},
   "outputs": [],
   "source": [
    "with open(\"../data/X_train.txt\", \"rb\") as fp:  \n",
    "    X_train = pickle.load(fp)\n",
    "    \n",
    "with open(\"../data/X_train_val.txt\", \"rb\") as fp:  \n",
    "    X_train_val = pickle.load(fp)\n",
    "    \n",
    "with open(\"../data/smote_X_train.txt\", \"rb\") as fp:  \n",
    "    smote_X_train = pickle.load(fp)\n",
    "    \n",
    "with open(\"../data/X_test.txt\", \"rb\") as fp:  \n",
    "    X_test = pickle.load(fp)\n",
    "    \n",
    "with open(\"../data/y_train.txt\", \"rb\") as fp:  \n",
    "    y_train = pickle.load(fp)\n",
    "    \n",
    "with open(\"../data/smote_y_train.txt\", \"rb\") as fp:  \n",
    "    smote_y_train = pickle.load(fp)\n",
    "    \n",
    "with open(\"../data/y_train_val.txt\", \"rb\") as fp:  \n",
    "    y_train_val = pickle.load(fp)\n",
    "    \n",
    "with open(\"../data/y_test.txt\", \"rb\") as fp:  \n",
    "    y_test = pickle.load(fp)"
   ]
  },
  {
   "cell_type": "markdown",
   "metadata": {},
   "source": [
    "## Model Selection and Training"
   ]
  },
  {
   "cell_type": "markdown",
   "metadata": {},
   "source": [
    "I try out logistic regression, an SVM (with rbf kernel), a Random Forest, and a neural network."
   ]
  },
  {
   "cell_type": "code",
   "execution_count": 36,
   "metadata": {
    "scrolled": true
   },
   "outputs": [
    {
     "name": "stderr",
     "output_type": "stream",
     "text": [
      "/Users/stlanier/opt/anaconda3/envs/learn-env/lib/python3.6/site-packages/sklearn/linear_model/_logistic.py:764: ConvergenceWarning: lbfgs failed to converge (status=1):\n",
      "STOP: TOTAL NO. of ITERATIONS REACHED LIMIT.\n",
      "\n",
      "Increase the number of iterations (max_iter) or scale the data as shown in:\n",
      "    https://scikit-learn.org/stable/modules/preprocessing.html\n",
      "Please also refer to the documentation for alternative solver options:\n",
      "    https://scikit-learn.org/stable/modules/linear_model.html#logistic-regression\n",
      "  extra_warning_msg=_LOGISTIC_SOLVER_CONVERGENCE_MSG)\n",
      "/Users/stlanier/opt/anaconda3/envs/learn-env/lib/python3.6/site-packages/sklearn/linear_model/_logistic.py:764: ConvergenceWarning: lbfgs failed to converge (status=1):\n",
      "STOP: TOTAL NO. of ITERATIONS REACHED LIMIT.\n",
      "\n",
      "Increase the number of iterations (max_iter) or scale the data as shown in:\n",
      "    https://scikit-learn.org/stable/modules/preprocessing.html\n",
      "Please also refer to the documentation for alternative solver options:\n",
      "    https://scikit-learn.org/stable/modules/linear_model.html#logistic-regression\n",
      "  extra_warning_msg=_LOGISTIC_SOLVER_CONVERGENCE_MSG)\n",
      "/Users/stlanier/opt/anaconda3/envs/learn-env/lib/python3.6/site-packages/sklearn/linear_model/_logistic.py:764: ConvergenceWarning: lbfgs failed to converge (status=1):\n",
      "STOP: TOTAL NO. of ITERATIONS REACHED LIMIT.\n",
      "\n",
      "Increase the number of iterations (max_iter) or scale the data as shown in:\n",
      "    https://scikit-learn.org/stable/modules/preprocessing.html\n",
      "Please also refer to the documentation for alternative solver options:\n",
      "    https://scikit-learn.org/stable/modules/linear_model.html#logistic-regression\n",
      "  extra_warning_msg=_LOGISTIC_SOLVER_CONVERGENCE_MSG)\n",
      "/Users/stlanier/opt/anaconda3/envs/learn-env/lib/python3.6/site-packages/sklearn/linear_model/_logistic.py:764: ConvergenceWarning: lbfgs failed to converge (status=1):\n",
      "STOP: TOTAL NO. of ITERATIONS REACHED LIMIT.\n",
      "\n",
      "Increase the number of iterations (max_iter) or scale the data as shown in:\n",
      "    https://scikit-learn.org/stable/modules/preprocessing.html\n",
      "Please also refer to the documentation for alternative solver options:\n",
      "    https://scikit-learn.org/stable/modules/linear_model.html#logistic-regression\n",
      "  extra_warning_msg=_LOGISTIC_SOLVER_CONVERGENCE_MSG)\n",
      "/Users/stlanier/opt/anaconda3/envs/learn-env/lib/python3.6/site-packages/sklearn/linear_model/_logistic.py:764: ConvergenceWarning: lbfgs failed to converge (status=1):\n",
      "STOP: TOTAL NO. of ITERATIONS REACHED LIMIT.\n",
      "\n",
      "Increase the number of iterations (max_iter) or scale the data as shown in:\n",
      "    https://scikit-learn.org/stable/modules/preprocessing.html\n",
      "Please also refer to the documentation for alternative solver options:\n",
      "    https://scikit-learn.org/stable/modules/linear_model.html#logistic-regression\n",
      "  extra_warning_msg=_LOGISTIC_SOLVER_CONVERGENCE_MSG)\n",
      "/Users/stlanier/opt/anaconda3/envs/learn-env/lib/python3.6/site-packages/sklearn/linear_model/_logistic.py:764: ConvergenceWarning: lbfgs failed to converge (status=1):\n",
      "STOP: TOTAL NO. of ITERATIONS REACHED LIMIT.\n",
      "\n",
      "Increase the number of iterations (max_iter) or scale the data as shown in:\n",
      "    https://scikit-learn.org/stable/modules/preprocessing.html\n",
      "Please also refer to the documentation for alternative solver options:\n",
      "    https://scikit-learn.org/stable/modules/linear_model.html#logistic-regression\n",
      "  extra_warning_msg=_LOGISTIC_SOLVER_CONVERGENCE_MSG)\n"
     ]
    },
    {
     "name": "stdout",
     "output_type": "stream",
     "text": [
      "LogisticRegressionCV(cv=5)\n",
      "--Train--\n",
      "[[58.1 35.2  6.7]\n",
      " [ 0.2 94.8  5. ]\n",
      " [ 0.  23.4 76.6]]\n",
      "\n",
      "              precision    recall  f1-score   support\n",
      "\n",
      "           0       0.97      0.58      0.73       389\n",
      "           1       0.85      0.95      0.90      3767\n",
      "           2       0.88      0.77      0.82      2100\n",
      "\n",
      "    accuracy                           0.86      6256\n",
      "   macro avg       0.90      0.76      0.81      6256\n",
      "weighted avg       0.87      0.86      0.86      6256\n",
      "\n",
      "--Validation--\n",
      "[[ 9.4 75.3 15.3]\n",
      " [ 0.8 85.9 13.3]\n",
      " [ 0.2 49.6 50.2]]\n",
      "\n",
      "              precision    recall  f1-score   support\n",
      "\n",
      "           0       0.53      0.09      0.16        85\n",
      "           1       0.70      0.86      0.77       797\n",
      "           2       0.66      0.50      0.57       458\n",
      "\n",
      "    accuracy                           0.69      1340\n",
      "   macro avg       0.63      0.49      0.50      1340\n",
      "weighted avg       0.68      0.69      0.66      1340\n",
      "\n",
      "RandomForestClassifier()\n",
      "--Train--\n",
      "[[99.7  0.3  0. ]\n",
      " [ 0.  99.7  0.3]\n",
      " [ 0.   1.4 98.6]]\n",
      "\n",
      "              precision    recall  f1-score   support\n",
      "\n",
      "           0       1.00      1.00      1.00       389\n",
      "           1       0.99      1.00      0.99      3767\n",
      "           2       1.00      0.99      0.99      2100\n",
      "\n",
      "    accuracy                           0.99      6256\n",
      "   macro avg       0.99      0.99      0.99      6256\n",
      "weighted avg       0.99      0.99      0.99      6256\n",
      "\n",
      "--Validation--\n",
      "[[10.6 88.2  1.2]\n",
      " [ 0.5 94.4  5.1]\n",
      " [ 0.2 78.4 21.4]]\n",
      "\n",
      "              precision    recall  f1-score   support\n",
      "\n",
      "           0       0.64      0.11      0.18        85\n",
      "           1       0.63      0.94      0.76       797\n",
      "           2       0.70      0.21      0.33       458\n",
      "\n",
      "    accuracy                           0.64      1340\n",
      "   macro avg       0.66      0.42      0.42      1340\n",
      "weighted avg       0.66      0.64      0.57      1340\n",
      "\n",
      "SVC()\n",
      "--Train--\n",
      "[[56.  40.6  3.3]\n",
      " [ 0.  98.5  1.5]\n",
      " [ 0.  18.3 81.7]]\n",
      "\n",
      "              precision    recall  f1-score   support\n",
      "\n",
      "           0       1.00      0.56      0.72       389\n",
      "           1       0.87      0.98      0.93      3767\n",
      "           2       0.96      0.82      0.88      2100\n",
      "\n",
      "    accuracy                           0.90      6256\n",
      "   macro avg       0.94      0.79      0.84      6256\n",
      "weighted avg       0.91      0.90      0.90      6256\n",
      "\n",
      "--Validation--\n",
      "[[ 9.4 78.8 11.8]\n",
      " [ 0.3 88.2 11.5]\n",
      " [ 0.  51.5 48.5]]\n",
      "\n",
      "              precision    recall  f1-score   support\n",
      "\n",
      "           0       0.80      0.09      0.17        85\n",
      "           1       0.70      0.88      0.78       797\n",
      "           2       0.69      0.48      0.57       458\n",
      "\n",
      "    accuracy                           0.70      1340\n",
      "   macro avg       0.73      0.49      0.51      1340\n",
      "weighted avg       0.70      0.70      0.67      1340\n",
      "\n"
     ]
    }
   ],
   "source": [
    "for clf in clfs:\n",
    "    clf.fit(X_train, y_train)\n",
    "    print(f'{clf}')\n",
    "    print('--Train--')\n",
    "    util.report(y_train, clf.predict(X_train))\n",
    "    print('--Validation--')\n",
    "    util.report(y_train_val, clf.predict(X_train_val))"
   ]
  },
  {
   "cell_type": "code",
   "execution_count": 37,
   "metadata": {},
   "outputs": [],
   "source": [
    "y_train_ohe = keras.utils.to_categorical(y_train, 3)\n",
    "y_train_val_ohe = keras.utils.to_categorical(y_train_val, 3)\n",
    "y_test_ohe = keras.utils.to_categorical(y_test, 3)"
   ]
  },
  {
   "cell_type": "code",
   "execution_count": 38,
   "metadata": {
    "scrolled": true
   },
   "outputs": [
    {
     "name": "stdout",
     "output_type": "stream",
     "text": [
      "Train on 6256 samples, validate on 1340 samples\n",
      "Epoch 1/10\n",
      "6256/6256 [==============================] - 7s 1ms/step - loss: 0.8896 - get_f1: 0.4768 - val_loss: 0.8522 - val_get_f1: 0.5948\n",
      "Epoch 2/10\n",
      "6256/6256 [==============================] - 6s 963us/step - loss: 0.8413 - get_f1: 0.6023 - val_loss: 0.8457 - val_get_f1: 0.5948\n",
      "Epoch 3/10\n",
      "6256/6256 [==============================] - 6s 937us/step - loss: 0.8365 - get_f1: 0.6019 - val_loss: 0.8430 - val_get_f1: 0.5948\n",
      "Epoch 4/10\n",
      "6256/6256 [==============================] - 6s 936us/step - loss: 0.8330 - get_f1: 0.6020 - val_loss: 0.8402 - val_get_f1: 0.5948\n",
      "Epoch 5/10\n",
      "6256/6256 [==============================] - 6s 939us/step - loss: 0.8289 - get_f1: 0.6021 - val_loss: 0.8371 - val_get_f1: 0.5948\n",
      "Epoch 6/10\n",
      "6256/6256 [==============================] - 6s 963us/step - loss: 0.8248 - get_f1: 0.6022 - val_loss: 0.8336 - val_get_f1: 0.5951\n",
      "Epoch 7/10\n",
      "6256/6256 [==============================] - 6s 973us/step - loss: 0.8200 - get_f1: 0.6027 - val_loss: 0.8305 - val_get_f1: 0.5958\n",
      "Epoch 8/10\n",
      "6256/6256 [==============================] - 6s 961us/step - loss: 0.8152 - get_f1: 0.6034 - val_loss: 0.8266 - val_get_f1: 0.5966\n",
      "Epoch 9/10\n",
      "6256/6256 [==============================] - 6s 969us/step - loss: 0.8098 - get_f1: 0.6039 - val_loss: 0.8240 - val_get_f1: 0.5962\n",
      "Epoch 10/10\n",
      "6256/6256 [==============================] - 6s 969us/step - loss: 0.8038 - get_f1: 0.6074 - val_loss: 0.8195 - val_get_f1: 0.5974\n"
     ]
    }
   ],
   "source": [
    "clf_ann = models.Sequential()\n",
    "clf_ann.add(layers.Dense(100, activation='relu', input_shape=(X_train.shape[1],)))\n",
    "clf_ann.add(layers.Dense(3, activation='softmax'))\n",
    "clf_ann.compile(optimizer='SGD', \n",
    "                loss='categorical_crossentropy',\n",
    "                metrics=[util.get_f1])\n",
    "history = clf_ann.fit(X_train, y_train_ohe, epochs=10, batch_size=10, validation_data=(X_train_val, y_train_val_ohe))"
   ]
  },
  {
   "cell_type": "code",
   "execution_count": 39,
   "metadata": {},
   "outputs": [
    {
     "name": "stdout",
     "output_type": "stream",
     "text": [
      "[[  0.   99.5   0.5]\n",
      " [  0.  100.    0. ]\n",
      " [  0.   98.7   1.3]]\n",
      "\n",
      "              precision    recall  f1-score   support\n",
      "\n",
      "           0       0.00      0.00      0.00       389\n",
      "           1       0.60      1.00      0.75      3767\n",
      "           2       0.90      0.01      0.03      2100\n",
      "\n",
      "    accuracy                           0.61      6256\n",
      "   macro avg       0.50      0.34      0.26      6256\n",
      "weighted avg       0.67      0.61      0.46      6256\n",
      "\n"
     ]
    },
    {
     "name": "stderr",
     "output_type": "stream",
     "text": [
      "/Users/stlanier/opt/anaconda3/envs/learn-env/lib/python3.6/site-packages/sklearn/metrics/_classification.py:1221: UndefinedMetricWarning: Precision and F-score are ill-defined and being set to 0.0 in labels with no predicted samples. Use `zero_division` parameter to control this behavior.\n",
      "  _warn_prf(average, modifier, msg_start, len(result))\n"
     ]
    }
   ],
   "source": [
    "yhat_train = clf_ann.predict(X_train)\n",
    "yhat_train = [np.argmax(y) for y in yhat_train]\n",
    "util.report(y_train, yhat_train)"
   ]
  },
  {
   "cell_type": "code",
   "execution_count": 40,
   "metadata": {},
   "outputs": [
    {
     "name": "stdout",
     "output_type": "stream",
     "text": [
      "[[  0.  100.    0. ]\n",
      " [  0.  100.    0. ]\n",
      " [  0.   99.3   0.7]]\n",
      "\n",
      "              precision    recall  f1-score   support\n",
      "\n",
      "           0       0.00      0.00      0.00        85\n",
      "           1       0.60      1.00      0.75       797\n",
      "           2       1.00      0.01      0.01       458\n",
      "\n",
      "    accuracy                           0.60      1340\n",
      "   macro avg       0.53      0.34      0.25      1340\n",
      "weighted avg       0.70      0.60      0.45      1340\n",
      "\n"
     ]
    }
   ],
   "source": [
    "yhat_test = clf_ann.predict(X_train_val)\n",
    "yhat_test = [np.argmax(y) for y in yhat_test]\n",
    "util.report(y_train_val, yhat_test)"
   ]
  },
  {
   "cell_type": "markdown",
   "metadata": {},
   "source": [
    "Logistic regression did okay, the random forest did excellently on train data, and the SVM did pretty okay too. All models, however, are showing significant decreases in f1 score going from train to test data, a sign of overfitting especially in the case of the random forest. Also, looking at the confusion matrices, all models are showing a tendency to over-predict 1––no emotion––on test data, and the neural network is the worst offender of all, predicting almost exclusively 1's, with only a few 2's; it didn't predict a single 0."
   ]
  },
  {
   "cell_type": "markdown",
   "metadata": {},
   "source": [
    "## Visuals: ROCs"
   ]
  },
  {
   "cell_type": "code",
   "execution_count": 41,
   "metadata": {
    "scrolled": false
   },
   "outputs": [
    {
     "data": {
      "image/png": "[encoded data removed]",
      "text/plain": [
       "<Figure size 1152x576 with 2 Axes>"
      ]
     },
     "metadata": {
      "needs_background": "light"
     },
     "output_type": "display_data"
    },
    {
     "data": {
      "image/png": "[encoded data removed]",
      "text/plain": [
       "<Figure size 1152x576 with 2 Axes>"
      ]
     },
     "metadata": {
      "needs_background": "light"
     },
     "output_type": "display_data"
    },
    {
     "data": {
      "image/png": "[encoded data removed]",
      "text/plain": [
       "<Figure size 1152x576 with 2 Axes>"
      ]
     },
     "metadata": {
      "needs_background": "light"
     },
     "output_type": "display_data"
    }
   ],
   "source": [
    "y_train_bin = label_binarize(y_train, classes=[0,1,2])\n",
    "y_train_val_bin = label_binarize(y_train_val, classes=[0,1,2])\n",
    "for clf in clfs:\n",
    "    fig, axes = plt.subplots(1,2, figsize=(16,8))\n",
    "    util.roc_curve_multiclass(clf, X_train, y_train_bin, axis=axes[0], title=f'{clf} ROC Curve (Train)')\n",
    "    util.roc_curve_multiclass(clf, X_train_val, y_train_val_bin, axis=axes[1], title=f'{clf} ROC Curve (Validation)')"
   ]
  },
  {
   "cell_type": "markdown",
   "metadata": {},
   "source": [
    "My models appear to be overfitting––model performance decreases on test data, and regardless of which model I use, I can't seem to beat ~0.53 F1 score on test data. The SVM and RF seem to perform best on train data, which might make them the best fit for this data."
   ]
  },
  {
   "cell_type": "markdown",
   "metadata": {},
   "source": [
    "## Fine Tuning\n",
    "\n",
    "Onto improving those scores, and I'm mostly looking at the macro F1 score now, as it's best handling the class imbalance. "
   ]
  },
  {
   "cell_type": "code",
   "execution_count": 43,
   "metadata": {
    "scrolled": true
   },
   "outputs": [
    {
     "name": "stdout",
     "output_type": "stream",
     "text": [
      "Fitting 3 folds for each of 32 candidates, totalling 96 fits\n",
      "[CV] max_depth=10, min_samples_split=5, n_estimators=10 ..............\n"
     ]
    },
    {
     "name": "stderr",
     "output_type": "stream",
     "text": [
      "[Parallel(n_jobs=1)]: Using backend SequentialBackend with 1 concurrent workers.\n"
     ]
    },
    {
     "name": "stdout",
     "output_type": "stream",
     "text": [
      "[CV]  max_depth=10, min_samples_split=5, n_estimators=10, score=0.361, total=   1.8s\n",
      "[CV] max_depth=10, min_samples_split=5, n_estimators=10 ..............\n"
     ]
    },
    {
     "name": "stderr",
     "output_type": "stream",
     "text": [
      "[Parallel(n_jobs=1)]: Done   1 out of   1 | elapsed:    1.8s remaining:    0.0s\n"
     ]
    },
    {
     "name": "stdout",
     "output_type": "stream",
     "text": [
      "[CV]  max_depth=10, min_samples_split=5, n_estimators=10, score=0.336, total=   2.5s\n",
      "[CV] max_depth=10, min_samples_split=5, n_estimators=10 ..............\n"
     ]
    },
    {
     "name": "stderr",
     "output_type": "stream",
     "text": [
      "[Parallel(n_jobs=1)]: Done   2 out of   2 | elapsed:    4.3s remaining:    0.0s\n"
     ]
    },
    {
     "name": "stdout",
     "output_type": "stream",
     "text": [
      "[CV]  max_depth=10, min_samples_split=5, n_estimators=10, score=0.350, total=   2.1s\n",
      "[CV] max_depth=10, min_samples_split=5, n_estimators=50 ..............\n",
      "[CV]  max_depth=10, min_samples_split=5, n_estimators=50, score=0.303, total=   7.4s\n",
      "[CV] max_depth=10, min_samples_split=5, n_estimators=50 ..............\n",
      "[CV]  max_depth=10, min_samples_split=5, n_estimators=50, score=0.304, total=   7.4s\n",
      "[CV] max_depth=10, min_samples_split=5, n_estimators=50 ..............\n",
      "[CV]  max_depth=10, min_samples_split=5, n_estimators=50, score=0.323, total=   7.3s\n",
      "[CV] max_depth=10, min_samples_split=5, n_estimators=100 .............\n",
      "[CV]  max_depth=10, min_samples_split=5, n_estimators=100, score=0.308, total=  15.5s\n",
      "[CV] max_depth=10, min_samples_split=5, n_estimators=100 .............\n",
      "[CV]  max_depth=10, min_samples_split=5, n_estimators=100, score=0.309, total=  14.6s\n",
      "[CV] max_depth=10, min_samples_split=5, n_estimators=100 .............\n",
      "[CV]  max_depth=10, min_samples_split=5, n_estimators=100, score=0.316, total=  14.4s\n",
      "[CV] max_depth=10, min_samples_split=5, n_estimators=150 .............\n",
      "[CV]  max_depth=10, min_samples_split=5, n_estimators=150, score=0.308, total=  21.8s\n",
      "[CV] max_depth=10, min_samples_split=5, n_estimators=150 .............\n",
      "[CV]  max_depth=10, min_samples_split=5, n_estimators=150, score=0.313, total=  21.7s\n",
      "[CV] max_depth=10, min_samples_split=5, n_estimators=150 .............\n",
      "[CV]  max_depth=10, min_samples_split=5, n_estimators=150, score=0.312, total=  21.6s\n",
      "[CV] max_depth=10, min_samples_split=30, n_estimators=10 .............\n",
      "[CV]  max_depth=10, min_samples_split=30, n_estimators=10, score=0.340, total=   1.5s\n",
      "[CV] max_depth=10, min_samples_split=30, n_estimators=10 .............\n",
      "[CV]  max_depth=10, min_samples_split=30, n_estimators=10, score=0.328, total=   1.5s\n",
      "[CV] max_depth=10, min_samples_split=30, n_estimators=10 .............\n",
      "[CV]  max_depth=10, min_samples_split=30, n_estimators=10, score=0.339, total=   1.5s\n",
      "[CV] max_depth=10, min_samples_split=30, n_estimators=50 .............\n",
      "[CV]  max_depth=10, min_samples_split=30, n_estimators=50, score=0.294, total=   7.3s\n",
      "[CV] max_depth=10, min_samples_split=30, n_estimators=50 .............\n",
      "[CV]  max_depth=10, min_samples_split=30, n_estimators=50, score=0.287, total=   7.3s\n",
      "[CV] max_depth=10, min_samples_split=30, n_estimators=50 .............\n",
      "[CV]  max_depth=10, min_samples_split=30, n_estimators=50, score=0.293, total=   7.4s\n",
      "[CV] max_depth=10, min_samples_split=30, n_estimators=100 ............\n",
      "[CV]  max_depth=10, min_samples_split=30, n_estimators=100, score=0.286, total=  14.3s\n",
      "[CV] max_depth=10, min_samples_split=30, n_estimators=100 ............\n",
      "[CV]  max_depth=10, min_samples_split=30, n_estimators=100, score=0.291, total=  14.4s\n",
      "[CV] max_depth=10, min_samples_split=30, n_estimators=100 ............\n",
      "[CV]  max_depth=10, min_samples_split=30, n_estimators=100, score=0.290, total=  14.5s\n",
      "[CV] max_depth=10, min_samples_split=30, n_estimators=150 ............\n",
      "[CV]  max_depth=10, min_samples_split=30, n_estimators=150, score=0.288, total=  21.4s\n",
      "[CV] max_depth=10, min_samples_split=30, n_estimators=150 ............\n",
      "[CV]  max_depth=10, min_samples_split=30, n_estimators=150, score=0.283, total=  21.6s\n",
      "[CV] max_depth=10, min_samples_split=30, n_estimators=150 ............\n",
      "[CV]  max_depth=10, min_samples_split=30, n_estimators=150, score=0.295, total=  20.9s\n",
      "[CV] max_depth=20, min_samples_split=5, n_estimators=10 ..............\n",
      "[CV]  max_depth=20, min_samples_split=5, n_estimators=10, score=0.434, total=   2.1s\n",
      "[CV] max_depth=20, min_samples_split=5, n_estimators=10 ..............\n",
      "[CV]  max_depth=20, min_samples_split=5, n_estimators=10, score=0.430, total=   2.0s\n",
      "[CV] max_depth=20, min_samples_split=5, n_estimators=10 ..............\n",
      "[CV]  max_depth=20, min_samples_split=5, n_estimators=10, score=0.432, total=   2.0s\n",
      "[CV] max_depth=20, min_samples_split=5, n_estimators=50 ..............\n",
      "[CV]  max_depth=20, min_samples_split=5, n_estimators=50, score=0.402, total=  10.1s\n",
      "[CV] max_depth=20, min_samples_split=5, n_estimators=50 ..............\n",
      "[CV]  max_depth=20, min_samples_split=5, n_estimators=50, score=0.419, total=  10.3s\n",
      "[CV] max_depth=20, min_samples_split=5, n_estimators=50 ..............\n",
      "[CV]  max_depth=20, min_samples_split=5, n_estimators=50, score=0.424, total=53.9min\n",
      "[CV] max_depth=20, min_samples_split=5, n_estimators=100 .............\n",
      "[CV]  max_depth=20, min_samples_split=5, n_estimators=100, score=0.410, total=  30.6s\n",
      "[CV] max_depth=20, min_samples_split=5, n_estimators=100 .............\n",
      "[CV]  max_depth=20, min_samples_split=5, n_estimators=100, score=0.404, total=  20.9s\n",
      "[CV] max_depth=20, min_samples_split=5, n_estimators=100 .............\n",
      "[CV]  max_depth=20, min_samples_split=5, n_estimators=100, score=0.430, total=  21.1s\n",
      "[CV] max_depth=20, min_samples_split=5, n_estimators=150 .............\n",
      "[CV]  max_depth=20, min_samples_split=5, n_estimators=150, score=0.414, total=  31.6s\n",
      "[CV] max_depth=20, min_samples_split=5, n_estimators=150 .............\n",
      "[CV]  max_depth=20, min_samples_split=5, n_estimators=150, score=0.394, total=  29.7s\n",
      "[CV] max_depth=20, min_samples_split=5, n_estimators=150 .............\n",
      "[CV]  max_depth=20, min_samples_split=5, n_estimators=150, score=0.432, total=  30.0s\n",
      "[CV] max_depth=20, min_samples_split=30, n_estimators=10 .............\n",
      "[CV]  max_depth=20, min_samples_split=30, n_estimators=10, score=0.377, total=   2.0s\n",
      "[CV] max_depth=20, min_samples_split=30, n_estimators=10 .............\n",
      "[CV]  max_depth=20, min_samples_split=30, n_estimators=10, score=0.358, total=   2.0s\n",
      "[CV] max_depth=20, min_samples_split=30, n_estimators=10 .............\n",
      "[CV]  max_depth=20, min_samples_split=30, n_estimators=10, score=0.374, total=   2.0s\n",
      "[CV] max_depth=20, min_samples_split=30, n_estimators=50 .............\n",
      "[CV]  max_depth=20, min_samples_split=30, n_estimators=50, score=0.329, total=   9.4s\n",
      "[CV] max_depth=20, min_samples_split=30, n_estimators=50 .............\n",
      "[CV]  max_depth=20, min_samples_split=30, n_estimators=50, score=0.345, total=   9.4s\n",
      "[CV] max_depth=20, min_samples_split=30, n_estimators=50 .............\n",
      "[CV]  max_depth=20, min_samples_split=30, n_estimators=50, score=0.344, total=   9.6s\n",
      "[CV] max_depth=20, min_samples_split=30, n_estimators=100 ............\n",
      "[CV]  max_depth=20, min_samples_split=30, n_estimators=100, score=0.324, total=  18.7s\n",
      "[CV] max_depth=20, min_samples_split=30, n_estimators=100 ............\n",
      "[CV]  max_depth=20, min_samples_split=30, n_estimators=100, score=0.336, total=  18.9s\n",
      "[CV] max_depth=20, min_samples_split=30, n_estimators=100 ............\n",
      "[CV]  max_depth=20, min_samples_split=30, n_estimators=100, score=0.336, total=  18.7s\n",
      "[CV] max_depth=20, min_samples_split=30, n_estimators=150 ............\n",
      "[CV]  max_depth=20, min_samples_split=30, n_estimators=150, score=0.322, total=  28.4s\n",
      "[CV] max_depth=20, min_samples_split=30, n_estimators=150 ............\n",
      "[CV]  max_depth=20, min_samples_split=30, n_estimators=150, score=0.334, total=  28.8s\n",
      "[CV] max_depth=20, min_samples_split=30, n_estimators=150 ............\n",
      "[CV]  max_depth=20, min_samples_split=30, n_estimators=150, score=0.335, total=  29.3s\n",
      "[CV] max_depth=50, min_samples_split=5, n_estimators=10 ..............\n",
      "[CV]  max_depth=50, min_samples_split=5, n_estimators=10, score=0.445, total=   2.2s\n",
      "[CV] max_depth=50, min_samples_split=5, n_estimators=10 ..............\n",
      "[CV]  max_depth=50, min_samples_split=5, n_estimators=10, score=0.419, total=   2.3s\n",
      "[CV] max_depth=50, min_samples_split=5, n_estimators=10 ..............\n",
      "[CV]  max_depth=50, min_samples_split=5, n_estimators=10, score=0.450, total=   2.3s\n",
      "[CV] max_depth=50, min_samples_split=5, n_estimators=50 ..............\n",
      "[CV]  max_depth=50, min_samples_split=5, n_estimators=50, score=0.435, total=  11.0s\n",
      "[CV] max_depth=50, min_samples_split=5, n_estimators=50 ..............\n",
      "[CV]  max_depth=50, min_samples_split=5, n_estimators=50, score=0.433, total=  11.1s\n",
      "[CV] max_depth=50, min_samples_split=5, n_estimators=50 ..............\n",
      "[CV]  max_depth=50, min_samples_split=5, n_estimators=50, score=0.453, total=  11.3s\n",
      "[CV] max_depth=50, min_samples_split=5, n_estimators=100 .............\n",
      "[CV]  max_depth=50, min_samples_split=5, n_estimators=100, score=0.428, total=  22.2s\n",
      "[CV] max_depth=50, min_samples_split=5, n_estimators=100 .............\n"
     ]
    },
    {
     "name": "stdout",
     "output_type": "stream",
     "text": [
      "[CV]  max_depth=50, min_samples_split=5, n_estimators=100, score=0.412, total=  21.7s\n",
      "[CV] max_depth=50, min_samples_split=5, n_estimators=100 .............\n",
      "[CV]  max_depth=50, min_samples_split=5, n_estimators=100, score=0.449, total=  21.6s\n",
      "[CV] max_depth=50, min_samples_split=5, n_estimators=150 .............\n",
      "[CV]  max_depth=50, min_samples_split=5, n_estimators=150, score=0.423, total=  32.9s\n",
      "[CV] max_depth=50, min_samples_split=5, n_estimators=150 .............\n",
      "[CV]  max_depth=50, min_samples_split=5, n_estimators=150, score=0.406, total=  32.7s\n",
      "[CV] max_depth=50, min_samples_split=5, n_estimators=150 .............\n",
      "[CV]  max_depth=50, min_samples_split=5, n_estimators=150, score=0.444, total=  32.1s\n",
      "[CV] max_depth=50, min_samples_split=30, n_estimators=10 .............\n",
      "[CV]  max_depth=50, min_samples_split=30, n_estimators=10, score=0.378, total=   2.1s\n",
      "[CV] max_depth=50, min_samples_split=30, n_estimators=10 .............\n",
      "[CV]  max_depth=50, min_samples_split=30, n_estimators=10, score=0.381, total=   2.2s\n",
      "[CV] max_depth=50, min_samples_split=30, n_estimators=10 .............\n",
      "[CV]  max_depth=50, min_samples_split=30, n_estimators=10, score=0.385, total=   2.1s\n",
      "[CV] max_depth=50, min_samples_split=30, n_estimators=50 .............\n",
      "[CV]  max_depth=50, min_samples_split=30, n_estimators=50, score=0.341, total=  10.5s\n",
      "[CV] max_depth=50, min_samples_split=30, n_estimators=50 .............\n",
      "[CV]  max_depth=50, min_samples_split=30, n_estimators=50, score=0.347, total=  10.3s\n",
      "[CV] max_depth=50, min_samples_split=30, n_estimators=50 .............\n",
      "[CV]  max_depth=50, min_samples_split=30, n_estimators=50, score=0.354, total=  10.4s\n",
      "[CV] max_depth=50, min_samples_split=30, n_estimators=100 ............\n",
      "[CV]  max_depth=50, min_samples_split=30, n_estimators=100, score=0.336, total=  21.0s\n",
      "[CV] max_depth=50, min_samples_split=30, n_estimators=100 ............\n",
      "[CV]  max_depth=50, min_samples_split=30, n_estimators=100, score=0.345, total=  19.9s\n",
      "[CV] max_depth=50, min_samples_split=30, n_estimators=100 ............\n",
      "[CV]  max_depth=50, min_samples_split=30, n_estimators=100, score=0.346, total=  20.6s\n",
      "[CV] max_depth=50, min_samples_split=30, n_estimators=150 ............\n",
      "[CV]  max_depth=50, min_samples_split=30, n_estimators=150, score=0.334, total=  31.2s\n",
      "[CV] max_depth=50, min_samples_split=30, n_estimators=150 ............\n",
      "[CV]  max_depth=50, min_samples_split=30, n_estimators=150, score=0.344, total=  30.8s\n",
      "[CV] max_depth=50, min_samples_split=30, n_estimators=150 ............\n",
      "[CV]  max_depth=50, min_samples_split=30, n_estimators=150, score=0.339, total=  31.3s\n",
      "[CV] max_depth=None, min_samples_split=5, n_estimators=10 ............\n",
      "[CV]  max_depth=None, min_samples_split=5, n_estimators=10, score=0.423, total=   2.3s\n",
      "[CV] max_depth=None, min_samples_split=5, n_estimators=10 ............\n",
      "[CV]  max_depth=None, min_samples_split=5, n_estimators=10, score=0.412, total=   2.2s\n",
      "[CV] max_depth=None, min_samples_split=5, n_estimators=10 ............\n",
      "[CV]  max_depth=None, min_samples_split=5, n_estimators=10, score=0.436, total=   2.3s\n",
      "[CV] max_depth=None, min_samples_split=5, n_estimators=50 ............\n",
      "[CV]  max_depth=None, min_samples_split=5, n_estimators=50, score=0.434, total=  11.3s\n",
      "[CV] max_depth=None, min_samples_split=5, n_estimators=50 ............\n",
      "[CV]  max_depth=None, min_samples_split=5, n_estimators=50, score=0.422, total=  11.0s\n",
      "[CV] max_depth=None, min_samples_split=5, n_estimators=50 ............\n",
      "[CV]  max_depth=None, min_samples_split=5, n_estimators=50, score=0.449, total=  11.1s\n",
      "[CV] max_depth=None, min_samples_split=5, n_estimators=100 ...........\n",
      "[CV]  max_depth=None, min_samples_split=5, n_estimators=100, score=0.423, total=  22.6s\n",
      "[CV] max_depth=None, min_samples_split=5, n_estimators=100 ...........\n",
      "[CV]  max_depth=None, min_samples_split=5, n_estimators=100, score=0.419, total=  22.1s\n",
      "[CV] max_depth=None, min_samples_split=5, n_estimators=100 ...........\n",
      "[CV]  max_depth=None, min_samples_split=5, n_estimators=100, score=0.450, total=  21.6s\n",
      "[CV] max_depth=None, min_samples_split=5, n_estimators=150 ...........\n",
      "[CV]  max_depth=None, min_samples_split=5, n_estimators=150, score=0.422, total=  34.2s\n",
      "[CV] max_depth=None, min_samples_split=5, n_estimators=150 ...........\n",
      "[CV]  max_depth=None, min_samples_split=5, n_estimators=150, score=0.415, total=  32.9s\n",
      "[CV] max_depth=None, min_samples_split=5, n_estimators=150 ...........\n",
      "[CV]  max_depth=None, min_samples_split=5, n_estimators=150, score=0.444, total=  33.0s\n",
      "[CV] max_depth=None, min_samples_split=30, n_estimators=10 ...........\n",
      "[CV]  max_depth=None, min_samples_split=30, n_estimators=10, score=0.382, total=   2.3s\n",
      "[CV] max_depth=None, min_samples_split=30, n_estimators=10 ...........\n",
      "[CV]  max_depth=None, min_samples_split=30, n_estimators=10, score=0.366, total=   2.1s\n",
      "[CV] max_depth=None, min_samples_split=30, n_estimators=10 ...........\n",
      "[CV]  max_depth=None, min_samples_split=30, n_estimators=10, score=0.383, total=   2.1s\n",
      "[CV] max_depth=None, min_samples_split=30, n_estimators=50 ...........\n",
      "[CV]  max_depth=None, min_samples_split=30, n_estimators=50, score=0.353, total=  10.5s\n",
      "[CV] max_depth=None, min_samples_split=30, n_estimators=50 ...........\n",
      "[CV]  max_depth=None, min_samples_split=30, n_estimators=50, score=0.355, total=  10.5s\n",
      "[CV] max_depth=None, min_samples_split=30, n_estimators=50 ...........\n",
      "[CV]  max_depth=None, min_samples_split=30, n_estimators=50, score=0.349, total=  10.4s\n",
      "[CV] max_depth=None, min_samples_split=30, n_estimators=100 ..........\n",
      "[CV]  max_depth=None, min_samples_split=30, n_estimators=100, score=0.335, total=  21.0s\n",
      "[CV] max_depth=None, min_samples_split=30, n_estimators=100 ..........\n",
      "[CV]  max_depth=None, min_samples_split=30, n_estimators=100, score=0.344, total=  20.9s\n",
      "[CV] max_depth=None, min_samples_split=30, n_estimators=100 ..........\n",
      "[CV]  max_depth=None, min_samples_split=30, n_estimators=100, score=0.355, total=  20.2s\n",
      "[CV] max_depth=None, min_samples_split=30, n_estimators=150 ..........\n",
      "[CV]  max_depth=None, min_samples_split=30, n_estimators=150, score=0.330, total=  30.9s\n",
      "[CV] max_depth=None, min_samples_split=30, n_estimators=150 ..........\n",
      "[CV]  max_depth=None, min_samples_split=30, n_estimators=150, score=0.341, total=  31.0s\n",
      "[CV] max_depth=None, min_samples_split=30, n_estimators=150 ..........\n",
      "[CV]  max_depth=None, min_samples_split=30, n_estimators=150, score=0.339, total=  30.6s\n"
     ]
    },
    {
     "name": "stderr",
     "output_type": "stream",
     "text": [
      "[Parallel(n_jobs=1)]: Done  96 out of  96 | elapsed: 77.8min finished\n"
     ]
    },
    {
     "data": {
      "text/plain": [
       "GridSearchCV(cv=3, estimator=RandomForestClassifier(),\n",
       "             param_grid={'max_depth': [10, 20, 50, None],\n",
       "                         'min_samples_split': [5, 30],\n",
       "                         'n_estimators': [10, 50, 100, 150]},\n",
       "             scoring='f1_macro', verbose=3)"
      ]
     },
     "execution_count": 43,
     "metadata": {},
     "output_type": "execute_result"
    }
   ],
   "source": [
    "params = {\n",
    "    'n_estimators': [10, 50, 100, 150],\n",
    "    'max_depth': [10, 20, 50, None],\n",
    "    'min_samples_split': [5, 30]\n",
    "}\n",
    "\n",
    "clf_rf = RandomForestClassifier()\n",
    "gs_rf = GridSearchCV(clf_rf, param_grid=params, scoring='f1_macro', cv=3, verbose=3)\n",
    "gs_rf.fit(X_train, y_train)"
   ]
  },
  {
   "cell_type": "code",
   "execution_count": 44,
   "metadata": {},
   "outputs": [
    {
     "data": {
      "text/plain": [
       "0.44033023577499536"
      ]
     },
     "execution_count": 44,
     "metadata": {},
     "output_type": "execute_result"
    }
   ],
   "source": [
    "gs_rf.best_score_"
   ]
  },
  {
   "cell_type": "code",
   "execution_count": 45,
   "metadata": {},
   "outputs": [
    {
     "data": {
      "text/plain": [
       "{'max_depth': 50, 'min_samples_split': 5, 'n_estimators': 50}"
      ]
     },
     "execution_count": 45,
     "metadata": {},
     "output_type": "execute_result"
    }
   ],
   "source": [
    "gs_rf.best_params_"
   ]
  },
  {
   "cell_type": "code",
   "execution_count": 50,
   "metadata": {},
   "outputs": [
    {
     "name": "stdout",
     "output_type": "stream",
     "text": [
      "[[98.5  1.5  0. ]\n",
      " [ 0.  99.8  0.2]\n",
      " [ 0.   1.5 98.5]]\n",
      "\n",
      "              precision    recall  f1-score   support\n",
      "\n",
      "           0       1.00      0.98      0.99       389\n",
      "           1       0.99      1.00      0.99      3767\n",
      "           2       1.00      0.98      0.99      2100\n",
      "\n",
      "    accuracy                           0.99      6256\n",
      "   macro avg       1.00      0.99      0.99      6256\n",
      "weighted avg       0.99      0.99      0.99      6256\n",
      "\n"
     ]
    }
   ],
   "source": [
    "util.report(y_train, gs_rf.predict(X_train))"
   ]
  },
  {
   "cell_type": "code",
   "execution_count": 48,
   "metadata": {
    "scrolled": true
   },
   "outputs": [
    {
     "name": "stdout",
     "output_type": "stream",
     "text": [
      "[[10.6 87.1  2.4]\n",
      " [ 0.5 91.7  7.8]\n",
      " [ 0.2 76.4 23.4]]\n",
      "\n",
      "              precision    recall  f1-score   support\n",
      "\n",
      "           0       0.64      0.11      0.18        85\n",
      "           1       0.63      0.92      0.75       797\n",
      "           2       0.63      0.23      0.34       458\n",
      "\n",
      "    accuracy                           0.63      1340\n",
      "   macro avg       0.63      0.42      0.42      1340\n",
      "weighted avg       0.63      0.63      0.57      1340\n",
      "\n"
     ]
    }
   ],
   "source": [
    "util.report(y_train_val, gs_rf.predict(X_train_val))"
   ]
  },
  {
   "cell_type": "markdown",
   "metadata": {},
   "source": [
    "**Disappointingly, the f1 score on test data––0.45––hasn't improved after the GridSearch on the RF's hyperparameters.**"
   ]
  },
  {
   "cell_type": "code",
   "execution_count": 51,
   "metadata": {
    "scrolled": true
   },
   "outputs": [
    {
     "name": "stdout",
     "output_type": "stream",
     "text": [
      "Fitting 3 folds for each of 7 candidates, totalling 21 fits\n",
      "[CV] Cs=1 ............................................................\n"
     ]
    },
    {
     "name": "stderr",
     "output_type": "stream",
     "text": [
      "[Parallel(n_jobs=1)]: Using backend SequentialBackend with 1 concurrent workers.\n"
     ]
    },
    {
     "name": "stdout",
     "output_type": "stream",
     "text": [
      "[CV] ................................ Cs=1, score=0.251, total=   3.1s\n",
      "[CV] Cs=1 ............................................................\n"
     ]
    },
    {
     "name": "stderr",
     "output_type": "stream",
     "text": [
      "[Parallel(n_jobs=1)]: Done   1 out of   1 | elapsed:    3.1s remaining:    0.0s\n"
     ]
    },
    {
     "name": "stdout",
     "output_type": "stream",
     "text": [
      "[CV] ................................ Cs=1, score=0.251, total=   2.6s\n",
      "[CV] Cs=1 ............................................................\n"
     ]
    },
    {
     "name": "stderr",
     "output_type": "stream",
     "text": [
      "[Parallel(n_jobs=1)]: Done   2 out of   2 | elapsed:    5.8s remaining:    0.0s\n"
     ]
    },
    {
     "name": "stdout",
     "output_type": "stream",
     "text": [
      "[CV] ................................ Cs=1, score=0.250, total=   3.6s\n",
      "[CV] Cs=3 ............................................................\n"
     ]
    },
    {
     "name": "stderr",
     "output_type": "stream",
     "text": [
      "/Users/stlanier/opt/anaconda3/envs/learn-env/lib/python3.6/site-packages/sklearn/linear_model/_logistic.py:764: ConvergenceWarning: lbfgs failed to converge (status=1):\n",
      "STOP: TOTAL NO. of ITERATIONS REACHED LIMIT.\n",
      "\n",
      "Increase the number of iterations (max_iter) or scale the data as shown in:\n",
      "    https://scikit-learn.org/stable/modules/preprocessing.html\n",
      "Please also refer to the documentation for alternative solver options:\n",
      "    https://scikit-learn.org/stable/modules/linear_model.html#logistic-regression\n",
      "  extra_warning_msg=_LOGISTIC_SOLVER_CONVERGENCE_MSG)\n",
      "/Users/stlanier/opt/anaconda3/envs/learn-env/lib/python3.6/site-packages/sklearn/linear_model/_logistic.py:764: ConvergenceWarning: lbfgs failed to converge (status=1):\n",
      "STOP: TOTAL NO. of ITERATIONS REACHED LIMIT.\n",
      "\n",
      "Increase the number of iterations (max_iter) or scale the data as shown in:\n",
      "    https://scikit-learn.org/stable/modules/preprocessing.html\n",
      "Please also refer to the documentation for alternative solver options:\n",
      "    https://scikit-learn.org/stable/modules/linear_model.html#logistic-regression\n",
      "  extra_warning_msg=_LOGISTIC_SOLVER_CONVERGENCE_MSG)\n",
      "/Users/stlanier/opt/anaconda3/envs/learn-env/lib/python3.6/site-packages/sklearn/linear_model/_logistic.py:764: ConvergenceWarning: lbfgs failed to converge (status=1):\n",
      "STOP: TOTAL NO. of ITERATIONS REACHED LIMIT.\n",
      "\n",
      "Increase the number of iterations (max_iter) or scale the data as shown in:\n",
      "    https://scikit-learn.org/stable/modules/preprocessing.html\n",
      "Please also refer to the documentation for alternative solver options:\n",
      "    https://scikit-learn.org/stable/modules/linear_model.html#logistic-regression\n",
      "  extra_warning_msg=_LOGISTIC_SOLVER_CONVERGENCE_MSG)\n",
      "/Users/stlanier/opt/anaconda3/envs/learn-env/lib/python3.6/site-packages/sklearn/linear_model/_logistic.py:764: ConvergenceWarning: lbfgs failed to converge (status=1):\n",
      "STOP: TOTAL NO. of ITERATIONS REACHED LIMIT.\n",
      "\n",
      "Increase the number of iterations (max_iter) or scale the data as shown in:\n",
      "    https://scikit-learn.org/stable/modules/preprocessing.html\n",
      "Please also refer to the documentation for alternative solver options:\n",
      "    https://scikit-learn.org/stable/modules/linear_model.html#logistic-regression\n",
      "  extra_warning_msg=_LOGISTIC_SOLVER_CONVERGENCE_MSG)\n",
      "/Users/stlanier/opt/anaconda3/envs/learn-env/lib/python3.6/site-packages/sklearn/linear_model/_logistic.py:764: ConvergenceWarning: lbfgs failed to converge (status=1):\n",
      "STOP: TOTAL NO. of ITERATIONS REACHED LIMIT.\n",
      "\n",
      "Increase the number of iterations (max_iter) or scale the data as shown in:\n",
      "    https://scikit-learn.org/stable/modules/preprocessing.html\n",
      "Please also refer to the documentation for alternative solver options:\n",
      "    https://scikit-learn.org/stable/modules/linear_model.html#logistic-regression\n",
      "  extra_warning_msg=_LOGISTIC_SOLVER_CONVERGENCE_MSG)\n"
     ]
    },
    {
     "name": "stdout",
     "output_type": "stream",
     "text": [
      "[CV] ................................ Cs=3, score=0.451, total=  30.4s\n",
      "[CV] Cs=3 ............................................................\n"
     ]
    },
    {
     "name": "stderr",
     "output_type": "stream",
     "text": [
      "/Users/stlanier/opt/anaconda3/envs/learn-env/lib/python3.6/site-packages/sklearn/linear_model/_logistic.py:764: ConvergenceWarning: lbfgs failed to converge (status=1):\n",
      "STOP: TOTAL NO. of ITERATIONS REACHED LIMIT.\n",
      "\n",
      "Increase the number of iterations (max_iter) or scale the data as shown in:\n",
      "    https://scikit-learn.org/stable/modules/preprocessing.html\n",
      "Please also refer to the documentation for alternative solver options:\n",
      "    https://scikit-learn.org/stable/modules/linear_model.html#logistic-regression\n",
      "  extra_warning_msg=_LOGISTIC_SOLVER_CONVERGENCE_MSG)\n",
      "/Users/stlanier/opt/anaconda3/envs/learn-env/lib/python3.6/site-packages/sklearn/linear_model/_logistic.py:764: ConvergenceWarning: lbfgs failed to converge (status=1):\n",
      "STOP: TOTAL NO. of ITERATIONS REACHED LIMIT.\n",
      "\n",
      "Increase the number of iterations (max_iter) or scale the data as shown in:\n",
      "    https://scikit-learn.org/stable/modules/preprocessing.html\n",
      "Please also refer to the documentation for alternative solver options:\n",
      "    https://scikit-learn.org/stable/modules/linear_model.html#logistic-regression\n",
      "  extra_warning_msg=_LOGISTIC_SOLVER_CONVERGENCE_MSG)\n",
      "/Users/stlanier/opt/anaconda3/envs/learn-env/lib/python3.6/site-packages/sklearn/linear_model/_logistic.py:764: ConvergenceWarning: lbfgs failed to converge (status=1):\n",
      "STOP: TOTAL NO. of ITERATIONS REACHED LIMIT.\n",
      "\n",
      "Increase the number of iterations (max_iter) or scale the data as shown in:\n",
      "    https://scikit-learn.org/stable/modules/preprocessing.html\n",
      "Please also refer to the documentation for alternative solver options:\n",
      "    https://scikit-learn.org/stable/modules/linear_model.html#logistic-regression\n",
      "  extra_warning_msg=_LOGISTIC_SOLVER_CONVERGENCE_MSG)\n",
      "/Users/stlanier/opt/anaconda3/envs/learn-env/lib/python3.6/site-packages/sklearn/linear_model/_logistic.py:764: ConvergenceWarning: lbfgs failed to converge (status=1):\n",
      "STOP: TOTAL NO. of ITERATIONS REACHED LIMIT.\n",
      "\n",
      "Increase the number of iterations (max_iter) or scale the data as shown in:\n",
      "    https://scikit-learn.org/stable/modules/preprocessing.html\n",
      "Please also refer to the documentation for alternative solver options:\n",
      "    https://scikit-learn.org/stable/modules/linear_model.html#logistic-regression\n",
      "  extra_warning_msg=_LOGISTIC_SOLVER_CONVERGENCE_MSG)\n",
      "/Users/stlanier/opt/anaconda3/envs/learn-env/lib/python3.6/site-packages/sklearn/linear_model/_logistic.py:764: ConvergenceWarning: lbfgs failed to converge (status=1):\n",
      "STOP: TOTAL NO. of ITERATIONS REACHED LIMIT.\n",
      "\n",
      "Increase the number of iterations (max_iter) or scale the data as shown in:\n",
      "    https://scikit-learn.org/stable/modules/preprocessing.html\n",
      "Please also refer to the documentation for alternative solver options:\n",
      "    https://scikit-learn.org/stable/modules/linear_model.html#logistic-regression\n",
      "  extra_warning_msg=_LOGISTIC_SOLVER_CONVERGENCE_MSG)\n"
     ]
    },
    {
     "name": "stdout",
     "output_type": "stream",
     "text": [
      "[CV] ................................ Cs=3, score=0.471, total=  32.2s\n",
      "[CV] Cs=3 ............................................................\n"
     ]
    },
    {
     "name": "stderr",
     "output_type": "stream",
     "text": [
      "/Users/stlanier/opt/anaconda3/envs/learn-env/lib/python3.6/site-packages/sklearn/linear_model/_logistic.py:764: ConvergenceWarning: lbfgs failed to converge (status=1):\n",
      "STOP: TOTAL NO. of ITERATIONS REACHED LIMIT.\n",
      "\n",
      "Increase the number of iterations (max_iter) or scale the data as shown in:\n",
      "    https://scikit-learn.org/stable/modules/preprocessing.html\n",
      "Please also refer to the documentation for alternative solver options:\n",
      "    https://scikit-learn.org/stable/modules/linear_model.html#logistic-regression\n",
      "  extra_warning_msg=_LOGISTIC_SOLVER_CONVERGENCE_MSG)\n",
      "/Users/stlanier/opt/anaconda3/envs/learn-env/lib/python3.6/site-packages/sklearn/linear_model/_logistic.py:764: ConvergenceWarning: lbfgs failed to converge (status=1):\n",
      "STOP: TOTAL NO. of ITERATIONS REACHED LIMIT.\n",
      "\n",
      "Increase the number of iterations (max_iter) or scale the data as shown in:\n",
      "    https://scikit-learn.org/stable/modules/preprocessing.html\n",
      "Please also refer to the documentation for alternative solver options:\n",
      "    https://scikit-learn.org/stable/modules/linear_model.html#logistic-regression\n",
      "  extra_warning_msg=_LOGISTIC_SOLVER_CONVERGENCE_MSG)\n",
      "/Users/stlanier/opt/anaconda3/envs/learn-env/lib/python3.6/site-packages/sklearn/linear_model/_logistic.py:764: ConvergenceWarning: lbfgs failed to converge (status=1):\n",
      "STOP: TOTAL NO. of ITERATIONS REACHED LIMIT.\n",
      "\n",
      "Increase the number of iterations (max_iter) or scale the data as shown in:\n",
      "    https://scikit-learn.org/stable/modules/preprocessing.html\n",
      "Please also refer to the documentation for alternative solver options:\n",
      "    https://scikit-learn.org/stable/modules/linear_model.html#logistic-regression\n",
      "  extra_warning_msg=_LOGISTIC_SOLVER_CONVERGENCE_MSG)\n",
      "/Users/stlanier/opt/anaconda3/envs/learn-env/lib/python3.6/site-packages/sklearn/linear_model/_logistic.py:764: ConvergenceWarning: lbfgs failed to converge (status=1):\n",
      "STOP: TOTAL NO. of ITERATIONS REACHED LIMIT.\n",
      "\n",
      "Increase the number of iterations (max_iter) or scale the data as shown in:\n",
      "    https://scikit-learn.org/stable/modules/preprocessing.html\n",
      "Please also refer to the documentation for alternative solver options:\n",
      "    https://scikit-learn.org/stable/modules/linear_model.html#logistic-regression\n",
      "  extra_warning_msg=_LOGISTIC_SOLVER_CONVERGENCE_MSG)\n",
      "/Users/stlanier/opt/anaconda3/envs/learn-env/lib/python3.6/site-packages/sklearn/linear_model/_logistic.py:764: ConvergenceWarning: lbfgs failed to converge (status=1):\n",
      "STOP: TOTAL NO. of ITERATIONS REACHED LIMIT.\n",
      "\n",
      "Increase the number of iterations (max_iter) or scale the data as shown in:\n",
      "    https://scikit-learn.org/stable/modules/preprocessing.html\n",
      "Please also refer to the documentation for alternative solver options:\n",
      "    https://scikit-learn.org/stable/modules/linear_model.html#logistic-regression\n",
      "  extra_warning_msg=_LOGISTIC_SOLVER_CONVERGENCE_MSG)\n"
     ]
    },
    {
     "name": "stdout",
     "output_type": "stream",
     "text": [
      "[CV] ................................ Cs=3, score=0.472, total=  30.7s\n",
      "[CV] Cs=5 ............................................................\n"
     ]
    },
    {
     "name": "stderr",
     "output_type": "stream",
     "text": [
      "/Users/stlanier/opt/anaconda3/envs/learn-env/lib/python3.6/site-packages/sklearn/linear_model/_logistic.py:764: ConvergenceWarning: lbfgs failed to converge (status=1):\n",
      "STOP: TOTAL NO. of ITERATIONS REACHED LIMIT.\n",
      "\n",
      "Increase the number of iterations (max_iter) or scale the data as shown in:\n",
      "    https://scikit-learn.org/stable/modules/preprocessing.html\n",
      "Please also refer to the documentation for alternative solver options:\n",
      "    https://scikit-learn.org/stable/modules/linear_model.html#logistic-regression\n",
      "  extra_warning_msg=_LOGISTIC_SOLVER_CONVERGENCE_MSG)\n",
      "/Users/stlanier/opt/anaconda3/envs/learn-env/lib/python3.6/site-packages/sklearn/linear_model/_logistic.py:764: ConvergenceWarning: lbfgs failed to converge (status=1):\n",
      "STOP: TOTAL NO. of ITERATIONS REACHED LIMIT.\n",
      "\n",
      "Increase the number of iterations (max_iter) or scale the data as shown in:\n",
      "    https://scikit-learn.org/stable/modules/preprocessing.html\n",
      "Please also refer to the documentation for alternative solver options:\n",
      "    https://scikit-learn.org/stable/modules/linear_model.html#logistic-regression\n",
      "  extra_warning_msg=_LOGISTIC_SOLVER_CONVERGENCE_MSG)\n",
      "/Users/stlanier/opt/anaconda3/envs/learn-env/lib/python3.6/site-packages/sklearn/linear_model/_logistic.py:764: ConvergenceWarning: lbfgs failed to converge (status=1):\n",
      "STOP: TOTAL NO. of ITERATIONS REACHED LIMIT.\n",
      "\n",
      "Increase the number of iterations (max_iter) or scale the data as shown in:\n",
      "    https://scikit-learn.org/stable/modules/preprocessing.html\n",
      "Please also refer to the documentation for alternative solver options:\n",
      "    https://scikit-learn.org/stable/modules/linear_model.html#logistic-regression\n",
      "  extra_warning_msg=_LOGISTIC_SOLVER_CONVERGENCE_MSG)\n",
      "/Users/stlanier/opt/anaconda3/envs/learn-env/lib/python3.6/site-packages/sklearn/linear_model/_logistic.py:764: ConvergenceWarning: lbfgs failed to converge (status=1):\n",
      "STOP: TOTAL NO. of ITERATIONS REACHED LIMIT.\n",
      "\n",
      "Increase the number of iterations (max_iter) or scale the data as shown in:\n",
      "    https://scikit-learn.org/stable/modules/preprocessing.html\n",
      "Please also refer to the documentation for alternative solver options:\n",
      "    https://scikit-learn.org/stable/modules/linear_model.html#logistic-regression\n",
      "  extra_warning_msg=_LOGISTIC_SOLVER_CONVERGENCE_MSG)\n",
      "/Users/stlanier/opt/anaconda3/envs/learn-env/lib/python3.6/site-packages/sklearn/linear_model/_logistic.py:764: ConvergenceWarning: lbfgs failed to converge (status=1):\n",
      "STOP: TOTAL NO. of ITERATIONS REACHED LIMIT.\n",
      "\n",
      "Increase the number of iterations (max_iter) or scale the data as shown in:\n",
      "    https://scikit-learn.org/stable/modules/preprocessing.html\n",
      "Please also refer to the documentation for alternative solver options:\n",
      "    https://scikit-learn.org/stable/modules/linear_model.html#logistic-regression\n",
      "  extra_warning_msg=_LOGISTIC_SOLVER_CONVERGENCE_MSG)\n"
     ]
    },
    {
     "name": "stdout",
     "output_type": "stream",
     "text": [
      "[CV] ................................ Cs=5, score=0.451, total=  48.6s\n",
      "[CV] Cs=5 ............................................................\n"
     ]
    },
    {
     "name": "stderr",
     "output_type": "stream",
     "text": [
      "/Users/stlanier/opt/anaconda3/envs/learn-env/lib/python3.6/site-packages/sklearn/linear_model/_logistic.py:764: ConvergenceWarning: lbfgs failed to converge (status=1):\n",
      "STOP: TOTAL NO. of ITERATIONS REACHED LIMIT.\n",
      "\n",
      "Increase the number of iterations (max_iter) or scale the data as shown in:\n",
      "    https://scikit-learn.org/stable/modules/preprocessing.html\n",
      "Please also refer to the documentation for alternative solver options:\n",
      "    https://scikit-learn.org/stable/modules/linear_model.html#logistic-regression\n",
      "  extra_warning_msg=_LOGISTIC_SOLVER_CONVERGENCE_MSG)\n",
      "/Users/stlanier/opt/anaconda3/envs/learn-env/lib/python3.6/site-packages/sklearn/linear_model/_logistic.py:764: ConvergenceWarning: lbfgs failed to converge (status=1):\n",
      "STOP: TOTAL NO. of ITERATIONS REACHED LIMIT.\n",
      "\n",
      "Increase the number of iterations (max_iter) or scale the data as shown in:\n",
      "    https://scikit-learn.org/stable/modules/preprocessing.html\n",
      "Please also refer to the documentation for alternative solver options:\n",
      "    https://scikit-learn.org/stable/modules/linear_model.html#logistic-regression\n",
      "  extra_warning_msg=_LOGISTIC_SOLVER_CONVERGENCE_MSG)\n",
      "/Users/stlanier/opt/anaconda3/envs/learn-env/lib/python3.6/site-packages/sklearn/linear_model/_logistic.py:764: ConvergenceWarning: lbfgs failed to converge (status=1):\n",
      "STOP: TOTAL NO. of ITERATIONS REACHED LIMIT.\n",
      "\n",
      "Increase the number of iterations (max_iter) or scale the data as shown in:\n",
      "    https://scikit-learn.org/stable/modules/preprocessing.html\n",
      "Please also refer to the documentation for alternative solver options:\n",
      "    https://scikit-learn.org/stable/modules/linear_model.html#logistic-regression\n",
      "  extra_warning_msg=_LOGISTIC_SOLVER_CONVERGENCE_MSG)\n",
      "/Users/stlanier/opt/anaconda3/envs/learn-env/lib/python3.6/site-packages/sklearn/linear_model/_logistic.py:764: ConvergenceWarning: lbfgs failed to converge (status=1):\n",
      "STOP: TOTAL NO. of ITERATIONS REACHED LIMIT.\n",
      "\n",
      "Increase the number of iterations (max_iter) or scale the data as shown in:\n",
      "    https://scikit-learn.org/stable/modules/preprocessing.html\n",
      "Please also refer to the documentation for alternative solver options:\n",
      "    https://scikit-learn.org/stable/modules/linear_model.html#logistic-regression\n",
      "  extra_warning_msg=_LOGISTIC_SOLVER_CONVERGENCE_MSG)\n",
      "/Users/stlanier/opt/anaconda3/envs/learn-env/lib/python3.6/site-packages/sklearn/linear_model/_logistic.py:764: ConvergenceWarning: lbfgs failed to converge (status=1):\n",
      "STOP: TOTAL NO. of ITERATIONS REACHED LIMIT.\n",
      "\n",
      "Increase the number of iterations (max_iter) or scale the data as shown in:\n",
      "    https://scikit-learn.org/stable/modules/preprocessing.html\n",
      "Please also refer to the documentation for alternative solver options:\n",
      "    https://scikit-learn.org/stable/modules/linear_model.html#logistic-regression\n",
      "  extra_warning_msg=_LOGISTIC_SOLVER_CONVERGENCE_MSG)\n"
     ]
    },
    {
     "name": "stdout",
     "output_type": "stream",
     "text": [
      "[CV] ................................ Cs=5, score=0.471, total=  48.4s\n",
      "[CV] Cs=5 ............................................................\n"
     ]
    },
    {
     "name": "stderr",
     "output_type": "stream",
     "text": [
      "/Users/stlanier/opt/anaconda3/envs/learn-env/lib/python3.6/site-packages/sklearn/linear_model/_logistic.py:764: ConvergenceWarning: lbfgs failed to converge (status=1):\n",
      "STOP: TOTAL NO. of ITERATIONS REACHED LIMIT.\n",
      "\n",
      "Increase the number of iterations (max_iter) or scale the data as shown in:\n",
      "    https://scikit-learn.org/stable/modules/preprocessing.html\n",
      "Please also refer to the documentation for alternative solver options:\n",
      "    https://scikit-learn.org/stable/modules/linear_model.html#logistic-regression\n",
      "  extra_warning_msg=_LOGISTIC_SOLVER_CONVERGENCE_MSG)\n",
      "/Users/stlanier/opt/anaconda3/envs/learn-env/lib/python3.6/site-packages/sklearn/linear_model/_logistic.py:764: ConvergenceWarning: lbfgs failed to converge (status=1):\n",
      "STOP: TOTAL NO. of ITERATIONS REACHED LIMIT.\n",
      "\n",
      "Increase the number of iterations (max_iter) or scale the data as shown in:\n",
      "    https://scikit-learn.org/stable/modules/preprocessing.html\n",
      "Please also refer to the documentation for alternative solver options:\n",
      "    https://scikit-learn.org/stable/modules/linear_model.html#logistic-regression\n",
      "  extra_warning_msg=_LOGISTIC_SOLVER_CONVERGENCE_MSG)\n",
      "/Users/stlanier/opt/anaconda3/envs/learn-env/lib/python3.6/site-packages/sklearn/linear_model/_logistic.py:764: ConvergenceWarning: lbfgs failed to converge (status=1):\n",
      "STOP: TOTAL NO. of ITERATIONS REACHED LIMIT.\n",
      "\n",
      "Increase the number of iterations (max_iter) or scale the data as shown in:\n",
      "    https://scikit-learn.org/stable/modules/preprocessing.html\n",
      "Please also refer to the documentation for alternative solver options:\n",
      "    https://scikit-learn.org/stable/modules/linear_model.html#logistic-regression\n",
      "  extra_warning_msg=_LOGISTIC_SOLVER_CONVERGENCE_MSG)\n",
      "/Users/stlanier/opt/anaconda3/envs/learn-env/lib/python3.6/site-packages/sklearn/linear_model/_logistic.py:764: ConvergenceWarning: lbfgs failed to converge (status=1):\n",
      "STOP: TOTAL NO. of ITERATIONS REACHED LIMIT.\n",
      "\n",
      "Increase the number of iterations (max_iter) or scale the data as shown in:\n",
      "    https://scikit-learn.org/stable/modules/preprocessing.html\n",
      "Please also refer to the documentation for alternative solver options:\n",
      "    https://scikit-learn.org/stable/modules/linear_model.html#logistic-regression\n",
      "  extra_warning_msg=_LOGISTIC_SOLVER_CONVERGENCE_MSG)\n",
      "/Users/stlanier/opt/anaconda3/envs/learn-env/lib/python3.6/site-packages/sklearn/linear_model/_logistic.py:764: ConvergenceWarning: lbfgs failed to converge (status=1):\n",
      "STOP: TOTAL NO. of ITERATIONS REACHED LIMIT.\n",
      "\n",
      "Increase the number of iterations (max_iter) or scale the data as shown in:\n",
      "    https://scikit-learn.org/stable/modules/preprocessing.html\n",
      "Please also refer to the documentation for alternative solver options:\n",
      "    https://scikit-learn.org/stable/modules/linear_model.html#logistic-regression\n",
      "  extra_warning_msg=_LOGISTIC_SOLVER_CONVERGENCE_MSG)\n"
     ]
    },
    {
     "name": "stdout",
     "output_type": "stream",
     "text": [
      "[CV] ................................ Cs=5, score=0.472, total=  46.9s\n",
      "[CV] Cs=7 ............................................................\n"
     ]
    },
    {
     "name": "stderr",
     "output_type": "stream",
     "text": [
      "/Users/stlanier/opt/anaconda3/envs/learn-env/lib/python3.6/site-packages/sklearn/linear_model/_logistic.py:764: ConvergenceWarning: lbfgs failed to converge (status=1):\n",
      "STOP: TOTAL NO. of ITERATIONS REACHED LIMIT.\n",
      "\n",
      "Increase the number of iterations (max_iter) or scale the data as shown in:\n",
      "    https://scikit-learn.org/stable/modules/preprocessing.html\n",
      "Please also refer to the documentation for alternative solver options:\n",
      "    https://scikit-learn.org/stable/modules/linear_model.html#logistic-regression\n",
      "  extra_warning_msg=_LOGISTIC_SOLVER_CONVERGENCE_MSG)\n",
      "/Users/stlanier/opt/anaconda3/envs/learn-env/lib/python3.6/site-packages/sklearn/linear_model/_logistic.py:764: ConvergenceWarning: lbfgs failed to converge (status=1):\n",
      "STOP: TOTAL NO. of ITERATIONS REACHED LIMIT.\n",
      "\n",
      "Increase the number of iterations (max_iter) or scale the data as shown in:\n",
      "    https://scikit-learn.org/stable/modules/preprocessing.html\n",
      "Please also refer to the documentation for alternative solver options:\n",
      "    https://scikit-learn.org/stable/modules/linear_model.html#logistic-regression\n",
      "  extra_warning_msg=_LOGISTIC_SOLVER_CONVERGENCE_MSG)\n",
      "/Users/stlanier/opt/anaconda3/envs/learn-env/lib/python3.6/site-packages/sklearn/linear_model/_logistic.py:764: ConvergenceWarning: lbfgs failed to converge (status=1):\n",
      "STOP: TOTAL NO. of ITERATIONS REACHED LIMIT.\n",
      "\n",
      "Increase the number of iterations (max_iter) or scale the data as shown in:\n",
      "    https://scikit-learn.org/stable/modules/preprocessing.html\n",
      "Please also refer to the documentation for alternative solver options:\n",
      "    https://scikit-learn.org/stable/modules/linear_model.html#logistic-regression\n",
      "  extra_warning_msg=_LOGISTIC_SOLVER_CONVERGENCE_MSG)\n",
      "/Users/stlanier/opt/anaconda3/envs/learn-env/lib/python3.6/site-packages/sklearn/linear_model/_logistic.py:764: ConvergenceWarning: lbfgs failed to converge (status=1):\n",
      "STOP: TOTAL NO. of ITERATIONS REACHED LIMIT.\n",
      "\n",
      "Increase the number of iterations (max_iter) or scale the data as shown in:\n",
      "    https://scikit-learn.org/stable/modules/preprocessing.html\n",
      "Please also refer to the documentation for alternative solver options:\n",
      "    https://scikit-learn.org/stable/modules/linear_model.html#logistic-regression\n",
      "  extra_warning_msg=_LOGISTIC_SOLVER_CONVERGENCE_MSG)\n",
      "/Users/stlanier/opt/anaconda3/envs/learn-env/lib/python3.6/site-packages/sklearn/linear_model/_logistic.py:764: ConvergenceWarning: lbfgs failed to converge (status=1):\n",
      "STOP: TOTAL NO. of ITERATIONS REACHED LIMIT.\n",
      "\n",
      "Increase the number of iterations (max_iter) or scale the data as shown in:\n",
      "    https://scikit-learn.org/stable/modules/preprocessing.html\n",
      "Please also refer to the documentation for alternative solver options:\n",
      "    https://scikit-learn.org/stable/modules/linear_model.html#logistic-regression\n",
      "  extra_warning_msg=_LOGISTIC_SOLVER_CONVERGENCE_MSG)\n"
     ]
    },
    {
     "name": "stdout",
     "output_type": "stream",
     "text": [
      "[CV] ................................ Cs=7, score=0.451, total= 1.0min\n",
      "[CV] Cs=7 ............................................................\n"
     ]
    },
    {
     "name": "stderr",
     "output_type": "stream",
     "text": [
      "/Users/stlanier/opt/anaconda3/envs/learn-env/lib/python3.6/site-packages/sklearn/linear_model/_logistic.py:764: ConvergenceWarning: lbfgs failed to converge (status=1):\n",
      "STOP: TOTAL NO. of ITERATIONS REACHED LIMIT.\n",
      "\n",
      "Increase the number of iterations (max_iter) or scale the data as shown in:\n",
      "    https://scikit-learn.org/stable/modules/preprocessing.html\n",
      "Please also refer to the documentation for alternative solver options:\n",
      "    https://scikit-learn.org/stable/modules/linear_model.html#logistic-regression\n",
      "  extra_warning_msg=_LOGISTIC_SOLVER_CONVERGENCE_MSG)\n",
      "/Users/stlanier/opt/anaconda3/envs/learn-env/lib/python3.6/site-packages/sklearn/linear_model/_logistic.py:764: ConvergenceWarning: lbfgs failed to converge (status=1):\n",
      "STOP: TOTAL NO. of ITERATIONS REACHED LIMIT.\n",
      "\n",
      "Increase the number of iterations (max_iter) or scale the data as shown in:\n",
      "    https://scikit-learn.org/stable/modules/preprocessing.html\n",
      "Please also refer to the documentation for alternative solver options:\n",
      "    https://scikit-learn.org/stable/modules/linear_model.html#logistic-regression\n",
      "  extra_warning_msg=_LOGISTIC_SOLVER_CONVERGENCE_MSG)\n",
      "/Users/stlanier/opt/anaconda3/envs/learn-env/lib/python3.6/site-packages/sklearn/linear_model/_logistic.py:764: ConvergenceWarning: lbfgs failed to converge (status=1):\n",
      "STOP: TOTAL NO. of ITERATIONS REACHED LIMIT.\n",
      "\n",
      "Increase the number of iterations (max_iter) or scale the data as shown in:\n",
      "    https://scikit-learn.org/stable/modules/preprocessing.html\n",
      "Please also refer to the documentation for alternative solver options:\n",
      "    https://scikit-learn.org/stable/modules/linear_model.html#logistic-regression\n",
      "  extra_warning_msg=_LOGISTIC_SOLVER_CONVERGENCE_MSG)\n",
      "/Users/stlanier/opt/anaconda3/envs/learn-env/lib/python3.6/site-packages/sklearn/linear_model/_logistic.py:764: ConvergenceWarning: lbfgs failed to converge (status=1):\n",
      "STOP: TOTAL NO. of ITERATIONS REACHED LIMIT.\n",
      "\n",
      "Increase the number of iterations (max_iter) or scale the data as shown in:\n",
      "    https://scikit-learn.org/stable/modules/preprocessing.html\n",
      "Please also refer to the documentation for alternative solver options:\n",
      "    https://scikit-learn.org/stable/modules/linear_model.html#logistic-regression\n",
      "  extra_warning_msg=_LOGISTIC_SOLVER_CONVERGENCE_MSG)\n",
      "/Users/stlanier/opt/anaconda3/envs/learn-env/lib/python3.6/site-packages/sklearn/linear_model/_logistic.py:764: ConvergenceWarning: lbfgs failed to converge (status=1):\n",
      "STOP: TOTAL NO. of ITERATIONS REACHED LIMIT.\n",
      "\n",
      "Increase the number of iterations (max_iter) or scale the data as shown in:\n",
      "    https://scikit-learn.org/stable/modules/preprocessing.html\n",
      "Please also refer to the documentation for alternative solver options:\n",
      "    https://scikit-learn.org/stable/modules/linear_model.html#logistic-regression\n",
      "  extra_warning_msg=_LOGISTIC_SOLVER_CONVERGENCE_MSG)\n"
     ]
    },
    {
     "name": "stdout",
     "output_type": "stream",
     "text": [
      "[CV] ................................ Cs=7, score=0.471, total=  59.7s\n",
      "[CV] Cs=7 ............................................................\n"
     ]
    },
    {
     "name": "stderr",
     "output_type": "stream",
     "text": [
      "/Users/stlanier/opt/anaconda3/envs/learn-env/lib/python3.6/site-packages/sklearn/linear_model/_logistic.py:764: ConvergenceWarning: lbfgs failed to converge (status=1):\n",
      "STOP: TOTAL NO. of ITERATIONS REACHED LIMIT.\n",
      "\n",
      "Increase the number of iterations (max_iter) or scale the data as shown in:\n",
      "    https://scikit-learn.org/stable/modules/preprocessing.html\n",
      "Please also refer to the documentation for alternative solver options:\n",
      "    https://scikit-learn.org/stable/modules/linear_model.html#logistic-regression\n",
      "  extra_warning_msg=_LOGISTIC_SOLVER_CONVERGENCE_MSG)\n",
      "/Users/stlanier/opt/anaconda3/envs/learn-env/lib/python3.6/site-packages/sklearn/linear_model/_logistic.py:764: ConvergenceWarning: lbfgs failed to converge (status=1):\n",
      "STOP: TOTAL NO. of ITERATIONS REACHED LIMIT.\n",
      "\n",
      "Increase the number of iterations (max_iter) or scale the data as shown in:\n",
      "    https://scikit-learn.org/stable/modules/preprocessing.html\n",
      "Please also refer to the documentation for alternative solver options:\n",
      "    https://scikit-learn.org/stable/modules/linear_model.html#logistic-regression\n",
      "  extra_warning_msg=_LOGISTIC_SOLVER_CONVERGENCE_MSG)\n",
      "/Users/stlanier/opt/anaconda3/envs/learn-env/lib/python3.6/site-packages/sklearn/linear_model/_logistic.py:764: ConvergenceWarning: lbfgs failed to converge (status=1):\n",
      "STOP: TOTAL NO. of ITERATIONS REACHED LIMIT.\n",
      "\n",
      "Increase the number of iterations (max_iter) or scale the data as shown in:\n",
      "    https://scikit-learn.org/stable/modules/preprocessing.html\n",
      "Please also refer to the documentation for alternative solver options:\n",
      "    https://scikit-learn.org/stable/modules/linear_model.html#logistic-regression\n",
      "  extra_warning_msg=_LOGISTIC_SOLVER_CONVERGENCE_MSG)\n",
      "/Users/stlanier/opt/anaconda3/envs/learn-env/lib/python3.6/site-packages/sklearn/linear_model/_logistic.py:764: ConvergenceWarning: lbfgs failed to converge (status=1):\n",
      "STOP: TOTAL NO. of ITERATIONS REACHED LIMIT.\n",
      "\n",
      "Increase the number of iterations (max_iter) or scale the data as shown in:\n",
      "    https://scikit-learn.org/stable/modules/preprocessing.html\n",
      "Please also refer to the documentation for alternative solver options:\n",
      "    https://scikit-learn.org/stable/modules/linear_model.html#logistic-regression\n",
      "  extra_warning_msg=_LOGISTIC_SOLVER_CONVERGENCE_MSG)\n",
      "/Users/stlanier/opt/anaconda3/envs/learn-env/lib/python3.6/site-packages/sklearn/linear_model/_logistic.py:764: ConvergenceWarning: lbfgs failed to converge (status=1):\n",
      "STOP: TOTAL NO. of ITERATIONS REACHED LIMIT.\n",
      "\n",
      "Increase the number of iterations (max_iter) or scale the data as shown in:\n",
      "    https://scikit-learn.org/stable/modules/preprocessing.html\n",
      "Please also refer to the documentation for alternative solver options:\n",
      "    https://scikit-learn.org/stable/modules/linear_model.html#logistic-regression\n",
      "  extra_warning_msg=_LOGISTIC_SOLVER_CONVERGENCE_MSG)\n"
     ]
    },
    {
     "name": "stdout",
     "output_type": "stream",
     "text": [
      "[CV] ................................ Cs=7, score=0.472, total= 1.3min\n",
      "[CV] Cs=10 ...........................................................\n"
     ]
    },
    {
     "name": "stderr",
     "output_type": "stream",
     "text": [
      "/Users/stlanier/opt/anaconda3/envs/learn-env/lib/python3.6/site-packages/sklearn/linear_model/_logistic.py:764: ConvergenceWarning: lbfgs failed to converge (status=1):\n",
      "STOP: TOTAL NO. of ITERATIONS REACHED LIMIT.\n",
      "\n",
      "Increase the number of iterations (max_iter) or scale the data as shown in:\n",
      "    https://scikit-learn.org/stable/modules/preprocessing.html\n",
      "Please also refer to the documentation for alternative solver options:\n",
      "    https://scikit-learn.org/stable/modules/linear_model.html#logistic-regression\n",
      "  extra_warning_msg=_LOGISTIC_SOLVER_CONVERGENCE_MSG)\n",
      "/Users/stlanier/opt/anaconda3/envs/learn-env/lib/python3.6/site-packages/sklearn/linear_model/_logistic.py:764: ConvergenceWarning: lbfgs failed to converge (status=1):\n",
      "STOP: TOTAL NO. of ITERATIONS REACHED LIMIT.\n",
      "\n",
      "Increase the number of iterations (max_iter) or scale the data as shown in:\n",
      "    https://scikit-learn.org/stable/modules/preprocessing.html\n",
      "Please also refer to the documentation for alternative solver options:\n",
      "    https://scikit-learn.org/stable/modules/linear_model.html#logistic-regression\n",
      "  extra_warning_msg=_LOGISTIC_SOLVER_CONVERGENCE_MSG)\n",
      "/Users/stlanier/opt/anaconda3/envs/learn-env/lib/python3.6/site-packages/sklearn/linear_model/_logistic.py:764: ConvergenceWarning: lbfgs failed to converge (status=1):\n",
      "STOP: TOTAL NO. of ITERATIONS REACHED LIMIT.\n",
      "\n",
      "Increase the number of iterations (max_iter) or scale the data as shown in:\n",
      "    https://scikit-learn.org/stable/modules/preprocessing.html\n",
      "Please also refer to the documentation for alternative solver options:\n",
      "    https://scikit-learn.org/stable/modules/linear_model.html#logistic-regression\n",
      "  extra_warning_msg=_LOGISTIC_SOLVER_CONVERGENCE_MSG)\n",
      "/Users/stlanier/opt/anaconda3/envs/learn-env/lib/python3.6/site-packages/sklearn/linear_model/_logistic.py:764: ConvergenceWarning: lbfgs failed to converge (status=1):\n",
      "STOP: TOTAL NO. of ITERATIONS REACHED LIMIT.\n",
      "\n",
      "Increase the number of iterations (max_iter) or scale the data as shown in:\n",
      "    https://scikit-learn.org/stable/modules/preprocessing.html\n",
      "Please also refer to the documentation for alternative solver options:\n",
      "    https://scikit-learn.org/stable/modules/linear_model.html#logistic-regression\n",
      "  extra_warning_msg=_LOGISTIC_SOLVER_CONVERGENCE_MSG)\n",
      "/Users/stlanier/opt/anaconda3/envs/learn-env/lib/python3.6/site-packages/sklearn/linear_model/_logistic.py:764: ConvergenceWarning: lbfgs failed to converge (status=1):\n",
      "STOP: TOTAL NO. of ITERATIONS REACHED LIMIT.\n",
      "\n",
      "Increase the number of iterations (max_iter) or scale the data as shown in:\n",
      "    https://scikit-learn.org/stable/modules/preprocessing.html\n",
      "Please also refer to the documentation for alternative solver options:\n",
      "    https://scikit-learn.org/stable/modules/linear_model.html#logistic-regression\n",
      "  extra_warning_msg=_LOGISTIC_SOLVER_CONVERGENCE_MSG)\n"
     ]
    },
    {
     "name": "stdout",
     "output_type": "stream",
     "text": [
      "[CV] ............................... Cs=10, score=0.521, total= 1.6min\n",
      "[CV] Cs=10 ...........................................................\n"
     ]
    },
    {
     "name": "stderr",
     "output_type": "stream",
     "text": [
      "/Users/stlanier/opt/anaconda3/envs/learn-env/lib/python3.6/site-packages/sklearn/linear_model/_logistic.py:764: ConvergenceWarning: lbfgs failed to converge (status=1):\n",
      "STOP: TOTAL NO. of ITERATIONS REACHED LIMIT.\n",
      "\n",
      "Increase the number of iterations (max_iter) or scale the data as shown in:\n",
      "    https://scikit-learn.org/stable/modules/preprocessing.html\n",
      "Please also refer to the documentation for alternative solver options:\n",
      "    https://scikit-learn.org/stable/modules/linear_model.html#logistic-regression\n",
      "  extra_warning_msg=_LOGISTIC_SOLVER_CONVERGENCE_MSG)\n",
      "/Users/stlanier/opt/anaconda3/envs/learn-env/lib/python3.6/site-packages/sklearn/linear_model/_logistic.py:764: ConvergenceWarning: lbfgs failed to converge (status=1):\n",
      "STOP: TOTAL NO. of ITERATIONS REACHED LIMIT.\n",
      "\n",
      "Increase the number of iterations (max_iter) or scale the data as shown in:\n",
      "    https://scikit-learn.org/stable/modules/preprocessing.html\n",
      "Please also refer to the documentation for alternative solver options:\n",
      "    https://scikit-learn.org/stable/modules/linear_model.html#logistic-regression\n",
      "  extra_warning_msg=_LOGISTIC_SOLVER_CONVERGENCE_MSG)\n",
      "/Users/stlanier/opt/anaconda3/envs/learn-env/lib/python3.6/site-packages/sklearn/linear_model/_logistic.py:764: ConvergenceWarning: lbfgs failed to converge (status=1):\n",
      "STOP: TOTAL NO. of ITERATIONS REACHED LIMIT.\n",
      "\n",
      "Increase the number of iterations (max_iter) or scale the data as shown in:\n",
      "    https://scikit-learn.org/stable/modules/preprocessing.html\n",
      "Please also refer to the documentation for alternative solver options:\n",
      "    https://scikit-learn.org/stable/modules/linear_model.html#logistic-regression\n",
      "  extra_warning_msg=_LOGISTIC_SOLVER_CONVERGENCE_MSG)\n",
      "/Users/stlanier/opt/anaconda3/envs/learn-env/lib/python3.6/site-packages/sklearn/linear_model/_logistic.py:764: ConvergenceWarning: lbfgs failed to converge (status=1):\n",
      "STOP: TOTAL NO. of ITERATIONS REACHED LIMIT.\n",
      "\n",
      "Increase the number of iterations (max_iter) or scale the data as shown in:\n",
      "    https://scikit-learn.org/stable/modules/preprocessing.html\n",
      "Please also refer to the documentation for alternative solver options:\n",
      "    https://scikit-learn.org/stable/modules/linear_model.html#logistic-regression\n",
      "  extra_warning_msg=_LOGISTIC_SOLVER_CONVERGENCE_MSG)\n",
      "/Users/stlanier/opt/anaconda3/envs/learn-env/lib/python3.6/site-packages/sklearn/linear_model/_logistic.py:764: ConvergenceWarning: lbfgs failed to converge (status=1):\n",
      "STOP: TOTAL NO. of ITERATIONS REACHED LIMIT.\n",
      "\n",
      "Increase the number of iterations (max_iter) or scale the data as shown in:\n",
      "    https://scikit-learn.org/stable/modules/preprocessing.html\n",
      "Please also refer to the documentation for alternative solver options:\n",
      "    https://scikit-learn.org/stable/modules/linear_model.html#logistic-regression\n",
      "  extra_warning_msg=_LOGISTIC_SOLVER_CONVERGENCE_MSG)\n"
     ]
    },
    {
     "name": "stdout",
     "output_type": "stream",
     "text": [
      "[CV] ............................... Cs=10, score=0.530, total= 1.2min\n",
      "[CV] Cs=10 ...........................................................\n"
     ]
    },
    {
     "name": "stderr",
     "output_type": "stream",
     "text": [
      "/Users/stlanier/opt/anaconda3/envs/learn-env/lib/python3.6/site-packages/sklearn/linear_model/_logistic.py:764: ConvergenceWarning: lbfgs failed to converge (status=1):\n",
      "STOP: TOTAL NO. of ITERATIONS REACHED LIMIT.\n",
      "\n",
      "Increase the number of iterations (max_iter) or scale the data as shown in:\n",
      "    https://scikit-learn.org/stable/modules/preprocessing.html\n",
      "Please also refer to the documentation for alternative solver options:\n",
      "    https://scikit-learn.org/stable/modules/linear_model.html#logistic-regression\n",
      "  extra_warning_msg=_LOGISTIC_SOLVER_CONVERGENCE_MSG)\n",
      "/Users/stlanier/opt/anaconda3/envs/learn-env/lib/python3.6/site-packages/sklearn/linear_model/_logistic.py:764: ConvergenceWarning: lbfgs failed to converge (status=1):\n",
      "STOP: TOTAL NO. of ITERATIONS REACHED LIMIT.\n",
      "\n",
      "Increase the number of iterations (max_iter) or scale the data as shown in:\n",
      "    https://scikit-learn.org/stable/modules/preprocessing.html\n",
      "Please also refer to the documentation for alternative solver options:\n",
      "    https://scikit-learn.org/stable/modules/linear_model.html#logistic-regression\n",
      "  extra_warning_msg=_LOGISTIC_SOLVER_CONVERGENCE_MSG)\n",
      "/Users/stlanier/opt/anaconda3/envs/learn-env/lib/python3.6/site-packages/sklearn/linear_model/_logistic.py:764: ConvergenceWarning: lbfgs failed to converge (status=1):\n",
      "STOP: TOTAL NO. of ITERATIONS REACHED LIMIT.\n",
      "\n",
      "Increase the number of iterations (max_iter) or scale the data as shown in:\n",
      "    https://scikit-learn.org/stable/modules/preprocessing.html\n",
      "Please also refer to the documentation for alternative solver options:\n",
      "    https://scikit-learn.org/stable/modules/linear_model.html#logistic-regression\n",
      "  extra_warning_msg=_LOGISTIC_SOLVER_CONVERGENCE_MSG)\n",
      "/Users/stlanier/opt/anaconda3/envs/learn-env/lib/python3.6/site-packages/sklearn/linear_model/_logistic.py:764: ConvergenceWarning: lbfgs failed to converge (status=1):\n",
      "STOP: TOTAL NO. of ITERATIONS REACHED LIMIT.\n",
      "\n",
      "Increase the number of iterations (max_iter) or scale the data as shown in:\n",
      "    https://scikit-learn.org/stable/modules/preprocessing.html\n",
      "Please also refer to the documentation for alternative solver options:\n",
      "    https://scikit-learn.org/stable/modules/linear_model.html#logistic-regression\n",
      "  extra_warning_msg=_LOGISTIC_SOLVER_CONVERGENCE_MSG)\n",
      "/Users/stlanier/opt/anaconda3/envs/learn-env/lib/python3.6/site-packages/sklearn/linear_model/_logistic.py:764: ConvergenceWarning: lbfgs failed to converge (status=1):\n",
      "STOP: TOTAL NO. of ITERATIONS REACHED LIMIT.\n",
      "\n",
      "Increase the number of iterations (max_iter) or scale the data as shown in:\n",
      "    https://scikit-learn.org/stable/modules/preprocessing.html\n",
      "Please also refer to the documentation for alternative solver options:\n",
      "    https://scikit-learn.org/stable/modules/linear_model.html#logistic-regression\n",
      "  extra_warning_msg=_LOGISTIC_SOLVER_CONVERGENCE_MSG)\n"
     ]
    },
    {
     "name": "stdout",
     "output_type": "stream",
     "text": [
      "[CV] ............................... Cs=10, score=0.505, total= 1.6min\n",
      "[CV] Cs=15 ...........................................................\n"
     ]
    },
    {
     "name": "stderr",
     "output_type": "stream",
     "text": [
      "/Users/stlanier/opt/anaconda3/envs/learn-env/lib/python3.6/site-packages/sklearn/linear_model/_logistic.py:764: ConvergenceWarning: lbfgs failed to converge (status=1):\n",
      "STOP: TOTAL NO. of ITERATIONS REACHED LIMIT.\n",
      "\n",
      "Increase the number of iterations (max_iter) or scale the data as shown in:\n",
      "    https://scikit-learn.org/stable/modules/preprocessing.html\n",
      "Please also refer to the documentation for alternative solver options:\n",
      "    https://scikit-learn.org/stable/modules/linear_model.html#logistic-regression\n",
      "  extra_warning_msg=_LOGISTIC_SOLVER_CONVERGENCE_MSG)\n",
      "/Users/stlanier/opt/anaconda3/envs/learn-env/lib/python3.6/site-packages/sklearn/linear_model/_logistic.py:764: ConvergenceWarning: lbfgs failed to converge (status=1):\n",
      "STOP: TOTAL NO. of ITERATIONS REACHED LIMIT.\n",
      "\n",
      "Increase the number of iterations (max_iter) or scale the data as shown in:\n",
      "    https://scikit-learn.org/stable/modules/preprocessing.html\n",
      "Please also refer to the documentation for alternative solver options:\n",
      "    https://scikit-learn.org/stable/modules/linear_model.html#logistic-regression\n",
      "  extra_warning_msg=_LOGISTIC_SOLVER_CONVERGENCE_MSG)\n",
      "/Users/stlanier/opt/anaconda3/envs/learn-env/lib/python3.6/site-packages/sklearn/linear_model/_logistic.py:764: ConvergenceWarning: lbfgs failed to converge (status=1):\n",
      "STOP: TOTAL NO. of ITERATIONS REACHED LIMIT.\n",
      "\n",
      "Increase the number of iterations (max_iter) or scale the data as shown in:\n",
      "    https://scikit-learn.org/stable/modules/preprocessing.html\n",
      "Please also refer to the documentation for alternative solver options:\n",
      "    https://scikit-learn.org/stable/modules/linear_model.html#logistic-regression\n",
      "  extra_warning_msg=_LOGISTIC_SOLVER_CONVERGENCE_MSG)\n",
      "/Users/stlanier/opt/anaconda3/envs/learn-env/lib/python3.6/site-packages/sklearn/linear_model/_logistic.py:764: ConvergenceWarning: lbfgs failed to converge (status=1):\n",
      "STOP: TOTAL NO. of ITERATIONS REACHED LIMIT.\n",
      "\n",
      "Increase the number of iterations (max_iter) or scale the data as shown in:\n",
      "    https://scikit-learn.org/stable/modules/preprocessing.html\n",
      "Please also refer to the documentation for alternative solver options:\n",
      "    https://scikit-learn.org/stable/modules/linear_model.html#logistic-regression\n",
      "  extra_warning_msg=_LOGISTIC_SOLVER_CONVERGENCE_MSG)\n",
      "/Users/stlanier/opt/anaconda3/envs/learn-env/lib/python3.6/site-packages/sklearn/linear_model/_logistic.py:764: ConvergenceWarning: lbfgs failed to converge (status=1):\n",
      "STOP: TOTAL NO. of ITERATIONS REACHED LIMIT.\n",
      "\n",
      "Increase the number of iterations (max_iter) or scale the data as shown in:\n",
      "    https://scikit-learn.org/stable/modules/preprocessing.html\n",
      "Please also refer to the documentation for alternative solver options:\n",
      "    https://scikit-learn.org/stable/modules/linear_model.html#logistic-regression\n",
      "  extra_warning_msg=_LOGISTIC_SOLVER_CONVERGENCE_MSG)\n"
     ]
    },
    {
     "name": "stdout",
     "output_type": "stream",
     "text": [
      "[CV] ............................... Cs=15, score=0.529, total= 2.1min\n",
      "[CV] Cs=15 ...........................................................\n"
     ]
    },
    {
     "name": "stderr",
     "output_type": "stream",
     "text": [
      "/Users/stlanier/opt/anaconda3/envs/learn-env/lib/python3.6/site-packages/sklearn/linear_model/_logistic.py:764: ConvergenceWarning: lbfgs failed to converge (status=1):\n",
      "STOP: TOTAL NO. of ITERATIONS REACHED LIMIT.\n",
      "\n",
      "Increase the number of iterations (max_iter) or scale the data as shown in:\n",
      "    https://scikit-learn.org/stable/modules/preprocessing.html\n",
      "Please also refer to the documentation for alternative solver options:\n",
      "    https://scikit-learn.org/stable/modules/linear_model.html#logistic-regression\n",
      "  extra_warning_msg=_LOGISTIC_SOLVER_CONVERGENCE_MSG)\n",
      "/Users/stlanier/opt/anaconda3/envs/learn-env/lib/python3.6/site-packages/sklearn/linear_model/_logistic.py:764: ConvergenceWarning: lbfgs failed to converge (status=1):\n",
      "STOP: TOTAL NO. of ITERATIONS REACHED LIMIT.\n",
      "\n",
      "Increase the number of iterations (max_iter) or scale the data as shown in:\n",
      "    https://scikit-learn.org/stable/modules/preprocessing.html\n",
      "Please also refer to the documentation for alternative solver options:\n",
      "    https://scikit-learn.org/stable/modules/linear_model.html#logistic-regression\n",
      "  extra_warning_msg=_LOGISTIC_SOLVER_CONVERGENCE_MSG)\n",
      "/Users/stlanier/opt/anaconda3/envs/learn-env/lib/python3.6/site-packages/sklearn/linear_model/_logistic.py:764: ConvergenceWarning: lbfgs failed to converge (status=1):\n",
      "STOP: TOTAL NO. of ITERATIONS REACHED LIMIT.\n",
      "\n",
      "Increase the number of iterations (max_iter) or scale the data as shown in:\n",
      "    https://scikit-learn.org/stable/modules/preprocessing.html\n",
      "Please also refer to the documentation for alternative solver options:\n",
      "    https://scikit-learn.org/stable/modules/linear_model.html#logistic-regression\n",
      "  extra_warning_msg=_LOGISTIC_SOLVER_CONVERGENCE_MSG)\n",
      "/Users/stlanier/opt/anaconda3/envs/learn-env/lib/python3.6/site-packages/sklearn/linear_model/_logistic.py:764: ConvergenceWarning: lbfgs failed to converge (status=1):\n",
      "STOP: TOTAL NO. of ITERATIONS REACHED LIMIT.\n",
      "\n",
      "Increase the number of iterations (max_iter) or scale the data as shown in:\n",
      "    https://scikit-learn.org/stable/modules/preprocessing.html\n",
      "Please also refer to the documentation for alternative solver options:\n",
      "    https://scikit-learn.org/stable/modules/linear_model.html#logistic-regression\n",
      "  extra_warning_msg=_LOGISTIC_SOLVER_CONVERGENCE_MSG)\n",
      "/Users/stlanier/opt/anaconda3/envs/learn-env/lib/python3.6/site-packages/sklearn/linear_model/_logistic.py:764: ConvergenceWarning: lbfgs failed to converge (status=1):\n",
      "STOP: TOTAL NO. of ITERATIONS REACHED LIMIT.\n",
      "\n",
      "Increase the number of iterations (max_iter) or scale the data as shown in:\n",
      "    https://scikit-learn.org/stable/modules/preprocessing.html\n",
      "Please also refer to the documentation for alternative solver options:\n",
      "    https://scikit-learn.org/stable/modules/linear_model.html#logistic-regression\n",
      "  extra_warning_msg=_LOGISTIC_SOLVER_CONVERGENCE_MSG)\n"
     ]
    },
    {
     "name": "stdout",
     "output_type": "stream",
     "text": [
      "[CV] ............................... Cs=15, score=0.541, total= 2.9min\n",
      "[CV] Cs=15 ...........................................................\n"
     ]
    },
    {
     "name": "stderr",
     "output_type": "stream",
     "text": [
      "/Users/stlanier/opt/anaconda3/envs/learn-env/lib/python3.6/site-packages/sklearn/linear_model/_logistic.py:764: ConvergenceWarning: lbfgs failed to converge (status=1):\n",
      "STOP: TOTAL NO. of ITERATIONS REACHED LIMIT.\n",
      "\n",
      "Increase the number of iterations (max_iter) or scale the data as shown in:\n",
      "    https://scikit-learn.org/stable/modules/preprocessing.html\n",
      "Please also refer to the documentation for alternative solver options:\n",
      "    https://scikit-learn.org/stable/modules/linear_model.html#logistic-regression\n",
      "  extra_warning_msg=_LOGISTIC_SOLVER_CONVERGENCE_MSG)\n",
      "/Users/stlanier/opt/anaconda3/envs/learn-env/lib/python3.6/site-packages/sklearn/linear_model/_logistic.py:764: ConvergenceWarning: lbfgs failed to converge (status=1):\n",
      "STOP: TOTAL NO. of ITERATIONS REACHED LIMIT.\n",
      "\n",
      "Increase the number of iterations (max_iter) or scale the data as shown in:\n",
      "    https://scikit-learn.org/stable/modules/preprocessing.html\n",
      "Please also refer to the documentation for alternative solver options:\n",
      "    https://scikit-learn.org/stable/modules/linear_model.html#logistic-regression\n",
      "  extra_warning_msg=_LOGISTIC_SOLVER_CONVERGENCE_MSG)\n",
      "/Users/stlanier/opt/anaconda3/envs/learn-env/lib/python3.6/site-packages/sklearn/linear_model/_logistic.py:764: ConvergenceWarning: lbfgs failed to converge (status=1):\n",
      "STOP: TOTAL NO. of ITERATIONS REACHED LIMIT.\n",
      "\n",
      "Increase the number of iterations (max_iter) or scale the data as shown in:\n",
      "    https://scikit-learn.org/stable/modules/preprocessing.html\n",
      "Please also refer to the documentation for alternative solver options:\n",
      "    https://scikit-learn.org/stable/modules/linear_model.html#logistic-regression\n",
      "  extra_warning_msg=_LOGISTIC_SOLVER_CONVERGENCE_MSG)\n",
      "/Users/stlanier/opt/anaconda3/envs/learn-env/lib/python3.6/site-packages/sklearn/linear_model/_logistic.py:764: ConvergenceWarning: lbfgs failed to converge (status=1):\n",
      "STOP: TOTAL NO. of ITERATIONS REACHED LIMIT.\n",
      "\n",
      "Increase the number of iterations (max_iter) or scale the data as shown in:\n",
      "    https://scikit-learn.org/stable/modules/preprocessing.html\n",
      "Please also refer to the documentation for alternative solver options:\n",
      "    https://scikit-learn.org/stable/modules/linear_model.html#logistic-regression\n",
      "  extra_warning_msg=_LOGISTIC_SOLVER_CONVERGENCE_MSG)\n",
      "/Users/stlanier/opt/anaconda3/envs/learn-env/lib/python3.6/site-packages/sklearn/linear_model/_logistic.py:764: ConvergenceWarning: lbfgs failed to converge (status=1):\n",
      "STOP: TOTAL NO. of ITERATIONS REACHED LIMIT.\n",
      "\n",
      "Increase the number of iterations (max_iter) or scale the data as shown in:\n",
      "    https://scikit-learn.org/stable/modules/preprocessing.html\n",
      "Please also refer to the documentation for alternative solver options:\n",
      "    https://scikit-learn.org/stable/modules/linear_model.html#logistic-regression\n",
      "  extra_warning_msg=_LOGISTIC_SOLVER_CONVERGENCE_MSG)\n"
     ]
    },
    {
     "name": "stdout",
     "output_type": "stream",
     "text": [
      "[CV] ............................... Cs=15, score=0.532, total= 2.4min\n",
      "[CV] Cs=20 ...........................................................\n"
     ]
    },
    {
     "name": "stderr",
     "output_type": "stream",
     "text": [
      "/Users/stlanier/opt/anaconda3/envs/learn-env/lib/python3.6/site-packages/sklearn/linear_model/_logistic.py:764: ConvergenceWarning: lbfgs failed to converge (status=1):\n",
      "STOP: TOTAL NO. of ITERATIONS REACHED LIMIT.\n",
      "\n",
      "Increase the number of iterations (max_iter) or scale the data as shown in:\n",
      "    https://scikit-learn.org/stable/modules/preprocessing.html\n",
      "Please also refer to the documentation for alternative solver options:\n",
      "    https://scikit-learn.org/stable/modules/linear_model.html#logistic-regression\n",
      "  extra_warning_msg=_LOGISTIC_SOLVER_CONVERGENCE_MSG)\n",
      "/Users/stlanier/opt/anaconda3/envs/learn-env/lib/python3.6/site-packages/sklearn/linear_model/_logistic.py:764: ConvergenceWarning: lbfgs failed to converge (status=1):\n",
      "STOP: TOTAL NO. of ITERATIONS REACHED LIMIT.\n",
      "\n",
      "Increase the number of iterations (max_iter) or scale the data as shown in:\n",
      "    https://scikit-learn.org/stable/modules/preprocessing.html\n",
      "Please also refer to the documentation for alternative solver options:\n",
      "    https://scikit-learn.org/stable/modules/linear_model.html#logistic-regression\n",
      "  extra_warning_msg=_LOGISTIC_SOLVER_CONVERGENCE_MSG)\n",
      "/Users/stlanier/opt/anaconda3/envs/learn-env/lib/python3.6/site-packages/sklearn/linear_model/_logistic.py:764: ConvergenceWarning: lbfgs failed to converge (status=1):\n",
      "STOP: TOTAL NO. of ITERATIONS REACHED LIMIT.\n",
      "\n",
      "Increase the number of iterations (max_iter) or scale the data as shown in:\n",
      "    https://scikit-learn.org/stable/modules/preprocessing.html\n",
      "Please also refer to the documentation for alternative solver options:\n",
      "    https://scikit-learn.org/stable/modules/linear_model.html#logistic-regression\n",
      "  extra_warning_msg=_LOGISTIC_SOLVER_CONVERGENCE_MSG)\n",
      "/Users/stlanier/opt/anaconda3/envs/learn-env/lib/python3.6/site-packages/sklearn/linear_model/_logistic.py:764: ConvergenceWarning: lbfgs failed to converge (status=1):\n",
      "STOP: TOTAL NO. of ITERATIONS REACHED LIMIT.\n",
      "\n",
      "Increase the number of iterations (max_iter) or scale the data as shown in:\n",
      "    https://scikit-learn.org/stable/modules/preprocessing.html\n",
      "Please also refer to the documentation for alternative solver options:\n",
      "    https://scikit-learn.org/stable/modules/linear_model.html#logistic-regression\n",
      "  extra_warning_msg=_LOGISTIC_SOLVER_CONVERGENCE_MSG)\n",
      "/Users/stlanier/opt/anaconda3/envs/learn-env/lib/python3.6/site-packages/sklearn/linear_model/_logistic.py:764: ConvergenceWarning: lbfgs failed to converge (status=1):\n",
      "STOP: TOTAL NO. of ITERATIONS REACHED LIMIT.\n",
      "\n",
      "Increase the number of iterations (max_iter) or scale the data as shown in:\n",
      "    https://scikit-learn.org/stable/modules/preprocessing.html\n",
      "Please also refer to the documentation for alternative solver options:\n",
      "    https://scikit-learn.org/stable/modules/linear_model.html#logistic-regression\n",
      "  extra_warning_msg=_LOGISTIC_SOLVER_CONVERGENCE_MSG)\n"
     ]
    },
    {
     "name": "stdout",
     "output_type": "stream",
     "text": [
      "[CV] ............................... Cs=20, score=0.537, total= 3.4min\n",
      "[CV] Cs=20 ...........................................................\n"
     ]
    },
    {
     "name": "stderr",
     "output_type": "stream",
     "text": [
      "/Users/stlanier/opt/anaconda3/envs/learn-env/lib/python3.6/site-packages/sklearn/linear_model/_logistic.py:764: ConvergenceWarning: lbfgs failed to converge (status=1):\n",
      "STOP: TOTAL NO. of ITERATIONS REACHED LIMIT.\n",
      "\n",
      "Increase the number of iterations (max_iter) or scale the data as shown in:\n",
      "    https://scikit-learn.org/stable/modules/preprocessing.html\n",
      "Please also refer to the documentation for alternative solver options:\n",
      "    https://scikit-learn.org/stable/modules/linear_model.html#logistic-regression\n",
      "  extra_warning_msg=_LOGISTIC_SOLVER_CONVERGENCE_MSG)\n",
      "/Users/stlanier/opt/anaconda3/envs/learn-env/lib/python3.6/site-packages/sklearn/linear_model/_logistic.py:764: ConvergenceWarning: lbfgs failed to converge (status=1):\n",
      "STOP: TOTAL NO. of ITERATIONS REACHED LIMIT.\n",
      "\n",
      "Increase the number of iterations (max_iter) or scale the data as shown in:\n",
      "    https://scikit-learn.org/stable/modules/preprocessing.html\n",
      "Please also refer to the documentation for alternative solver options:\n",
      "    https://scikit-learn.org/stable/modules/linear_model.html#logistic-regression\n",
      "  extra_warning_msg=_LOGISTIC_SOLVER_CONVERGENCE_MSG)\n",
      "/Users/stlanier/opt/anaconda3/envs/learn-env/lib/python3.6/site-packages/sklearn/linear_model/_logistic.py:764: ConvergenceWarning: lbfgs failed to converge (status=1):\n",
      "STOP: TOTAL NO. of ITERATIONS REACHED LIMIT.\n",
      "\n",
      "Increase the number of iterations (max_iter) or scale the data as shown in:\n",
      "    https://scikit-learn.org/stable/modules/preprocessing.html\n",
      "Please also refer to the documentation for alternative solver options:\n",
      "    https://scikit-learn.org/stable/modules/linear_model.html#logistic-regression\n",
      "  extra_warning_msg=_LOGISTIC_SOLVER_CONVERGENCE_MSG)\n",
      "/Users/stlanier/opt/anaconda3/envs/learn-env/lib/python3.6/site-packages/sklearn/linear_model/_logistic.py:764: ConvergenceWarning: lbfgs failed to converge (status=1):\n",
      "STOP: TOTAL NO. of ITERATIONS REACHED LIMIT.\n",
      "\n",
      "Increase the number of iterations (max_iter) or scale the data as shown in:\n",
      "    https://scikit-learn.org/stable/modules/preprocessing.html\n",
      "Please also refer to the documentation for alternative solver options:\n",
      "    https://scikit-learn.org/stable/modules/linear_model.html#logistic-regression\n",
      "  extra_warning_msg=_LOGISTIC_SOLVER_CONVERGENCE_MSG)\n",
      "/Users/stlanier/opt/anaconda3/envs/learn-env/lib/python3.6/site-packages/sklearn/linear_model/_logistic.py:764: ConvergenceWarning: lbfgs failed to converge (status=1):\n",
      "STOP: TOTAL NO. of ITERATIONS REACHED LIMIT.\n",
      "\n",
      "Increase the number of iterations (max_iter) or scale the data as shown in:\n",
      "    https://scikit-learn.org/stable/modules/preprocessing.html\n",
      "Please also refer to the documentation for alternative solver options:\n",
      "    https://scikit-learn.org/stable/modules/linear_model.html#logistic-regression\n",
      "  extra_warning_msg=_LOGISTIC_SOLVER_CONVERGENCE_MSG)\n"
     ]
    },
    {
     "name": "stdout",
     "output_type": "stream",
     "text": [
      "[CV] ............................... Cs=20, score=0.496, total= 2.8min\n",
      "[CV] Cs=20 ...........................................................\n"
     ]
    },
    {
     "name": "stderr",
     "output_type": "stream",
     "text": [
      "/Users/stlanier/opt/anaconda3/envs/learn-env/lib/python3.6/site-packages/sklearn/linear_model/_logistic.py:764: ConvergenceWarning: lbfgs failed to converge (status=1):\n",
      "STOP: TOTAL NO. of ITERATIONS REACHED LIMIT.\n",
      "\n",
      "Increase the number of iterations (max_iter) or scale the data as shown in:\n",
      "    https://scikit-learn.org/stable/modules/preprocessing.html\n",
      "Please also refer to the documentation for alternative solver options:\n",
      "    https://scikit-learn.org/stable/modules/linear_model.html#logistic-regression\n",
      "  extra_warning_msg=_LOGISTIC_SOLVER_CONVERGENCE_MSG)\n",
      "/Users/stlanier/opt/anaconda3/envs/learn-env/lib/python3.6/site-packages/sklearn/linear_model/_logistic.py:764: ConvergenceWarning: lbfgs failed to converge (status=1):\n",
      "STOP: TOTAL NO. of ITERATIONS REACHED LIMIT.\n",
      "\n",
      "Increase the number of iterations (max_iter) or scale the data as shown in:\n",
      "    https://scikit-learn.org/stable/modules/preprocessing.html\n",
      "Please also refer to the documentation for alternative solver options:\n",
      "    https://scikit-learn.org/stable/modules/linear_model.html#logistic-regression\n",
      "  extra_warning_msg=_LOGISTIC_SOLVER_CONVERGENCE_MSG)\n",
      "/Users/stlanier/opt/anaconda3/envs/learn-env/lib/python3.6/site-packages/sklearn/linear_model/_logistic.py:764: ConvergenceWarning: lbfgs failed to converge (status=1):\n",
      "STOP: TOTAL NO. of ITERATIONS REACHED LIMIT.\n",
      "\n",
      "Increase the number of iterations (max_iter) or scale the data as shown in:\n",
      "    https://scikit-learn.org/stable/modules/preprocessing.html\n",
      "Please also refer to the documentation for alternative solver options:\n",
      "    https://scikit-learn.org/stable/modules/linear_model.html#logistic-regression\n",
      "  extra_warning_msg=_LOGISTIC_SOLVER_CONVERGENCE_MSG)\n",
      "/Users/stlanier/opt/anaconda3/envs/learn-env/lib/python3.6/site-packages/sklearn/linear_model/_logistic.py:764: ConvergenceWarning: lbfgs failed to converge (status=1):\n",
      "STOP: TOTAL NO. of ITERATIONS REACHED LIMIT.\n",
      "\n",
      "Increase the number of iterations (max_iter) or scale the data as shown in:\n",
      "    https://scikit-learn.org/stable/modules/preprocessing.html\n",
      "Please also refer to the documentation for alternative solver options:\n",
      "    https://scikit-learn.org/stable/modules/linear_model.html#logistic-regression\n",
      "  extra_warning_msg=_LOGISTIC_SOLVER_CONVERGENCE_MSG)\n",
      "/Users/stlanier/opt/anaconda3/envs/learn-env/lib/python3.6/site-packages/sklearn/linear_model/_logistic.py:764: ConvergenceWarning: lbfgs failed to converge (status=1):\n",
      "STOP: TOTAL NO. of ITERATIONS REACHED LIMIT.\n",
      "\n",
      "Increase the number of iterations (max_iter) or scale the data as shown in:\n",
      "    https://scikit-learn.org/stable/modules/preprocessing.html\n",
      "Please also refer to the documentation for alternative solver options:\n",
      "    https://scikit-learn.org/stable/modules/linear_model.html#logistic-regression\n",
      "  extra_warning_msg=_LOGISTIC_SOLVER_CONVERGENCE_MSG)\n"
     ]
    },
    {
     "name": "stdout",
     "output_type": "stream",
     "text": [
      "[CV] ............................... Cs=20, score=0.487, total= 4.0min\n"
     ]
    },
    {
     "name": "stderr",
     "output_type": "stream",
     "text": [
      "[Parallel(n_jobs=1)]: Done  21 out of  21 | elapsed: 29.4min finished\n",
      "/Users/stlanier/opt/anaconda3/envs/learn-env/lib/python3.6/site-packages/sklearn/linear_model/_logistic.py:764: ConvergenceWarning: lbfgs failed to converge (status=1):\n",
      "STOP: TOTAL NO. of ITERATIONS REACHED LIMIT.\n",
      "\n",
      "Increase the number of iterations (max_iter) or scale the data as shown in:\n",
      "    https://scikit-learn.org/stable/modules/preprocessing.html\n",
      "Please also refer to the documentation for alternative solver options:\n",
      "    https://scikit-learn.org/stable/modules/linear_model.html#logistic-regression\n",
      "  extra_warning_msg=_LOGISTIC_SOLVER_CONVERGENCE_MSG)\n",
      "/Users/stlanier/opt/anaconda3/envs/learn-env/lib/python3.6/site-packages/sklearn/linear_model/_logistic.py:764: ConvergenceWarning: lbfgs failed to converge (status=1):\n",
      "STOP: TOTAL NO. of ITERATIONS REACHED LIMIT.\n",
      "\n",
      "Increase the number of iterations (max_iter) or scale the data as shown in:\n",
      "    https://scikit-learn.org/stable/modules/preprocessing.html\n",
      "Please also refer to the documentation for alternative solver options:\n",
      "    https://scikit-learn.org/stable/modules/linear_model.html#logistic-regression\n",
      "  extra_warning_msg=_LOGISTIC_SOLVER_CONVERGENCE_MSG)\n",
      "/Users/stlanier/opt/anaconda3/envs/learn-env/lib/python3.6/site-packages/sklearn/linear_model/_logistic.py:764: ConvergenceWarning: lbfgs failed to converge (status=1):\n",
      "STOP: TOTAL NO. of ITERATIONS REACHED LIMIT.\n",
      "\n",
      "Increase the number of iterations (max_iter) or scale the data as shown in:\n",
      "    https://scikit-learn.org/stable/modules/preprocessing.html\n",
      "Please also refer to the documentation for alternative solver options:\n",
      "    https://scikit-learn.org/stable/modules/linear_model.html#logistic-regression\n",
      "  extra_warning_msg=_LOGISTIC_SOLVER_CONVERGENCE_MSG)\n",
      "/Users/stlanier/opt/anaconda3/envs/learn-env/lib/python3.6/site-packages/sklearn/linear_model/_logistic.py:764: ConvergenceWarning: lbfgs failed to converge (status=1):\n",
      "STOP: TOTAL NO. of ITERATIONS REACHED LIMIT.\n",
      "\n",
      "Increase the number of iterations (max_iter) or scale the data as shown in:\n",
      "    https://scikit-learn.org/stable/modules/preprocessing.html\n",
      "Please also refer to the documentation for alternative solver options:\n",
      "    https://scikit-learn.org/stable/modules/linear_model.html#logistic-regression\n",
      "  extra_warning_msg=_LOGISTIC_SOLVER_CONVERGENCE_MSG)\n",
      "/Users/stlanier/opt/anaconda3/envs/learn-env/lib/python3.6/site-packages/sklearn/linear_model/_logistic.py:764: ConvergenceWarning: lbfgs failed to converge (status=1):\n",
      "STOP: TOTAL NO. of ITERATIONS REACHED LIMIT.\n",
      "\n",
      "Increase the number of iterations (max_iter) or scale the data as shown in:\n",
      "    https://scikit-learn.org/stable/modules/preprocessing.html\n",
      "Please also refer to the documentation for alternative solver options:\n",
      "    https://scikit-learn.org/stable/modules/linear_model.html#logistic-regression\n",
      "  extra_warning_msg=_LOGISTIC_SOLVER_CONVERGENCE_MSG)\n"
     ]
    },
    {
     "data": {
      "text/plain": [
       "GridSearchCV(cv=3, estimator=LogisticRegressionCV(cv=5),\n",
       "             param_grid={'Cs': [1, 3, 5, 7, 10, 15, 20]}, scoring='f1_macro',\n",
       "             verbose=3)"
      ]
     },
     "execution_count": 51,
     "metadata": {},
     "output_type": "execute_result"
    }
   ],
   "source": [
    "params = {\n",
    "    'Cs': [1, 3, 5, 7, 10, 15, 20],\n",
    "}\n",
    "\n",
    "clf_lr = LogisticRegressionCV(cv=5)\n",
    "gs_lr = GridSearchCV(clf_lr, param_grid=params, scoring='f1_macro', cv=3, verbose=3)\n",
    "gs_lr.fit(X_train, y_train)"
   ]
  },
  {
   "cell_type": "code",
   "execution_count": 52,
   "metadata": {},
   "outputs": [
    {
     "data": {
      "text/plain": [
       "{'Cs': 15}"
      ]
     },
     "execution_count": 52,
     "metadata": {},
     "output_type": "execute_result"
    }
   ],
   "source": [
    "gs_lr.best_params_"
   ]
  },
  {
   "cell_type": "code",
   "execution_count": 53,
   "metadata": {},
   "outputs": [
    {
     "name": "stdout",
     "output_type": "stream",
     "text": [
      "[[14.9 67.9 17.2]\n",
      " [ 0.  94.9  5.1]\n",
      " [ 0.  34.1 65.9]]\n",
      "\n",
      "              precision    recall  f1-score   support\n",
      "\n",
      "           0       1.00      0.15      0.26       389\n",
      "           1       0.78      0.95      0.86      3767\n",
      "           2       0.84      0.66      0.74      2100\n",
      "\n",
      "    accuracy                           0.80      6256\n",
      "   macro avg       0.88      0.59      0.62      6256\n",
      "weighted avg       0.82      0.80      0.78      6256\n",
      "\n"
     ]
    }
   ],
   "source": [
    "util.report(y_train, gs_lr.predict(X_train))"
   ]
  },
  {
   "cell_type": "code",
   "execution_count": 54,
   "metadata": {},
   "outputs": [
    {
     "name": "stdout",
     "output_type": "stream",
     "text": [
      "[[ 2.4 83.5 14.1]\n",
      " [ 0.6 88.3 11. ]\n",
      " [ 0.  57.  43. ]]\n",
      "\n",
      "              precision    recall  f1-score   support\n",
      "\n",
      "           0       0.29      0.02      0.04        85\n",
      "           1       0.68      0.88      0.77       797\n",
      "           2       0.66      0.43      0.52       458\n",
      "\n",
      "    accuracy                           0.67      1340\n",
      "   macro avg       0.54      0.45      0.44      1340\n",
      "weighted avg       0.65      0.67      0.64      1340\n",
      "\n"
     ]
    }
   ],
   "source": [
    "util.report(y_train_val, gs_lr.predict(X_train_val))"
   ]
  },
  {
   "cell_type": "markdown",
   "metadata": {},
   "source": [
    "**Logistic has decreased slightly to 0.49 F1 score, but looking at the confusion matrix, it's getting most of the 0-class and 2-class items wrong.** That's a pretty big error, as those are the negative and positive reviews, respectively. There is a slightly mitigating factor that they're both being mostly misclassified as 1, no emotion, but still the majority of 0-class and 2-class reviews are wrongly labeled as no sentiment."
   ]
  },
  {
   "cell_type": "code",
   "execution_count": 55,
   "metadata": {
    "scrolled": true
   },
   "outputs": [
    {
     "name": "stdout",
     "output_type": "stream",
     "text": [
      "Train on 6256 samples, validate on 1340 samples\n",
      "Epoch 1/20\n",
      "6256/6256 [==============================] - 7s 1ms/step - loss: 1.0180 - get_f1: 0.0000e+00 - val_loss: 0.9529 - val_get_f1: 0.0000e+00\n",
      "Epoch 2/20\n",
      "6256/6256 [==============================] - 5s 871us/step - loss: 0.9158 - get_f1: 0.2488 - val_loss: 0.8915 - val_get_f1: 0.6004\n",
      "Epoch 3/20\n",
      "6256/6256 [==============================] - 6s 882us/step - loss: 0.8751 - get_f1: 0.5875 - val_loss: 0.8681 - val_get_f1: 0.6004\n",
      "Epoch 4/20\n",
      "6256/6256 [==============================] - 5s 871us/step - loss: 0.8600 - get_f1: 0.5993 - val_loss: 0.8587 - val_get_f1: 0.6004\n",
      "Epoch 5/20\n",
      "6256/6256 [==============================] - 5s 869us/step - loss: 0.8534 - get_f1: 0.6014 - val_loss: 0.8541 - val_get_f1: 0.6004\n",
      "Epoch 6/20\n",
      "6256/6256 [==============================] - 5s 855us/step - loss: 0.8512 - get_f1: 0.6025 - val_loss: 0.8518 - val_get_f1: 0.6004\n",
      "Epoch 7/20\n",
      "6256/6256 [==============================] - 5s 855us/step - loss: 0.8482 - get_f1: 0.6019 - val_loss: 0.8505 - val_get_f1: 0.6004\n",
      "Epoch 8/20\n",
      "6256/6256 [==============================] - 5s 873us/step - loss: 0.8469 - get_f1: 0.6023 - val_loss: 0.8498 - val_get_f1: 0.6004\n",
      "Epoch 9/20\n",
      "6256/6256 [==============================] - 5s 875us/step - loss: 0.8472 - get_f1: 0.6020 - val_loss: 0.8494 - val_get_f1: 0.6004\n",
      "Epoch 10/20\n",
      "6256/6256 [==============================] - 5s 866us/step - loss: 0.8457 - get_f1: 0.6016 - val_loss: 0.8491 - val_get_f1: 0.6004\n",
      "Epoch 11/20\n",
      "6256/6256 [==============================] - 5s 863us/step - loss: 0.8461 - get_f1: 0.6029 - val_loss: 0.8489 - val_get_f1: 0.6004\n",
      "Epoch 12/20\n",
      "6256/6256 [==============================] - 5s 855us/step - loss: 0.8459 - get_f1: 0.6019 - val_loss: 0.8487 - val_get_f1: 0.6004\n",
      "Epoch 13/20\n",
      "6256/6256 [==============================] - 5s 860us/step - loss: 0.8458 - get_f1: 0.6015 - val_loss: 0.8485 - val_get_f1: 0.6004\n",
      "Epoch 14/20\n",
      "6256/6256 [==============================] - 5s 874us/step - loss: 0.8457 - get_f1: 0.6019 - val_loss: 0.8483 - val_get_f1: 0.6004\n",
      "Epoch 15/20\n",
      "6256/6256 [==============================] - 5s 856us/step - loss: 0.8454 - get_f1: 0.6028 - val_loss: 0.8482 - val_get_f1: 0.6004\n",
      "Epoch 16/20\n",
      "6256/6256 [==============================] - 5s 859us/step - loss: 0.8454 - get_f1: 0.6015 - val_loss: 0.8481 - val_get_f1: 0.6004\n",
      "Epoch 17/20\n",
      "6256/6256 [==============================] - 6s 883us/step - loss: 0.8450 - get_f1: 0.6018 - val_loss: 0.8479 - val_get_f1: 0.6004\n",
      "Epoch 18/20\n",
      "6256/6256 [==============================] - 5s 871us/step - loss: 0.8466 - get_f1: 0.6020 - val_loss: 0.8478 - val_get_f1: 0.6004\n",
      "Epoch 19/20\n",
      "6256/6256 [==============================] - 7s 1ms/step - loss: 0.8457 - get_f1: 0.6020 - val_loss: 0.8477 - val_get_f1: 0.6004\n",
      "Epoch 20/20\n",
      "6256/6256 [==============================] - 7s 1ms/step - loss: 0.8422 - get_f1: 0.6021 - val_loss: 0.8475 - val_get_f1: 0.6004\n"
     ]
    }
   ],
   "source": [
    "clf_ann_2 = models.Sequential()\n",
    "clf_ann_2.add(layers.Dropout(.3, input_shape=(X_train.shape[1], )))\n",
    "clf_ann_2.add(layers.Dense(1000, activation='relu'))\n",
    "clf_ann_2.add(layers.Dropout(.3))\n",
    "clf_ann_2.add(layers.Dense(500, activation='relu'))\n",
    "clf_ann_2.add(layers.Dropout(.3))\n",
    "clf_ann_2.add(layers.Dense(100, activation='relu'))\n",
    "clf_ann_2.add(layers.Dropout(.3))\n",
    "clf_ann_2.add(layers.Dense(3, activation='softmax'))\n",
    "clf_ann_2.compile(optimizer='SGD', \n",
    "                loss='categorical_crossentropy',\n",
    "                metrics=[util.get_f1])\n",
    "history_2 = clf_ann_2.fit(X_train, y_train_ohe, epochs=20, batch_size=100, validation_data=(X_train_val, y_train_val_ohe))"
   ]
  },
  {
   "cell_type": "code",
   "execution_count": 56,
   "metadata": {},
   "outputs": [
    {
     "name": "stdout",
     "output_type": "stream",
     "text": [
      "[[  0. 100.   0.]\n",
      " [  0. 100.   0.]\n",
      " [  0. 100.   0.]]\n",
      "\n",
      "              precision    recall  f1-score   support\n",
      "\n",
      "           0       0.00      0.00      0.00       389\n",
      "           1       0.60      1.00      0.75      3767\n",
      "           2       0.00      0.00      0.00      2100\n",
      "\n",
      "    accuracy                           0.60      6256\n",
      "   macro avg       0.20      0.33      0.25      6256\n",
      "weighted avg       0.36      0.60      0.45      6256\n",
      "\n"
     ]
    },
    {
     "name": "stderr",
     "output_type": "stream",
     "text": [
      "/Users/stlanier/opt/anaconda3/envs/learn-env/lib/python3.6/site-packages/sklearn/metrics/_classification.py:1221: UndefinedMetricWarning: Precision and F-score are ill-defined and being set to 0.0 in labels with no predicted samples. Use `zero_division` parameter to control this behavior.\n",
      "  _warn_prf(average, modifier, msg_start, len(result))\n"
     ]
    }
   ],
   "source": [
    "yhat_train = clf_ann_2.predict(X_train)\n",
    "yhat_train = [np.argmax(y) for y in yhat_train]\n",
    "util.report(y_train, yhat_train)"
   ]
  },
  {
   "cell_type": "code",
   "execution_count": 57,
   "metadata": {
    "scrolled": true
   },
   "outputs": [
    {
     "name": "stdout",
     "output_type": "stream",
     "text": [
      "[[  0. 100.   0.]\n",
      " [  0. 100.   0.]\n",
      " [  0. 100.   0.]]\n",
      "\n",
      "              precision    recall  f1-score   support\n",
      "\n",
      "           0       0.00      0.00      0.00        85\n",
      "           1       0.59      1.00      0.75       797\n",
      "           2       0.00      0.00      0.00       458\n",
      "\n",
      "    accuracy                           0.59      1340\n",
      "   macro avg       0.20      0.33      0.25      1340\n",
      "weighted avg       0.35      0.59      0.44      1340\n",
      "\n"
     ]
    }
   ],
   "source": [
    "yhat_val = clf_ann_2.predict(X_train_val)\n",
    "yhat_val = [np.argmax(y) for y in yhat_val]\n",
    "util.report(y_train_val, yhat_val)"
   ]
  },
  {
   "cell_type": "markdown",
   "metadata": {},
   "source": [
    "Pretty awful. Look at the confusion matrix: the model is just guessing 1 for everything. F1 score is 0.25."
   ]
  },
  {
   "cell_type": "markdown",
   "metadata": {},
   "source": [
    "Same problem as before. It's at this point that the support column of the classification report above is catching my eye. There are 189 \"0\" labels, but 1612 \"1\" labels. The difference is nearly 1:10, so below I try implementing SMOTE to see if that improves things."
   ]
  },
  {
   "cell_type": "code",
   "execution_count": 58,
   "metadata": {
    "scrolled": true
   },
   "outputs": [
    {
     "name": "stderr",
     "output_type": "stream",
     "text": [
      "/Users/stlanier/opt/anaconda3/envs/learn-env/lib/python3.6/site-packages/sklearn/linear_model/_logistic.py:764: ConvergenceWarning: lbfgs failed to converge (status=1):\n",
      "STOP: TOTAL NO. of ITERATIONS REACHED LIMIT.\n",
      "\n",
      "Increase the number of iterations (max_iter) or scale the data as shown in:\n",
      "    https://scikit-learn.org/stable/modules/preprocessing.html\n",
      "Please also refer to the documentation for alternative solver options:\n",
      "    https://scikit-learn.org/stable/modules/linear_model.html#logistic-regression\n",
      "  extra_warning_msg=_LOGISTIC_SOLVER_CONVERGENCE_MSG)\n",
      "/Users/stlanier/opt/anaconda3/envs/learn-env/lib/python3.6/site-packages/sklearn/linear_model/_logistic.py:764: ConvergenceWarning: lbfgs failed to converge (status=1):\n",
      "STOP: TOTAL NO. of ITERATIONS REACHED LIMIT.\n",
      "\n",
      "Increase the number of iterations (max_iter) or scale the data as shown in:\n",
      "    https://scikit-learn.org/stable/modules/preprocessing.html\n",
      "Please also refer to the documentation for alternative solver options:\n",
      "    https://scikit-learn.org/stable/modules/linear_model.html#logistic-regression\n",
      "  extra_warning_msg=_LOGISTIC_SOLVER_CONVERGENCE_MSG)\n",
      "/Users/stlanier/opt/anaconda3/envs/learn-env/lib/python3.6/site-packages/sklearn/linear_model/_logistic.py:764: ConvergenceWarning: lbfgs failed to converge (status=1):\n",
      "STOP: TOTAL NO. of ITERATIONS REACHED LIMIT.\n",
      "\n",
      "Increase the number of iterations (max_iter) or scale the data as shown in:\n",
      "    https://scikit-learn.org/stable/modules/preprocessing.html\n",
      "Please also refer to the documentation for alternative solver options:\n",
      "    https://scikit-learn.org/stable/modules/linear_model.html#logistic-regression\n",
      "  extra_warning_msg=_LOGISTIC_SOLVER_CONVERGENCE_MSG)\n",
      "/Users/stlanier/opt/anaconda3/envs/learn-env/lib/python3.6/site-packages/sklearn/linear_model/_logistic.py:764: ConvergenceWarning: lbfgs failed to converge (status=1):\n",
      "STOP: TOTAL NO. of ITERATIONS REACHED LIMIT.\n",
      "\n",
      "Increase the number of iterations (max_iter) or scale the data as shown in:\n",
      "    https://scikit-learn.org/stable/modules/preprocessing.html\n",
      "Please also refer to the documentation for alternative solver options:\n",
      "    https://scikit-learn.org/stable/modules/linear_model.html#logistic-regression\n",
      "  extra_warning_msg=_LOGISTIC_SOLVER_CONVERGENCE_MSG)\n",
      "/Users/stlanier/opt/anaconda3/envs/learn-env/lib/python3.6/site-packages/sklearn/linear_model/_logistic.py:764: ConvergenceWarning: lbfgs failed to converge (status=1):\n",
      "STOP: TOTAL NO. of ITERATIONS REACHED LIMIT.\n",
      "\n",
      "Increase the number of iterations (max_iter) or scale the data as shown in:\n",
      "    https://scikit-learn.org/stable/modules/preprocessing.html\n",
      "Please also refer to the documentation for alternative solver options:\n",
      "    https://scikit-learn.org/stable/modules/linear_model.html#logistic-regression\n",
      "  extra_warning_msg=_LOGISTIC_SOLVER_CONVERGENCE_MSG)\n",
      "/Users/stlanier/opt/anaconda3/envs/learn-env/lib/python3.6/site-packages/sklearn/linear_model/_logistic.py:764: ConvergenceWarning: lbfgs failed to converge (status=1):\n",
      "STOP: TOTAL NO. of ITERATIONS REACHED LIMIT.\n",
      "\n",
      "Increase the number of iterations (max_iter) or scale the data as shown in:\n",
      "    https://scikit-learn.org/stable/modules/preprocessing.html\n",
      "Please also refer to the documentation for alternative solver options:\n",
      "    https://scikit-learn.org/stable/modules/linear_model.html#logistic-regression\n",
      "  extra_warning_msg=_LOGISTIC_SOLVER_CONVERGENCE_MSG)\n"
     ]
    },
    {
     "name": "stdout",
     "output_type": "stream",
     "text": [
      "LogisticRegressionCV(cv=5)\n",
      "--Train--\n",
      "[[99.9  0.   0.1]\n",
      " [ 0.8 93.4  5.8]\n",
      " [ 0.1  4.9 95. ]]\n",
      "\n",
      "              precision    recall  f1-score   support\n",
      "\n",
      "           0       0.99      1.00      1.00      3767\n",
      "           1       0.95      0.93      0.94      3767\n",
      "           2       0.94      0.95      0.95      3767\n",
      "\n",
      "    accuracy                           0.96     11301\n",
      "   macro avg       0.96      0.96      0.96     11301\n",
      "weighted avg       0.96      0.96      0.96     11301\n",
      "\n",
      "--Validation--\n",
      "[[23.5 60.  16.5]\n",
      " [ 3.1 74.2 22.7]\n",
      " [ 4.8 40.4 54.8]]\n",
      "\n",
      "              precision    recall  f1-score   support\n",
      "\n",
      "           0       0.30      0.24      0.26        85\n",
      "           1       0.71      0.74      0.73       797\n",
      "           2       0.56      0.55      0.56       458\n",
      "\n",
      "    accuracy                           0.64      1340\n",
      "   macro avg       0.53      0.51      0.52      1340\n",
      "weighted avg       0.64      0.64      0.64      1340\n",
      "\n",
      "RandomForestClassifier()\n",
      "--Train--\n",
      "[[100.    0.    0. ]\n",
      " [  0.   99.4   0.6]\n",
      " [  0.    0.6  99.4]]\n",
      "\n",
      "              precision    recall  f1-score   support\n",
      "\n",
      "           0       1.00      1.00      1.00      3767\n",
      "           1       0.99      0.99      0.99      3767\n",
      "           2       0.99      0.99      0.99      3767\n",
      "\n",
      "    accuracy                           1.00     11301\n",
      "   macro avg       1.00      1.00      1.00     11301\n",
      "weighted avg       1.00      1.00      1.00     11301\n",
      "\n",
      "--Validation--\n",
      "[[16.5 65.9 17.6]\n",
      " [ 0.9 77.7 21.5]\n",
      " [ 0.2 57.9 41.9]]\n",
      "\n",
      "              precision    recall  f1-score   support\n",
      "\n",
      "           0       0.64      0.16      0.26        85\n",
      "           1       0.66      0.78      0.71       797\n",
      "           2       0.51      0.42      0.46       458\n",
      "\n",
      "    accuracy                           0.62      1340\n",
      "   macro avg       0.60      0.45      0.48      1340\n",
      "weighted avg       0.61      0.62      0.60      1340\n",
      "\n",
      "SVC()\n",
      "--Train--\n",
      "[[99.7  0.2  0.1]\n",
      " [ 1.  95.9  3.1]\n",
      " [ 0.2  6.7 93.2]]\n",
      "\n",
      "              precision    recall  f1-score   support\n",
      "\n",
      "           0       0.99      1.00      0.99      3767\n",
      "           1       0.93      0.96      0.95      3767\n",
      "           2       0.97      0.93      0.95      3767\n",
      "\n",
      "    accuracy                           0.96     11301\n",
      "   macro avg       0.96      0.96      0.96     11301\n",
      "weighted avg       0.96      0.96      0.96     11301\n",
      "\n",
      "--Validation--\n",
      "[[27.1 28.2 44.7]\n",
      " [ 2.8 60.6 36.6]\n",
      " [ 1.3 23.1 75.5]]\n",
      "\n",
      "              precision    recall  f1-score   support\n",
      "\n",
      "           0       0.45      0.27      0.34        85\n",
      "           1       0.79      0.61      0.69       797\n",
      "           2       0.51      0.76      0.61       458\n",
      "\n",
      "    accuracy                           0.64      1340\n",
      "   macro avg       0.58      0.54      0.54      1340\n",
      "weighted avg       0.67      0.64      0.64      1340\n",
      "\n"
     ]
    }
   ],
   "source": [
    "for clf in clfs:\n",
    "    clf.fit(smote_X_train, smote_y_train)\n",
    "    print(f'{clf}')\n",
    "    print('--Train--')\n",
    "    util.report(smote_y_train, clf.predict(smote_X_train))\n",
    "    print('--Validation--')\n",
    "    util.report(y_train_val, clf.predict(X_train_val))"
   ]
  },
  {
   "cell_type": "markdown",
   "metadata": {},
   "source": [
    "Big improvement. The F1 score is up to 0.31 from 0.25. Still not a great score, though. Next I try whittling down my model a bit."
   ]
  },
  {
   "cell_type": "code",
   "execution_count": 60,
   "metadata": {},
   "outputs": [],
   "source": [
    "smote_y_train_ohe = keras.utils.to_categorical(smote_y_train, 3)"
   ]
  },
  {
   "cell_type": "code",
   "execution_count": 63,
   "metadata": {
    "scrolled": true
   },
   "outputs": [
    {
     "name": "stdout",
     "output_type": "stream",
     "text": [
      "Train on 11301 samples, validate on 1340 samples\n",
      "Epoch 1/50\n",
      "11301/11301 [==============================] - 15s 1ms/step - loss: 3.0602 - get_f1: 0.2954 - val_loss: 1.3082 - val_get_f1: 0.0607\n",
      "Epoch 2/50\n",
      "11301/11301 [==============================] - 14s 1ms/step - loss: 2.8056 - get_f1: 0.3391 - val_loss: 1.3037 - val_get_f1: 0.0607\n",
      "Epoch 3/50\n",
      "11301/11301 [==============================] - 13s 1ms/step - loss: 2.7903 - get_f1: 0.3304 - val_loss: 1.1541 - val_get_f1: 0.0607\n",
      "Epoch 4/50\n",
      "11301/11301 [==============================] - 11s 951us/step - loss: 2.7627 - get_f1: 0.3304 - val_loss: 1.1650 - val_get_f1: 0.0607\n",
      "Epoch 5/50\n",
      "11301/11301 [==============================] - 10s 917us/step - loss: 2.7100 - get_f1: 0.3304 - val_loss: 1.1477 - val_get_f1: 0.0607\n",
      "Epoch 6/50\n",
      "11301/11301 [==============================] - 11s 939us/step - loss: 2.6388 - get_f1: 0.3392 - val_loss: 1.4789 - val_get_f1: 0.0607\n",
      "Epoch 7/50\n",
      "11301/11301 [==============================] - 11s 951us/step - loss: 2.5287 - get_f1: 0.3410 - val_loss: 1.4406 - val_get_f1: 0.0607\n",
      "Epoch 8/50\n",
      "11301/11301 [==============================] - 12s 1ms/step - loss: 2.3664 - get_f1: 0.3415 - val_loss: 0.7344 - val_get_f1: 0.0355\n",
      "Epoch 9/50\n",
      "11301/11301 [==============================] - 12s 1ms/step - loss: 2.1806 - get_f1: 0.3593 - val_loss: 0.7130 - val_get_f1: 0.0871\n",
      "Epoch 10/50\n",
      "11301/11301 [==============================] - 13s 1ms/step - loss: 1.9800 - get_f1: 0.3994 - val_loss: 0.6939 - val_get_f1: 0.2129\n",
      "Epoch 11/50\n",
      "11301/11301 [==============================] - 10s 875us/step - loss: 1.7949 - get_f1: 0.4451 - val_loss: 0.7336 - val_get_f1: 0.2433\n",
      "Epoch 12/50\n",
      "11301/11301 [==============================] - 10s 869us/step - loss: 1.6427 - get_f1: 0.4935 - val_loss: 0.7630 - val_get_f1: 0.2280\n",
      "Epoch 13/50\n",
      "11301/11301 [==============================] - 10s 912us/step - loss: 1.5148 - get_f1: 0.5254 - val_loss: 0.6512 - val_get_f1: 0.3287\n",
      "Epoch 14/50\n",
      "11301/11301 [==============================] - 10s 860us/step - loss: 1.4191 - get_f1: 0.5522 - val_loss: 0.6694 - val_get_f1: 0.3191\n",
      "Epoch 15/50\n",
      "11301/11301 [==============================] - 10s 878us/step - loss: 1.3021 - get_f1: 0.5803 - val_loss: 0.8262 - val_get_f1: 0.2358\n",
      "Epoch 16/50\n",
      "11301/11301 [==============================] - 10s 860us/step - loss: 1.2680 - get_f1: 0.5824 - val_loss: 0.7196 - val_get_f1: 0.3389\n",
      "Epoch 17/50\n",
      "11301/11301 [==============================] - 10s 851us/step - loss: 1.3376 - get_f1: 0.5934 - val_loss: 0.6507 - val_get_f1: 0.3386\n",
      "Epoch 18/50\n",
      "11301/11301 [==============================] - 10s 872us/step - loss: 1.1532 - get_f1: 0.6064 - val_loss: 0.7337 - val_get_f1: 0.3389\n",
      "Epoch 19/50\n",
      "11301/11301 [==============================] - 10s 864us/step - loss: 1.2394 - get_f1: 0.6092 - val_loss: 0.8129 - val_get_f1: 0.2656\n",
      "Epoch 20/50\n",
      "11301/11301 [==============================] - 10s 862us/step - loss: 1.0665 - get_f1: 0.6156 - val_loss: 0.7193 - val_get_f1: 0.3091\n",
      "Epoch 21/50\n",
      "11301/11301 [==============================] - 11s 929us/step - loss: 1.0445 - get_f1: 0.6297 - val_loss: 0.9002 - val_get_f1: 0.2399\n",
      "Epoch 22/50\n",
      "11301/11301 [==============================] - 10s 870us/step - loss: 1.0001 - get_f1: 0.6364 - val_loss: 0.7139 - val_get_f1: 0.3194\n",
      "Epoch 23/50\n",
      "11301/11301 [==============================] - 10s 859us/step - loss: 0.9766 - get_f1: 0.6393 - val_loss: 0.7023 - val_get_f1: 0.3265\n",
      "Epoch 24/50\n",
      "11301/11301 [==============================] - 13s 1ms/step - loss: 0.9502 - get_f1: 0.6427 - val_loss: 0.6999 - val_get_f1: 0.3248\n",
      "Epoch 25/50\n",
      "11301/11301 [==============================] - 10s 865us/step - loss: 0.9189 - get_f1: 0.6457 - val_loss: 0.7067 - val_get_f1: 0.3211\n",
      "Epoch 26/50\n",
      "11301/11301 [==============================] - 10s 856us/step - loss: 0.9425 - get_f1: 0.6427 - val_loss: 0.7412 - val_get_f1: 0.3069\n",
      "Epoch 27/50\n",
      "11301/11301 [==============================] - 10s 881us/step - loss: 0.9098 - get_f1: 0.6484 - val_loss: 0.6979 - val_get_f1: 0.3224\n",
      "Epoch 28/50\n",
      "11301/11301 [==============================] - 10s 861us/step - loss: 0.8838 - get_f1: 0.6517 - val_loss: 3.4328 - val_get_f1: 0.0619\n",
      "Epoch 29/50\n",
      "11301/11301 [==============================] - 10s 869us/step - loss: 0.9254 - get_f1: 0.6466 - val_loss: 0.6752 - val_get_f1: 0.3351\n",
      "Epoch 30/50\n",
      "11301/11301 [==============================] - 10s 865us/step - loss: 0.8669 - get_f1: 0.6538 - val_loss: 0.7339 - val_get_f1: 0.3130\n",
      "Epoch 31/50\n",
      "11301/11301 [==============================] - 10s 866us/step - loss: 0.8469 - get_f1: 0.6473 - val_loss: 0.7079 - val_get_f1: 0.3095\n",
      "Epoch 32/50\n",
      "11301/11301 [==============================] - 10s 864us/step - loss: 0.8443 - get_f1: 0.6549 - val_loss: 0.6858 - val_get_f1: 0.3296\n",
      "Epoch 33/50\n",
      "11301/11301 [==============================] - 10s 863us/step - loss: 0.8374 - get_f1: 0.6567 - val_loss: 0.6820 - val_get_f1: 0.3326\n",
      "Epoch 34/50\n",
      "11301/11301 [==============================] - 10s 892us/step - loss: 0.8451 - get_f1: 0.6481 - val_loss: 0.7759 - val_get_f1: 0.3389\n",
      "Epoch 35/50\n",
      "11301/11301 [==============================] - 10s 855us/step - loss: 0.9421 - get_f1: 0.6428 - val_loss: 1.0101 - val_get_f1: 0.3389\n",
      "Epoch 36/50\n",
      "11301/11301 [==============================] - 14s 1ms/step - loss: 1.3707 - get_f1: 0.6147 - val_loss: 0.7658 - val_get_f1: 0.3115\n",
      "Epoch 37/50\n",
      "11301/11301 [==============================] - 14s 1ms/step - loss: 0.8343 - get_f1: 0.6509 - val_loss: 0.7316 - val_get_f1: 0.3099\n",
      "Epoch 38/50\n",
      "11301/11301 [==============================] - 17s 1ms/step - loss: 0.8200 - get_f1: 0.6595 - val_loss: 0.8917 - val_get_f1: 0.2700\n",
      "Epoch 39/50\n",
      "11301/11301 [==============================] - 10s 895us/step - loss: 0.8137 - get_f1: 0.6609 - val_loss: 0.7060 - val_get_f1: 0.3245\n",
      "Epoch 40/50\n",
      "11301/11301 [==============================] - 12s 1ms/step - loss: 0.8189 - get_f1: 0.6505 - val_loss: 0.8736 - val_get_f1: 0.2678\n",
      "Epoch 41/50\n",
      "11301/11301 [==============================] - 10s 902us/step - loss: 0.7989 - get_f1: 0.6617 - val_loss: 0.6837 - val_get_f1: 0.3348\n",
      "Epoch 42/50\n",
      "11301/11301 [==============================] - 12s 1ms/step - loss: 0.7946 - get_f1: 0.6627 - val_loss: 0.7009 - val_get_f1: 0.3168\n",
      "Epoch 43/50\n",
      "11301/11301 [==============================] - 10s 897us/step - loss: 0.7969 - get_f1: 0.6620 - val_loss: 0.6869 - val_get_f1: 0.3349\n",
      "Epoch 44/50\n",
      "11301/11301 [==============================] - 11s 986us/step - loss: 0.7734 - get_f1: 0.6639 - val_loss: 0.6816 - val_get_f1: 0.3338\n",
      "Epoch 45/50\n",
      "11301/11301 [==============================] - 10s 880us/step - loss: 0.7755 - get_f1: 0.6555 - val_loss: 1.1156 - val_get_f1: 0.3389\n",
      "Epoch 46/50\n",
      "11301/11301 [==============================] - 10s 886us/step - loss: 1.5163 - get_f1: 0.6078 - val_loss: 0.7162 - val_get_f1: 0.3130\n",
      "Epoch 47/50\n",
      "11301/11301 [==============================] - 10s 873us/step - loss: 0.8327 - get_f1: 0.6590 - val_loss: 0.7255 - val_get_f1: 0.3215\n",
      "Epoch 48/50\n",
      "11301/11301 [==============================] - 10s 893us/step - loss: 0.7906 - get_f1: 0.6540 - val_loss: 0.6906 - val_get_f1: 0.3214\n",
      "Epoch 49/50\n",
      "11301/11301 [==============================] - 10s 888us/step - loss: 0.7866 - get_f1: 0.6641 - val_loss: 0.7538 - val_get_f1: 0.3081\n",
      "Epoch 50/50\n",
      "11301/11301 [==============================] - 10s 904us/step - loss: 0.7814 - get_f1: 0.6551 - val_loss: 0.7005 - val_get_f1: 0.3161\n"
     ]
    }
   ],
   "source": [
    "clf_ann_3 = models.Sequential()\n",
    "clf_ann_3.add(layers.Dropout(.3, input_shape=(X_train.shape[1], )))\n",
    "clf_ann_3.add(layers.Dense(1000, activation='relu'))\n",
    "clf_ann_3.add(layers.Dropout(.3))\n",
    "clf_ann_3.add(layers.Dense(500, activation='relu'))\n",
    "clf_ann_3.add(layers.Dropout(.3))\n",
    "clf_ann_3.add(layers.Dense(100, activation='relu'))\n",
    "clf_ann_3.add(layers.Dropout(.3))\n",
    "clf_ann_3.add(layers.Dense(3, activation='softmax'))\n",
    "clf_ann_3.compile(optimizer='SGD', \n",
    "                loss='binary_crossentropy',\n",
    "                metrics=[util.get_f1])\n",
    "history_3 = clf_ann_3.fit(smote_X_train, smote_y_train_ohe, \n",
    "                          epochs=50, \n",
    "                          batch_size=100, \n",
    "                          class_weight=class_weight,\n",
    "                          validation_data=(X_train_val, y_train_val_ohe))"
   ]
  },
  {
   "cell_type": "code",
   "execution_count": 64,
   "metadata": {},
   "outputs": [
    {
     "name": "stdout",
     "output_type": "stream",
     "text": [
      "[[100.    0.    0. ]\n",
      " [  5.7   0.3  94. ]\n",
      " [  1.    0.   99. ]]\n",
      "\n",
      "              precision    recall  f1-score   support\n",
      "\n",
      "           0       0.62      1.00      0.77       389\n",
      "           1       1.00      0.00      0.01      3767\n",
      "           2       0.37      0.99      0.54      2100\n",
      "\n",
      "    accuracy                           0.40      6256\n",
      "   macro avg       0.66      0.66      0.44      6256\n",
      "weighted avg       0.77      0.40      0.23      6256\n",
      "\n"
     ]
    }
   ],
   "source": [
    "yhat_train = clf_ann_3.predict(X_train)\n",
    "yhat_train = [np.argmax(y) for y in yhat_train]\n",
    "util.report(y_train, yhat_train)"
   ]
  },
  {
   "cell_type": "code",
   "execution_count": 65,
   "metadata": {
    "scrolled": true
   },
   "outputs": [
    {
     "name": "stdout",
     "output_type": "stream",
     "text": [
      "[[51.8  0.  48.2]\n",
      " [14.4  0.  85.6]\n",
      " [14.6  0.  85.4]]\n",
      "\n",
      "              precision    recall  f1-score   support\n",
      "\n",
      "           0       0.19      0.52      0.28        85\n",
      "           1       0.00      0.00      0.00       797\n",
      "           2       0.35      0.85      0.50       458\n",
      "\n",
      "    accuracy                           0.32      1340\n",
      "   macro avg       0.18      0.46      0.26      1340\n",
      "weighted avg       0.13      0.32      0.19      1340\n",
      "\n"
     ]
    },
    {
     "name": "stderr",
     "output_type": "stream",
     "text": [
      "/Users/stlanier/opt/anaconda3/envs/learn-env/lib/python3.6/site-packages/sklearn/metrics/_classification.py:1221: UndefinedMetricWarning: Precision and F-score are ill-defined and being set to 0.0 in labels with no predicted samples. Use `zero_division` parameter to control this behavior.\n",
      "  _warn_prf(average, modifier, msg_start, len(result))\n"
     ]
    }
   ],
   "source": [
    "yhat_val = clf_ann_3.predict(X_train_val)\n",
    "yhat_val = [np.argmax(y) for y in yhat_val]\n",
    "util.report(y_train_val, yhat_val)"
   ]
  },
  {
   "cell_type": "markdown",
   "metadata": {},
   "source": [
    "Adding some dropout layers to my ANN improved the f1 significantly, now at 0.53 on test data. Importantly, looking at the confusion matrix shows that for each class, it correctly predicts that class more than any other: 60% of 0's are accurately predicted, 49% of 1's are accurately predicted, and 72% of 2's are accurately predicted.\n",
    "\n",
    "The biggest mistake the ANN is making now is classifying 42% of 1's as 2's. In other words, 42% of reviews with no emotion are being categorized as positive."
   ]
  },
  {
   "cell_type": "code",
   "execution_count": 66,
   "metadata": {
    "scrolled": true
   },
   "outputs": [
    {
     "name": "stdout",
     "output_type": "stream",
     "text": [
      "Fitting 3 folds for each of 16 candidates, totalling 48 fits\n",
      "[CV] max_depth=None, min_samples_split=5, n_estimators=80 ............\n"
     ]
    },
    {
     "name": "stderr",
     "output_type": "stream",
     "text": [
      "[Parallel(n_jobs=1)]: Using backend SequentialBackend with 1 concurrent workers.\n"
     ]
    },
    {
     "name": "stdout",
     "output_type": "stream",
     "text": [
      "[CV]  max_depth=None, min_samples_split=5, n_estimators=80, score=0.796, total=  34.5s\n",
      "[CV] max_depth=None, min_samples_split=5, n_estimators=80 ............\n"
     ]
    },
    {
     "name": "stderr",
     "output_type": "stream",
     "text": [
      "[Parallel(n_jobs=1)]: Done   1 out of   1 | elapsed:   34.6s remaining:    0.0s\n"
     ]
    },
    {
     "name": "stdout",
     "output_type": "stream",
     "text": [
      "[CV]  max_depth=None, min_samples_split=5, n_estimators=80, score=0.807, total=  34.2s\n",
      "[CV] max_depth=None, min_samples_split=5, n_estimators=80 ............\n"
     ]
    },
    {
     "name": "stderr",
     "output_type": "stream",
     "text": [
      "[Parallel(n_jobs=1)]: Done   2 out of   2 | elapsed:  1.1min remaining:    0.0s\n"
     ]
    },
    {
     "name": "stdout",
     "output_type": "stream",
     "text": [
      "[CV]  max_depth=None, min_samples_split=5, n_estimators=80, score=0.850, total=  37.6s\n",
      "[CV] max_depth=None, min_samples_split=5, n_estimators=90 ............\n",
      "[CV]  max_depth=None, min_samples_split=5, n_estimators=90, score=0.794, total=  45.8s\n",
      "[CV] max_depth=None, min_samples_split=5, n_estimators=90 ............\n",
      "[CV]  max_depth=None, min_samples_split=5, n_estimators=90, score=0.809, total=  44.2s\n",
      "[CV] max_depth=None, min_samples_split=5, n_estimators=90 ............\n",
      "[CV]  max_depth=None, min_samples_split=5, n_estimators=90, score=0.850, total=  40.3s\n",
      "[CV] max_depth=None, min_samples_split=5, n_estimators=100 ...........\n",
      "[CV]  max_depth=None, min_samples_split=5, n_estimators=100, score=0.796, total=  43.3s\n",
      "[CV] max_depth=None, min_samples_split=5, n_estimators=100 ...........\n",
      "[CV]  max_depth=None, min_samples_split=5, n_estimators=100, score=0.816, total=  42.2s\n",
      "[CV] max_depth=None, min_samples_split=5, n_estimators=100 ...........\n",
      "[CV]  max_depth=None, min_samples_split=5, n_estimators=100, score=0.850, total=  43.5s\n",
      "[CV] max_depth=None, min_samples_split=5, n_estimators=110 ...........\n",
      "[CV]  max_depth=None, min_samples_split=5, n_estimators=110, score=0.803, total=  45.6s\n",
      "[CV] max_depth=None, min_samples_split=5, n_estimators=110 ...........\n",
      "[CV]  max_depth=None, min_samples_split=5, n_estimators=110, score=0.821, total=  45.2s\n",
      "[CV] max_depth=None, min_samples_split=5, n_estimators=110 ...........\n",
      "[CV]  max_depth=None, min_samples_split=5, n_estimators=110, score=0.856, total=  46.5s\n",
      "[CV] max_depth=10, min_samples_split=5, n_estimators=80 ..............\n",
      "[CV]  max_depth=10, min_samples_split=5, n_estimators=80, score=0.769, total=  24.6s\n",
      "[CV] max_depth=10, min_samples_split=5, n_estimators=80 ..............\n",
      "[CV]  max_depth=10, min_samples_split=5, n_estimators=80, score=0.788, total=  29.4s\n",
      "[CV] max_depth=10, min_samples_split=5, n_estimators=80 ..............\n",
      "[CV]  max_depth=10, min_samples_split=5, n_estimators=80, score=0.829, total=  29.6s\n",
      "[CV] max_depth=10, min_samples_split=5, n_estimators=90 ..............\n",
      "[CV]  max_depth=10, min_samples_split=5, n_estimators=90, score=0.769, total=  27.6s\n",
      "[CV] max_depth=10, min_samples_split=5, n_estimators=90 ..............\n",
      "[CV]  max_depth=10, min_samples_split=5, n_estimators=90, score=0.796, total=  27.3s\n",
      "[CV] max_depth=10, min_samples_split=5, n_estimators=90 ..............\n",
      "[CV]  max_depth=10, min_samples_split=5, n_estimators=90, score=0.833, total=  28.3s\n",
      "[CV] max_depth=10, min_samples_split=5, n_estimators=100 .............\n",
      "[CV]  max_depth=10, min_samples_split=5, n_estimators=100, score=0.776, total=  32.0s\n",
      "[CV] max_depth=10, min_samples_split=5, n_estimators=100 .............\n",
      "[CV]  max_depth=10, min_samples_split=5, n_estimators=100, score=0.792, total=  30.9s\n",
      "[CV] max_depth=10, min_samples_split=5, n_estimators=100 .............\n",
      "[CV]  max_depth=10, min_samples_split=5, n_estimators=100, score=0.834, total=  32.3s\n",
      "[CV] max_depth=10, min_samples_split=5, n_estimators=110 .............\n",
      "[CV]  max_depth=10, min_samples_split=5, n_estimators=110, score=0.781, total=  33.5s\n",
      "[CV] max_depth=10, min_samples_split=5, n_estimators=110 .............\n",
      "[CV]  max_depth=10, min_samples_split=5, n_estimators=110, score=0.803, total=  35.5s\n",
      "[CV] max_depth=10, min_samples_split=5, n_estimators=110 .............\n",
      "[CV]  max_depth=10, min_samples_split=5, n_estimators=110, score=0.835, total=  32.6s\n",
      "[CV] max_depth=20, min_samples_split=5, n_estimators=80 ..............\n",
      "[CV]  max_depth=20, min_samples_split=5, n_estimators=80, score=0.788, total=  38.9s\n",
      "[CV] max_depth=20, min_samples_split=5, n_estimators=80 ..............\n",
      "[CV]  max_depth=20, min_samples_split=5, n_estimators=80, score=0.811, total=  42.8s\n",
      "[CV] max_depth=20, min_samples_split=5, n_estimators=80 ..............\n",
      "[CV]  max_depth=20, min_samples_split=5, n_estimators=80, score=0.851, total=  40.7s\n",
      "[CV] max_depth=20, min_samples_split=5, n_estimators=90 ..............\n",
      "[CV]  max_depth=20, min_samples_split=5, n_estimators=90, score=0.790, total=  58.1s\n",
      "[CV] max_depth=20, min_samples_split=5, n_estimators=90 ..............\n",
      "[CV]  max_depth=20, min_samples_split=5, n_estimators=90, score=0.814, total=  43.0s\n",
      "[CV] max_depth=20, min_samples_split=5, n_estimators=90 ..............\n",
      "[CV]  max_depth=20, min_samples_split=5, n_estimators=90, score=0.852, total=  55.3s\n",
      "[CV] max_depth=20, min_samples_split=5, n_estimators=100 .............\n",
      "[CV]  max_depth=20, min_samples_split=5, n_estimators=100, score=0.795, total=  46.7s\n",
      "[CV] max_depth=20, min_samples_split=5, n_estimators=100 .............\n",
      "[CV]  max_depth=20, min_samples_split=5, n_estimators=100, score=0.805, total=  54.4s\n",
      "[CV] max_depth=20, min_samples_split=5, n_estimators=100 .............\n",
      "[CV]  max_depth=20, min_samples_split=5, n_estimators=100, score=0.856, total= 1.2min\n",
      "[CV] max_depth=20, min_samples_split=5, n_estimators=110 .............\n",
      "[CV]  max_depth=20, min_samples_split=5, n_estimators=110, score=0.794, total= 1.0min\n",
      "[CV] max_depth=20, min_samples_split=5, n_estimators=110 .............\n",
      "[CV]  max_depth=20, min_samples_split=5, n_estimators=110, score=0.818, total= 1.0min\n",
      "[CV] max_depth=20, min_samples_split=5, n_estimators=110 .............\n",
      "[CV]  max_depth=20, min_samples_split=5, n_estimators=110, score=0.853, total= 1.0min\n",
      "[CV] max_depth=50, min_samples_split=5, n_estimators=80 ..............\n",
      "[CV]  max_depth=50, min_samples_split=5, n_estimators=80, score=0.794, total=  46.6s\n",
      "[CV] max_depth=50, min_samples_split=5, n_estimators=80 ..............\n",
      "[CV]  max_depth=50, min_samples_split=5, n_estimators=80, score=0.803, total=  38.4s\n",
      "[CV] max_depth=50, min_samples_split=5, n_estimators=80 ..............\n",
      "[CV]  max_depth=50, min_samples_split=5, n_estimators=80, score=0.857, total=  43.1s\n",
      "[CV] max_depth=50, min_samples_split=5, n_estimators=90 ..............\n",
      "[CV]  max_depth=50, min_samples_split=5, n_estimators=90, score=0.799, total=  43.2s\n",
      "[CV] max_depth=50, min_samples_split=5, n_estimators=90 ..............\n",
      "[CV]  max_depth=50, min_samples_split=5, n_estimators=90, score=0.809, total=  53.1s\n",
      "[CV] max_depth=50, min_samples_split=5, n_estimators=90 ..............\n",
      "[CV]  max_depth=50, min_samples_split=5, n_estimators=90, score=0.849, total= 2.5min\n",
      "[CV] max_depth=50, min_samples_split=5, n_estimators=100 .............\n",
      "[CV]  max_depth=50, min_samples_split=5, n_estimators=100, score=0.795, total= 2.3min\n",
      "[CV] max_depth=50, min_samples_split=5, n_estimators=100 .............\n",
      "[CV]  max_depth=50, min_samples_split=5, n_estimators=100, score=0.820, total= 2.6min\n",
      "[CV] max_depth=50, min_samples_split=5, n_estimators=100 .............\n",
      "[CV]  max_depth=50, min_samples_split=5, n_estimators=100, score=0.847, total= 1.2min\n",
      "[CV] max_depth=50, min_samples_split=5, n_estimators=110 .............\n",
      "[CV]  max_depth=50, min_samples_split=5, n_estimators=110, score=0.795, total=  55.4s\n",
      "[CV] max_depth=50, min_samples_split=5, n_estimators=110 .............\n",
      "[CV]  max_depth=50, min_samples_split=5, n_estimators=110, score=0.822, total=  49.4s\n",
      "[CV] max_depth=50, min_samples_split=5, n_estimators=110 .............\n",
      "[CV]  max_depth=50, min_samples_split=5, n_estimators=110, score=0.862, total=  54.5s\n"
     ]
    },
    {
     "name": "stderr",
     "output_type": "stream",
     "text": [
      "[Parallel(n_jobs=1)]: Done  48 out of  48 | elapsed: 40.0min finished\n"
     ]
    },
    {
     "data": {
      "text/plain": [
       "GridSearchCV(cv=3, estimator=RandomForestClassifier(),\n",
       "             param_grid={'max_depth': [None, 10, 20, 50],\n",
       "                         'min_samples_split': [5],\n",
       "                         'n_estimators': [80, 90, 100, 110]},\n",
       "             scoring='f1_macro', verbose=3)"
      ]
     },
     "execution_count": 66,
     "metadata": {},
     "output_type": "execute_result"
    }
   ],
   "source": [
    "params = {\n",
    "    'n_estimators': [80, 90, 100, 110],\n",
    "    'max_depth': [None, 10, 20, 50],\n",
    "    'min_samples_split': [5]\n",
    "}\n",
    "\n",
    "clf_rf = RandomForestClassifier()\n",
    "gs_rf = GridSearchCV(clf_rf, param_grid=params, scoring='f1_macro', cv=3, verbose=3)\n",
    "gs_rf.fit(smote_X_train, smote_y_train)"
   ]
  },
  {
   "cell_type": "code",
   "execution_count": 67,
   "metadata": {},
   "outputs": [
    {
     "data": {
      "text/plain": [
       "{'max_depth': 50, 'min_samples_split': 5, 'n_estimators': 110}"
      ]
     },
     "execution_count": 67,
     "metadata": {},
     "output_type": "execute_result"
    }
   ],
   "source": [
    "gs_rf.best_params_"
   ]
  },
  {
   "cell_type": "code",
   "execution_count": 69,
   "metadata": {},
   "outputs": [
    {
     "name": "stdout",
     "output_type": "stream",
     "text": [
      "[[100.    0.    0. ]\n",
      " [  0.   99.5   0.4]\n",
      " [  0.    0.7  99.3]]\n",
      "\n",
      "              precision    recall  f1-score   support\n",
      "\n",
      "           0       1.00      1.00      1.00      3767\n",
      "           1       0.99      1.00      0.99      3767\n",
      "           2       1.00      0.99      0.99      3767\n",
      "\n",
      "    accuracy                           1.00     11301\n",
      "   macro avg       1.00      1.00      1.00     11301\n",
      "weighted avg       1.00      1.00      1.00     11301\n",
      "\n"
     ]
    }
   ],
   "source": [
    "yhat_train = gs_rf.predict(smote_X_train)\n",
    "util.report(smote_y_train, yhat_train)"
   ]
  },
  {
   "cell_type": "code",
   "execution_count": 70,
   "metadata": {},
   "outputs": [
    {
     "name": "stdout",
     "output_type": "stream",
     "text": [
      "[[12.9 56.5 30.6]\n",
      " [ 0.9 77.9 21.2]\n",
      " [ 0.9 59.  40.2]]\n",
      "\n",
      "              precision    recall  f1-score   support\n",
      "\n",
      "           0       0.50      0.13      0.21        85\n",
      "           1       0.66      0.78      0.72       797\n",
      "           2       0.49      0.40      0.44       458\n",
      "\n",
      "    accuracy                           0.61      1340\n",
      "   macro avg       0.55      0.44      0.45      1340\n",
      "weighted avg       0.59      0.61      0.59      1340\n",
      "\n"
     ]
    }
   ],
   "source": [
    "yhat_val = gs_rf.predict(X_train_val)\n",
    "util.report(y_train_val, yhat_val)"
   ]
  },
  {
   "cell_type": "markdown",
   "metadata": {},
   "source": [
    "Still not much improvement on the RF even using SMOTEd train data, but we can tell it does best corrrectly classifying negative reviews. I've got to throw in the hat on it for now. "
   ]
  },
  {
   "cell_type": "markdown",
   "metadata": {},
   "source": [
    "## Bigrams"
   ]
  },
  {
   "cell_type": "code",
   "execution_count": 74,
   "metadata": {},
   "outputs": [],
   "source": [
    "with open('../data/bigram_X_train.txt', 'rb') as fp:\n",
    "    bigram_X_train = pickle.load(fp)\n",
    "    \n",
    "with open('../data/bigram_X_train_val.txt', 'rb') as fp:\n",
    "    bigram_X_train_val = pickle.load(fp)\n",
    "    \n",
    "with open('../data/bigram_X_test.txt', 'rb') as fp:\n",
    "    bigram_X_test = pickle.load(fp)"
   ]
  },
  {
   "cell_type": "code",
   "execution_count": 75,
   "metadata": {
    "scrolled": true
   },
   "outputs": [
    {
     "name": "stderr",
     "output_type": "stream",
     "text": [
      "/Users/stlanier/opt/anaconda3/envs/learn-env/lib/python3.6/site-packages/sklearn/linear_model/_logistic.py:764: ConvergenceWarning: lbfgs failed to converge (status=1):\n",
      "STOP: TOTAL NO. of ITERATIONS REACHED LIMIT.\n",
      "\n",
      "Increase the number of iterations (max_iter) or scale the data as shown in:\n",
      "    https://scikit-learn.org/stable/modules/preprocessing.html\n",
      "Please also refer to the documentation for alternative solver options:\n",
      "    https://scikit-learn.org/stable/modules/linear_model.html#logistic-regression\n",
      "  extra_warning_msg=_LOGISTIC_SOLVER_CONVERGENCE_MSG)\n",
      "/Users/stlanier/opt/anaconda3/envs/learn-env/lib/python3.6/site-packages/sklearn/linear_model/_logistic.py:764: ConvergenceWarning: lbfgs failed to converge (status=1):\n",
      "STOP: TOTAL NO. of ITERATIONS REACHED LIMIT.\n",
      "\n",
      "Increase the number of iterations (max_iter) or scale the data as shown in:\n",
      "    https://scikit-learn.org/stable/modules/preprocessing.html\n",
      "Please also refer to the documentation for alternative solver options:\n",
      "    https://scikit-learn.org/stable/modules/linear_model.html#logistic-regression\n",
      "  extra_warning_msg=_LOGISTIC_SOLVER_CONVERGENCE_MSG)\n",
      "/Users/stlanier/opt/anaconda3/envs/learn-env/lib/python3.6/site-packages/sklearn/linear_model/_logistic.py:764: ConvergenceWarning: lbfgs failed to converge (status=1):\n",
      "STOP: TOTAL NO. of ITERATIONS REACHED LIMIT.\n",
      "\n",
      "Increase the number of iterations (max_iter) or scale the data as shown in:\n",
      "    https://scikit-learn.org/stable/modules/preprocessing.html\n",
      "Please also refer to the documentation for alternative solver options:\n",
      "    https://scikit-learn.org/stable/modules/linear_model.html#logistic-regression\n",
      "  extra_warning_msg=_LOGISTIC_SOLVER_CONVERGENCE_MSG)\n",
      "/Users/stlanier/opt/anaconda3/envs/learn-env/lib/python3.6/site-packages/sklearn/linear_model/_logistic.py:764: ConvergenceWarning: lbfgs failed to converge (status=1):\n",
      "STOP: TOTAL NO. of ITERATIONS REACHED LIMIT.\n",
      "\n",
      "Increase the number of iterations (max_iter) or scale the data as shown in:\n",
      "    https://scikit-learn.org/stable/modules/preprocessing.html\n",
      "Please also refer to the documentation for alternative solver options:\n",
      "    https://scikit-learn.org/stable/modules/linear_model.html#logistic-regression\n",
      "  extra_warning_msg=_LOGISTIC_SOLVER_CONVERGENCE_MSG)\n",
      "/Users/stlanier/opt/anaconda3/envs/learn-env/lib/python3.6/site-packages/sklearn/linear_model/_logistic.py:764: ConvergenceWarning: lbfgs failed to converge (status=1):\n",
      "STOP: TOTAL NO. of ITERATIONS REACHED LIMIT.\n",
      "\n",
      "Increase the number of iterations (max_iter) or scale the data as shown in:\n",
      "    https://scikit-learn.org/stable/modules/preprocessing.html\n",
      "Please also refer to the documentation for alternative solver options:\n",
      "    https://scikit-learn.org/stable/modules/linear_model.html#logistic-regression\n",
      "  extra_warning_msg=_LOGISTIC_SOLVER_CONVERGENCE_MSG)\n",
      "/Users/stlanier/opt/anaconda3/envs/learn-env/lib/python3.6/site-packages/sklearn/linear_model/_logistic.py:764: ConvergenceWarning: lbfgs failed to converge (status=1):\n",
      "STOP: TOTAL NO. of ITERATIONS REACHED LIMIT.\n",
      "\n",
      "Increase the number of iterations (max_iter) or scale the data as shown in:\n",
      "    https://scikit-learn.org/stable/modules/preprocessing.html\n",
      "Please also refer to the documentation for alternative solver options:\n",
      "    https://scikit-learn.org/stable/modules/linear_model.html#logistic-regression\n",
      "  extra_warning_msg=_LOGISTIC_SOLVER_CONVERGENCE_MSG)\n"
     ]
    },
    {
     "name": "stdout",
     "output_type": "stream",
     "text": [
      "LogisticRegressionCV(cv=5)\n",
      "--Train--\n",
      "[[63.5 30.8  5.7]\n",
      " [ 0.2 96.   3.8]\n",
      " [ 0.  18.4 81.6]]\n",
      "\n",
      "              precision    recall  f1-score   support\n",
      "\n",
      "           0       0.97      0.63      0.77       389\n",
      "           1       0.88      0.96      0.92      3767\n",
      "           2       0.91      0.82      0.86      2100\n",
      "\n",
      "    accuracy                           0.89      6256\n",
      "   macro avg       0.92      0.80      0.85      6256\n",
      "weighted avg       0.89      0.89      0.89      6256\n",
      "\n",
      "--Validation--\n",
      "[[10.6 76.5 12.9]\n",
      " [ 0.8 85.1 14.2]\n",
      " [ 0.2 49.3 50.4]]\n",
      "\n",
      "              precision    recall  f1-score   support\n",
      "\n",
      "           0       0.56      0.11      0.18        85\n",
      "           1       0.70      0.85      0.77       797\n",
      "           2       0.65      0.50      0.57       458\n",
      "\n",
      "    accuracy                           0.69      1340\n",
      "   macro avg       0.64      0.49      0.50      1340\n",
      "weighted avg       0.67      0.69      0.66      1340\n",
      "\n",
      "RandomForestClassifier()\n",
      "--Train--\n",
      "[[99.5  0.5  0. ]\n",
      " [ 0.  99.8  0.2]\n",
      " [ 0.   1.5 98.5]]\n",
      "\n",
      "              precision    recall  f1-score   support\n",
      "\n",
      "           0       1.00      0.99      1.00       389\n",
      "           1       0.99      1.00      0.99      3767\n",
      "           2       1.00      0.98      0.99      2100\n",
      "\n",
      "    accuracy                           0.99      6256\n",
      "   macro avg       1.00      0.99      0.99      6256\n",
      "weighted avg       0.99      0.99      0.99      6256\n",
      "\n",
      "--Validation--\n",
      "[[10.6 85.9  3.5]\n",
      " [ 0.5 91.7  7.8]\n",
      " [ 0.2 76.2 23.6]]\n",
      "\n",
      "              precision    recall  f1-score   support\n",
      "\n",
      "           0       0.64      0.11      0.18        85\n",
      "           1       0.63      0.92      0.75       797\n",
      "           2       0.62      0.24      0.34       458\n",
      "\n",
      "    accuracy                           0.63      1340\n",
      "   macro avg       0.63      0.42      0.42      1340\n",
      "weighted avg       0.63      0.63      0.57      1340\n",
      "\n",
      "SVC()\n",
      "--Train--\n",
      "[[59.6 37.8  2.6]\n",
      " [ 0.  98.6  1.4]\n",
      " [ 0.  16.7 83.3]]\n",
      "\n",
      "              precision    recall  f1-score   support\n",
      "\n",
      "           0       1.00      0.60      0.75       389\n",
      "           1       0.88      0.99      0.93      3767\n",
      "           2       0.97      0.83      0.89      2100\n",
      "\n",
      "    accuracy                           0.91      6256\n",
      "   macro avg       0.95      0.81      0.86      6256\n",
      "weighted avg       0.92      0.91      0.91      6256\n",
      "\n",
      "--Validation--\n",
      "[[ 9.4 80.  10.6]\n",
      " [ 0.3 88.5 11.3]\n",
      " [ 0.  52.4 47.6]]\n",
      "\n",
      "              precision    recall  f1-score   support\n",
      "\n",
      "           0       0.80      0.09      0.17        85\n",
      "           1       0.70      0.88      0.78       797\n",
      "           2       0.69      0.48      0.56       458\n",
      "\n",
      "    accuracy                           0.69      1340\n",
      "   macro avg       0.73      0.48      0.50      1340\n",
      "weighted avg       0.70      0.69      0.67      1340\n",
      "\n"
     ]
    }
   ],
   "source": [
    "for clf in clfs:\n",
    "    clf.fit(bigram_X_train, y_train)\n",
    "    print(f'{clf}')\n",
    "    print('--Train--')\n",
    "    util.report(y_train, clf.predict(bigram_X_train))\n",
    "    print('--Validation--')\n",
    "    util.report(y_train_val, clf.predict(bigram_X_train_val))"
   ]
  },
  {
   "cell_type": "markdown",
   "metadata": {},
   "source": [
    "## SMOTEd Bigrams"
   ]
  },
  {
   "cell_type": "code",
   "execution_count": 76,
   "metadata": {},
   "outputs": [],
   "source": [
    "with open('../data/smote_bigram_X_train.txt', 'rb') as fp:\n",
    "    smote_bigram_X_train = pickle.load(fp)\n",
    "    \n",
    "with open('../data/smote_bigram_y_train.txt', 'rb') as fp:\n",
    "    smote_bigram_y_train = pickle.load(fp)"
   ]
  },
  {
   "cell_type": "code",
   "execution_count": 80,
   "metadata": {
    "scrolled": true
   },
   "outputs": [
    {
     "name": "stderr",
     "output_type": "stream",
     "text": [
      "/Users/stlanier/opt/anaconda3/envs/learn-env/lib/python3.6/site-packages/sklearn/linear_model/_logistic.py:764: ConvergenceWarning: lbfgs failed to converge (status=1):\n",
      "STOP: TOTAL NO. of ITERATIONS REACHED LIMIT.\n",
      "\n",
      "Increase the number of iterations (max_iter) or scale the data as shown in:\n",
      "    https://scikit-learn.org/stable/modules/preprocessing.html\n",
      "Please also refer to the documentation for alternative solver options:\n",
      "    https://scikit-learn.org/stable/modules/linear_model.html#logistic-regression\n",
      "  extra_warning_msg=_LOGISTIC_SOLVER_CONVERGENCE_MSG)\n",
      "/Users/stlanier/opt/anaconda3/envs/learn-env/lib/python3.6/site-packages/sklearn/linear_model/_logistic.py:764: ConvergenceWarning: lbfgs failed to converge (status=1):\n",
      "STOP: TOTAL NO. of ITERATIONS REACHED LIMIT.\n",
      "\n",
      "Increase the number of iterations (max_iter) or scale the data as shown in:\n",
      "    https://scikit-learn.org/stable/modules/preprocessing.html\n",
      "Please also refer to the documentation for alternative solver options:\n",
      "    https://scikit-learn.org/stable/modules/linear_model.html#logistic-regression\n",
      "  extra_warning_msg=_LOGISTIC_SOLVER_CONVERGENCE_MSG)\n",
      "/Users/stlanier/opt/anaconda3/envs/learn-env/lib/python3.6/site-packages/sklearn/linear_model/_logistic.py:764: ConvergenceWarning: lbfgs failed to converge (status=1):\n",
      "STOP: TOTAL NO. of ITERATIONS REACHED LIMIT.\n",
      "\n",
      "Increase the number of iterations (max_iter) or scale the data as shown in:\n",
      "    https://scikit-learn.org/stable/modules/preprocessing.html\n",
      "Please also refer to the documentation for alternative solver options:\n",
      "    https://scikit-learn.org/stable/modules/linear_model.html#logistic-regression\n",
      "  extra_warning_msg=_LOGISTIC_SOLVER_CONVERGENCE_MSG)\n",
      "/Users/stlanier/opt/anaconda3/envs/learn-env/lib/python3.6/site-packages/sklearn/linear_model/_logistic.py:764: ConvergenceWarning: lbfgs failed to converge (status=1):\n",
      "STOP: TOTAL NO. of ITERATIONS REACHED LIMIT.\n",
      "\n",
      "Increase the number of iterations (max_iter) or scale the data as shown in:\n",
      "    https://scikit-learn.org/stable/modules/preprocessing.html\n",
      "Please also refer to the documentation for alternative solver options:\n",
      "    https://scikit-learn.org/stable/modules/linear_model.html#logistic-regression\n",
      "  extra_warning_msg=_LOGISTIC_SOLVER_CONVERGENCE_MSG)\n",
      "/Users/stlanier/opt/anaconda3/envs/learn-env/lib/python3.6/site-packages/sklearn/linear_model/_logistic.py:764: ConvergenceWarning: lbfgs failed to converge (status=1):\n",
      "STOP: TOTAL NO. of ITERATIONS REACHED LIMIT.\n",
      "\n",
      "Increase the number of iterations (max_iter) or scale the data as shown in:\n",
      "    https://scikit-learn.org/stable/modules/preprocessing.html\n",
      "Please also refer to the documentation for alternative solver options:\n",
      "    https://scikit-learn.org/stable/modules/linear_model.html#logistic-regression\n",
      "  extra_warning_msg=_LOGISTIC_SOLVER_CONVERGENCE_MSG)\n",
      "/Users/stlanier/opt/anaconda3/envs/learn-env/lib/python3.6/site-packages/sklearn/linear_model/_logistic.py:764: ConvergenceWarning: lbfgs failed to converge (status=1):\n",
      "STOP: TOTAL NO. of ITERATIONS REACHED LIMIT.\n",
      "\n",
      "Increase the number of iterations (max_iter) or scale the data as shown in:\n",
      "    https://scikit-learn.org/stable/modules/preprocessing.html\n",
      "Please also refer to the documentation for alternative solver options:\n",
      "    https://scikit-learn.org/stable/modules/linear_model.html#logistic-regression\n",
      "  extra_warning_msg=_LOGISTIC_SOLVER_CONVERGENCE_MSG)\n"
     ]
    },
    {
     "name": "stdout",
     "output_type": "stream",
     "text": [
      "LogisticRegressionCV(cv=5)\n",
      "--Train--\n",
      "[[99.9  0.   0. ]\n",
      " [ 0.7 94.7  4.6]\n",
      " [ 0.   3.2 96.8]]\n",
      "\n",
      "              precision    recall  f1-score   support\n",
      "\n",
      "           0       0.99      1.00      1.00      3767\n",
      "           1       0.97      0.95      0.96      3767\n",
      "           2       0.95      0.97      0.96      3767\n",
      "\n",
      "    accuracy                           0.97     11301\n",
      "   macro avg       0.97      0.97      0.97     11301\n",
      "weighted avg       0.97      0.97      0.97     11301\n",
      "\n",
      "--Validation--\n",
      "[[24.7 57.6 17.6]\n",
      " [ 3.5 74.  22.5]\n",
      " [ 3.1 40.  57. ]]\n",
      "\n",
      "              precision    recall  f1-score   support\n",
      "\n",
      "           0       0.33      0.25      0.28        85\n",
      "           1       0.72      0.74      0.73       797\n",
      "           2       0.57      0.57      0.57       458\n",
      "\n",
      "    accuracy                           0.65      1340\n",
      "   macro avg       0.54      0.52      0.53      1340\n",
      "weighted avg       0.64      0.65      0.65      1340\n",
      "\n",
      "RandomForestClassifier()\n",
      "--Train--\n",
      "[[100.    0.    0. ]\n",
      " [  0.   99.6   0.4]\n",
      " [  0.    0.7  99.3]]\n",
      "\n",
      "              precision    recall  f1-score   support\n",
      "\n",
      "           0       1.00      1.00      1.00      3767\n",
      "           1       0.99      1.00      0.99      3767\n",
      "           2       1.00      0.99      0.99      3767\n",
      "\n",
      "    accuracy                           1.00     11301\n",
      "   macro avg       1.00      1.00      1.00     11301\n",
      "weighted avg       1.00      1.00      1.00     11301\n",
      "\n",
      "--Validation--\n",
      "[[12.9 67.1 20. ]\n",
      " [ 0.6 78.3 21.1]\n",
      " [ 0.2 56.3 43.4]]\n",
      "\n",
      "              precision    recall  f1-score   support\n",
      "\n",
      "           0       0.65      0.13      0.22        85\n",
      "           1       0.66      0.78      0.72       797\n",
      "           2       0.52      0.43      0.47       458\n",
      "\n",
      "    accuracy                           0.62      1340\n",
      "   macro avg       0.61      0.45      0.47      1340\n",
      "weighted avg       0.61      0.62      0.60      1340\n",
      "\n",
      "SVC()\n",
      "--Train--\n",
      "[[99.7  0.2  0.1]\n",
      " [ 0.9 96.5  2.6]\n",
      " [ 0.1  6.6 93.4]]\n",
      "\n",
      "              precision    recall  f1-score   support\n",
      "\n",
      "           0       0.99      1.00      0.99      3767\n",
      "           1       0.93      0.97      0.95      3767\n",
      "           2       0.97      0.93      0.95      3767\n",
      "\n",
      "    accuracy                           0.97     11301\n",
      "   macro avg       0.97      0.97      0.97     11301\n",
      "weighted avg       0.97      0.97      0.97     11301\n",
      "\n",
      "--Validation--\n",
      "[[22.4 28.2 49.4]\n",
      " [ 2.  59.8 38.1]\n",
      " [ 0.7 23.4 76. ]]\n",
      "\n",
      "              precision    recall  f1-score   support\n",
      "\n",
      "           0       0.50      0.22      0.31        85\n",
      "           1       0.78      0.60      0.68       797\n",
      "           2       0.50      0.76      0.60       458\n",
      "\n",
      "    accuracy                           0.63      1340\n",
      "   macro avg       0.60      0.53      0.53      1340\n",
      "weighted avg       0.67      0.63      0.63      1340\n",
      "\n"
     ]
    }
   ],
   "source": [
    "for clf in clfs:\n",
    "    clf.fit(smote_bigram_X_train, smote_bigram_y_train)\n",
    "    print(f'{clf}')\n",
    "    print('--Train--')\n",
    "    util.report(smote_bigram_y_train, clf.predict(smote_bigram_X_train))\n",
    "    print('--Validation--')\n",
    "    util.report(y_train_val, clf.predict(bigram_X_train_val))"
   ]
  },
  {
   "cell_type": "markdown",
   "metadata": {},
   "source": [
    "## Results "
   ]
  },
  {
   "cell_type": "markdown",
   "metadata": {},
   "source": [
    "The neural network, random forest, and logistic regression models seems to be faring best. With more time, it might be a good idea to check out more forest models, like AdaBoost or XGBoost.\n",
    "\n",
    "|Model|Initial F1|**Best F1**|\n",
    "|---|---|---|\n",
    "| Neural Network | 0.25 | 0.53 |\n",
    "| Logistic Regressions | 0.53 | 0.53 |\n",
    "| Random Forest | 0.49 | 0.51 |\n",
    "| Support Vector Machine | 0.47 | 0.48 |\n",
    "| Naive Bayes Classifier | 0.37 | 0.38 |\n",
    "|  |  |  |"
   ]
  },
  {
   "cell_type": "markdown",
   "metadata": {},
   "source": [
    "## Conclusions"
   ]
  },
  {
   "cell_type": "markdown",
   "metadata": {},
   "source": [
    "The hardest part about this project has turned out to be the three-way classification problem as well as class imbalance, approximately 10:1 in the case of classes '1' and '0'. At present, the most informative component of this analysis seems to be the purely exploratory: dividing data into groups by sentiment (positive, negative, none) and inspecting most common tokens from there. That line of inquiry yielded some interesting insights, particularly when comparing between positive and negative reviews. For example, exclamation marks are one of the top 40 most common (filtered) tokens among positive reviews, as were \"great,\" \"social,\" and \"new\"; meanwhile, \"need,\" \"headaches,\" and \"long\" and \"line\" were in the top 40 most common for negative reviews.\n",
    "\n",
    "As a \"black box\" model for discerning review sentiment, these models don't yet appear very impressive, with the very best models producing **~0.53 macro f1 score on test data**. Decent, but not terribly impressive. ROC curves revealed that across the board models were best at identifying negative reviews. F1 scores for this project were achieved by the following steps:\n",
    "\n",
    "1. Preprocess data\n",
    "\n",
    " a. Lowercase all reviews\n",
    "  \n",
    " b. Break reviews into individual tokens\n",
    "  \n",
    " c. Remove all punctuation (except exclamation points) and stop words from tokens\n",
    "  \n",
    " d. Lemmatize tokens\n",
    "  \n",
    " e. Vectorize with tf-idf\n",
    "  \n",
    " f. Reduce dimensions with TSVD\n",
    "  \n",
    " g. Resample using SMOTE\n",
    "  \n",
    "  \n",
    "2.  Train models. Caution: I trained my models without a validation set, so be aware of that when interpretting my results; I should have, but forgot. Best hyperparameters for each model were as follows:\n",
    "\n",
    " RF:  {'max_depth': None, 'min_samples_split': 5, 'n_estimators': 90}\n",
    "  \n",
    " LogRegCV: {'Cs': 10}\n",
    "  \n",
    " SVM: out of the box\n",
    "  \n",
    " Multinomial Naive Bayes:  out of the box\n",
    "  \n",
    " ANN: 3 hidden layers of 1000, 500, and 100; all with ReLU activation, except softmax on the output layer; and 30% dropout at each layer.\n"
   ]
  }
 ],
 "metadata": {
  "kernelspec": {
   "display_name": "Python 3",
   "language": "python",
   "name": "python3"
  },
  "language_info": {
   "codemirror_mode": {
    "name": "ipython",
    "version": 3
   },
   "file_extension": ".py",
   "mimetype": "text/x-python",
   "name": "python",
   "nbconvert_exporter": "python",
   "pygments_lexer": "ipython3",
   "version": "3.6.12"
  },
  "toc": {
   "base_numbering": 1,
   "nav_menu": {},
   "number_sections": true,
   "sideBar": true,
   "skip_h1_title": true,
   "title_cell": "Table of Contents",
   "title_sidebar": "Contents",
   "toc_cell": false,
   "toc_position": {},
   "toc_section_display": true,
   "toc_window_display": true
  }
 },
 "nbformat": 4,
 "nbformat_minor": 2
}
