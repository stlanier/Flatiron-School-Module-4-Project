{
 "cells": [
  {
   "cell_type": "code",
   "execution_count": 18,
   "id": "minor-fabric",
   "metadata": {},
   "outputs": [
    {
     "name": "stderr",
     "output_type": "stream",
     "text": [
      "Using TensorFlow backend.\n"
     ]
    }
   ],
   "source": [
    "import preprocessing as prep\n",
    "import numpy as np\n",
    "import pandas as pd\n",
    "import nltk\n",
    "import string\n",
    "import pickle\n",
    "from nltk import word_tokenize\n",
    "from nltk.corpus import stopwords\n",
    "from nltk.stem import WordNetLemmatizer\n",
    "from imblearn.over_sampling import SMOTE\n",
    "from sklearn.feature_extraction.text import TfidfVectorizer, CountVectorizer\n",
    "from sklearn.decomposition import TruncatedSVD\n",
    "from gensim.models import Word2Vec\n",
    "import matplotlib.pyplot as plt\n",
    "%matplotlib inline\n",
    "np.random.seed(42)\n",
    "\n",
    "import keras\n",
    "import pickle\n",
    "import sklearn\n",
    "import analysis_util as util\n",
    "from sklearn.metrics import roc_curve, auc, plot_roc_curve\n",
    "from sklearn.preprocessing import label_binarize\n",
    "from sklearn.ensemble import RandomForestClassifier\n",
    "from sklearn.naive_bayes import MultinomialNB\n",
    "from sklearn.svm import SVC\n",
    "from sklearn.linear_model import LogisticRegressionCV\n",
    "from sklearn.model_selection import GridSearchCV\n",
    "from keras import metrics, models, layers, optimizers"
   ]
  },
  {
   "cell_type": "code",
   "execution_count": 2,
   "id": "unlikely-hours",
   "metadata": {},
   "outputs": [],
   "source": [
    "df = pd.read_csv('../data/raw.csv', encoding='latin1')"
   ]
  },
  {
   "cell_type": "code",
   "execution_count": 3,
   "id": "generic-regression",
   "metadata": {},
   "outputs": [],
   "source": [
    "df.columns = ['tweet', 'product', 'emotion']"
   ]
  },
  {
   "cell_type": "code",
   "execution_count": 4,
   "id": "english-skirt",
   "metadata": {},
   "outputs": [],
   "source": [
    "df = df[df['emotion']!=\"I can't tell\"]\n",
    "df.dropna(axis=0, subset=['tweet'], inplace=True)"
   ]
  },
  {
   "cell_type": "code",
   "execution_count": 5,
   "id": "maritime-alcohol",
   "metadata": {},
   "outputs": [],
   "source": [
    "X = df['tweet']\n",
    "y = df['emotion']"
   ]
  },
  {
   "cell_type": "code",
   "execution_count": 6,
   "id": "eleven-geometry",
   "metadata": {},
   "outputs": [],
   "source": [
    "df = pd.concat([X,y],axis=1)"
   ]
  },
  {
   "cell_type": "code",
   "execution_count": 7,
   "id": "dramatic-venue",
   "metadata": {},
   "outputs": [
    {
     "data": {
      "text/html": [
       "<div>\n",
       "<style scoped>\n",
       "    .dataframe tbody tr th:only-of-type {\n",
       "        vertical-align: middle;\n",
       "    }\n",
       "\n",
       "    .dataframe tbody tr th {\n",
       "        vertical-align: top;\n",
       "    }\n",
       "\n",
       "    .dataframe thead th {\n",
       "        text-align: right;\n",
       "    }\n",
       "</style>\n",
       "<table border=\"1\" class=\"dataframe\">\n",
       "  <thead>\n",
       "    <tr style=\"text-align: right;\">\n",
       "      <th></th>\n",
       "      <th>tweet</th>\n",
       "      <th>emotion</th>\n",
       "    </tr>\n",
       "  </thead>\n",
       "  <tbody>\n",
       "    <tr>\n",
       "      <th>0</th>\n",
       "      <td>.@wesley83 I have a 3G iPhone. After 3 hrs twe...</td>\n",
       "      <td>Negative emotion</td>\n",
       "    </tr>\n",
       "    <tr>\n",
       "      <th>1</th>\n",
       "      <td>@jessedee Know about @fludapp ? Awesome iPad/i...</td>\n",
       "      <td>Positive emotion</td>\n",
       "    </tr>\n",
       "    <tr>\n",
       "      <th>2</th>\n",
       "      <td>@swonderlin Can not wait for #iPad 2 also. The...</td>\n",
       "      <td>Positive emotion</td>\n",
       "    </tr>\n",
       "    <tr>\n",
       "      <th>3</th>\n",
       "      <td>@sxsw I hope this year's festival isn't as cra...</td>\n",
       "      <td>Negative emotion</td>\n",
       "    </tr>\n",
       "    <tr>\n",
       "      <th>4</th>\n",
       "      <td>@sxtxstate great stuff on Fri #SXSW: Marissa M...</td>\n",
       "      <td>Positive emotion</td>\n",
       "    </tr>\n",
       "    <tr>\n",
       "      <th>...</th>\n",
       "      <td>...</td>\n",
       "      <td>...</td>\n",
       "    </tr>\n",
       "    <tr>\n",
       "      <th>9088</th>\n",
       "      <td>Ipad everywhere. #SXSW {link}</td>\n",
       "      <td>Positive emotion</td>\n",
       "    </tr>\n",
       "    <tr>\n",
       "      <th>9089</th>\n",
       "      <td>Wave, buzz... RT @mention We interrupt your re...</td>\n",
       "      <td>No emotion toward brand or product</td>\n",
       "    </tr>\n",
       "    <tr>\n",
       "      <th>9090</th>\n",
       "      <td>Google's Zeiger, a physician never reported po...</td>\n",
       "      <td>No emotion toward brand or product</td>\n",
       "    </tr>\n",
       "    <tr>\n",
       "      <th>9091</th>\n",
       "      <td>Some Verizon iPhone customers complained their...</td>\n",
       "      <td>No emotion toward brand or product</td>\n",
       "    </tr>\n",
       "    <tr>\n",
       "      <th>9092</th>\n",
       "      <td>Ï¡Ïàü_ÊÎÒ£Áââ_£â_ÛâRT @...</td>\n",
       "      <td>No emotion toward brand or product</td>\n",
       "    </tr>\n",
       "  </tbody>\n",
       "</table>\n",
       "<p>8936 rows × 2 columns</p>\n",
       "</div>"
      ],
      "text/plain": [
       "                                                  tweet  \\\n",
       "0     .@wesley83 I have a 3G iPhone. After 3 hrs twe...   \n",
       "1     @jessedee Know about @fludapp ? Awesome iPad/i...   \n",
       "2     @swonderlin Can not wait for #iPad 2 also. The...   \n",
       "3     @sxsw I hope this year's festival isn't as cra...   \n",
       "4     @sxtxstate great stuff on Fri #SXSW: Marissa M...   \n",
       "...                                                 ...   \n",
       "9088                      Ipad everywhere. #SXSW {link}   \n",
       "9089  Wave, buzz... RT @mention We interrupt your re...   \n",
       "9090  Google's Zeiger, a physician never reported po...   \n",
       "9091  Some Verizon iPhone customers complained their...   \n",
       "9092  Ï¡Ïàü_ÊÎÒ£Áââ_£â_ÛâRT @...   \n",
       "\n",
       "                                 emotion  \n",
       "0                       Negative emotion  \n",
       "1                       Positive emotion  \n",
       "2                       Positive emotion  \n",
       "3                       Negative emotion  \n",
       "4                       Positive emotion  \n",
       "...                                  ...  \n",
       "9088                    Positive emotion  \n",
       "9089  No emotion toward brand or product  \n",
       "9090  No emotion toward brand or product  \n",
       "9091  No emotion toward brand or product  \n",
       "9092  No emotion toward brand or product  \n",
       "\n",
       "[8936 rows x 2 columns]"
      ]
     },
     "execution_count": 7,
     "metadata": {},
     "output_type": "execute_result"
    }
   ],
   "source": [
    "df"
   ]
  },
  {
   "cell_type": "code",
   "execution_count": 8,
   "id": "minimal-tolerance",
   "metadata": {},
   "outputs": [],
   "source": [
    "X_train, X_test, y_train, y_test = prep.split(df, int(len(df)*.15))\n",
    "X_train, X_train_val, y_train, y_train_val = prep.split(pd.concat([X_train, y_train], axis=1), int(len(df)*.15))"
   ]
  },
  {
   "cell_type": "code",
   "execution_count": 9,
   "id": "becoming-pioneer",
   "metadata": {},
   "outputs": [],
   "source": [
    "X_train = X_train.reset_index()['tweet']\n",
    "X_train_val = X_train_val.reset_index()['tweet']\n",
    "X_test = X_test.reset_index()['tweet']"
   ]
  },
  {
   "cell_type": "code",
   "execution_count": 10,
   "id": "swiss-optimization",
   "metadata": {},
   "outputs": [],
   "source": [
    "y_train = y_train.reset_index()['emotion']\n",
    "y_train_val = y_train_val.reset_index()['emotion']\n",
    "y_test = y_test.reset_index()['emotion']"
   ]
  },
  {
   "cell_type": "code",
   "execution_count": 11,
   "id": "covered-belize",
   "metadata": {},
   "outputs": [],
   "source": [
    "X_train = list(map(prep.preprocess, list(X_train)))\n",
    "X_train_val = list(map(prep.preprocess, list(X_train_val)))\n",
    "X_test = list(map(prep.preprocess, list(X_test)))"
   ]
  },
  {
   "cell_type": "code",
   "execution_count": 12,
   "id": "recent-villa",
   "metadata": {},
   "outputs": [],
   "source": [
    "X_train_tokenized = list(map(word_tokenize, X_train))\n",
    "X_train_val_tokenized = list(map(word_tokenize, X_train_val))\n",
    "X_test_tokenized = list(map(word_tokenize, X_test))"
   ]
  },
  {
   "cell_type": "code",
   "execution_count": 13,
   "id": "identified-canon",
   "metadata": {},
   "outputs": [],
   "source": [
    "w2v_model = Word2Vec(X_train_tokenized, size=100, window=5, min_count=1, workers=4)"
   ]
  },
  {
   "cell_type": "code",
   "execution_count": 14,
   "id": "necessary-recommendation",
   "metadata": {},
   "outputs": [
    {
     "data": {
      "text/plain": [
       "[('shop', 0.9994764924049377),\n",
       " ('pop', 0.9984753131866455),\n",
       " ('open', 0.9978106617927551),\n",
       " ('temp', 0.9976313710212708),\n",
       " ('core', 0.9967163801193237),\n",
       " ('dt', 0.995648205280304),\n",
       " ('set', 0.995041012763977),\n",
       " ('congress', 0.9946262240409851),\n",
       " ('austin', 0.9938600063323975),\n",
       " ('sixth', 0.992957353591919)]"
      ]
     },
     "execution_count": 14,
     "metadata": {},
     "output_type": "execute_result"
    }
   ],
   "source": [
    "w2v_model.wv.most_similar(positive='apple')"
   ]
  },
  {
   "cell_type": "code",
   "execution_count": 15,
   "id": "typical-quarterly",
   "metadata": {},
   "outputs": [],
   "source": [
    "X_train_w2v = prep.w2v_vectorize(w2v_model.wv, X_train_tokenized)\n",
    "X_train_val_w2v = prep.w2v_vectorize(w2v_model.wv, X_train_val_tokenized)\n",
    "X_test_w2v = prep.w2v_vectorize(w2v_model.wv, X_test_tokenized)"
   ]
  },
  {
   "cell_type": "code",
   "execution_count": null,
   "id": "trained-diploma",
   "metadata": {},
   "outputs": [],
   "source": []
  },
  {
   "cell_type": "code",
   "execution_count": 19,
   "id": "micro-escape",
   "metadata": {},
   "outputs": [],
   "source": [
    "clfs = [LogisticRegressionCV(cv=5), \n",
    "        RandomForestClassifier(n_estimators=100), \n",
    "        SVC()]"
   ]
  },
  {
   "cell_type": "code",
   "execution_count": 21,
   "id": "enhanced-stretch",
   "metadata": {},
   "outputs": [
    {
     "name": "stderr",
     "output_type": "stream",
     "text": [
      "/Users/stlanier/opt/anaconda3/envs/flatiron/lib/python3.6/site-packages/sklearn/linear_model/_logistic.py:765: ConvergenceWarning: lbfgs failed to converge (status=1):\n",
      "STOP: TOTAL NO. of ITERATIONS REACHED LIMIT.\n",
      "\n",
      "Increase the number of iterations (max_iter) or scale the data as shown in:\n",
      "    https://scikit-learn.org/stable/modules/preprocessing.html\n",
      "Please also refer to the documentation for alternative solver options:\n",
      "    https://scikit-learn.org/stable/modules/linear_model.html#logistic-regression\n",
      "  extra_warning_msg=_LOGISTIC_SOLVER_CONVERGENCE_MSG)\n",
      "/Users/stlanier/opt/anaconda3/envs/flatiron/lib/python3.6/site-packages/sklearn/linear_model/_logistic.py:765: ConvergenceWarning: lbfgs failed to converge (status=1):\n",
      "STOP: TOTAL NO. of ITERATIONS REACHED LIMIT.\n",
      "\n",
      "Increase the number of iterations (max_iter) or scale the data as shown in:\n",
      "    https://scikit-learn.org/stable/modules/preprocessing.html\n",
      "Please also refer to the documentation for alternative solver options:\n",
      "    https://scikit-learn.org/stable/modules/linear_model.html#logistic-regression\n",
      "  extra_warning_msg=_LOGISTIC_SOLVER_CONVERGENCE_MSG)\n",
      "/Users/stlanier/opt/anaconda3/envs/flatiron/lib/python3.6/site-packages/sklearn/linear_model/_logistic.py:765: ConvergenceWarning: lbfgs failed to converge (status=1):\n",
      "STOP: TOTAL NO. of ITERATIONS REACHED LIMIT.\n",
      "\n",
      "Increase the number of iterations (max_iter) or scale the data as shown in:\n",
      "    https://scikit-learn.org/stable/modules/preprocessing.html\n",
      "Please also refer to the documentation for alternative solver options:\n",
      "    https://scikit-learn.org/stable/modules/linear_model.html#logistic-regression\n",
      "  extra_warning_msg=_LOGISTIC_SOLVER_CONVERGENCE_MSG)\n",
      "/Users/stlanier/opt/anaconda3/envs/flatiron/lib/python3.6/site-packages/sklearn/linear_model/_logistic.py:765: ConvergenceWarning: lbfgs failed to converge (status=1):\n",
      "STOP: TOTAL NO. of ITERATIONS REACHED LIMIT.\n",
      "\n",
      "Increase the number of iterations (max_iter) or scale the data as shown in:\n",
      "    https://scikit-learn.org/stable/modules/preprocessing.html\n",
      "Please also refer to the documentation for alternative solver options:\n",
      "    https://scikit-learn.org/stable/modules/linear_model.html#logistic-regression\n",
      "  extra_warning_msg=_LOGISTIC_SOLVER_CONVERGENCE_MSG)\n",
      "/Users/stlanier/opt/anaconda3/envs/flatiron/lib/python3.6/site-packages/sklearn/linear_model/_logistic.py:765: ConvergenceWarning: lbfgs failed to converge (status=1):\n",
      "STOP: TOTAL NO. of ITERATIONS REACHED LIMIT.\n",
      "\n",
      "Increase the number of iterations (max_iter) or scale the data as shown in:\n",
      "    https://scikit-learn.org/stable/modules/preprocessing.html\n",
      "Please also refer to the documentation for alternative solver options:\n",
      "    https://scikit-learn.org/stable/modules/linear_model.html#logistic-regression\n",
      "  extra_warning_msg=_LOGISTIC_SOLVER_CONVERGENCE_MSG)\n",
      "/Users/stlanier/opt/anaconda3/envs/flatiron/lib/python3.6/site-packages/sklearn/linear_model/_logistic.py:765: ConvergenceWarning: lbfgs failed to converge (status=1):\n",
      "STOP: TOTAL NO. of ITERATIONS REACHED LIMIT.\n",
      "\n",
      "Increase the number of iterations (max_iter) or scale the data as shown in:\n",
      "    https://scikit-learn.org/stable/modules/preprocessing.html\n",
      "Please also refer to the documentation for alternative solver options:\n",
      "    https://scikit-learn.org/stable/modules/linear_model.html#logistic-regression\n",
      "  extra_warning_msg=_LOGISTIC_SOLVER_CONVERGENCE_MSG)\n",
      "/Users/stlanier/opt/anaconda3/envs/flatiron/lib/python3.6/site-packages/sklearn/metrics/_classification.py:1245: UndefinedMetricWarning: Precision and F-score are ill-defined and being set to 0.0 in labels with no predicted samples. Use `zero_division` parameter to control this behavior.\n",
      "  _warn_prf(average, modifier, msg_start, len(result))\n",
      "/Users/stlanier/opt/anaconda3/envs/flatiron/lib/python3.6/site-packages/sklearn/metrics/_classification.py:1245: UndefinedMetricWarning: Precision and F-score are ill-defined and being set to 0.0 in labels with no predicted samples. Use `zero_division` parameter to control this behavior.\n",
      "  _warn_prf(average, modifier, msg_start, len(result))\n",
      "/Users/stlanier/opt/anaconda3/envs/flatiron/lib/python3.6/site-packages/sklearn/metrics/_classification.py:1245: UndefinedMetricWarning: Precision and F-score are ill-defined and being set to 0.0 in labels with no predicted samples. Use `zero_division` parameter to control this behavior.\n",
      "  _warn_prf(average, modifier, msg_start, len(result))\n",
      "/Users/stlanier/opt/anaconda3/envs/flatiron/lib/python3.6/site-packages/sklearn/metrics/_classification.py:1245: UndefinedMetricWarning: Precision and F-score are ill-defined and being set to 0.0 in labels with no predicted samples. Use `zero_division` parameter to control this behavior.\n",
      "  _warn_prf(average, modifier, msg_start, len(result))\n",
      "/Users/stlanier/opt/anaconda3/envs/flatiron/lib/python3.6/site-packages/sklearn/metrics/_classification.py:1245: UndefinedMetricWarning: Precision and F-score are ill-defined and being set to 0.0 in labels with no predicted samples. Use `zero_division` parameter to control this behavior.\n",
      "  _warn_prf(average, modifier, msg_start, len(result))\n",
      "/Users/stlanier/opt/anaconda3/envs/flatiron/lib/python3.6/site-packages/sklearn/metrics/_classification.py:1245: UndefinedMetricWarning: Precision and F-score are ill-defined and being set to 0.0 in labels with no predicted samples. Use `zero_division` parameter to control this behavior.\n",
      "  _warn_prf(average, modifier, msg_start, len(result))\n"
     ]
    },
    {
     "name": "stdout",
     "output_type": "stream",
     "text": [
      "LogisticRegressionCV(cv=5)\n",
      "--Train--\n",
      "[[ 0.  86.1 13.9]\n",
      " [ 0.  91.7  8.3]\n",
      " [ 0.  75.8 24.2]]\n",
      "\n",
      "                                    precision    recall  f1-score   support\n",
      "\n",
      "                  Negative emotion       0.00      0.00      0.00       389\n",
      "No emotion toward brand or product       0.64      0.92      0.76      3767\n",
      "                  Positive emotion       0.58      0.24      0.34      2100\n",
      "\n",
      "                          accuracy                           0.63      6256\n",
      "                         macro avg       0.41      0.39      0.37      6256\n",
      "                      weighted avg       0.58      0.63      0.57      6256\n",
      "\n",
      "--Validation--\n",
      "[[ 0.  84.7 15.3]\n",
      " [ 0.  91.1  8.9]\n",
      " [ 0.  75.1 24.9]]\n",
      "\n",
      "                                    precision    recall  f1-score   support\n",
      "\n",
      "                  Negative emotion       0.00      0.00      0.00        85\n",
      "No emotion toward brand or product       0.64      0.91      0.75       797\n",
      "                  Positive emotion       0.58      0.25      0.35       458\n",
      "\n",
      "                          accuracy                           0.63      1340\n",
      "                         macro avg       0.40      0.39      0.37      1340\n",
      "                      weighted avg       0.57      0.63      0.56      1340\n",
      "\n",
      "RandomForestClassifier()\n",
      "--Train--\n",
      "[[99.5  0.5  0. ]\n",
      " [ 0.  99.8  0.2]\n",
      " [ 0.   1.3 98.7]]\n",
      "\n",
      "                                    precision    recall  f1-score   support\n",
      "\n",
      "                  Negative emotion       1.00      0.99      1.00       389\n",
      "No emotion toward brand or product       0.99      1.00      0.99      3767\n",
      "                  Positive emotion       1.00      0.99      0.99      2100\n",
      "\n",
      "                          accuracy                           0.99      6256\n",
      "                         macro avg       1.00      0.99      0.99      6256\n",
      "                      weighted avg       0.99      0.99      0.99      6256\n",
      "\n",
      "--Validation--\n",
      "[[ 3.5 68.2 28.2]\n",
      " [ 1.8 76.  22.2]\n",
      " [ 1.3 64.8 33.8]]\n",
      "\n",
      "                                    precision    recall  f1-score   support\n",
      "\n",
      "                  Negative emotion       0.13      0.04      0.06        85\n",
      "No emotion toward brand or product       0.63      0.76      0.69       797\n",
      "                  Positive emotion       0.44      0.34      0.38       458\n",
      "\n",
      "                          accuracy                           0.57      1340\n",
      "                         macro avg       0.40      0.38      0.38      1340\n",
      "                      weighted avg       0.53      0.57      0.54      1340\n",
      "\n",
      "SVC()\n",
      "--Train--\n",
      "[[  0. 100.   0.]\n",
      " [  0. 100.   0.]\n",
      " [  0. 100.   0.]]\n",
      "\n",
      "                                    precision    recall  f1-score   support\n",
      "\n",
      "                  Negative emotion       0.00      0.00      0.00       389\n",
      "No emotion toward brand or product       0.60      1.00      0.75      3767\n",
      "                  Positive emotion       0.00      0.00      0.00      2100\n",
      "\n",
      "                          accuracy                           0.60      6256\n",
      "                         macro avg       0.20      0.33      0.25      6256\n",
      "                      weighted avg       0.36      0.60      0.45      6256\n",
      "\n",
      "--Validation--\n"
     ]
    },
    {
     "name": "stderr",
     "output_type": "stream",
     "text": [
      "/Users/stlanier/opt/anaconda3/envs/flatiron/lib/python3.6/site-packages/sklearn/metrics/_classification.py:1245: UndefinedMetricWarning: Precision and F-score are ill-defined and being set to 0.0 in labels with no predicted samples. Use `zero_division` parameter to control this behavior.\n",
      "  _warn_prf(average, modifier, msg_start, len(result))\n",
      "/Users/stlanier/opt/anaconda3/envs/flatiron/lib/python3.6/site-packages/sklearn/metrics/_classification.py:1245: UndefinedMetricWarning: Precision and F-score are ill-defined and being set to 0.0 in labels with no predicted samples. Use `zero_division` parameter to control this behavior.\n",
      "  _warn_prf(average, modifier, msg_start, len(result))\n",
      "/Users/stlanier/opt/anaconda3/envs/flatiron/lib/python3.6/site-packages/sklearn/metrics/_classification.py:1245: UndefinedMetricWarning: Precision and F-score are ill-defined and being set to 0.0 in labels with no predicted samples. Use `zero_division` parameter to control this behavior.\n",
      "  _warn_prf(average, modifier, msg_start, len(result))\n"
     ]
    },
    {
     "name": "stdout",
     "output_type": "stream",
     "text": [
      "[[  0. 100.   0.]\n",
      " [  0. 100.   0.]\n",
      " [  0. 100.   0.]]\n",
      "\n",
      "                                    precision    recall  f1-score   support\n",
      "\n",
      "                  Negative emotion       0.00      0.00      0.00        85\n",
      "No emotion toward brand or product       0.59      1.00      0.75       797\n",
      "                  Positive emotion       0.00      0.00      0.00       458\n",
      "\n",
      "                          accuracy                           0.59      1340\n",
      "                         macro avg       0.20      0.33      0.25      1340\n",
      "                      weighted avg       0.35      0.59      0.44      1340\n",
      "\n"
     ]
    },
    {
     "name": "stderr",
     "output_type": "stream",
     "text": [
      "/Users/stlanier/opt/anaconda3/envs/flatiron/lib/python3.6/site-packages/sklearn/metrics/_classification.py:1245: UndefinedMetricWarning: Precision and F-score are ill-defined and being set to 0.0 in labels with no predicted samples. Use `zero_division` parameter to control this behavior.\n",
      "  _warn_prf(average, modifier, msg_start, len(result))\n",
      "/Users/stlanier/opt/anaconda3/envs/flatiron/lib/python3.6/site-packages/sklearn/metrics/_classification.py:1245: UndefinedMetricWarning: Precision and F-score are ill-defined and being set to 0.0 in labels with no predicted samples. Use `zero_division` parameter to control this behavior.\n",
      "  _warn_prf(average, modifier, msg_start, len(result))\n",
      "/Users/stlanier/opt/anaconda3/envs/flatiron/lib/python3.6/site-packages/sklearn/metrics/_classification.py:1245: UndefinedMetricWarning: Precision and F-score are ill-defined and being set to 0.0 in labels with no predicted samples. Use `zero_division` parameter to control this behavior.\n",
      "  _warn_prf(average, modifier, msg_start, len(result))\n"
     ]
    }
   ],
   "source": [
    "for clf in clfs:\n",
    "    clf.fit(X_train_w2v, y_train)\n",
    "    print(f'{clf}')\n",
    "    print('--Train--')\n",
    "    util.report(y_train, clf.predict(X_train_w2v))\n",
    "    print('--Validation--')\n",
    "    util.report(y_train_val, clf.predict(X_train_val_w2v))"
   ]
  },
  {
   "cell_type": "code",
   "execution_count": null,
   "id": "fitted-friendly",
   "metadata": {},
   "outputs": [],
   "source": []
  }
 ],
 "metadata": {
  "kernelspec": {
   "display_name": "Python 3",
   "language": "python",
   "name": "python3"
  },
  "language_info": {
   "codemirror_mode": {
    "name": "ipython",
    "version": 3
   },
   "file_extension": ".py",
   "mimetype": "text/x-python",
   "name": "python",
   "nbconvert_exporter": "python",
   "pygments_lexer": "ipython3",
   "version": "3.6.12"
  }
 },
 "nbformat": 4,
 "nbformat_minor": 5
}
