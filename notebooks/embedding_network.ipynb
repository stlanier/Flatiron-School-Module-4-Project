{
 "cells": [
  {
   "cell_type": "code",
   "execution_count": 1,
   "id": "sufficient-kennedy",
   "metadata": {},
   "outputs": [
    {
     "name": "stderr",
     "output_type": "stream",
     "text": [
      "Using TensorFlow backend.\n"
     ]
    }
   ],
   "source": [
    "import numpy as np\n",
    "import pandas as pd\n",
    "import keras\n",
    "import pickle\n",
    "import sklearn\n",
    "import analysis_util as util\n",
    "from imblearn.over_sampling import SMOTE\n",
    "from sklearn.linear_model import LogisticRegressionCV\n",
    "from sklearn.model_selection import GridSearchCV\n",
    "from sklearn.decomposition import TruncatedSVD\n",
    "from sklearn.metrics import roc_curve, auc, plot_roc_curve\n",
    "from sklearn.preprocessing import label_binarize\n",
    "from sklearn.ensemble import RandomForestClassifier, IsolationForest\n",
    "from sklearn.naive_bayes import MultinomialNB\n",
    "from sklearn.svm import SVC\n",
    "from keras import metrics, models, layers, optimizers\n",
    "import matplotlib.pyplot as plt\n",
    "%matplotlib inline\n",
    "np.random.seed(42)"
   ]
  },
  {
   "cell_type": "code",
   "execution_count": null,
   "id": "improving-surgeon",
   "metadata": {},
   "outputs": [],
   "source": [
    "# class_weight = dict(1/pd.Series(neg_y_train).value_counts(normalize=True))\n",
    "# class_weight = {0:1000000, 1:1}\n",
    "\n",
    "clf_ann = models.Sequential()\n",
    "\n",
    "clf_ann.add(layers.Dropout(.3, input_shape=(X_train.shape[1], )))\n",
    "clf_ann.add(layers.Dense(1000, activation='relu'))\n",
    "clf_ann.add(layers.Dropout(.3))\n",
    "clf_ann.add(layers.Dense(500, activation='relu'))\n",
    "clf_ann.add(layers.Dropout(.3))\n",
    "clf_ann.add(layers.Dense(100, activation='relu'))\n",
    "clf_ann.add(layers.Dropout(.3))\n",
    "clf_ann.add(layers.Dense(1, activation='sigmoid'))\n",
    "clf_ann.compile(optimizer='SGD', \n",
    "                loss='binary_crossentropy',\n",
    "                metrics=[util.get_f1])\n",
    "history = clf_ann.fit(X_train, neg_y_train, epochs=20, batch_size=100, validation_data=(X_train_val, neg_y_train_val))"
   ]
  }
 ],
 "metadata": {
  "kernelspec": {
   "display_name": "Python 3",
   "language": "python",
   "name": "python3"
  },
  "language_info": {
   "codemirror_mode": {
    "name": "ipython",
    "version": 3
   },
   "file_extension": ".py",
   "mimetype": "text/x-python",
   "name": "python",
   "nbconvert_exporter": "python",
   "pygments_lexer": "ipython3",
   "version": "3.6.12"
  }
 },
 "nbformat": 4,
 "nbformat_minor": 5
}
