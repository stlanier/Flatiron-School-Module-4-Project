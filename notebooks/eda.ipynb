{
 "cells": [
  {
   "cell_type": "markdown",
   "metadata": {},
   "source": [
    "# Exploratory Data Analysis"
   ]
  },
  {
   "cell_type": "markdown",
   "metadata": {},
   "source": [
    "## Imports"
   ]
  },
  {
   "cell_type": "code",
   "execution_count": 39,
   "metadata": {
    "scrolled": true
   },
   "outputs": [],
   "source": [
    "import preprocessing as prep\n",
    "import numpy as np\n",
    "import pandas as pd\n",
    "import nltk\n",
    "import string\n",
    "import pickle\n",
    "from nltk import word_tokenize, FreqDist\n",
    "from nltk.corpus import stopwords\n",
    "from nltk.stem import WordNetLemmatizer\n",
    "from sklearn.feature_extraction.text import TfidfVectorizer, CountVectorizer\n",
    "import matplotlib.pyplot as plt\n",
    "import seaborn as sns\n",
    "%matplotlib inline\n",
    "np.random.seed(42)"
   ]
  },
  {
   "cell_type": "code",
   "execution_count": 40,
   "metadata": {},
   "outputs": [],
   "source": [
    "sns.set_style('whitegrid')"
   ]
  },
  {
   "cell_type": "code",
   "execution_count": 3,
   "metadata": {},
   "outputs": [],
   "source": [
    "df = pd.read_csv('../data/raw.csv', encoding='latin1')\n",
    "df.columns = ['tweet', 'product', 'emotion']"
   ]
  },
  {
   "cell_type": "code",
   "execution_count": 4,
   "metadata": {},
   "outputs": [
    {
     "data": {
      "text/html": [
       "<div>\n",
       "<style scoped>\n",
       "    .dataframe tbody tr th:only-of-type {\n",
       "        vertical-align: middle;\n",
       "    }\n",
       "\n",
       "    .dataframe tbody tr th {\n",
       "        vertical-align: top;\n",
       "    }\n",
       "\n",
       "    .dataframe thead th {\n",
       "        text-align: right;\n",
       "    }\n",
       "</style>\n",
       "<table border=\"1\" class=\"dataframe\">\n",
       "  <thead>\n",
       "    <tr style=\"text-align: right;\">\n",
       "      <th></th>\n",
       "      <th>tweet</th>\n",
       "      <th>product</th>\n",
       "      <th>emotion</th>\n",
       "    </tr>\n",
       "  </thead>\n",
       "  <tbody>\n",
       "    <tr>\n",
       "      <th>0</th>\n",
       "      <td>.@wesley83 I have a 3G iPhone. After 3 hrs twe...</td>\n",
       "      <td>iPhone</td>\n",
       "      <td>Negative emotion</td>\n",
       "    </tr>\n",
       "    <tr>\n",
       "      <th>1</th>\n",
       "      <td>@jessedee Know about @fludapp ? Awesome iPad/i...</td>\n",
       "      <td>iPad or iPhone App</td>\n",
       "      <td>Positive emotion</td>\n",
       "    </tr>\n",
       "    <tr>\n",
       "      <th>2</th>\n",
       "      <td>@swonderlin Can not wait for #iPad 2 also. The...</td>\n",
       "      <td>iPad</td>\n",
       "      <td>Positive emotion</td>\n",
       "    </tr>\n",
       "    <tr>\n",
       "      <th>3</th>\n",
       "      <td>@sxsw I hope this year's festival isn't as cra...</td>\n",
       "      <td>iPad or iPhone App</td>\n",
       "      <td>Negative emotion</td>\n",
       "    </tr>\n",
       "    <tr>\n",
       "      <th>4</th>\n",
       "      <td>@sxtxstate great stuff on Fri #SXSW: Marissa M...</td>\n",
       "      <td>Google</td>\n",
       "      <td>Positive emotion</td>\n",
       "    </tr>\n",
       "    <tr>\n",
       "      <th>5</th>\n",
       "      <td>@teachntech00 New iPad Apps For #SpeechTherapy...</td>\n",
       "      <td>NaN</td>\n",
       "      <td>No emotion toward brand or product</td>\n",
       "    </tr>\n",
       "    <tr>\n",
       "      <th>6</th>\n",
       "      <td>NaN</td>\n",
       "      <td>NaN</td>\n",
       "      <td>No emotion toward brand or product</td>\n",
       "    </tr>\n",
       "    <tr>\n",
       "      <th>7</th>\n",
       "      <td>#SXSW is just starting, #CTIA is around the co...</td>\n",
       "      <td>Android</td>\n",
       "      <td>Positive emotion</td>\n",
       "    </tr>\n",
       "    <tr>\n",
       "      <th>8</th>\n",
       "      <td>Beautifully smart and simple idea RT @madebyma...</td>\n",
       "      <td>iPad or iPhone App</td>\n",
       "      <td>Positive emotion</td>\n",
       "    </tr>\n",
       "    <tr>\n",
       "      <th>9</th>\n",
       "      <td>Counting down the days to #sxsw plus strong Ca...</td>\n",
       "      <td>Apple</td>\n",
       "      <td>Positive emotion</td>\n",
       "    </tr>\n",
       "    <tr>\n",
       "      <th>10</th>\n",
       "      <td>Excited to meet the @samsungmobileus at #sxsw ...</td>\n",
       "      <td>Android</td>\n",
       "      <td>Positive emotion</td>\n",
       "    </tr>\n",
       "    <tr>\n",
       "      <th>11</th>\n",
       "      <td>Find &amp;amp; Start Impromptu Parties at #SXSW Wi...</td>\n",
       "      <td>Android App</td>\n",
       "      <td>Positive emotion</td>\n",
       "    </tr>\n",
       "    <tr>\n",
       "      <th>12</th>\n",
       "      <td>Foursquare ups the game, just in time for #SXS...</td>\n",
       "      <td>Android App</td>\n",
       "      <td>Positive emotion</td>\n",
       "    </tr>\n",
       "    <tr>\n",
       "      <th>13</th>\n",
       "      <td>Gotta love this #SXSW Google Calendar featurin...</td>\n",
       "      <td>Other Google product or service</td>\n",
       "      <td>Positive emotion</td>\n",
       "    </tr>\n",
       "    <tr>\n",
       "      <th>14</th>\n",
       "      <td>Great #sxsw ipad app from @madebymany: http://...</td>\n",
       "      <td>iPad or iPhone App</td>\n",
       "      <td>Positive emotion</td>\n",
       "    </tr>\n",
       "    <tr>\n",
       "      <th>15</th>\n",
       "      <td>haha, awesomely rad iPad app by @madebymany ht...</td>\n",
       "      <td>iPad or iPhone App</td>\n",
       "      <td>Positive emotion</td>\n",
       "    </tr>\n",
       "    <tr>\n",
       "      <th>16</th>\n",
       "      <td>Holler Gram for iPad on the iTunes App Store -...</td>\n",
       "      <td>NaN</td>\n",
       "      <td>No emotion toward brand or product</td>\n",
       "    </tr>\n",
       "    <tr>\n",
       "      <th>17</th>\n",
       "      <td>I just noticed DST is coming this weekend. How...</td>\n",
       "      <td>iPhone</td>\n",
       "      <td>Negative emotion</td>\n",
       "    </tr>\n",
       "    <tr>\n",
       "      <th>18</th>\n",
       "      <td>Just added my #SXSW flights to @planely. Match...</td>\n",
       "      <td>iPad or iPhone App</td>\n",
       "      <td>Positive emotion</td>\n",
       "    </tr>\n",
       "    <tr>\n",
       "      <th>19</th>\n",
       "      <td>Must have #SXSW app! RT @malbonster: Lovely re...</td>\n",
       "      <td>iPad or iPhone App</td>\n",
       "      <td>Positive emotion</td>\n",
       "    </tr>\n",
       "  </tbody>\n",
       "</table>\n",
       "</div>"
      ],
      "text/plain": [
       "                                                tweet  \\\n",
       "0   .@wesley83 I have a 3G iPhone. After 3 hrs twe...   \n",
       "1   @jessedee Know about @fludapp ? Awesome iPad/i...   \n",
       "2   @swonderlin Can not wait for #iPad 2 also. The...   \n",
       "3   @sxsw I hope this year's festival isn't as cra...   \n",
       "4   @sxtxstate great stuff on Fri #SXSW: Marissa M...   \n",
       "5   @teachntech00 New iPad Apps For #SpeechTherapy...   \n",
       "6                                                 NaN   \n",
       "7   #SXSW is just starting, #CTIA is around the co...   \n",
       "8   Beautifully smart and simple idea RT @madebyma...   \n",
       "9   Counting down the days to #sxsw plus strong Ca...   \n",
       "10  Excited to meet the @samsungmobileus at #sxsw ...   \n",
       "11  Find &amp; Start Impromptu Parties at #SXSW Wi...   \n",
       "12  Foursquare ups the game, just in time for #SXS...   \n",
       "13  Gotta love this #SXSW Google Calendar featurin...   \n",
       "14  Great #sxsw ipad app from @madebymany: http://...   \n",
       "15  haha, awesomely rad iPad app by @madebymany ht...   \n",
       "16  Holler Gram for iPad on the iTunes App Store -...   \n",
       "17  I just noticed DST is coming this weekend. How...   \n",
       "18  Just added my #SXSW flights to @planely. Match...   \n",
       "19  Must have #SXSW app! RT @malbonster: Lovely re...   \n",
       "\n",
       "                            product                             emotion  \n",
       "0                            iPhone                    Negative emotion  \n",
       "1                iPad or iPhone App                    Positive emotion  \n",
       "2                              iPad                    Positive emotion  \n",
       "3                iPad or iPhone App                    Negative emotion  \n",
       "4                            Google                    Positive emotion  \n",
       "5                               NaN  No emotion toward brand or product  \n",
       "6                               NaN  No emotion toward brand or product  \n",
       "7                           Android                    Positive emotion  \n",
       "8                iPad or iPhone App                    Positive emotion  \n",
       "9                             Apple                    Positive emotion  \n",
       "10                          Android                    Positive emotion  \n",
       "11                      Android App                    Positive emotion  \n",
       "12                      Android App                    Positive emotion  \n",
       "13  Other Google product or service                    Positive emotion  \n",
       "14               iPad or iPhone App                    Positive emotion  \n",
       "15               iPad or iPhone App                    Positive emotion  \n",
       "16                              NaN  No emotion toward brand or product  \n",
       "17                           iPhone                    Negative emotion  \n",
       "18               iPad or iPhone App                    Positive emotion  \n",
       "19               iPad or iPhone App                    Positive emotion  "
      ]
     },
     "execution_count": 4,
     "metadata": {},
     "output_type": "execute_result"
    }
   ],
   "source": [
    "df.head(20)"
   ]
  },
  {
   "cell_type": "markdown",
   "metadata": {},
   "source": [
    "## Analysis of Positive and Negative Reviews"
   ]
  },
  {
   "cell_type": "code",
   "execution_count": 5,
   "metadata": {},
   "outputs": [],
   "source": [
    "negative = df[df['emotion'] == 'Negative emotion']\n",
    "positive = df[df['emotion'] == 'Positive emotion']"
   ]
  },
  {
   "cell_type": "code",
   "execution_count": 6,
   "metadata": {},
   "outputs": [],
   "source": [
    "xpos = positive['tweet']\n",
    "xneg = negative['tweet']"
   ]
  },
  {
   "cell_type": "code",
   "execution_count": 7,
   "metadata": {},
   "outputs": [
    {
     "data": {
      "text/plain": [
       "1    @jessedee Know about @fludapp ? Awesome iPad/i...\n",
       "2    @swonderlin Can not wait for #iPad 2 also. The...\n",
       "4    @sxtxstate great stuff on Fri #SXSW: Marissa M...\n",
       "7    #SXSW is just starting, #CTIA is around the co...\n",
       "8    Beautifully smart and simple idea RT @madebyma...\n",
       "Name: tweet, dtype: object"
      ]
     },
     "execution_count": 7,
     "metadata": {},
     "output_type": "execute_result"
    }
   ],
   "source": [
    "xpos.head()"
   ]
  },
  {
   "cell_type": "code",
   "execution_count": 11,
   "metadata": {},
   "outputs": [
    {
     "name": "stderr",
     "output_type": "stream",
     "text": [
      "[nltk_data] Downloading package punkt to /Users/stlanier/nltk_data...\n",
      "[nltk_data]   Package punkt is already up-to-date!\n"
     ]
    },
    {
     "data": {
      "text/plain": [
       "True"
      ]
     },
     "execution_count": 11,
     "metadata": {},
     "output_type": "execute_result"
    }
   ],
   "source": [
    "nltk.download('punkt')"
   ]
  },
  {
   "cell_type": "code",
   "execution_count": 13,
   "metadata": {
    "scrolled": false
   },
   "outputs": [],
   "source": [
    "xpos = [x.lower() for x in xpos]\n",
    "xpos_tokens = [word_tokenize(x) for x in xpos]\n",
    "xneg = [x.lower() for x in xneg]\n",
    "xneg_tokens = [word_tokenize(x) for x in xneg]"
   ]
  },
  {
   "cell_type": "code",
   "execution_count": 14,
   "metadata": {},
   "outputs": [],
   "source": [
    "## xpos and xneg are 2D arrays now, but they need to be 1D for FreqDist(). I make them 1D here.\n",
    "xpos_tokens_total = []\n",
    "for x in xpos_tokens:\n",
    "    xpos_tokens_total += x\n",
    "    \n",
    "xneg_tokens_total = []\n",
    "for x in xneg_tokens:\n",
    "    xneg_tokens_total += x"
   ]
  },
  {
   "cell_type": "code",
   "execution_count": 15,
   "metadata": {},
   "outputs": [],
   "source": [
    "fd_pos = FreqDist(xpos_tokens_total)\n",
    "fd_neg = FreqDist(xneg_tokens_total)"
   ]
  },
  {
   "cell_type": "code",
   "execution_count": 16,
   "metadata": {},
   "outputs": [
    {
     "name": "stdout",
     "output_type": "stream",
     "text": [
      "There are 5518 unique tokens for positive reviews.\n"
     ]
    },
    {
     "data": {
      "text/plain": [
       "[('#', 5025),\n",
       " ('sxsw', 3105),\n",
       " ('@', 2220),\n",
       " ('mention', 2194),\n",
       " ('.', 2119),\n",
       " ('the', 1596),\n",
       " ('!', 1266),\n",
       " ('link', 1217),\n",
       " ('{', 1213),\n",
       " ('}', 1213),\n",
       " ('to', 1159),\n",
       " (',', 1100),\n",
       " ('at', 1023),\n",
       " ('ipad', 1003),\n",
       " ('rt', 937),\n",
       " ('apple', 925),\n",
       " ('for', 908),\n",
       " ('a', 784),\n",
       " (';', 781),\n",
       " ('&', 736),\n",
       " ('google', 716),\n",
       " ('is', 654),\n",
       " ('of', 639),\n",
       " ('in', 632),\n",
       " ('i', 625),\n",
       " (':', 613),\n",
       " ('and', 581),\n",
       " ('store', 545),\n",
       " ('iphone', 523),\n",
       " (\"'s\", 493),\n",
       " ('it', 472),\n",
       " ('2', 465),\n",
       " ('quot', 464),\n",
       " ('on', 442),\n",
       " ('app', 396),\n",
       " ('new', 360),\n",
       " ('?', 343),\n",
       " ('-', 330),\n",
       " ('an', 329),\n",
       " ('you', 327)]"
      ]
     },
     "execution_count": 16,
     "metadata": {},
     "output_type": "execute_result"
    }
   ],
   "source": [
    "print(f'There are {len(set(xpos_tokens_total))} unique tokens for positive reviews.')\n",
    "fd_pos.most_common(40)"
   ]
  },
  {
   "cell_type": "code",
   "execution_count": 17,
   "metadata": {},
   "outputs": [
    {
     "name": "stdout",
     "output_type": "stream",
     "text": [
      "There are 2267 unique tokens for negative reviews.\n"
     ]
    },
    {
     "data": {
      "text/plain": [
       "[('#', 912),\n",
       " ('sxsw', 581),\n",
       " ('.', 490),\n",
       " ('@', 315),\n",
       " ('mention', 313),\n",
       " ('the', 308),\n",
       " ('to', 256),\n",
       " (',', 221),\n",
       " (';', 212),\n",
       " ('&', 209),\n",
       " ('ipad', 188),\n",
       " ('i', 177),\n",
       " ('quot', 175),\n",
       " ('is', 169),\n",
       " ('iphone', 162),\n",
       " ('a', 154),\n",
       " ('google', 145),\n",
       " ('at', 142),\n",
       " ('rt', 138),\n",
       " ('of', 132),\n",
       " ('apple', 120),\n",
       " ('for', 120),\n",
       " ('in', 120),\n",
       " ('?', 119),\n",
       " ('it', 111),\n",
       " (':', 111),\n",
       " ('{', 102),\n",
       " ('link', 102),\n",
       " ('}', 102),\n",
       " ('my', 102),\n",
       " ('on', 100),\n",
       " ('!', 95),\n",
       " ('and', 95),\n",
       " (\"n't\", 87),\n",
       " ('not', 81),\n",
       " (\"'s\", 77),\n",
       " ('an', 73),\n",
       " ('that', 63),\n",
       " ('-', 62),\n",
       " ('app', 60)]"
      ]
     },
     "execution_count": 17,
     "metadata": {},
     "output_type": "execute_result"
    }
   ],
   "source": [
    "print(f'There are {len(set(xneg_tokens_total))} unique tokens for negative reviews.')\n",
    "fd_neg.most_common(40)"
   ]
  },
  {
   "cell_type": "markdown",
   "metadata": {},
   "source": [
    "The two frequency distributions have a lot in common––mostly stop words, punctuation, and brand names––though there are some notable differences: for example, \"!\" is one of the most common tokens in positive reviews, but not negative ones; \"not\" and \"n't\" are two of the most common tokens in negative reviews, but not positive ones.\n",
    "\n",
    "To get a better idea of the different tokens in these two groups, I remove stop words and punctuation (except \"!\") from both lists."
   ]
  },
  {
   "cell_type": "code",
   "execution_count": 19,
   "metadata": {},
   "outputs": [
    {
     "name": "stderr",
     "output_type": "stream",
     "text": [
      "[nltk_data] Downloading package stopwords to\n",
      "[nltk_data]     /Users/stlanier/nltk_data...\n",
      "[nltk_data]   Unzipping corpora/stopwords.zip.\n"
     ]
    },
    {
     "data": {
      "text/plain": [
       "True"
      ]
     },
     "execution_count": 19,
     "metadata": {},
     "output_type": "execute_result"
    }
   ],
   "source": [
    "nltk.download('stopwords')"
   ]
  },
  {
   "cell_type": "code",
   "execution_count": 20,
   "metadata": {},
   "outputs": [],
   "source": [
    "stopwords_list = stopwords.words('english') + ['sxsw']\n",
    "stopwords_list += list(string.punctuation[1:])"
   ]
  },
  {
   "cell_type": "code",
   "execution_count": 21,
   "metadata": {},
   "outputs": [],
   "source": [
    "xpos_tokens_total = [x for x in xpos_tokens_total if x not in stopwords_list]\n",
    "xneg_tokens_total = [x for x in xneg_tokens_total if x not in stopwords_list]"
   ]
  },
  {
   "cell_type": "code",
   "execution_count": 22,
   "metadata": {},
   "outputs": [],
   "source": [
    "for review in xpos:\n",
    "    review = [x for x in review if x not in stopwords_list]\n",
    "for review in xneg:\n",
    "    review = [x for x in review if x not in stopwords_list]"
   ]
  },
  {
   "cell_type": "code",
   "execution_count": 23,
   "metadata": {},
   "outputs": [],
   "source": [
    "fd_pos = FreqDist(xpos_tokens_total)\n",
    "fd_neg = FreqDist(xneg_tokens_total)"
   ]
  },
  {
   "cell_type": "code",
   "execution_count": 24,
   "metadata": {},
   "outputs": [
    {
     "name": "stdout",
     "output_type": "stream",
     "text": [
      "There are 5369 unique tokens for positive reviews.\n"
     ]
    },
    {
     "data": {
      "text/plain": [
       "[('mention', 2194),\n",
       " ('!', 1266),\n",
       " ('link', 1217),\n",
       " ('ipad', 1003),\n",
       " ('rt', 937),\n",
       " ('apple', 925),\n",
       " ('google', 716),\n",
       " ('store', 545),\n",
       " ('iphone', 523),\n",
       " (\"'s\", 493),\n",
       " ('2', 465),\n",
       " ('quot', 464),\n",
       " ('app', 396),\n",
       " ('new', 360),\n",
       " ('austin', 294),\n",
       " ('amp', 211),\n",
       " ('ipad2', 209),\n",
       " ('...', 208),\n",
       " ('android', 198),\n",
       " ('launch', 160),\n",
       " ('get', 157),\n",
       " (\"n't\", 152),\n",
       " ('pop-up', 151),\n",
       " ('one', 146),\n",
       " ('great', 137),\n",
       " ('party', 132),\n",
       " ('line', 131),\n",
       " ('time', 128),\n",
       " ('free', 125),\n",
       " ('social', 124),\n",
       " ('via', 120),\n",
       " ('cool', 120),\n",
       " ('circles', 117),\n",
       " (\"'m\", 116),\n",
       " ('like', 114),\n",
       " ('today', 113),\n",
       " ('maps', 105),\n",
       " ('mobile', 101),\n",
       " ('day', 101),\n",
       " ('sxswi', 95)]"
      ]
     },
     "execution_count": 24,
     "metadata": {},
     "output_type": "execute_result"
    }
   ],
   "source": [
    "print(f'There are {len(set(xpos_tokens_total))} unique tokens for positive reviews.')\n",
    "fd_pos.most_common(40)"
   ]
  },
  {
   "cell_type": "code",
   "execution_count": 25,
   "metadata": {},
   "outputs": [
    {
     "name": "stdout",
     "output_type": "stream",
     "text": [
      "There are 2130 unique tokens for negative reviews.\n"
     ]
    },
    {
     "data": {
      "text/plain": [
       "[('mention', 313),\n",
       " ('ipad', 188),\n",
       " ('quot', 175),\n",
       " ('iphone', 162),\n",
       " ('google', 145),\n",
       " ('rt', 138),\n",
       " ('apple', 120),\n",
       " ('link', 102),\n",
       " ('!', 95),\n",
       " (\"n't\", 87),\n",
       " (\"'s\", 77),\n",
       " ('app', 60),\n",
       " ('2', 58),\n",
       " ('store', 46),\n",
       " ('new', 43),\n",
       " ('like', 39),\n",
       " ('...', 38),\n",
       " ('circles', 34),\n",
       " ('social', 31),\n",
       " ('apps', 30),\n",
       " ('people', 29),\n",
       " ('design', 28),\n",
       " ('need', 25),\n",
       " ('android', 24),\n",
       " ('austin', 24),\n",
       " ('get', 24),\n",
       " ('one', 23),\n",
       " ('amp', 22),\n",
       " ('launch', 22),\n",
       " ('would', 21),\n",
       " (\"'ve\", 18),\n",
       " ('news', 18),\n",
       " ('today', 18),\n",
       " ('time', 18),\n",
       " ('think', 18),\n",
       " ('headaches', 17),\n",
       " ('go', 17),\n",
       " ('long', 17),\n",
       " ('fail', 17),\n",
       " ('line', 16)]"
      ]
     },
     "execution_count": 25,
     "metadata": {},
     "output_type": "execute_result"
    }
   ],
   "source": [
    "print(f'There are {len(set(xneg_tokens_total))} unique tokens for negative reviews.')\n",
    "fd_neg.most_common(40)"
   ]
  },
  {
   "cell_type": "markdown",
   "metadata": {},
   "source": [
    "These two lists are a little more telling now. The brand names are still included, but otherwise these two lists appear to be more robust than before. With more time, it would be interesting to investigate what bigrams reveal about these two groups, or how positive/negative reviews break down by brand/product. "
   ]
  },
  {
   "cell_type": "markdown",
   "metadata": {},
   "source": [
    "## N-grams"
   ]
  },
  {
   "cell_type": "markdown",
   "metadata": {},
   "source": [
    "### Bigrams"
   ]
  },
  {
   "cell_type": "code",
   "execution_count": 26,
   "metadata": {},
   "outputs": [
    {
     "data": {
      "text/plain": [
       "\"@jessedee know about @fludapp ? awesome ipad/iphone app that you'll likely appreciate for its design. also, they're giving free ts at #sxsw\""
      ]
     },
     "execution_count": 26,
     "metadata": {},
     "output_type": "execute_result"
    }
   ],
   "source": [
    "xpos[0]"
   ]
  },
  {
   "cell_type": "code",
   "execution_count": 27,
   "metadata": {
    "scrolled": false
   },
   "outputs": [
    {
     "data": {
      "text/html": [
       "<div>\n",
       "<style scoped>\n",
       "    .dataframe tbody tr th:only-of-type {\n",
       "        vertical-align: middle;\n",
       "    }\n",
       "\n",
       "    .dataframe tbody tr th {\n",
       "        vertical-align: top;\n",
       "    }\n",
       "\n",
       "    .dataframe thead th {\n",
       "        text-align: right;\n",
       "    }\n",
       "</style>\n",
       "<table border=\"1\" class=\"dataframe\">\n",
       "  <thead>\n",
       "    <tr style=\"text-align: right;\">\n",
       "      <th></th>\n",
       "      <th>term</th>\n",
       "      <th>rank</th>\n",
       "    </tr>\n",
       "  </thead>\n",
       "  <tbody>\n",
       "    <tr>\n",
       "      <th>15462</th>\n",
       "      <td>rt mention</td>\n",
       "      <td>74.569038</td>\n",
       "    </tr>\n",
       "    <tr>\n",
       "      <th>2091</th>\n",
       "      <td>at sxsw</td>\n",
       "      <td>57.726800</td>\n",
       "    </tr>\n",
       "    <tr>\n",
       "      <th>17345</th>\n",
       "      <td>sxsw link</td>\n",
       "      <td>42.639433</td>\n",
       "    </tr>\n",
       "    <tr>\n",
       "      <th>6070</th>\n",
       "      <td>for sxsw</td>\n",
       "      <td>30.302648</td>\n",
       "    </tr>\n",
       "    <tr>\n",
       "      <th>1678</th>\n",
       "      <td>apple store</td>\n",
       "      <td>29.502341</td>\n",
       "    </tr>\n",
       "    <tr>\n",
       "      <th>14440</th>\n",
       "      <td>pop up</td>\n",
       "      <td>28.789235</td>\n",
       "    </tr>\n",
       "    <tr>\n",
       "      <th>10574</th>\n",
       "      <td>link sxsw</td>\n",
       "      <td>26.859032</td>\n",
       "    </tr>\n",
       "    <tr>\n",
       "      <th>18367</th>\n",
       "      <td>the ipad</td>\n",
       "      <td>25.016994</td>\n",
       "    </tr>\n",
       "    <tr>\n",
       "      <th>915</th>\n",
       "      <td>an ipad</td>\n",
       "      <td>24.963985</td>\n",
       "    </tr>\n",
       "    <tr>\n",
       "      <th>11831</th>\n",
       "      <td>mention sxsw</td>\n",
       "      <td>23.222932</td>\n",
       "    </tr>\n",
       "    <tr>\n",
       "      <th>2097</th>\n",
       "      <td>at the</td>\n",
       "      <td>23.141247</td>\n",
       "    </tr>\n",
       "    <tr>\n",
       "      <th>19981</th>\n",
       "      <td>up store</td>\n",
       "      <td>20.260336</td>\n",
       "    </tr>\n",
       "    <tr>\n",
       "      <th>20313</th>\n",
       "      <td>via mention</td>\n",
       "      <td>20.255446</td>\n",
       "    </tr>\n",
       "    <tr>\n",
       "      <th>16765</th>\n",
       "      <td>store in</td>\n",
       "      <td>19.558131</td>\n",
       "    </tr>\n",
       "    <tr>\n",
       "      <th>11696</th>\n",
       "      <td>mention mention</td>\n",
       "      <td>19.379232</td>\n",
       "    </tr>\n",
       "  </tbody>\n",
       "</table>\n",
       "</div>"
      ],
      "text/plain": [
       "                  term       rank\n",
       "15462       rt mention  74.569038\n",
       "2091           at sxsw  57.726800\n",
       "17345        sxsw link  42.639433\n",
       "6070          for sxsw  30.302648\n",
       "1678       apple store  29.502341\n",
       "14440           pop up  28.789235\n",
       "10574        link sxsw  26.859032\n",
       "18367         the ipad  25.016994\n",
       "915            an ipad  24.963985\n",
       "11831     mention sxsw  23.222932\n",
       "2097            at the  23.141247\n",
       "19981         up store  20.260336\n",
       "20313      via mention  20.255446\n",
       "16765         store in  19.558131\n",
       "11696  mention mention  19.379232"
      ]
     },
     "execution_count": 27,
     "metadata": {},
     "output_type": "execute_result"
    }
   ],
   "source": [
    "bi_pos = prep.ngrams(xpos, (2,2))\n",
    "bi_pos.head(15)"
   ]
  },
  {
   "cell_type": "code",
   "execution_count": 28,
   "metadata": {},
   "outputs": [
    {
     "data": {
      "text/html": [
       "<div>\n",
       "<style scoped>\n",
       "    .dataframe tbody tr th:only-of-type {\n",
       "        vertical-align: middle;\n",
       "    }\n",
       "\n",
       "    .dataframe tbody tr th {\n",
       "        vertical-align: top;\n",
       "    }\n",
       "\n",
       "    .dataframe thead th {\n",
       "        text-align: right;\n",
       "    }\n",
       "</style>\n",
       "<table border=\"1\" class=\"dataframe\">\n",
       "  <thead>\n",
       "    <tr style=\"text-align: right;\">\n",
       "      <th></th>\n",
       "      <th>term</th>\n",
       "      <th>rank</th>\n",
       "    </tr>\n",
       "  </thead>\n",
       "  <tbody>\n",
       "    <tr>\n",
       "      <th>4453</th>\n",
       "      <td>rt mention</td>\n",
       "      <td>13.624611</td>\n",
       "    </tr>\n",
       "    <tr>\n",
       "      <th>558</th>\n",
       "      <td>at sxsw</td>\n",
       "      <td>9.644837</td>\n",
       "    </tr>\n",
       "    <tr>\n",
       "      <th>5265</th>\n",
       "      <td>the ipad</td>\n",
       "      <td>5.209570</td>\n",
       "    </tr>\n",
       "    <tr>\n",
       "      <th>3504</th>\n",
       "      <td>my iphone</td>\n",
       "      <td>4.872888</td>\n",
       "    </tr>\n",
       "    <tr>\n",
       "      <th>227</th>\n",
       "      <td>an ipad</td>\n",
       "      <td>4.716609</td>\n",
       "    </tr>\n",
       "    <tr>\n",
       "      <th>3357</th>\n",
       "      <td>mention sxsw</td>\n",
       "      <td>4.694570</td>\n",
       "    </tr>\n",
       "    <tr>\n",
       "      <th>4941</th>\n",
       "      <td>sxsw link</td>\n",
       "      <td>4.600153</td>\n",
       "    </tr>\n",
       "    <tr>\n",
       "      <th>2433</th>\n",
       "      <td>ipad design</td>\n",
       "      <td>4.348503</td>\n",
       "    </tr>\n",
       "    <tr>\n",
       "      <th>3015</th>\n",
       "      <td>link sxsw</td>\n",
       "      <td>4.347195</td>\n",
       "    </tr>\n",
       "    <tr>\n",
       "      <th>429</th>\n",
       "      <td>apple store</td>\n",
       "      <td>4.094664</td>\n",
       "    </tr>\n",
       "    <tr>\n",
       "      <th>1273</th>\n",
       "      <td>design headaches</td>\n",
       "      <td>4.008223</td>\n",
       "    </tr>\n",
       "    <tr>\n",
       "      <th>3286</th>\n",
       "      <td>mention google</td>\n",
       "      <td>3.958615</td>\n",
       "    </tr>\n",
       "    <tr>\n",
       "      <th>1751</th>\n",
       "      <td>for the</td>\n",
       "      <td>3.686989</td>\n",
       "    </tr>\n",
       "    <tr>\n",
       "      <th>2527</th>\n",
       "      <td>iphone app</td>\n",
       "      <td>3.678845</td>\n",
       "    </tr>\n",
       "    <tr>\n",
       "      <th>560</th>\n",
       "      <td>at the</td>\n",
       "      <td>3.518237</td>\n",
       "    </tr>\n",
       "  </tbody>\n",
       "</table>\n",
       "</div>"
      ],
      "text/plain": [
       "                  term       rank\n",
       "4453        rt mention  13.624611\n",
       "558            at sxsw   9.644837\n",
       "5265          the ipad   5.209570\n",
       "3504         my iphone   4.872888\n",
       "227            an ipad   4.716609\n",
       "3357      mention sxsw   4.694570\n",
       "4941         sxsw link   4.600153\n",
       "2433       ipad design   4.348503\n",
       "3015         link sxsw   4.347195\n",
       "429        apple store   4.094664\n",
       "1273  design headaches   4.008223\n",
       "3286    mention google   3.958615\n",
       "1751           for the   3.686989\n",
       "2527        iphone app   3.678845\n",
       "560             at the   3.518237"
      ]
     },
     "execution_count": 28,
     "metadata": {},
     "output_type": "execute_result"
    }
   ],
   "source": [
    "bi_neg = prep.ngrams(xneg, (2,2))\n",
    "bi_neg.head(15)"
   ]
  },
  {
   "cell_type": "markdown",
   "metadata": {},
   "source": [
    "### Trigrams"
   ]
  },
  {
   "cell_type": "code",
   "execution_count": 29,
   "metadata": {},
   "outputs": [
    {
     "data": {
      "text/html": [
       "<div>\n",
       "<style scoped>\n",
       "    .dataframe tbody tr th:only-of-type {\n",
       "        vertical-align: middle;\n",
       "    }\n",
       "\n",
       "    .dataframe tbody tr th {\n",
       "        vertical-align: top;\n",
       "    }\n",
       "\n",
       "    .dataframe thead th {\n",
       "        text-align: right;\n",
       "    }\n",
       "</style>\n",
       "<table border=\"1\" class=\"dataframe\">\n",
       "  <thead>\n",
       "    <tr style=\"text-align: right;\">\n",
       "      <th></th>\n",
       "      <th>term</th>\n",
       "      <th>rank</th>\n",
       "    </tr>\n",
       "  </thead>\n",
       "  <tbody>\n",
       "    <tr>\n",
       "      <th>20014</th>\n",
       "      <td>pop up store</td>\n",
       "      <td>18.393926</td>\n",
       "    </tr>\n",
       "    <tr>\n",
       "      <th>17566</th>\n",
       "      <td>new social network</td>\n",
       "      <td>14.123737</td>\n",
       "    </tr>\n",
       "    <tr>\n",
       "      <th>14433</th>\n",
       "      <td>link via mention</td>\n",
       "      <td>13.571505</td>\n",
       "    </tr>\n",
       "    <tr>\n",
       "      <th>9431</th>\n",
       "      <td>google to launch</td>\n",
       "      <td>12.781024</td>\n",
       "    </tr>\n",
       "    <tr>\n",
       "      <th>3362</th>\n",
       "      <td>austin for sxsw</td>\n",
       "      <td>12.349795</td>\n",
       "    </tr>\n",
       "    <tr>\n",
       "      <th>3077</th>\n",
       "      <td>at sxsw link</td>\n",
       "      <td>12.284168</td>\n",
       "    </tr>\n",
       "    <tr>\n",
       "      <th>2302</th>\n",
       "      <td>apple pop up</td>\n",
       "      <td>12.222220</td>\n",
       "    </tr>\n",
       "    <tr>\n",
       "      <th>22530</th>\n",
       "      <td>social network called</td>\n",
       "      <td>11.865694</td>\n",
       "    </tr>\n",
       "    <tr>\n",
       "      <th>17398</th>\n",
       "      <td>network called circles</td>\n",
       "      <td>11.865694</td>\n",
       "    </tr>\n",
       "    <tr>\n",
       "      <th>13856</th>\n",
       "      <td>launch major new</td>\n",
       "      <td>11.457592</td>\n",
       "    </tr>\n",
       "    <tr>\n",
       "      <th>14953</th>\n",
       "      <td>major new social</td>\n",
       "      <td>11.457592</td>\n",
       "    </tr>\n",
       "    <tr>\n",
       "      <th>11017</th>\n",
       "      <td>in downtown austin</td>\n",
       "      <td>11.409436</td>\n",
       "    </tr>\n",
       "    <tr>\n",
       "      <th>27008</th>\n",
       "      <td>to launch major</td>\n",
       "      <td>11.250287</td>\n",
       "    </tr>\n",
       "    <tr>\n",
       "      <th>23018</th>\n",
       "      <td>store in downtown</td>\n",
       "      <td>10.956939</td>\n",
       "    </tr>\n",
       "    <tr>\n",
       "      <th>22963</th>\n",
       "      <td>store at sxsw</td>\n",
       "      <td>10.733298</td>\n",
       "    </tr>\n",
       "  </tbody>\n",
       "</table>\n",
       "</div>"
      ],
      "text/plain": [
       "                         term       rank\n",
       "20014            pop up store  18.393926\n",
       "17566      new social network  14.123737\n",
       "14433        link via mention  13.571505\n",
       "9431         google to launch  12.781024\n",
       "3362          austin for sxsw  12.349795\n",
       "3077             at sxsw link  12.284168\n",
       "2302             apple pop up  12.222220\n",
       "22530   social network called  11.865694\n",
       "17398  network called circles  11.865694\n",
       "13856        launch major new  11.457592\n",
       "14953        major new social  11.457592\n",
       "11017      in downtown austin  11.409436\n",
       "27008         to launch major  11.250287\n",
       "23018       store in downtown  10.956939\n",
       "22963           store at sxsw  10.733298"
      ]
     },
     "execution_count": 29,
     "metadata": {},
     "output_type": "execute_result"
    }
   ],
   "source": [
    "tri_pos = prep.ngrams(xpos, (3,3))\n",
    "tri_pos.head(15)"
   ]
  },
  {
   "cell_type": "code",
   "execution_count": 30,
   "metadata": {},
   "outputs": [
    {
     "data": {
      "text/html": [
       "<div>\n",
       "<style scoped>\n",
       "    .dataframe tbody tr th:only-of-type {\n",
       "        vertical-align: middle;\n",
       "    }\n",
       "\n",
       "    .dataframe tbody tr th {\n",
       "        vertical-align: top;\n",
       "    }\n",
       "\n",
       "    .dataframe thead th {\n",
       "        text-align: right;\n",
       "    }\n",
       "</style>\n",
       "<table border=\"1\" class=\"dataframe\">\n",
       "  <thead>\n",
       "    <tr style=\"text-align: right;\">\n",
       "      <th></th>\n",
       "      <th>term</th>\n",
       "      <th>rank</th>\n",
       "    </tr>\n",
       "  </thead>\n",
       "  <tbody>\n",
       "    <tr>\n",
       "      <th>2786</th>\n",
       "      <td>ipad design headaches</td>\n",
       "      <td>3.706676</td>\n",
       "    </tr>\n",
       "    <tr>\n",
       "      <th>5218</th>\n",
       "      <td>rt mention google</td>\n",
       "      <td>3.045413</td>\n",
       "    </tr>\n",
       "    <tr>\n",
       "      <th>1271</th>\n",
       "      <td>company in america</td>\n",
       "      <td>2.984018</td>\n",
       "    </tr>\n",
       "    <tr>\n",
       "      <th>1819</th>\n",
       "      <td>fascist company in</td>\n",
       "      <td>2.883469</td>\n",
       "    </tr>\n",
       "    <tr>\n",
       "      <th>2833</th>\n",
       "      <td>ipad news apps</td>\n",
       "      <td>2.721885</td>\n",
       "    </tr>\n",
       "    <tr>\n",
       "      <th>4227</th>\n",
       "      <td>new social network</td>\n",
       "      <td>2.533542</td>\n",
       "    </tr>\n",
       "    <tr>\n",
       "      <th>3642</th>\n",
       "      <td>major new social</td>\n",
       "      <td>2.342176</td>\n",
       "    </tr>\n",
       "    <tr>\n",
       "      <th>4200</th>\n",
       "      <td>network called circles</td>\n",
       "      <td>2.245119</td>\n",
       "    </tr>\n",
       "    <tr>\n",
       "      <th>5485</th>\n",
       "      <td>social network called</td>\n",
       "      <td>2.245119</td>\n",
       "    </tr>\n",
       "    <tr>\n",
       "      <th>1793</th>\n",
       "      <td>fades fast among</td>\n",
       "      <td>2.171848</td>\n",
       "    </tr>\n",
       "    <tr>\n",
       "      <th>4238</th>\n",
       "      <td>news apps fades</td>\n",
       "      <td>2.171848</td>\n",
       "    </tr>\n",
       "    <tr>\n",
       "      <th>556</th>\n",
       "      <td>apps fades fast</td>\n",
       "      <td>2.171848</td>\n",
       "    </tr>\n",
       "    <tr>\n",
       "      <th>4369</th>\n",
       "      <td>novelty of ipad</td>\n",
       "      <td>2.171848</td>\n",
       "    </tr>\n",
       "    <tr>\n",
       "      <th>4433</th>\n",
       "      <td>of ipad news</td>\n",
       "      <td>2.171848</td>\n",
       "    </tr>\n",
       "    <tr>\n",
       "      <th>1231</th>\n",
       "      <td>classiest fascist company</td>\n",
       "      <td>2.096816</td>\n",
       "    </tr>\n",
       "  </tbody>\n",
       "</table>\n",
       "</div>"
      ],
      "text/plain": [
       "                           term      rank\n",
       "2786      ipad design headaches  3.706676\n",
       "5218          rt mention google  3.045413\n",
       "1271         company in america  2.984018\n",
       "1819         fascist company in  2.883469\n",
       "2833             ipad news apps  2.721885\n",
       "4227         new social network  2.533542\n",
       "3642           major new social  2.342176\n",
       "4200     network called circles  2.245119\n",
       "5485      social network called  2.245119\n",
       "1793           fades fast among  2.171848\n",
       "4238            news apps fades  2.171848\n",
       "556             apps fades fast  2.171848\n",
       "4369            novelty of ipad  2.171848\n",
       "4433               of ipad news  2.171848\n",
       "1231  classiest fascist company  2.096816"
      ]
     },
     "execution_count": 30,
     "metadata": {},
     "output_type": "execute_result"
    }
   ],
   "source": [
    "tri_neg = prep.ngrams(xneg, (3,3))\n",
    "tri_neg.head(15)"
   ]
  },
  {
   "cell_type": "markdown",
   "metadata": {},
   "source": [
    "### 4-grams"
   ]
  },
  {
   "cell_type": "code",
   "execution_count": 31,
   "metadata": {},
   "outputs": [
    {
     "data": {
      "text/html": [
       "<div>\n",
       "<style scoped>\n",
       "    .dataframe tbody tr th:only-of-type {\n",
       "        vertical-align: middle;\n",
       "    }\n",
       "\n",
       "    .dataframe tbody tr th {\n",
       "        vertical-align: top;\n",
       "    }\n",
       "\n",
       "    .dataframe thead th {\n",
       "        text-align: right;\n",
       "    }\n",
       "</style>\n",
       "<table border=\"1\" class=\"dataframe\">\n",
       "  <thead>\n",
       "    <tr style=\"text-align: right;\">\n",
       "      <th></th>\n",
       "      <th>term</th>\n",
       "      <th>rank</th>\n",
       "    </tr>\n",
       "  </thead>\n",
       "  <tbody>\n",
       "    <tr>\n",
       "      <th>23572</th>\n",
       "      <td>social network called circles</td>\n",
       "      <td>11.790039</td>\n",
       "    </tr>\n",
       "    <tr>\n",
       "      <th>18272</th>\n",
       "      <td>new social network called</td>\n",
       "      <td>11.790039</td>\n",
       "    </tr>\n",
       "    <tr>\n",
       "      <th>14323</th>\n",
       "      <td>launch major new social</td>\n",
       "      <td>11.379907</td>\n",
       "    </tr>\n",
       "    <tr>\n",
       "      <th>15416</th>\n",
       "      <td>major new social network</td>\n",
       "      <td>11.379907</td>\n",
       "    </tr>\n",
       "    <tr>\n",
       "      <th>28305</th>\n",
       "      <td>to launch major new</td>\n",
       "      <td>11.174921</td>\n",
       "    </tr>\n",
       "    <tr>\n",
       "      <th>9770</th>\n",
       "      <td>google to launch major</td>\n",
       "      <td>10.928146</td>\n",
       "    </tr>\n",
       "    <tr>\n",
       "      <th>13522</th>\n",
       "      <td>it even begins apple</td>\n",
       "      <td>10.802574</td>\n",
       "    </tr>\n",
       "    <tr>\n",
       "      <th>4177</th>\n",
       "      <td>before it even begins</td>\n",
       "      <td>10.802574</td>\n",
       "    </tr>\n",
       "    <tr>\n",
       "      <th>24125</th>\n",
       "      <td>store in downtown austin</td>\n",
       "      <td>10.567889</td>\n",
       "    </tr>\n",
       "    <tr>\n",
       "      <th>2318</th>\n",
       "      <td>apple pop up store</td>\n",
       "      <td>10.201890</td>\n",
       "    </tr>\n",
       "    <tr>\n",
       "      <th>4190</th>\n",
       "      <td>begins apple wins sxsw</td>\n",
       "      <td>9.409303</td>\n",
       "    </tr>\n",
       "    <tr>\n",
       "      <th>7054</th>\n",
       "      <td>even begins apple wins</td>\n",
       "      <td>9.409303</td>\n",
       "    </tr>\n",
       "    <tr>\n",
       "      <th>22381</th>\n",
       "      <td>rt mention rt mention</td>\n",
       "      <td>8.765003</td>\n",
       "    </tr>\n",
       "    <tr>\n",
       "      <th>4990</th>\n",
       "      <td>called circles possibly today</td>\n",
       "      <td>8.708424</td>\n",
       "    </tr>\n",
       "    <tr>\n",
       "      <th>18086</th>\n",
       "      <td>network called circles possibly</td>\n",
       "      <td>8.708424</td>\n",
       "    </tr>\n",
       "  </tbody>\n",
       "</table>\n",
       "</div>"
      ],
      "text/plain": [
       "                                  term       rank\n",
       "23572    social network called circles  11.790039\n",
       "18272        new social network called  11.790039\n",
       "14323          launch major new social  11.379907\n",
       "15416         major new social network  11.379907\n",
       "28305              to launch major new  11.174921\n",
       "9770            google to launch major  10.928146\n",
       "13522             it even begins apple  10.802574\n",
       "4177             before it even begins  10.802574\n",
       "24125         store in downtown austin  10.567889\n",
       "2318                apple pop up store  10.201890\n",
       "4190            begins apple wins sxsw   9.409303\n",
       "7054            even begins apple wins   9.409303\n",
       "22381            rt mention rt mention   8.765003\n",
       "4990     called circles possibly today   8.708424\n",
       "18086  network called circles possibly   8.708424"
      ]
     },
     "execution_count": 31,
     "metadata": {},
     "output_type": "execute_result"
    }
   ],
   "source": [
    "any_gram_pos = prep.ngrams(xpos, (4,4))\n",
    "any_gram_pos.head(15)"
   ]
  },
  {
   "cell_type": "code",
   "execution_count": 32,
   "metadata": {},
   "outputs": [
    {
     "data": {
      "text/html": [
       "<div>\n",
       "<style scoped>\n",
       "    .dataframe tbody tr th:only-of-type {\n",
       "        vertical-align: middle;\n",
       "    }\n",
       "\n",
       "    .dataframe tbody tr th {\n",
       "        vertical-align: top;\n",
       "    }\n",
       "\n",
       "    .dataframe thead th {\n",
       "        text-align: right;\n",
       "    }\n",
       "</style>\n",
       "<table border=\"1\" class=\"dataframe\">\n",
       "  <thead>\n",
       "    <tr style=\"text-align: right;\">\n",
       "      <th></th>\n",
       "      <th>term</th>\n",
       "      <th>rank</th>\n",
       "    </tr>\n",
       "  </thead>\n",
       "  <tbody>\n",
       "    <tr>\n",
       "      <th>1761</th>\n",
       "      <td>fascist company in america</td>\n",
       "      <td>2.654346</td>\n",
       "    </tr>\n",
       "    <tr>\n",
       "      <th>5361</th>\n",
       "      <td>social network called circles</td>\n",
       "      <td>2.267296</td>\n",
       "    </tr>\n",
       "    <tr>\n",
       "      <th>4100</th>\n",
       "      <td>new social network called</td>\n",
       "      <td>2.267296</td>\n",
       "    </tr>\n",
       "    <tr>\n",
       "      <th>2738</th>\n",
       "      <td>ipad news apps fades</td>\n",
       "      <td>2.215370</td>\n",
       "    </tr>\n",
       "    <tr>\n",
       "      <th>4113</th>\n",
       "      <td>news apps fades fast</td>\n",
       "      <td>2.215370</td>\n",
       "    </tr>\n",
       "    <tr>\n",
       "      <th>4301</th>\n",
       "      <td>of ipad news apps</td>\n",
       "      <td>2.215370</td>\n",
       "    </tr>\n",
       "    <tr>\n",
       "      <th>548</th>\n",
       "      <td>apps fades fast among</td>\n",
       "      <td>2.215370</td>\n",
       "    </tr>\n",
       "    <tr>\n",
       "      <th>4238</th>\n",
       "      <td>novelty of ipad news</td>\n",
       "      <td>2.215370</td>\n",
       "    </tr>\n",
       "    <tr>\n",
       "      <th>1200</th>\n",
       "      <td>classiest fascist company in</td>\n",
       "      <td>2.106193</td>\n",
       "    </tr>\n",
       "    <tr>\n",
       "      <th>3282</th>\n",
       "      <td>launch major new social</td>\n",
       "      <td>2.064618</td>\n",
       "    </tr>\n",
       "    <tr>\n",
       "      <th>3516</th>\n",
       "      <td>major new social network</td>\n",
       "      <td>2.064618</td>\n",
       "    </tr>\n",
       "    <tr>\n",
       "      <th>6418</th>\n",
       "      <td>to launch major new</td>\n",
       "      <td>2.064618</td>\n",
       "    </tr>\n",
       "    <tr>\n",
       "      <th>1241</th>\n",
       "      <td>company in america quot</td>\n",
       "      <td>2.047661</td>\n",
       "    </tr>\n",
       "    <tr>\n",
       "      <th>2174</th>\n",
       "      <td>google to launch major</td>\n",
       "      <td>1.914592</td>\n",
       "    </tr>\n",
       "    <tr>\n",
       "      <th>5928</th>\n",
       "      <td>the classiest fascist company</td>\n",
       "      <td>1.846182</td>\n",
       "    </tr>\n",
       "  </tbody>\n",
       "</table>\n",
       "</div>"
      ],
      "text/plain": [
       "                               term      rank\n",
       "1761     fascist company in america  2.654346\n",
       "5361  social network called circles  2.267296\n",
       "4100      new social network called  2.267296\n",
       "2738           ipad news apps fades  2.215370\n",
       "4113           news apps fades fast  2.215370\n",
       "4301              of ipad news apps  2.215370\n",
       "548           apps fades fast among  2.215370\n",
       "4238           novelty of ipad news  2.215370\n",
       "1200   classiest fascist company in  2.106193\n",
       "3282        launch major new social  2.064618\n",
       "3516       major new social network  2.064618\n",
       "6418            to launch major new  2.064618\n",
       "1241        company in america quot  2.047661\n",
       "2174         google to launch major  1.914592\n",
       "5928  the classiest fascist company  1.846182"
      ]
     },
     "execution_count": 32,
     "metadata": {},
     "output_type": "execute_result"
    }
   ],
   "source": [
    "any_gram_neg = prep.ngrams(xneg, (4,4))\n",
    "any_gram_neg.head(15)"
   ]
  },
  {
   "cell_type": "markdown",
   "metadata": {},
   "source": [
    "## Comparison of review lengths"
   ]
  },
  {
   "cell_type": "code",
   "execution_count": 41,
   "metadata": {},
   "outputs": [],
   "source": [
    "xpos_lengths = [len(x) for x in xpos]\n",
    "xneg_lengths = [len(x) for x in xneg]"
   ]
  },
  {
   "cell_type": "code",
   "execution_count": 95,
   "metadata": {},
   "outputs": [
    {
     "data": {
      "image/png": "[encoded data removed]",
      "text/plain": [
       "<Figure size 720x576 with 1 Axes>"
      ]
     },
     "metadata": {},
     "output_type": "display_data"
    }
   ],
   "source": [
    "fig, ax = plt.subplots(1, figsize=(10,8))\n",
    "plt.hist(xpos_lengths, label=f'Positive Reviews ({np.median(xpos_lengths)//1} Median) ', color='green', alpha=.7, density=True)\n",
    "plt.hist(xneg_lengths, label=f'Negative Reviews ({np.median(xneg_lengths)//1} Median)', color='red', alpha=.4, density=True)\n",
    "\n",
    "plt.vlines(110, 0, .017, color='green')\n",
    "plt.vlines(114, 0, .017, color='red')\n",
    "\n",
    "plt.legend(fontsize='x-large')\n",
    "plt.xlabel('Review Length (in Characters)', fontsize='xx-large')\n",
    "plt.ylabel('Relative Frequency',fontsize='xx-large')\n",
    "plt.title('Review Length by Sentiment',fontsize='xx-large')\n",
    "plt.xticks(fontsize='x-large')\n",
    "plt.yticks(fontsize='x-large')\n",
    "\n",
    "plt.savefig('../images/length_comparison.png')"
   ]
  },
  {
   "cell_type": "markdown",
   "metadata": {},
   "source": [
    "The negative reviews appears to be centered at a slightly higher review length than the positive reviews."
   ]
  },
  {
   "cell_type": "code",
   "execution_count": null,
   "metadata": {},
   "outputs": [],
   "source": []
  }
 ],
 "metadata": {
  "kernelspec": {
   "display_name": "Python 3",
   "language": "python",
   "name": "python3"
  },
  "language_info": {
   "codemirror_mode": {
    "name": "ipython",
    "version": 3
   },
   "file_extension": ".py",
   "mimetype": "text/x-python",
   "name": "python",
   "nbconvert_exporter": "python",
   "pygments_lexer": "ipython3",
   "version": "3.8.5"
  },
  "toc": {
   "base_numbering": 1,
   "nav_menu": {},
   "number_sections": true,
   "sideBar": true,
   "skip_h1_title": true,
   "title_cell": "Table of Contents",
   "title_sidebar": "Contents",
   "toc_cell": false,
   "toc_position": {},
   "toc_section_display": true,
   "toc_window_display": true
  }
 },
 "nbformat": 4,
 "nbformat_minor": 4
}
