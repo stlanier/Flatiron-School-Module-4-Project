{
 "cells": [
  {
   "cell_type": "markdown",
   "metadata": {},
   "source": [
    "# Classifying Product Reviews by Sentiment"
   ]
  },
  {
   "cell_type": "markdown",
   "metadata": {},
   "source": [
    "## Introduction"
   ]
  },
  {
   "cell_type": "markdown",
   "metadata": {},
   "source": [
    "For my fourth module project for Flatiron School, I chose a natural language processing problem, trying to classify [product reviews](https://data.world/crowdflower/brands-and-product-emotions) as positive, negative, or neither. Key challenges when approaching this problem were the multi-class nature of the dataset and class imbalances––reviews without emotion were much more common than either positive or negative reviews. Because of class imbalances, I used F1 scores (rather than accuracy) to determine model success, and my best models achieved 0.53 F1 scores on test data."
   ]
  },
  {
   "cell_type": "markdown",
   "metadata": {},
   "source": [
    "## Imports"
   ]
  },
  {
   "cell_type": "code",
   "execution_count": 1,
   "metadata": {},
   "outputs": [
    {
     "name": "stderr",
     "output_type": "stream",
     "text": [
      "Using TensorFlow backend.\n",
      "/Users/stlanier/opt/anaconda3/envs/learn-env/lib/python3.6/site-packages/sklearn/utils/deprecation.py:143: FutureWarning: The sklearn.neighbors.base module is  deprecated in version 0.22 and will be removed in version 0.24. The corresponding classes / functions should instead be imported from sklearn.neighbors. Anything that cannot be imported from sklearn.neighbors is now part of the private API.\n",
      "  warnings.warn(message, FutureWarning)\n",
      "/Users/stlanier/opt/anaconda3/envs/learn-env/lib/python3.6/site-packages/sklearn/utils/deprecation.py:143: FutureWarning: The sklearn.ensemble.bagging module is  deprecated in version 0.22 and will be removed in version 0.24. The corresponding classes / functions should instead be imported from sklearn.ensemble. Anything that cannot be imported from sklearn.ensemble is now part of the private API.\n",
      "  warnings.warn(message, FutureWarning)\n",
      "/Users/stlanier/opt/anaconda3/envs/learn-env/lib/python3.6/site-packages/sklearn/utils/deprecation.py:143: FutureWarning: The sklearn.ensemble.base module is  deprecated in version 0.22 and will be removed in version 0.24. The corresponding classes / functions should instead be imported from sklearn.ensemble. Anything that cannot be imported from sklearn.ensemble is now part of the private API.\n",
      "  warnings.warn(message, FutureWarning)\n",
      "/Users/stlanier/opt/anaconda3/envs/learn-env/lib/python3.6/site-packages/sklearn/utils/deprecation.py:143: FutureWarning: The sklearn.ensemble.forest module is  deprecated in version 0.22 and will be removed in version 0.24. The corresponding classes / functions should instead be imported from sklearn.ensemble. Anything that cannot be imported from sklearn.ensemble is now part of the private API.\n",
      "  warnings.warn(message, FutureWarning)\n",
      "/Users/stlanier/opt/anaconda3/envs/learn-env/lib/python3.6/site-packages/sklearn/utils/deprecation.py:143: FutureWarning: The sklearn.utils.testing module is  deprecated in version 0.22 and will be removed in version 0.24. The corresponding classes / functions should instead be imported from sklearn.utils. Anything that cannot be imported from sklearn.utils is now part of the private API.\n",
      "  warnings.warn(message, FutureWarning)\n",
      "/Users/stlanier/opt/anaconda3/envs/learn-env/lib/python3.6/site-packages/sklearn/utils/deprecation.py:143: FutureWarning: The sklearn.metrics.classification module is  deprecated in version 0.22 and will be removed in version 0.24. The corresponding classes / functions should instead be imported from sklearn.metrics. Anything that cannot be imported from sklearn.metrics is now part of the private API.\n",
      "  warnings.warn(message, FutureWarning)\n"
     ]
    }
   ],
   "source": [
    "import numpy as np\n",
    "import pandas as pd\n",
    "import string\n",
    "import re\n",
    "import nltk\n",
    "import keras\n",
    "from nltk import word_tokenize, FreqDist\n",
    "from nltk.corpus import stopwords\n",
    "from nltk.stem import WordNetLemmatizer\n",
    "from imblearn.over_sampling import SMOTE\n",
    "from sklearn.linear_model import LogisticRegressionCV\n",
    "from sklearn.feature_extraction.text import TfidfVectorizer\n",
    "from sklearn.model_selection import train_test_split, GridSearchCV\n",
    "from sklearn.decomposition import PCA, TruncatedSVD\n",
    "from sklearn.metrics import confusion_matrix, classification_report, roc_curve, auc, roc_auc_score, plot_roc_curve\n",
    "from sklearn.preprocessing import label_binarize\n",
    "from sklearn.ensemble import RandomForestClassifier\n",
    "from sklearn.naive_bayes import MultinomialNB\n",
    "from sklearn.svm import SVC\n",
    "from keras import metrics, models, layers, optimizers\n",
    "import matplotlib.pyplot as plt\n",
    "%matplotlib inline\n",
    "np.random.seed(42)"
   ]
  },
  {
   "cell_type": "code",
   "execution_count": 2,
   "metadata": {},
   "outputs": [],
   "source": [
    "clfs = [LogisticRegressionCV(cv=5), \n",
    "        MultinomialNB(), \n",
    "        RandomForestClassifier(n_estimators=100), \n",
    "        SVC()]"
   ]
  },
  {
   "cell_type": "markdown",
   "metadata": {},
   "source": [
    "## Exploratory Data Analysis"
   ]
  },
  {
   "cell_type": "code",
   "execution_count": 3,
   "metadata": {},
   "outputs": [],
   "source": [
    "df = pd.read_csv('judge-1377884607_tweet_product_company.csv', encoding='latin1')"
   ]
  },
  {
   "cell_type": "code",
   "execution_count": 4,
   "metadata": {
    "scrolled": true
   },
   "outputs": [
    {
     "data": {
      "text/html": [
       "<div>\n",
       "<style scoped>\n",
       "    .dataframe tbody tr th:only-of-type {\n",
       "        vertical-align: middle;\n",
       "    }\n",
       "\n",
       "    .dataframe tbody tr th {\n",
       "        vertical-align: top;\n",
       "    }\n",
       "\n",
       "    .dataframe thead th {\n",
       "        text-align: right;\n",
       "    }\n",
       "</style>\n",
       "<table border=\"1\" class=\"dataframe\">\n",
       "  <thead>\n",
       "    <tr style=\"text-align: right;\">\n",
       "      <th></th>\n",
       "      <th>tweet_text</th>\n",
       "      <th>emotion_in_tweet_is_directed_at</th>\n",
       "      <th>is_there_an_emotion_directed_at_a_brand_or_product</th>\n",
       "    </tr>\n",
       "  </thead>\n",
       "  <tbody>\n",
       "    <tr>\n",
       "      <th>0</th>\n",
       "      <td>.@wesley83 I have a 3G iPhone. After 3 hrs twe...</td>\n",
       "      <td>iPhone</td>\n",
       "      <td>Negative emotion</td>\n",
       "    </tr>\n",
       "    <tr>\n",
       "      <th>1</th>\n",
       "      <td>@jessedee Know about @fludapp ? Awesome iPad/i...</td>\n",
       "      <td>iPad or iPhone App</td>\n",
       "      <td>Positive emotion</td>\n",
       "    </tr>\n",
       "    <tr>\n",
       "      <th>2</th>\n",
       "      <td>@swonderlin Can not wait for #iPad 2 also. The...</td>\n",
       "      <td>iPad</td>\n",
       "      <td>Positive emotion</td>\n",
       "    </tr>\n",
       "    <tr>\n",
       "      <th>3</th>\n",
       "      <td>@sxsw I hope this year's festival isn't as cra...</td>\n",
       "      <td>iPad or iPhone App</td>\n",
       "      <td>Negative emotion</td>\n",
       "    </tr>\n",
       "    <tr>\n",
       "      <th>4</th>\n",
       "      <td>@sxtxstate great stuff on Fri #SXSW: Marissa M...</td>\n",
       "      <td>Google</td>\n",
       "      <td>Positive emotion</td>\n",
       "    </tr>\n",
       "    <tr>\n",
       "      <th>5</th>\n",
       "      <td>@teachntech00 New iPad Apps For #SpeechTherapy...</td>\n",
       "      <td>NaN</td>\n",
       "      <td>No emotion toward brand or product</td>\n",
       "    </tr>\n",
       "    <tr>\n",
       "      <th>6</th>\n",
       "      <td>NaN</td>\n",
       "      <td>NaN</td>\n",
       "      <td>No emotion toward brand or product</td>\n",
       "    </tr>\n",
       "    <tr>\n",
       "      <th>7</th>\n",
       "      <td>#SXSW is just starting, #CTIA is around the co...</td>\n",
       "      <td>Android</td>\n",
       "      <td>Positive emotion</td>\n",
       "    </tr>\n",
       "    <tr>\n",
       "      <th>8</th>\n",
       "      <td>Beautifully smart and simple idea RT @madebyma...</td>\n",
       "      <td>iPad or iPhone App</td>\n",
       "      <td>Positive emotion</td>\n",
       "    </tr>\n",
       "    <tr>\n",
       "      <th>9</th>\n",
       "      <td>Counting down the days to #sxsw plus strong Ca...</td>\n",
       "      <td>Apple</td>\n",
       "      <td>Positive emotion</td>\n",
       "    </tr>\n",
       "    <tr>\n",
       "      <th>10</th>\n",
       "      <td>Excited to meet the @samsungmobileus at #sxsw ...</td>\n",
       "      <td>Android</td>\n",
       "      <td>Positive emotion</td>\n",
       "    </tr>\n",
       "    <tr>\n",
       "      <th>11</th>\n",
       "      <td>Find &amp;amp; Start Impromptu Parties at #SXSW Wi...</td>\n",
       "      <td>Android App</td>\n",
       "      <td>Positive emotion</td>\n",
       "    </tr>\n",
       "    <tr>\n",
       "      <th>12</th>\n",
       "      <td>Foursquare ups the game, just in time for #SXS...</td>\n",
       "      <td>Android App</td>\n",
       "      <td>Positive emotion</td>\n",
       "    </tr>\n",
       "    <tr>\n",
       "      <th>13</th>\n",
       "      <td>Gotta love this #SXSW Google Calendar featurin...</td>\n",
       "      <td>Other Google product or service</td>\n",
       "      <td>Positive emotion</td>\n",
       "    </tr>\n",
       "    <tr>\n",
       "      <th>14</th>\n",
       "      <td>Great #sxsw ipad app from @madebymany: http://...</td>\n",
       "      <td>iPad or iPhone App</td>\n",
       "      <td>Positive emotion</td>\n",
       "    </tr>\n",
       "    <tr>\n",
       "      <th>15</th>\n",
       "      <td>haha, awesomely rad iPad app by @madebymany ht...</td>\n",
       "      <td>iPad or iPhone App</td>\n",
       "      <td>Positive emotion</td>\n",
       "    </tr>\n",
       "    <tr>\n",
       "      <th>16</th>\n",
       "      <td>Holler Gram for iPad on the iTunes App Store -...</td>\n",
       "      <td>NaN</td>\n",
       "      <td>No emotion toward brand or product</td>\n",
       "    </tr>\n",
       "    <tr>\n",
       "      <th>17</th>\n",
       "      <td>I just noticed DST is coming this weekend. How...</td>\n",
       "      <td>iPhone</td>\n",
       "      <td>Negative emotion</td>\n",
       "    </tr>\n",
       "    <tr>\n",
       "      <th>18</th>\n",
       "      <td>Just added my #SXSW flights to @planely. Match...</td>\n",
       "      <td>iPad or iPhone App</td>\n",
       "      <td>Positive emotion</td>\n",
       "    </tr>\n",
       "    <tr>\n",
       "      <th>19</th>\n",
       "      <td>Must have #SXSW app! RT @malbonster: Lovely re...</td>\n",
       "      <td>iPad or iPhone App</td>\n",
       "      <td>Positive emotion</td>\n",
       "    </tr>\n",
       "  </tbody>\n",
       "</table>\n",
       "</div>"
      ],
      "text/plain": [
       "                                           tweet_text  \\\n",
       "0   .@wesley83 I have a 3G iPhone. After 3 hrs twe...   \n",
       "1   @jessedee Know about @fludapp ? Awesome iPad/i...   \n",
       "2   @swonderlin Can not wait for #iPad 2 also. The...   \n",
       "3   @sxsw I hope this year's festival isn't as cra...   \n",
       "4   @sxtxstate great stuff on Fri #SXSW: Marissa M...   \n",
       "5   @teachntech00 New iPad Apps For #SpeechTherapy...   \n",
       "6                                                 NaN   \n",
       "7   #SXSW is just starting, #CTIA is around the co...   \n",
       "8   Beautifully smart and simple idea RT @madebyma...   \n",
       "9   Counting down the days to #sxsw plus strong Ca...   \n",
       "10  Excited to meet the @samsungmobileus at #sxsw ...   \n",
       "11  Find &amp; Start Impromptu Parties at #SXSW Wi...   \n",
       "12  Foursquare ups the game, just in time for #SXS...   \n",
       "13  Gotta love this #SXSW Google Calendar featurin...   \n",
       "14  Great #sxsw ipad app from @madebymany: http://...   \n",
       "15  haha, awesomely rad iPad app by @madebymany ht...   \n",
       "16  Holler Gram for iPad on the iTunes App Store -...   \n",
       "17  I just noticed DST is coming this weekend. How...   \n",
       "18  Just added my #SXSW flights to @planely. Match...   \n",
       "19  Must have #SXSW app! RT @malbonster: Lovely re...   \n",
       "\n",
       "    emotion_in_tweet_is_directed_at  \\\n",
       "0                            iPhone   \n",
       "1                iPad or iPhone App   \n",
       "2                              iPad   \n",
       "3                iPad or iPhone App   \n",
       "4                            Google   \n",
       "5                               NaN   \n",
       "6                               NaN   \n",
       "7                           Android   \n",
       "8                iPad or iPhone App   \n",
       "9                             Apple   \n",
       "10                          Android   \n",
       "11                      Android App   \n",
       "12                      Android App   \n",
       "13  Other Google product or service   \n",
       "14               iPad or iPhone App   \n",
       "15               iPad or iPhone App   \n",
       "16                              NaN   \n",
       "17                           iPhone   \n",
       "18               iPad or iPhone App   \n",
       "19               iPad or iPhone App   \n",
       "\n",
       "   is_there_an_emotion_directed_at_a_brand_or_product  \n",
       "0                                    Negative emotion  \n",
       "1                                    Positive emotion  \n",
       "2                                    Positive emotion  \n",
       "3                                    Negative emotion  \n",
       "4                                    Positive emotion  \n",
       "5                  No emotion toward brand or product  \n",
       "6                  No emotion toward brand or product  \n",
       "7                                    Positive emotion  \n",
       "8                                    Positive emotion  \n",
       "9                                    Positive emotion  \n",
       "10                                   Positive emotion  \n",
       "11                                   Positive emotion  \n",
       "12                                   Positive emotion  \n",
       "13                                   Positive emotion  \n",
       "14                                   Positive emotion  \n",
       "15                                   Positive emotion  \n",
       "16                 No emotion toward brand or product  \n",
       "17                                   Negative emotion  \n",
       "18                                   Positive emotion  \n",
       "19                                   Positive emotion  "
      ]
     },
     "execution_count": 4,
     "metadata": {},
     "output_type": "execute_result"
    }
   ],
   "source": [
    "df.head(20)"
   ]
  },
  {
   "cell_type": "markdown",
   "metadata": {},
   "source": [
    "\"tweet_text\" is my independent variable, \"is_there_an_emotion_directed_at_a_brand_or_product\" is the label. Next, I look to see if any elements are unlabeled."
   ]
  },
  {
   "cell_type": "code",
   "execution_count": 5,
   "metadata": {},
   "outputs": [
    {
     "data": {
      "text/plain": [
       "No emotion toward brand or product    5389\n",
       "Positive emotion                      2978\n",
       "Negative emotion                       570\n",
       "I can't tell                           156\n",
       "Name: is_there_an_emotion_directed_at_a_brand_or_product, dtype: int64"
      ]
     },
     "execution_count": 5,
     "metadata": {},
     "output_type": "execute_result"
    }
   ],
   "source": [
    "df['is_there_an_emotion_directed_at_a_brand_or_product'].value_counts()"
   ]
  },
  {
   "cell_type": "code",
   "execution_count": 6,
   "metadata": {},
   "outputs": [
    {
     "data": {
      "text/plain": [
       "No emotion toward brand or product    5389\n",
       "Positive emotion                      2978\n",
       "Negative emotion                       570\n",
       "Name: is_there_an_emotion_directed_at_a_brand_or_product, dtype: int64"
      ]
     },
     "execution_count": 6,
     "metadata": {},
     "output_type": "execute_result"
    }
   ],
   "source": [
    "df = df[df['is_there_an_emotion_directed_at_a_brand_or_product']!=\"I can't tell\"]\n",
    "df['is_there_an_emotion_directed_at_a_brand_or_product'].value_counts()"
   ]
  },
  {
   "cell_type": "code",
   "execution_count": 7,
   "metadata": {},
   "outputs": [
    {
     "data": {
      "text/plain": [
       "1"
      ]
     },
     "execution_count": 7,
     "metadata": {},
     "output_type": "execute_result"
    }
   ],
   "source": [
    "df['tweet_text'].isna().sum()"
   ]
  },
  {
   "cell_type": "code",
   "execution_count": 8,
   "metadata": {},
   "outputs": [],
   "source": [
    "df.dropna(axis=0, subset=['tweet_text'], inplace=True)"
   ]
  },
  {
   "cell_type": "markdown",
   "metadata": {},
   "source": [
    "Out of curiousity, I'm inspecting the \"emotion_in_tweet_is_directed_at\" field too."
   ]
  },
  {
   "cell_type": "code",
   "execution_count": 9,
   "metadata": {},
   "outputs": [
    {
     "data": {
      "text/plain": [
       "iPad                               942\n",
       "Apple                              659\n",
       "iPad or iPhone App                 470\n",
       "Google                             429\n",
       "iPhone                             296\n",
       "Other Google product or service    292\n",
       "Android App                         81\n",
       "Android                             78\n",
       "Other Apple product or service      35\n",
       "Name: emotion_in_tweet_is_directed_at, dtype: int64"
      ]
     },
     "execution_count": 9,
     "metadata": {},
     "output_type": "execute_result"
    }
   ],
   "source": [
    "df['emotion_in_tweet_is_directed_at'].value_counts()"
   ]
  },
  {
   "cell_type": "code",
   "execution_count": 10,
   "metadata": {},
   "outputs": [
    {
     "name": "stdout",
     "output_type": "stream",
     "text": [
      "<class 'pandas.core.frame.DataFrame'>\n",
      "Int64Index: 8936 entries, 0 to 9092\n",
      "Data columns (total 3 columns):\n",
      " #   Column                                              Non-Null Count  Dtype \n",
      "---  ------                                              --------------  ----- \n",
      " 0   tweet_text                                          8936 non-null   object\n",
      " 1   emotion_in_tweet_is_directed_at                     3282 non-null   object\n",
      " 2   is_there_an_emotion_directed_at_a_brand_or_product  8936 non-null   object\n",
      "dtypes: object(3)\n",
      "memory usage: 279.2+ KB\n"
     ]
    }
   ],
   "source": [
    "df.info()"
   ]
  },
  {
   "cell_type": "code",
   "execution_count": 11,
   "metadata": {},
   "outputs": [
    {
     "data": {
      "text/plain": [
       "5654"
      ]
     },
     "execution_count": 11,
     "metadata": {},
     "output_type": "execute_result"
    }
   ],
   "source": [
    "df['emotion_in_tweet_is_directed_at'].isna().sum()"
   ]
  },
  {
   "cell_type": "markdown",
   "metadata": {},
   "source": [
    "More than half of the data in this field are null, and they're quite spread out too, so I'm choosing to forgo further analysis of this field for now. Moving on, I begin to tokenize each of the reviews."
   ]
  },
  {
   "cell_type": "code",
   "execution_count": 12,
   "metadata": {},
   "outputs": [],
   "source": [
    "X = df['tweet_text']\n",
    "y = df['is_there_an_emotion_directed_at_a_brand_or_product']"
   ]
  },
  {
   "cell_type": "code",
   "execution_count": 13,
   "metadata": {},
   "outputs": [],
   "source": [
    "X = [word_tokenize(x) for x in X]"
   ]
  },
  {
   "cell_type": "code",
   "execution_count": 14,
   "metadata": {
    "scrolled": true
   },
   "outputs": [
    {
     "data": {
      "text/plain": [
       "['.',\n",
       " '@',\n",
       " 'wesley83',\n",
       " 'I',\n",
       " 'have',\n",
       " 'a',\n",
       " '3G',\n",
       " 'iPhone',\n",
       " '.',\n",
       " 'After',\n",
       " '3',\n",
       " 'hrs',\n",
       " 'tweeting',\n",
       " 'at',\n",
       " '#',\n",
       " 'RISE_Austin',\n",
       " ',',\n",
       " 'it',\n",
       " 'was',\n",
       " 'dead',\n",
       " '!',\n",
       " 'I',\n",
       " 'need',\n",
       " 'to',\n",
       " 'upgrade',\n",
       " '.',\n",
       " 'Plugin',\n",
       " 'stations',\n",
       " 'at',\n",
       " '#',\n",
       " 'SXSW',\n",
       " '.']"
      ]
     },
     "execution_count": 14,
     "metadata": {},
     "output_type": "execute_result"
    }
   ],
   "source": [
    "X[0]"
   ]
  },
  {
   "cell_type": "markdown",
   "metadata": {},
   "source": [
    "With the data tokenized, I begin to preprocess those tokens by making them lowercase."
   ]
  },
  {
   "cell_type": "code",
   "execution_count": 15,
   "metadata": {},
   "outputs": [],
   "source": [
    "X_proc = []\n",
    "for x in X: \n",
    "    xp = [a.lower() for a in x]\n",
    "    X_proc.append(xp)"
   ]
  },
  {
   "cell_type": "code",
   "execution_count": 16,
   "metadata": {
    "scrolled": true
   },
   "outputs": [
    {
     "data": {
      "text/plain": [
       "['.',\n",
       " '@',\n",
       " 'wesley83',\n",
       " 'i',\n",
       " 'have',\n",
       " 'a',\n",
       " '3g',\n",
       " 'iphone',\n",
       " '.',\n",
       " 'after',\n",
       " '3',\n",
       " 'hrs',\n",
       " 'tweeting',\n",
       " 'at',\n",
       " '#',\n",
       " 'rise_austin',\n",
       " ',',\n",
       " 'it',\n",
       " 'was',\n",
       " 'dead',\n",
       " '!',\n",
       " 'i',\n",
       " 'need',\n",
       " 'to',\n",
       " 'upgrade',\n",
       " '.',\n",
       " 'plugin',\n",
       " 'stations',\n",
       " 'at',\n",
       " '#',\n",
       " 'sxsw',\n",
       " '.']"
      ]
     },
     "execution_count": 16,
     "metadata": {},
     "output_type": "execute_result"
    }
   ],
   "source": [
    "X_proc[0]"
   ]
  },
  {
   "cell_type": "markdown",
   "metadata": {},
   "source": [
    "Also, to explore the data a bit, I collect the reviews with positive and negative ratings into groups and look at the frequency distribution for each group."
   ]
  },
  {
   "cell_type": "code",
   "execution_count": 17,
   "metadata": {},
   "outputs": [],
   "source": [
    "negative = df[df['is_there_an_emotion_directed_at_a_brand_or_product'] == 'Negative emotion']\n",
    "positive = df[df['is_there_an_emotion_directed_at_a_brand_or_product'] == 'Positive emotion']"
   ]
  },
  {
   "cell_type": "code",
   "execution_count": 18,
   "metadata": {},
   "outputs": [],
   "source": [
    "xpos = positive['tweet_text']\n",
    "xneg = negative['tweet_text']"
   ]
  },
  {
   "cell_type": "code",
   "execution_count": 19,
   "metadata": {},
   "outputs": [],
   "source": [
    "xpos = [x.lower() for x in xpos]\n",
    "xpos = [word_tokenize(x) for x in xpos]\n",
    "xneg = [x.lower() for x in xneg]\n",
    "xneg = [word_tokenize(x) for x in xneg]"
   ]
  },
  {
   "cell_type": "code",
   "execution_count": 20,
   "metadata": {},
   "outputs": [],
   "source": [
    "## xpos and xneg are 2D arrays now, but they need to be 1D for FreqDist(). I make them 1D here.\n",
    "xpos_tokens = []\n",
    "for x in xpos:\n",
    "    xpos_tokens += x\n",
    "    \n",
    "xneg_tokens = []\n",
    "for x in xneg:\n",
    "    xneg_tokens += x"
   ]
  },
  {
   "cell_type": "code",
   "execution_count": 21,
   "metadata": {},
   "outputs": [],
   "source": [
    "fd_pos = FreqDist(xpos_tokens)\n",
    "fd_neg = FreqDist(xneg_tokens)"
   ]
  },
  {
   "cell_type": "code",
   "execution_count": 22,
   "metadata": {
    "scrolled": true
   },
   "outputs": [
    {
     "data": {
      "text/plain": [
       "[('#', 5025),\n",
       " ('sxsw', 3105),\n",
       " ('@', 2220),\n",
       " ('mention', 2194),\n",
       " ('.', 2119),\n",
       " ('the', 1596),\n",
       " ('!', 1266),\n",
       " ('link', 1217),\n",
       " ('{', 1213),\n",
       " ('}', 1213),\n",
       " ('to', 1159),\n",
       " (',', 1100),\n",
       " ('at', 1023),\n",
       " ('ipad', 1003),\n",
       " ('rt', 937),\n",
       " ('apple', 925),\n",
       " ('for', 908),\n",
       " ('a', 784),\n",
       " (';', 781),\n",
       " ('&', 736),\n",
       " ('google', 716),\n",
       " ('is', 654),\n",
       " ('of', 639),\n",
       " ('in', 632),\n",
       " ('i', 625),\n",
       " (':', 613),\n",
       " ('and', 581),\n",
       " ('store', 545),\n",
       " ('iphone', 523),\n",
       " (\"'s\", 493),\n",
       " ('it', 472),\n",
       " ('2', 465),\n",
       " ('quot', 464),\n",
       " ('on', 442),\n",
       " ('app', 396),\n",
       " ('new', 360),\n",
       " ('?', 343),\n",
       " ('-', 330),\n",
       " ('an', 329),\n",
       " ('you', 327)]"
      ]
     },
     "execution_count": 22,
     "metadata": {},
     "output_type": "execute_result"
    }
   ],
   "source": [
    "fd_pos.most_common(40)"
   ]
  },
  {
   "cell_type": "code",
   "execution_count": 23,
   "metadata": {
    "scrolled": true
   },
   "outputs": [
    {
     "data": {
      "text/plain": [
       "[('#', 912),\n",
       " ('sxsw', 581),\n",
       " ('.', 490),\n",
       " ('@', 315),\n",
       " ('mention', 313),\n",
       " ('the', 308),\n",
       " ('to', 256),\n",
       " (',', 221),\n",
       " (';', 212),\n",
       " ('&', 209),\n",
       " ('ipad', 188),\n",
       " ('i', 177),\n",
       " ('quot', 175),\n",
       " ('is', 169),\n",
       " ('iphone', 162),\n",
       " ('a', 154),\n",
       " ('google', 145),\n",
       " ('at', 142),\n",
       " ('rt', 138),\n",
       " ('of', 132),\n",
       " ('apple', 120),\n",
       " ('for', 120),\n",
       " ('in', 120),\n",
       " ('?', 119),\n",
       " ('it', 111),\n",
       " (':', 111),\n",
       " ('{', 102),\n",
       " ('link', 102),\n",
       " ('}', 102),\n",
       " ('my', 102),\n",
       " ('on', 100),\n",
       " ('!', 95),\n",
       " ('and', 95),\n",
       " (\"n't\", 87),\n",
       " ('not', 81),\n",
       " (\"'s\", 77),\n",
       " ('an', 73),\n",
       " ('that', 63),\n",
       " ('-', 62),\n",
       " ('app', 60)]"
      ]
     },
     "execution_count": 23,
     "metadata": {},
     "output_type": "execute_result"
    }
   ],
   "source": [
    "fd_neg.most_common(40)"
   ]
  },
  {
   "cell_type": "code",
   "execution_count": 24,
   "metadata": {},
   "outputs": [
    {
     "data": {
      "text/plain": [
       "5518"
      ]
     },
     "execution_count": 24,
     "metadata": {},
     "output_type": "execute_result"
    }
   ],
   "source": [
    "len(set(xpos_tokens))"
   ]
  },
  {
   "cell_type": "code",
   "execution_count": 25,
   "metadata": {},
   "outputs": [
    {
     "data": {
      "text/plain": [
       "2267"
      ]
     },
     "execution_count": 25,
     "metadata": {},
     "output_type": "execute_result"
    }
   ],
   "source": [
    "len(set(xneg_tokens))"
   ]
  },
  {
   "cell_type": "markdown",
   "metadata": {},
   "source": [
    "The two frequency distributions have a lot in common––mostly stop words, punctuation, and brand names––though there are some notable differences: for example, \"!\" is one of the most common tokens in positive reviews, but not negative ones; \"not\" and \"n't\" are two of the most common tokens in negative reviews, but not positive ones.\n",
    "\n",
    "To get a better idea of the different tokens in these two groups, I remove stop words and punctuation (except \"!\") from both lists."
   ]
  },
  {
   "cell_type": "code",
   "execution_count": 26,
   "metadata": {},
   "outputs": [],
   "source": [
    "stopwords_list = stopwords.words('english') + ['sxsw']\n",
    "stopwords_list += list(string.punctuation[1:])"
   ]
  },
  {
   "cell_type": "code",
   "execution_count": 27,
   "metadata": {},
   "outputs": [],
   "source": [
    "xpos_tokens = [x for x in xpos_tokens if x not in stopwords_list]\n",
    "xneg_tokens = [x for x in xneg_tokens if x not in stopwords_list]"
   ]
  },
  {
   "cell_type": "code",
   "execution_count": 28,
   "metadata": {},
   "outputs": [],
   "source": [
    "fd_pos = FreqDist(xpos_tokens)\n",
    "fd_neg = FreqDist(xneg_tokens)"
   ]
  },
  {
   "cell_type": "code",
   "execution_count": 29,
   "metadata": {
    "scrolled": true
   },
   "outputs": [
    {
     "data": {
      "text/plain": [
       "[('mention', 2194),\n",
       " ('!', 1266),\n",
       " ('link', 1217),\n",
       " ('ipad', 1003),\n",
       " ('rt', 937),\n",
       " ('apple', 925),\n",
       " ('google', 716),\n",
       " ('store', 545),\n",
       " ('iphone', 523),\n",
       " (\"'s\", 493),\n",
       " ('2', 465),\n",
       " ('quot', 464),\n",
       " ('app', 396),\n",
       " ('new', 360),\n",
       " ('austin', 294),\n",
       " ('amp', 211),\n",
       " ('ipad2', 209),\n",
       " ('...', 208),\n",
       " ('android', 198),\n",
       " ('launch', 160),\n",
       " ('get', 157),\n",
       " (\"n't\", 152),\n",
       " ('pop-up', 151),\n",
       " ('one', 146),\n",
       " ('great', 137),\n",
       " ('party', 132),\n",
       " ('line', 131),\n",
       " ('time', 128),\n",
       " ('free', 125),\n",
       " ('social', 124),\n",
       " ('via', 120),\n",
       " ('cool', 120),\n",
       " ('circles', 117),\n",
       " (\"'m\", 116),\n",
       " ('like', 114),\n",
       " ('today', 113),\n",
       " ('maps', 105),\n",
       " ('mobile', 101),\n",
       " ('day', 101),\n",
       " ('sxswi', 95)]"
      ]
     },
     "execution_count": 29,
     "metadata": {},
     "output_type": "execute_result"
    }
   ],
   "source": [
    "fd_pos.most_common(40)"
   ]
  },
  {
   "cell_type": "code",
   "execution_count": 30,
   "metadata": {
    "scrolled": true
   },
   "outputs": [
    {
     "data": {
      "text/plain": [
       "[('mention', 313),\n",
       " ('ipad', 188),\n",
       " ('quot', 175),\n",
       " ('iphone', 162),\n",
       " ('google', 145),\n",
       " ('rt', 138),\n",
       " ('apple', 120),\n",
       " ('link', 102),\n",
       " ('!', 95),\n",
       " (\"n't\", 87),\n",
       " (\"'s\", 77),\n",
       " ('app', 60),\n",
       " ('2', 58),\n",
       " ('store', 46),\n",
       " ('new', 43),\n",
       " ('like', 39),\n",
       " ('...', 38),\n",
       " ('circles', 34),\n",
       " ('social', 31),\n",
       " ('apps', 30),\n",
       " ('people', 29),\n",
       " ('design', 28),\n",
       " ('need', 25),\n",
       " ('android', 24),\n",
       " ('austin', 24),\n",
       " ('get', 24),\n",
       " ('one', 23),\n",
       " ('amp', 22),\n",
       " ('launch', 22),\n",
       " ('would', 21),\n",
       " (\"'ve\", 18),\n",
       " ('news', 18),\n",
       " ('today', 18),\n",
       " ('time', 18),\n",
       " ('think', 18),\n",
       " ('headaches', 17),\n",
       " ('go', 17),\n",
       " ('long', 17),\n",
       " ('fail', 17),\n",
       " ('line', 16)]"
      ]
     },
     "execution_count": 30,
     "metadata": {},
     "output_type": "execute_result"
    }
   ],
   "source": [
    "fd_neg.most_common(40)"
   ]
  },
  {
   "cell_type": "markdown",
   "metadata": {},
   "source": [
    "These two lists are a little more telling now. The brand names are still included, but otherwise these two lists appear to be more robust than before. With more time, it would be interesting to investigate what bigrams reveal about these two groups, or how positive/negative reviews break down by brand/product. \n",
    "\n",
    "Next, I go back to my original DataFrame to split my data in to test and train sets, and again preprocess the data by tokenizing and lowercasing each review as well as removing punctuation except for \"!\". For now, I've left stop words in for the sake of getting a baseline model."
   ]
  },
  {
   "cell_type": "markdown",
   "metadata": {},
   "source": [
    "## Preprocessing Data"
   ]
  },
  {
   "cell_type": "code",
   "execution_count": 31,
   "metadata": {},
   "outputs": [],
   "source": [
    "train, test = train_test_split(df, test_size=.3)"
   ]
  },
  {
   "cell_type": "code",
   "execution_count": 32,
   "metadata": {},
   "outputs": [],
   "source": [
    "X_train = train['tweet_text']\n",
    "y_train = train['is_there_an_emotion_directed_at_a_brand_or_product']\n",
    "X_test = test['tweet_text']\n",
    "y_test = test['is_there_an_emotion_directed_at_a_brand_or_product']"
   ]
  },
  {
   "cell_type": "code",
   "execution_count": 33,
   "metadata": {},
   "outputs": [
    {
     "data": {
      "text/plain": [
       "8159    Alright #SXSW someone needs to buy my iPad: {l...\n",
       "1814    Building a custom Android home screen for #sxs...\n",
       "3851    The line is already forming at the temp Austin...\n",
       "3610    Google tries to give doodles a whimsical, fun ...\n",
       "3564    @mention i think i might quit and resume tonig...\n",
       "                              ...                        \n",
       "5837    RT @mention Google Latitude Check-ins Follow F...\n",
       "5285    RT @mention #sxsw bound! Keep an eye out I may...\n",
       "5488    RT @mention Are you at #sxsw? Check out #Tokii...\n",
       "873     Come find me at the @mention booth, I have 2 @...\n",
       "7396    #tech #Apple Opening Pop-Up Store in Austin fo...\n",
       "Name: tweet_text, Length: 6255, dtype: object"
      ]
     },
     "execution_count": 33,
     "metadata": {},
     "output_type": "execute_result"
    }
   ],
   "source": [
    "X_train"
   ]
  },
  {
   "cell_type": "code",
   "execution_count": 34,
   "metadata": {},
   "outputs": [],
   "source": [
    "def preprocess(X):\n",
    "    X = X.lower()\n",
    "    pattern = f'(@[a-zA-Z0-9-]*)|[{string.punctuation[1:]}]*'\n",
    "    p = re.compile(pattern)\n",
    "    X_proc = p.sub('', X)\n",
    "    return X_proc"
   ]
  },
  {
   "cell_type": "code",
   "execution_count": 35,
   "metadata": {},
   "outputs": [],
   "source": [
    "X_train = list(map(preprocess, X_train))\n",
    "X_test = list(map(preprocess, X_test))"
   ]
  },
  {
   "cell_type": "markdown",
   "metadata": {},
   "source": [
    "Next, I use tf-idf to vectorize the reviews."
   ]
  },
  {
   "cell_type": "code",
   "execution_count": 36,
   "metadata": {},
   "outputs": [],
   "source": [
    "vectorizer = TfidfVectorizer()\n",
    "tfidf_X_train = vectorizer.fit_transform(X_train)\n",
    "tfidf_X_test = vectorizer.transform(X_test)"
   ]
  },
  {
   "cell_type": "code",
   "execution_count": 37,
   "metadata": {},
   "outputs": [
    {
     "data": {
      "text/plain": [
       "(6255, 9040)"
      ]
     },
     "execution_count": 37,
     "metadata": {},
     "output_type": "execute_result"
    }
   ],
   "source": [
    "tfidf_X_train.shape"
   ]
  },
  {
   "cell_type": "code",
   "execution_count": 38,
   "metadata": {},
   "outputs": [
    {
     "data": {
      "text/plain": [
       "(2681, 9040)"
      ]
     },
     "execution_count": 38,
     "metadata": {},
     "output_type": "execute_result"
    }
   ],
   "source": [
    "tfidf_X_test.shape"
   ]
  },
  {
   "cell_type": "markdown",
   "metadata": {},
   "source": [
    "For turning my labels––positive, negative, and no emotion––into numeric values, I've decided to make positive = 2, no emotion = 1, and negative emotion = 0. My reason for doing so is to make the distance between positive and negative reviews as big as possible so that my model's metrics penalize that misclassification, \"positive\" for \"negative\" or vice versa, more strongly than if either had simply been mistaken as \"no emotion\". It seems a mild error to mistakenly classifiy a positive review as having no emotion, or a review without emotion as being positive. A similar relationship exists between \"no emotion\" and \"negative.\" These sorts of errors I would consider mild in this context. The more serious error is mistaking a positive review for a negative one, or vice versa, and encoding the labels this way will help accuracy/precision/recall/F1 metrics evaluate predictions accordingly."
   ]
  },
  {
   "cell_type": "code",
   "execution_count": 39,
   "metadata": {},
   "outputs": [],
   "source": [
    "sentiment = {0: 'Negative emotion', 1: 'No emotion toward brand or product', 2: 'Positive emotion'}\n",
    "sentiment_encoder = {'Negative emotion': 0, 'No emotion toward brand or product':1, 'Positive emotion':2}"
   ]
  },
  {
   "cell_type": "code",
   "execution_count": 40,
   "metadata": {
    "scrolled": true
   },
   "outputs": [
    {
     "data": {
      "text/plain": [
       "[1, 1, 1, 2, 2, 1, 0, 1, 1, 1]"
      ]
     },
     "execution_count": 40,
     "metadata": {},
     "output_type": "execute_result"
    }
   ],
   "source": [
    "y_train = [sentiment_encoder[y] for y in y_train]\n",
    "y_test = [sentiment_encoder[y] for y in y_test]\n",
    "y_train[:10]"
   ]
  },
  {
   "cell_type": "markdown",
   "metadata": {},
   "source": [
    "## Model Training"
   ]
  },
  {
   "cell_type": "markdown",
   "metadata": {},
   "source": [
    "I try out logistic regression, an SVM (with rbf kernel), an RF, a Naive Bayes classifier, and a neural network."
   ]
  },
  {
   "cell_type": "code",
   "execution_count": 41,
   "metadata": {},
   "outputs": [],
   "source": [
    "def report(y, yhat):\n",
    "    cm = np.round(confusion_matrix(y, yhat, normalize='true'), 3)*100\n",
    "    print(cm)\n",
    "    print()\n",
    "    print(classification_report(y, yhat))"
   ]
  },
  {
   "cell_type": "code",
   "execution_count": 42,
   "metadata": {
    "scrolled": true
   },
   "outputs": [
    {
     "name": "stderr",
     "output_type": "stream",
     "text": [
      "/Users/stlanier/opt/anaconda3/envs/learn-env/lib/python3.6/site-packages/sklearn/linear_model/_logistic.py:764: ConvergenceWarning: lbfgs failed to converge (status=1):\n",
      "STOP: TOTAL NO. of ITERATIONS REACHED LIMIT.\n",
      "\n",
      "Increase the number of iterations (max_iter) or scale the data as shown in:\n",
      "    https://scikit-learn.org/stable/modules/preprocessing.html\n",
      "Please also refer to the documentation for alternative solver options:\n",
      "    https://scikit-learn.org/stable/modules/linear_model.html#logistic-regression\n",
      "  extra_warning_msg=_LOGISTIC_SOLVER_CONVERGENCE_MSG)\n",
      "/Users/stlanier/opt/anaconda3/envs/learn-env/lib/python3.6/site-packages/sklearn/linear_model/_logistic.py:764: ConvergenceWarning: lbfgs failed to converge (status=1):\n",
      "STOP: TOTAL NO. of ITERATIONS REACHED LIMIT.\n",
      "\n",
      "Increase the number of iterations (max_iter) or scale the data as shown in:\n",
      "    https://scikit-learn.org/stable/modules/preprocessing.html\n",
      "Please also refer to the documentation for alternative solver options:\n",
      "    https://scikit-learn.org/stable/modules/linear_model.html#logistic-regression\n",
      "  extra_warning_msg=_LOGISTIC_SOLVER_CONVERGENCE_MSG)\n",
      "/Users/stlanier/opt/anaconda3/envs/learn-env/lib/python3.6/site-packages/sklearn/linear_model/_logistic.py:764: ConvergenceWarning: lbfgs failed to converge (status=1):\n",
      "STOP: TOTAL NO. of ITERATIONS REACHED LIMIT.\n",
      "\n",
      "Increase the number of iterations (max_iter) or scale the data as shown in:\n",
      "    https://scikit-learn.org/stable/modules/preprocessing.html\n",
      "Please also refer to the documentation for alternative solver options:\n",
      "    https://scikit-learn.org/stable/modules/linear_model.html#logistic-regression\n",
      "  extra_warning_msg=_LOGISTIC_SOLVER_CONVERGENCE_MSG)\n",
      "/Users/stlanier/opt/anaconda3/envs/learn-env/lib/python3.6/site-packages/sklearn/linear_model/_logistic.py:764: ConvergenceWarning: lbfgs failed to converge (status=1):\n",
      "STOP: TOTAL NO. of ITERATIONS REACHED LIMIT.\n",
      "\n",
      "Increase the number of iterations (max_iter) or scale the data as shown in:\n",
      "    https://scikit-learn.org/stable/modules/preprocessing.html\n",
      "Please also refer to the documentation for alternative solver options:\n",
      "    https://scikit-learn.org/stable/modules/linear_model.html#logistic-regression\n",
      "  extra_warning_msg=_LOGISTIC_SOLVER_CONVERGENCE_MSG)\n",
      "/Users/stlanier/opt/anaconda3/envs/learn-env/lib/python3.6/site-packages/sklearn/linear_model/_logistic.py:764: ConvergenceWarning: lbfgs failed to converge (status=1):\n",
      "STOP: TOTAL NO. of ITERATIONS REACHED LIMIT.\n",
      "\n",
      "Increase the number of iterations (max_iter) or scale the data as shown in:\n",
      "    https://scikit-learn.org/stable/modules/preprocessing.html\n",
      "Please also refer to the documentation for alternative solver options:\n",
      "    https://scikit-learn.org/stable/modules/linear_model.html#logistic-regression\n",
      "  extra_warning_msg=_LOGISTIC_SOLVER_CONVERGENCE_MSG)\n",
      "/Users/stlanier/opt/anaconda3/envs/learn-env/lib/python3.6/site-packages/sklearn/linear_model/_logistic.py:764: ConvergenceWarning: lbfgs failed to converge (status=1):\n",
      "STOP: TOTAL NO. of ITERATIONS REACHED LIMIT.\n",
      "\n",
      "Increase the number of iterations (max_iter) or scale the data as shown in:\n",
      "    https://scikit-learn.org/stable/modules/preprocessing.html\n",
      "Please also refer to the documentation for alternative solver options:\n",
      "    https://scikit-learn.org/stable/modules/linear_model.html#logistic-regression\n",
      "  extra_warning_msg=_LOGISTIC_SOLVER_CONVERGENCE_MSG)\n"
     ]
    },
    {
     "name": "stdout",
     "output_type": "stream",
     "text": [
      "LogisticRegressionCV(cv=5)\n",
      "--Train--\n",
      "[[59.3 33.6  7.1]\n",
      " [ 0.1 96.6  3.3]\n",
      " [ 0.  17.9 82.1]]\n",
      "\n",
      "              precision    recall  f1-score   support\n",
      "\n",
      "           0       0.99      0.59      0.74       381\n",
      "           1       0.88      0.97      0.92      3776\n",
      "           2       0.92      0.82      0.87      2098\n",
      "\n",
      "    accuracy                           0.89      6255\n",
      "   macro avg       0.93      0.79      0.84      6255\n",
      "weighted avg       0.90      0.89      0.89      6255\n",
      "\n",
      "--Test--\n",
      "[[16.9 60.8 22.2]\n",
      " [ 0.7 83.7 15.6]\n",
      " [ 0.6 48.8 50.7]]\n",
      "\n",
      "              precision    recall  f1-score   support\n",
      "\n",
      "           0       0.65      0.17      0.27       189\n",
      "           1       0.71      0.84      0.77      1612\n",
      "           2       0.60      0.51      0.55       880\n",
      "\n",
      "    accuracy                           0.68      2681\n",
      "   macro avg       0.66      0.50      0.53      2681\n",
      "weighted avg       0.67      0.68      0.66      2681\n",
      "\n",
      "MultinomialNB()\n",
      "--Train--\n",
      "[[ 2.6 86.1 11.3]\n",
      " [ 0.  99.1  0.9]\n",
      " [ 0.  57.3 42.7]]\n",
      "\n",
      "              precision    recall  f1-score   support\n",
      "\n",
      "           0       1.00      0.03      0.05       381\n",
      "           1       0.71      0.99      0.83      3776\n",
      "           2       0.92      0.43      0.58      2098\n",
      "\n",
      "    accuracy                           0.74      6255\n",
      "   macro avg       0.88      0.48      0.49      6255\n",
      "weighted avg       0.80      0.74      0.70      6255\n",
      "\n",
      "--Test--\n",
      "[[ 0.5 93.1  6.3]\n",
      " [ 0.1 96.7  3.2]\n",
      " [ 0.  79.4 20.6]]\n",
      "\n",
      "              precision    recall  f1-score   support\n",
      "\n",
      "           0       0.50      0.01      0.01       189\n",
      "           1       0.64      0.97      0.77      1612\n",
      "           2       0.74      0.21      0.32       880\n",
      "\n",
      "    accuracy                           0.65      2681\n",
      "   macro avg       0.63      0.39      0.37      2681\n",
      "weighted avg       0.66      0.65      0.57      2681\n",
      "\n",
      "RandomForestClassifier()\n",
      "--Train--\n",
      "[[99.   0.8  0.3]\n",
      " [ 0.  99.9  0.1]\n",
      " [ 0.   0.8 99.2]]\n",
      "\n",
      "              precision    recall  f1-score   support\n",
      "\n",
      "           0       1.00      0.99      0.99       381\n",
      "           1       0.99      1.00      1.00      3776\n",
      "           2       1.00      0.99      0.99      2098\n",
      "\n",
      "    accuracy                           1.00      6255\n",
      "   macro avg       1.00      0.99      1.00      6255\n",
      "weighted avg       1.00      1.00      1.00      6255\n",
      "\n",
      "--Test--\n",
      "[[15.3 70.4 14.3]\n",
      " [ 0.7 88.2 11. ]\n",
      " [ 0.1 63.  36.9]]\n",
      "\n",
      "              precision    recall  f1-score   support\n",
      "\n",
      "           0       0.69      0.15      0.25       189\n",
      "           1       0.67      0.88      0.76      1612\n",
      "           2       0.61      0.37      0.46       880\n",
      "\n",
      "    accuracy                           0.66      2681\n",
      "   macro avg       0.66      0.47      0.49      2681\n",
      "weighted avg       0.66      0.66      0.63      2681\n",
      "\n",
      "SVC()\n",
      "--Train--\n",
      "[[56.7 39.4  3.9]\n",
      " [ 0.  98.9  1.1]\n",
      " [ 0.  16.5 83.5]]\n",
      "\n",
      "              precision    recall  f1-score   support\n",
      "\n",
      "           0       1.00      0.57      0.72       381\n",
      "           1       0.88      0.99      0.93      3776\n",
      "           2       0.97      0.84      0.90      2098\n",
      "\n",
      "    accuracy                           0.91      6255\n",
      "   macro avg       0.95      0.80      0.85      6255\n",
      "weighted avg       0.92      0.91      0.91      6255\n",
      "\n",
      "--Test--\n",
      "[[ 8.5 76.2 15.3]\n",
      " [ 0.2 89.4 10.4]\n",
      " [ 0.1 59.4 40.5]]\n",
      "\n",
      "              precision    recall  f1-score   support\n",
      "\n",
      "           0       0.76      0.08      0.15       189\n",
      "           1       0.68      0.89      0.77      1612\n",
      "           2       0.64      0.40      0.50       880\n",
      "\n",
      "    accuracy                           0.68      2681\n",
      "   macro avg       0.70      0.46      0.47      2681\n",
      "weighted avg       0.68      0.68      0.64      2681\n",
      "\n"
     ]
    }
   ],
   "source": [
    "for clf in clfs:\n",
    "    clf.fit(tfidf_X_train, y_train)\n",
    "    print(f'{clf}')\n",
    "    print('--Train--')\n",
    "    report(y_train, clf.predict(tfidf_X_train))\n",
    "    print('--Test--')\n",
    "    report(y_test, clf.predict(tfidf_X_test))"
   ]
  },
  {
   "cell_type": "markdown",
   "metadata": {},
   "source": [
    "I'm leaning strongly towards using macro f1 scores, but Keras doesn't include that in its metrics. I got the following code from [here](https://medium.com/@aakashgoel12/how-to-add-user-defined-function-get-f1-score-in-keras-metrics-3013f979ce0d) so that Keras can include the f1 score as a metric."
   ]
  },
  {
   "cell_type": "code",
   "execution_count": 43,
   "metadata": {},
   "outputs": [],
   "source": [
    "import keras.backend as K\n",
    "def get_f1(y_true, y_pred): #taken from old keras source code\n",
    "    true_positives = K.sum(K.round(K.clip(y_true * y_pred, 0, 1)))\n",
    "    possible_positives = K.sum(K.round(K.clip(y_true, 0, 1)))\n",
    "    predicted_positives = K.sum(K.round(K.clip(y_pred, 0, 1)))\n",
    "    precision = true_positives / (predicted_positives + K.epsilon())\n",
    "    recall = true_positives / (possible_positives + K.epsilon())\n",
    "    f1_val = 2*(precision*recall)/(precision+recall+K.epsilon())\n",
    "    return f1_val"
   ]
  },
  {
   "cell_type": "code",
   "execution_count": 44,
   "metadata": {},
   "outputs": [],
   "source": [
    "y_train_ohe = keras.utils.to_categorical(y_train, 3)\n",
    "y_test_ohe = keras.utils.to_categorical(y_test, 3)"
   ]
  },
  {
   "cell_type": "code",
   "execution_count": 45,
   "metadata": {
    "scrolled": true
   },
   "outputs": [
    {
     "name": "stdout",
     "output_type": "stream",
     "text": [
      "Epoch 1/10\n",
      "6255/6255 [==============================] - 10s 2ms/step - loss: 0.8846 - get_f1: 0.4732\n",
      "Epoch 2/10\n",
      "6255/6255 [==============================] - 8s 1ms/step - loss: 0.8372 - get_f1: 0.6038\n",
      "Epoch 3/10\n",
      "6255/6255 [==============================] - 10s 2ms/step - loss: 0.8333 - get_f1: 0.6034\n",
      "Epoch 4/10\n",
      "6255/6255 [==============================] - 9s 1ms/step - loss: 0.8293 - get_f1: 0.6037\n",
      "Epoch 5/10\n",
      "6255/6255 [==============================] - 10s 2ms/step - loss: 0.8248 - get_f1: 0.6037\n",
      "Epoch 6/10\n",
      "6255/6255 [==============================] - 10s 2ms/step - loss: 0.8204 - get_f1: 0.6038\n",
      "Epoch 7/10\n",
      "6255/6255 [==============================] - 9s 1ms/step - loss: 0.8151 - get_f1: 0.6045\n",
      "Epoch 8/10\n",
      "6255/6255 [==============================] - 10s 2ms/step - loss: 0.8096 - get_f1: 0.6052\n",
      "Epoch 9/10\n",
      "6255/6255 [==============================] - 9s 2ms/step - loss: 0.8038 - get_f1: 0.6066\n",
      "Epoch 10/10\n",
      "6255/6255 [==============================] - 9s 1ms/step - loss: 0.7975 - get_f1: 0.6093\n"
     ]
    }
   ],
   "source": [
    "clf_ann = models.Sequential()\n",
    "clf_ann.add(layers.Dense(100, activation='relu', input_shape=(9040,)))\n",
    "clf_ann.add(layers.Dense(3, activation='softmax'))\n",
    "clf_ann.compile(optimizer='SGD', \n",
    "                loss='categorical_crossentropy',\n",
    "                metrics=[get_f1])\n",
    "history = clf_ann.fit(tfidf_X_train, y_train_ohe, epochs=10, batch_size=10)"
   ]
  },
  {
   "cell_type": "code",
   "execution_count": 46,
   "metadata": {},
   "outputs": [
    {
     "name": "stdout",
     "output_type": "stream",
     "text": [
      "[[  0.   99.5   0.5]\n",
      " [  0.  100.    0. ]\n",
      " [  0.   97.6   2.4]]\n",
      "\n",
      "              precision    recall  f1-score   support\n",
      "\n",
      "           0       0.00      0.00      0.00       381\n",
      "           1       0.61      1.00      0.76      3776\n",
      "           2       0.96      0.02      0.05      2098\n",
      "\n",
      "    accuracy                           0.61      6255\n",
      "   macro avg       0.52      0.34      0.27      6255\n",
      "weighted avg       0.69      0.61      0.47      6255\n",
      "\n"
     ]
    },
    {
     "name": "stderr",
     "output_type": "stream",
     "text": [
      "/Users/stlanier/opt/anaconda3/envs/learn-env/lib/python3.6/site-packages/sklearn/metrics/_classification.py:1221: UndefinedMetricWarning: Precision and F-score are ill-defined and being set to 0.0 in labels with no predicted samples. Use `zero_division` parameter to control this behavior.\n",
      "  _warn_prf(average, modifier, msg_start, len(result))\n"
     ]
    }
   ],
   "source": [
    "yhat_train = clf_ann.predict(tfidf_X_train)\n",
    "yhat_train = [np.argmax(y) for y in yhat_train]\n",
    "report(y_train, yhat_train)"
   ]
  },
  {
   "cell_type": "code",
   "execution_count": 47,
   "metadata": {},
   "outputs": [
    {
     "name": "stdout",
     "output_type": "stream",
     "text": [
      "[[  0.   99.5   0.5]\n",
      " [  0.  100.    0. ]\n",
      " [  0.   98.2   1.8]]\n",
      "\n",
      "              precision    recall  f1-score   support\n",
      "\n",
      "           0       0.00      0.00      0.00       189\n",
      "           1       0.61      1.00      0.75      1612\n",
      "           2       0.94      0.02      0.04       880\n",
      "\n",
      "    accuracy                           0.61      2681\n",
      "   macro avg       0.52      0.34      0.26      2681\n",
      "weighted avg       0.67      0.61      0.47      2681\n",
      "\n"
     ]
    }
   ],
   "source": [
    "yhat_test = clf_ann.predict(tfidf_X_test)\n",
    "yhat_test = [np.argmax(y) for y in yhat_test]\n",
    "report(y_test, yhat_test)"
   ]
  },
  {
   "cell_type": "markdown",
   "metadata": {},
   "source": [
    "Logistic regression did okay, the random forest did excellently on train data, and the SVM did pretty okay too. All models, however, are showing significant decreases in f1 score going from train to test data, a sign of overfitting especially in the case of the random forest. Also, looking at the confusion matrices, all models are showing a tendency to over-predict 1––no emotion––on test data, and the neural network is the worst offender of all, predicting almost exclusively 1's, with only a few 2's; it didn't predict a single 0.\n",
    "\n",
    "## Fine Tuning, More Feature Engineering\n",
    "\n",
    "Onto improving those scores, and I'm mostly looking at the macro f1 score now, as it's best handling the class imbalance. \n",
    "\n",
    "I first remove stop words and lemmatize tokens, then rerun the tf-idf vectorization. Then I rerun all of my initial models to see if there was improvement. I'm also starting to include and pay attention to ROC curves."
   ]
  },
  {
   "cell_type": "code",
   "execution_count": 48,
   "metadata": {},
   "outputs": [],
   "source": [
    "X_train_tokens = list(map(word_tokenize, X_train))\n",
    "X_test_tokens = list(map(word_tokenize, X_test))"
   ]
  },
  {
   "cell_type": "code",
   "execution_count": 49,
   "metadata": {},
   "outputs": [],
   "source": [
    "lemmatizer = WordNetLemmatizer()\n",
    "X_train_tokens_lemmatized = []\n",
    "X_test_tokens_lemmatized = []\n",
    "for article in X_train_tokens:\n",
    "    toks = [lemmatizer.lemmatize(x) for x in article if x not in stopwords_list]\n",
    "    X_train_tokens_lemmatized.append(toks)\n",
    "    \n",
    "for article in X_test_tokens:\n",
    "    toks = [lemmatizer.lemmatize(x) for x in article if x not in stopwords_list]\n",
    "    X_test_tokens_lemmatized.append(toks)"
   ]
  },
  {
   "cell_type": "code",
   "execution_count": 50,
   "metadata": {},
   "outputs": [],
   "source": [
    "X_train_tokens_lemmatized = [' '.join(x) for x in X_train_tokens_lemmatized]\n",
    "X_test_tokens_lemmatized = [' '.join(x) for x in X_test_tokens_lemmatized]"
   ]
  },
  {
   "cell_type": "code",
   "execution_count": 51,
   "metadata": {},
   "outputs": [],
   "source": [
    "tfidf_X_train_lemmatized = vectorizer.fit_transform(X_train_tokens_lemmatized)\n",
    "tfidf_X_test_lemmatized = vectorizer.transform(X_test_tokens_lemmatized)"
   ]
  },
  {
   "cell_type": "code",
   "execution_count": 52,
   "metadata": {},
   "outputs": [
    {
     "data": {
      "text/plain": [
       "(2681, 8317)"
      ]
     },
     "execution_count": 52,
     "metadata": {},
     "output_type": "execute_result"
    }
   ],
   "source": [
    "tfidf_X_test_lemmatized.shape"
   ]
  },
  {
   "cell_type": "code",
   "execution_count": 53,
   "metadata": {
    "scrolled": true
   },
   "outputs": [
    {
     "name": "stderr",
     "output_type": "stream",
     "text": [
      "/Users/stlanier/opt/anaconda3/envs/learn-env/lib/python3.6/site-packages/sklearn/linear_model/_logistic.py:764: ConvergenceWarning: lbfgs failed to converge (status=1):\n",
      "STOP: TOTAL NO. of ITERATIONS REACHED LIMIT.\n",
      "\n",
      "Increase the number of iterations (max_iter) or scale the data as shown in:\n",
      "    https://scikit-learn.org/stable/modules/preprocessing.html\n",
      "Please also refer to the documentation for alternative solver options:\n",
      "    https://scikit-learn.org/stable/modules/linear_model.html#logistic-regression\n",
      "  extra_warning_msg=_LOGISTIC_SOLVER_CONVERGENCE_MSG)\n",
      "/Users/stlanier/opt/anaconda3/envs/learn-env/lib/python3.6/site-packages/sklearn/linear_model/_logistic.py:764: ConvergenceWarning: lbfgs failed to converge (status=1):\n",
      "STOP: TOTAL NO. of ITERATIONS REACHED LIMIT.\n",
      "\n",
      "Increase the number of iterations (max_iter) or scale the data as shown in:\n",
      "    https://scikit-learn.org/stable/modules/preprocessing.html\n",
      "Please also refer to the documentation for alternative solver options:\n",
      "    https://scikit-learn.org/stable/modules/linear_model.html#logistic-regression\n",
      "  extra_warning_msg=_LOGISTIC_SOLVER_CONVERGENCE_MSG)\n",
      "/Users/stlanier/opt/anaconda3/envs/learn-env/lib/python3.6/site-packages/sklearn/linear_model/_logistic.py:764: ConvergenceWarning: lbfgs failed to converge (status=1):\n",
      "STOP: TOTAL NO. of ITERATIONS REACHED LIMIT.\n",
      "\n",
      "Increase the number of iterations (max_iter) or scale the data as shown in:\n",
      "    https://scikit-learn.org/stable/modules/preprocessing.html\n",
      "Please also refer to the documentation for alternative solver options:\n",
      "    https://scikit-learn.org/stable/modules/linear_model.html#logistic-regression\n",
      "  extra_warning_msg=_LOGISTIC_SOLVER_CONVERGENCE_MSG)\n",
      "/Users/stlanier/opt/anaconda3/envs/learn-env/lib/python3.6/site-packages/sklearn/linear_model/_logistic.py:764: ConvergenceWarning: lbfgs failed to converge (status=1):\n",
      "STOP: TOTAL NO. of ITERATIONS REACHED LIMIT.\n",
      "\n",
      "Increase the number of iterations (max_iter) or scale the data as shown in:\n",
      "    https://scikit-learn.org/stable/modules/preprocessing.html\n",
      "Please also refer to the documentation for alternative solver options:\n",
      "    https://scikit-learn.org/stable/modules/linear_model.html#logistic-regression\n",
      "  extra_warning_msg=_LOGISTIC_SOLVER_CONVERGENCE_MSG)\n",
      "/Users/stlanier/opt/anaconda3/envs/learn-env/lib/python3.6/site-packages/sklearn/linear_model/_logistic.py:764: ConvergenceWarning: lbfgs failed to converge (status=1):\n",
      "STOP: TOTAL NO. of ITERATIONS REACHED LIMIT.\n",
      "\n",
      "Increase the number of iterations (max_iter) or scale the data as shown in:\n",
      "    https://scikit-learn.org/stable/modules/preprocessing.html\n",
      "Please also refer to the documentation for alternative solver options:\n",
      "    https://scikit-learn.org/stable/modules/linear_model.html#logistic-regression\n",
      "  extra_warning_msg=_LOGISTIC_SOLVER_CONVERGENCE_MSG)\n",
      "/Users/stlanier/opt/anaconda3/envs/learn-env/lib/python3.6/site-packages/sklearn/linear_model/_logistic.py:764: ConvergenceWarning: lbfgs failed to converge (status=1):\n",
      "STOP: TOTAL NO. of ITERATIONS REACHED LIMIT.\n",
      "\n",
      "Increase the number of iterations (max_iter) or scale the data as shown in:\n",
      "    https://scikit-learn.org/stable/modules/preprocessing.html\n",
      "Please also refer to the documentation for alternative solver options:\n",
      "    https://scikit-learn.org/stable/modules/linear_model.html#logistic-regression\n",
      "  extra_warning_msg=_LOGISTIC_SOLVER_CONVERGENCE_MSG)\n"
     ]
    },
    {
     "name": "stdout",
     "output_type": "stream",
     "text": [
      "LogisticRegressionCV(cv=5)\n",
      "--Train--\n",
      "[[60.9 33.1  6. ]\n",
      " [ 0.1 96.5  3.4]\n",
      " [ 0.  19.2 80.8]]\n",
      "\n",
      "              precision    recall  f1-score   support\n",
      "\n",
      "           0       0.99      0.61      0.75       381\n",
      "           1       0.87      0.96      0.92      3776\n",
      "           2       0.92      0.81      0.86      2098\n",
      "\n",
      "    accuracy                           0.89      6255\n",
      "   macro avg       0.93      0.79      0.84      6255\n",
      "weighted avg       0.89      0.89      0.89      6255\n",
      "\n",
      "--Test--\n",
      "[[15.9 65.6 18.5]\n",
      " [ 0.9 83.1 15.9]\n",
      " [ 0.7 50.  49.3]]\n",
      "\n",
      "              precision    recall  f1-score   support\n",
      "\n",
      "           0       0.59      0.16      0.25       189\n",
      "           1       0.70      0.83      0.76      1612\n",
      "           2       0.60      0.49      0.54       880\n",
      "\n",
      "    accuracy                           0.67      2681\n",
      "   macro avg       0.63      0.49      0.52      2681\n",
      "weighted avg       0.66      0.67      0.65      2681\n",
      "\n",
      "MultinomialNB()\n",
      "--Train--\n",
      "[[ 3.4 82.7 13.9]\n",
      " [ 0.  98.8  1.2]\n",
      " [ 0.  49.6 50.4]]\n",
      "\n",
      "              precision    recall  f1-score   support\n",
      "\n",
      "           0       1.00      0.03      0.07       381\n",
      "           1       0.73      0.99      0.84      3776\n",
      "           2       0.92      0.50      0.65      2098\n",
      "\n",
      "    accuracy                           0.77      6255\n",
      "   macro avg       0.88      0.51      0.52      6255\n",
      "weighted avg       0.81      0.77      0.73      6255\n",
      "\n",
      "--Test--\n",
      "[[ 0.5 87.8 11.6]\n",
      " [ 0.1 94.8  5.1]\n",
      " [ 0.  75.5 24.5]]\n",
      "\n",
      "              precision    recall  f1-score   support\n",
      "\n",
      "           0       0.50      0.01      0.01       189\n",
      "           1       0.65      0.95      0.77      1612\n",
      "           2       0.67      0.25      0.36       880\n",
      "\n",
      "    accuracy                           0.65      2681\n",
      "   macro avg       0.61      0.40      0.38      2681\n",
      "weighted avg       0.65      0.65      0.58      2681\n",
      "\n",
      "RandomForestClassifier()\n",
      "--Train--\n",
      "[[99.5  0.3  0.3]\n",
      " [ 0.  99.7  0.2]\n",
      " [ 0.   1.4 98.6]]\n",
      "\n",
      "              precision    recall  f1-score   support\n",
      "\n",
      "           0       1.00      0.99      1.00       381\n",
      "           1       0.99      1.00      0.99      3776\n",
      "           2       1.00      0.99      0.99      2098\n",
      "\n",
      "    accuracy                           0.99      6255\n",
      "   macro avg       0.99      0.99      0.99      6255\n",
      "weighted avg       0.99      0.99      0.99      6255\n",
      "\n",
      "--Test--\n",
      "[[16.9 71.4 11.6]\n",
      " [ 0.7 86.8 12.5]\n",
      " [ 0.3 59.7 40. ]]\n",
      "\n",
      "              precision    recall  f1-score   support\n",
      "\n",
      "           0       0.70      0.17      0.27       189\n",
      "           1       0.68      0.87      0.76      1612\n",
      "           2       0.61      0.40      0.48       880\n",
      "\n",
      "    accuracy                           0.67      2681\n",
      "   macro avg       0.66      0.48      0.51      2681\n",
      "weighted avg       0.66      0.67      0.64      2681\n",
      "\n",
      "SVC()\n",
      "--Train--\n",
      "[[55.9 41.5  2.6]\n",
      " [ 0.  99.   1. ]\n",
      " [ 0.  17.  83. ]]\n",
      "\n",
      "              precision    recall  f1-score   support\n",
      "\n",
      "           0       1.00      0.56      0.72       381\n",
      "           1       0.88      0.99      0.93      3776\n",
      "           2       0.97      0.83      0.90      2098\n",
      "\n",
      "    accuracy                           0.91      6255\n",
      "   macro avg       0.95      0.79      0.85      6255\n",
      "weighted avg       0.92      0.91      0.91      6255\n",
      "\n",
      "--Test--\n",
      "[[ 8.5 77.8 13.8]\n",
      " [ 0.2 89.5 10.2]\n",
      " [ 0.1 59.3 40.6]]\n",
      "\n",
      "              precision    recall  f1-score   support\n",
      "\n",
      "           0       0.76      0.08      0.15       189\n",
      "           1       0.68      0.90      0.77      1612\n",
      "           2       0.65      0.41      0.50       880\n",
      "\n",
      "    accuracy                           0.68      2681\n",
      "   macro avg       0.70      0.46      0.48      2681\n",
      "weighted avg       0.68      0.68      0.64      2681\n",
      "\n"
     ]
    }
   ],
   "source": [
    "for clf in clfs:\n",
    "    clf.fit(tfidf_X_train_lemmatized, y_train)\n",
    "    print(f'{clf}')\n",
    "    print('--Train--')\n",
    "    report(y_train, clf.predict(tfidf_X_train_lemmatized))\n",
    "    print('--Test--')\n",
    "    report(y_test, clf.predict(tfidf_X_test_lemmatized))"
   ]
  },
  {
   "cell_type": "code",
   "execution_count": 54,
   "metadata": {},
   "outputs": [
    {
     "name": "stdout",
     "output_type": "stream",
     "text": [
      "Epoch 1/10\n",
      "6255/6255 [==============================] - 9s 1ms/step - loss: 0.8845 - get_f1: 0.4729\n",
      "Epoch 2/10\n",
      "6255/6255 [==============================] - 7s 1ms/step - loss: 0.8367 - get_f1: 0.6035\n",
      "Epoch 3/10\n",
      "6255/6255 [==============================] - 8s 1ms/step - loss: 0.8323 - get_f1: 0.6034\n",
      "Epoch 4/10\n",
      "6255/6255 [==============================] - 9s 1ms/step - loss: 0.8277 - get_f1: 0.6037\n",
      "Epoch 5/10\n",
      "6255/6255 [==============================] - 8s 1ms/step - loss: 0.8233 - get_f1: 0.6038\n",
      "Epoch 6/10\n",
      "6255/6255 [==============================] - 8s 1ms/step - loss: 0.8179 - get_f1: 0.6037\n",
      "Epoch 7/10\n",
      "6255/6255 [==============================] - 8s 1ms/step - loss: 0.8127 - get_f1: 0.6045\n",
      "Epoch 8/10\n",
      "6255/6255 [==============================] - 8s 1ms/step - loss: 0.8068 - get_f1: 0.6060\n",
      "Epoch 9/10\n",
      "6255/6255 [==============================] - 8s 1ms/step - loss: 0.8006 - get_f1: 0.6081\n",
      "Epoch 10/10\n",
      "6255/6255 [==============================] - 10s 2ms/step - loss: 0.7938 - get_f1: 0.6111\n"
     ]
    }
   ],
   "source": [
    "clf_ann_2 = models.Sequential()\n",
    "clf_ann_2.add(layers.Dense(100, activation='relu', input_shape=(8317,)))\n",
    "clf_ann_2.add(layers.Dense(3, activation='softmax'))\n",
    "clf_ann_2.compile(optimizer='SGD', \n",
    "                loss='categorical_crossentropy',\n",
    "                metrics=[get_f1])\n",
    "history_2 = clf_ann_2.fit(tfidf_X_train_lemmatized, y_train_ohe, epochs=10, batch_size=10)"
   ]
  },
  {
   "cell_type": "code",
   "execution_count": 55,
   "metadata": {},
   "outputs": [
    {
     "name": "stdout",
     "output_type": "stream",
     "text": [
      "[[ 0.  99.5  0.5]\n",
      " [ 0.  99.9  0.1]\n",
      " [ 0.  96.3  3.7]]\n",
      "\n",
      "              precision    recall  f1-score   support\n",
      "\n",
      "           0       0.00      0.00      0.00       381\n",
      "           1       0.61      1.00      0.76      3776\n",
      "           2       0.94      0.04      0.07      2098\n",
      "\n",
      "    accuracy                           0.62      6255\n",
      "   macro avg       0.52      0.35      0.28      6255\n",
      "weighted avg       0.68      0.62      0.48      6255\n",
      "\n"
     ]
    },
    {
     "name": "stderr",
     "output_type": "stream",
     "text": [
      "/Users/stlanier/opt/anaconda3/envs/learn-env/lib/python3.6/site-packages/sklearn/metrics/_classification.py:1221: UndefinedMetricWarning: Precision and F-score are ill-defined and being set to 0.0 in labels with no predicted samples. Use `zero_division` parameter to control this behavior.\n",
      "  _warn_prf(average, modifier, msg_start, len(result))\n"
     ]
    }
   ],
   "source": [
    "yhat_train = clf_ann_2.predict(tfidf_X_train_lemmatized)\n",
    "yhat_train = [np.argmax(y) for y in yhat_train]\n",
    "report(y_train, yhat_train)"
   ]
  },
  {
   "cell_type": "code",
   "execution_count": 56,
   "metadata": {
    "scrolled": true
   },
   "outputs": [
    {
     "name": "stdout",
     "output_type": "stream",
     "text": [
      "[[ 0.  98.4  1.6]\n",
      " [ 0.  99.9  0.1]\n",
      " [ 0.  96.5  3.5]]\n",
      "\n",
      "              precision    recall  f1-score   support\n",
      "\n",
      "           0       0.00      0.00      0.00       189\n",
      "           1       0.61      1.00      0.76      1612\n",
      "           2       0.89      0.04      0.07       880\n",
      "\n",
      "    accuracy                           0.61      2681\n",
      "   macro avg       0.50      0.34      0.27      2681\n",
      "weighted avg       0.66      0.61      0.48      2681\n",
      "\n"
     ]
    }
   ],
   "source": [
    "yhat_test = clf_ann_2.predict(tfidf_X_test_lemmatized)\n",
    "yhat_test = [np.argmax(y) for y in yhat_test]\n",
    "report(y_test, yhat_test)"
   ]
  },
  {
   "cell_type": "markdown",
   "metadata": {},
   "source": [
    "Lemmatizing data showed mild improvements across the board."
   ]
  },
  {
   "cell_type": "markdown",
   "metadata": {},
   "source": [
    "## Visuals: ROCs"
   ]
  },
  {
   "cell_type": "code",
   "execution_count": 57,
   "metadata": {},
   "outputs": [],
   "source": [
    "def roc_curve_multiclass(y_score, y_bin, title=None):\n",
    "    fpr = {}\n",
    "    tpr = {}\n",
    "    roc_auc = dict()\n",
    "    for i in range(3):\n",
    "        fpr[i], tpr[i], _ = roc_curve(y_bin[:, i], y_score[:, i])\n",
    "        roc_auc[i] = auc(fpr[i], tpr[i])\n",
    "\n",
    "    plt.figure(figsize=(8,8))\n",
    "    for i in range(3): \n",
    "        plt.plot(fpr[i], tpr[i], label=str(i))\n",
    "    plt.legend()\n",
    "    plt.xlabel('FPR')\n",
    "    plt.ylabel('TPR')\n",
    "    plt.title(title)"
   ]
  },
  {
   "cell_type": "code",
   "execution_count": 58,
   "metadata": {},
   "outputs": [
    {
     "data": {
      "image/png": "[encoded data removed]",
      "text/plain": [
       "<Figure size 576x576 with 1 Axes>"
      ]
     },
     "metadata": {
      "needs_background": "light"
     },
     "output_type": "display_data"
    }
   ],
   "source": [
    "roc_curve_multiclass(clfs[0].decision_function(tfidf_X_train_lemmatized), \n",
    "                    label_binarize(y_train, classes=[0,1,2]),\n",
    "                    title='Logistic Regression ROC (Train)')"
   ]
  },
  {
   "cell_type": "code",
   "execution_count": 59,
   "metadata": {
    "scrolled": false
   },
   "outputs": [
    {
     "data": {
      "image/png": "[encoded data removed]",
      "text/plain": [
       "<Figure size 576x576 with 1 Axes>"
      ]
     },
     "metadata": {
      "needs_background": "light"
     },
     "output_type": "display_data"
    }
   ],
   "source": [
    "roc_curve_multiclass(clfs[0].decision_function(tfidf_X_test_lemmatized), \n",
    "                    label_binarize(y_test, classes=[0,1,2]),\n",
    "                    title='Logistic Regression ROC (Test)')"
   ]
  },
  {
   "cell_type": "code",
   "execution_count": 60,
   "metadata": {
    "scrolled": false
   },
   "outputs": [
    {
     "data": {
      "image/png": "[encoded data removed]",
      "text/plain": [
       "<Figure size 576x576 with 1 Axes>"
      ]
     },
     "metadata": {
      "needs_background": "light"
     },
     "output_type": "display_data"
    }
   ],
   "source": [
    "roc_curve_multiclass(clfs[1].predict_proba(tfidf_X_train_lemmatized), \n",
    "                    label_binarize(y_train, classes=[0,1,2]),\n",
    "                    title='Naive Bayes ROC (Train)')"
   ]
  },
  {
   "cell_type": "code",
   "execution_count": 61,
   "metadata": {},
   "outputs": [
    {
     "data": {
      "image/png": "[encoded data removed]",
      "text/plain": [
       "<Figure size 576x576 with 1 Axes>"
      ]
     },
     "metadata": {
      "needs_background": "light"
     },
     "output_type": "display_data"
    }
   ],
   "source": [
    "roc_curve_multiclass(clfs[1].predict_proba(tfidf_X_test_lemmatized), \n",
    "                    label_binarize(y_test, classes=[0,1,2]),\n",
    "                    title='Naive Bayes ROC (Test)')"
   ]
  },
  {
   "cell_type": "code",
   "execution_count": 62,
   "metadata": {
    "scrolled": false
   },
   "outputs": [
    {
     "data": {
      "image/png": "[encoded data removed]",
      "text/plain": [
       "<Figure size 576x576 with 1 Axes>"
      ]
     },
     "metadata": {
      "needs_background": "light"
     },
     "output_type": "display_data"
    }
   ],
   "source": [
    "roc_curve_multiclass(clfs[2].predict_proba(tfidf_X_train_lemmatized), \n",
    "                     label_binarize(y_train, classes = [0, 1, 2]), \n",
    "                     title='Random Forest ROC (Train)')"
   ]
  },
  {
   "cell_type": "markdown",
   "metadata": {},
   "source": [
    "Shockingly good results from the RF on train data, but..."
   ]
  },
  {
   "cell_type": "code",
   "execution_count": 63,
   "metadata": {
    "scrolled": false
   },
   "outputs": [
    {
     "data": {
      "image/png": "[encoded data removed]",
      "text/plain": [
       "<Figure size 576x576 with 1 Axes>"
      ]
     },
     "metadata": {
      "needs_background": "light"
     },
     "output_type": "display_data"
    }
   ],
   "source": [
    "roc_curve_multiclass(clfs[2].predict_proba(tfidf_X_test_lemmatized), \n",
    "                     label_binarize(y_test, classes = [0, 1, 2]),\n",
    "                     title='Random Forest ROC (Test)')"
   ]
  },
  {
   "cell_type": "markdown",
   "metadata": {},
   "source": [
    "significantly decreased performance on test data."
   ]
  },
  {
   "cell_type": "code",
   "execution_count": 64,
   "metadata": {},
   "outputs": [
    {
     "data": {
      "image/png": "[encoded data removed]",
      "text/plain": [
       "<Figure size 576x576 with 1 Axes>"
      ]
     },
     "metadata": {
      "needs_background": "light"
     },
     "output_type": "display_data"
    }
   ],
   "source": [
    "roc_curve_multiclass(clfs[3].decision_function(tfidf_X_train_lemmatized),\n",
    "                    label_binarize(y_train, classes=[0,1,2]),\n",
    "                    title='SVM ROC (Train)')"
   ]
  },
  {
   "cell_type": "code",
   "execution_count": 65,
   "metadata": {},
   "outputs": [
    {
     "data": {
      "image/png": "[encoded data removed]",
      "text/plain": [
       "<Figure size 576x576 with 1 Axes>"
      ]
     },
     "metadata": {
      "needs_background": "light"
     },
     "output_type": "display_data"
    }
   ],
   "source": [
    "roc_curve_multiclass(clfs[3].decision_function(tfidf_X_test_lemmatized),\n",
    "                    label_binarize(y_test, classes=[0,1,2]),\n",
    "                    title='SVM ROC (Test)')"
   ]
  },
  {
   "cell_type": "markdown",
   "metadata": {},
   "source": [
    "My models appear to be overfitting--model performance decreases on test data, and regardless of which model I use, I can't seem to beat ~0.53 f1 score on test data. The SVM and RF seem to perform best on train data, which might make them the best fit for this data.\n",
    "\n",
    "Before I start tuning models, I try to reduce the dimensionality of my data to minimize model train times."
   ]
  },
  {
   "cell_type": "code",
   "execution_count": 67,
   "metadata": {},
   "outputs": [
    {
     "data": {
      "text/plain": [
       "TruncatedSVD(n_components=4000)"
      ]
     },
     "execution_count": 67,
     "metadata": {},
     "output_type": "execute_result"
    }
   ],
   "source": [
    "tsvd = TruncatedSVD(4000)\n",
    "tsvd.fit(tfidf_X_train_lemmatized)"
   ]
  },
  {
   "cell_type": "code",
   "execution_count": 68,
   "metadata": {},
   "outputs": [
    {
     "data": {
      "text/plain": [
       "array([0.01821521, 0.03828661, 0.04613611, ..., 0.99288093, 0.99289907,\n",
       "       0.99291715])"
      ]
     },
     "execution_count": 68,
     "metadata": {},
     "output_type": "execute_result"
    }
   ],
   "source": [
    "tsvd.explained_variance_ratio_.cumsum()"
   ]
  },
  {
   "cell_type": "code",
   "execution_count": 69,
   "metadata": {},
   "outputs": [],
   "source": [
    "dims = np.arange(1, 4001)"
   ]
  },
  {
   "cell_type": "code",
   "execution_count": 70,
   "metadata": {
    "scrolled": false
   },
   "outputs": [
    {
     "data": {
      "text/plain": [
       "<matplotlib.legend.Legend at 0x7fc6953e4160>"
      ]
     },
     "execution_count": 70,
     "metadata": {},
     "output_type": "execute_result"
    },
    {
     "data": {
      "image/png": "[encoded data removed]",
      "text/plain": [
       "<Figure size 432x288 with 1 Axes>"
      ]
     },
     "metadata": {
      "needs_background": "light"
     },
     "output_type": "display_data"
    }
   ],
   "source": [
    "plt.plot(dims, tsvd.explained_variance_ratio_.cumsum(), label='explained variance')\n",
    "plt.hlines(0.95, xmin=0, xmax=4000, colors='red', label='0.95 explained variance')\n",
    "plt.legend()"
   ]
  },
  {
   "cell_type": "markdown",
   "metadata": {},
   "source": [
    "Looks like 95% of explained variance is preserved down to ~3000 dimensions. That's a big improvement from the previous ~8000 dimensions, so I'll make that my cutoff."
   ]
  },
  {
   "cell_type": "code",
   "execution_count": 71,
   "metadata": {},
   "outputs": [],
   "source": [
    "explained_var = tsvd.explained_variance_ratio_.cumsum()\n",
    "ideal_dim = 4000 - len(explained_var[explained_var >= 0.95]) + 1\n",
    "\n",
    "tsvd = TruncatedSVD(ideal_dim)\n",
    "svd_X_train_lemmatized = tsvd.fit_transform(tfidf_X_train_lemmatized)\n",
    "svd_X_test_lemmatized = tsvd.transform(tfidf_X_test_lemmatized)"
   ]
  },
  {
   "cell_type": "code",
   "execution_count": 87,
   "metadata": {
    "scrolled": true
   },
   "outputs": [
    {
     "name": "stdout",
     "output_type": "stream",
     "text": [
      "Fitting 3 folds for each of 16 candidates, totalling 48 fits\n",
      "[CV] max_depth=None, min_samples_split=5, n_estimators=80 ............\n"
     ]
    },
    {
     "name": "stderr",
     "output_type": "stream",
     "text": [
      "[Parallel(n_jobs=1)]: Using backend SequentialBackend with 1 concurrent workers.\n"
     ]
    },
    {
     "name": "stdout",
     "output_type": "stream",
     "text": [
      "[CV]  max_depth=None, min_samples_split=5, n_estimators=80, score=0.388, total=  19.1s\n",
      "[CV] max_depth=None, min_samples_split=5, n_estimators=80 ............\n"
     ]
    },
    {
     "name": "stderr",
     "output_type": "stream",
     "text": [
      "[Parallel(n_jobs=1)]: Done   1 out of   1 | elapsed:   19.1s remaining:    0.0s\n"
     ]
    },
    {
     "name": "stdout",
     "output_type": "stream",
     "text": [
      "[CV]  max_depth=None, min_samples_split=5, n_estimators=80, score=0.415, total=  21.4s\n",
      "[CV] max_depth=None, min_samples_split=5, n_estimators=80 ............\n"
     ]
    },
    {
     "name": "stderr",
     "output_type": "stream",
     "text": [
      "[Parallel(n_jobs=1)]: Done   2 out of   2 | elapsed:   40.6s remaining:    0.0s\n"
     ]
    },
    {
     "name": "stdout",
     "output_type": "stream",
     "text": [
      "[CV]  max_depth=None, min_samples_split=5, n_estimators=80, score=0.404, total=  17.9s\n",
      "[CV] max_depth=None, min_samples_split=5, n_estimators=90 ............\n",
      "[CV]  max_depth=None, min_samples_split=5, n_estimators=90, score=0.398, total=  22.2s\n",
      "[CV] max_depth=None, min_samples_split=5, n_estimators=90 ............\n",
      "[CV]  max_depth=None, min_samples_split=5, n_estimators=90, score=0.417, total=  22.8s\n",
      "[CV] max_depth=None, min_samples_split=5, n_estimators=90 ............\n",
      "[CV]  max_depth=None, min_samples_split=5, n_estimators=90, score=0.404, total=  21.9s\n",
      "[CV] max_depth=None, min_samples_split=5, n_estimators=100 ...........\n",
      "[CV]  max_depth=None, min_samples_split=5, n_estimators=100, score=0.392, total=  23.5s\n",
      "[CV] max_depth=None, min_samples_split=5, n_estimators=100 ...........\n",
      "[CV]  max_depth=None, min_samples_split=5, n_estimators=100, score=0.413, total=  28.6s\n",
      "[CV] max_depth=None, min_samples_split=5, n_estimators=100 ...........\n",
      "[CV]  max_depth=None, min_samples_split=5, n_estimators=100, score=0.395, total=  25.4s\n",
      "[CV] max_depth=None, min_samples_split=5, n_estimators=110 ...........\n",
      "[CV]  max_depth=None, min_samples_split=5, n_estimators=110, score=0.387, total=  25.9s\n",
      "[CV] max_depth=None, min_samples_split=5, n_estimators=110 ...........\n",
      "[CV]  max_depth=None, min_samples_split=5, n_estimators=110, score=0.409, total=  26.3s\n",
      "[CV] max_depth=None, min_samples_split=5, n_estimators=110 ...........\n",
      "[CV]  max_depth=None, min_samples_split=5, n_estimators=110, score=0.393, total=  26.3s\n",
      "[CV] max_depth=10, min_samples_split=5, n_estimators=80 ..............\n",
      "[CV]  max_depth=10, min_samples_split=5, n_estimators=80, score=0.316, total=  13.6s\n",
      "[CV] max_depth=10, min_samples_split=5, n_estimators=80 ..............\n",
      "[CV]  max_depth=10, min_samples_split=5, n_estimators=80, score=0.318, total=  13.3s\n",
      "[CV] max_depth=10, min_samples_split=5, n_estimators=80 ..............\n",
      "[CV]  max_depth=10, min_samples_split=5, n_estimators=80, score=0.313, total=  15.3s\n",
      "[CV] max_depth=10, min_samples_split=5, n_estimators=90 ..............\n",
      "[CV]  max_depth=10, min_samples_split=5, n_estimators=90, score=0.316, total=  15.6s\n",
      "[CV] max_depth=10, min_samples_split=5, n_estimators=90 ..............\n",
      "[CV]  max_depth=10, min_samples_split=5, n_estimators=90, score=0.316, total=  18.2s\n",
      "[CV] max_depth=10, min_samples_split=5, n_estimators=90 ..............\n",
      "[CV]  max_depth=10, min_samples_split=5, n_estimators=90, score=0.309, total=  18.4s\n",
      "[CV] max_depth=10, min_samples_split=5, n_estimators=100 .............\n",
      "[CV]  max_depth=10, min_samples_split=5, n_estimators=100, score=0.311, total=  20.3s\n",
      "[CV] max_depth=10, min_samples_split=5, n_estimators=100 .............\n",
      "[CV]  max_depth=10, min_samples_split=5, n_estimators=100, score=0.315, total=  18.3s\n",
      "[CV] max_depth=10, min_samples_split=5, n_estimators=100 .............\n",
      "[CV]  max_depth=10, min_samples_split=5, n_estimators=100, score=0.308, total=  21.3s\n",
      "[CV] max_depth=10, min_samples_split=5, n_estimators=110 .............\n",
      "[CV]  max_depth=10, min_samples_split=5, n_estimators=110, score=0.307, total=  19.8s\n",
      "[CV] max_depth=10, min_samples_split=5, n_estimators=110 .............\n",
      "[CV]  max_depth=10, min_samples_split=5, n_estimators=110, score=0.315, total=  22.0s\n",
      "[CV] max_depth=10, min_samples_split=5, n_estimators=110 .............\n",
      "[CV]  max_depth=10, min_samples_split=5, n_estimators=110, score=0.308, total=  16.0s\n",
      "[CV] max_depth=20, min_samples_split=5, n_estimators=80 ..............\n",
      "[CV]  max_depth=20, min_samples_split=5, n_estimators=80, score=0.389, total=  15.9s\n",
      "[CV] max_depth=20, min_samples_split=5, n_estimators=80 ..............\n",
      "[CV]  max_depth=20, min_samples_split=5, n_estimators=80, score=0.399, total=  16.0s\n",
      "[CV] max_depth=20, min_samples_split=5, n_estimators=80 ..............\n",
      "[CV]  max_depth=20, min_samples_split=5, n_estimators=80, score=0.385, total=  16.0s\n",
      "[CV] max_depth=20, min_samples_split=5, n_estimators=90 ..............\n",
      "[CV]  max_depth=20, min_samples_split=5, n_estimators=90, score=0.381, total=  17.9s\n",
      "[CV] max_depth=20, min_samples_split=5, n_estimators=90 ..............\n",
      "[CV]  max_depth=20, min_samples_split=5, n_estimators=90, score=0.407, total=  18.0s\n",
      "[CV] max_depth=20, min_samples_split=5, n_estimators=90 ..............\n",
      "[CV]  max_depth=20, min_samples_split=5, n_estimators=90, score=0.384, total=  18.2s\n",
      "[CV] max_depth=20, min_samples_split=5, n_estimators=100 .............\n",
      "[CV]  max_depth=20, min_samples_split=5, n_estimators=100, score=0.384, total=  23.6s\n",
      "[CV] max_depth=20, min_samples_split=5, n_estimators=100 .............\n",
      "[CV]  max_depth=20, min_samples_split=5, n_estimators=100, score=0.401, total=  24.8s\n",
      "[CV] max_depth=20, min_samples_split=5, n_estimators=100 .............\n",
      "[CV]  max_depth=20, min_samples_split=5, n_estimators=100, score=0.385, total=  24.0s\n",
      "[CV] max_depth=20, min_samples_split=5, n_estimators=110 .............\n",
      "[CV]  max_depth=20, min_samples_split=5, n_estimators=110, score=0.380, total=  24.8s\n",
      "[CV] max_depth=20, min_samples_split=5, n_estimators=110 .............\n",
      "[CV]  max_depth=20, min_samples_split=5, n_estimators=110, score=0.397, total=  24.9s\n",
      "[CV] max_depth=20, min_samples_split=5, n_estimators=110 .............\n",
      "[CV]  max_depth=20, min_samples_split=5, n_estimators=110, score=0.386, total=  26.5s\n",
      "[CV] max_depth=50, min_samples_split=5, n_estimators=80 ..............\n",
      "[CV]  max_depth=50, min_samples_split=5, n_estimators=80, score=0.402, total=  22.1s\n",
      "[CV] max_depth=50, min_samples_split=5, n_estimators=80 ..............\n",
      "[CV]  max_depth=50, min_samples_split=5, n_estimators=80, score=0.406, total=  21.4s\n",
      "[CV] max_depth=50, min_samples_split=5, n_estimators=80 ..............\n",
      "[CV]  max_depth=50, min_samples_split=5, n_estimators=80, score=0.405, total=  21.7s\n",
      "[CV] max_depth=50, min_samples_split=5, n_estimators=90 ..............\n",
      "[CV]  max_depth=50, min_samples_split=5, n_estimators=90, score=0.384, total=  24.9s\n",
      "[CV] max_depth=50, min_samples_split=5, n_estimators=90 ..............\n",
      "[CV]  max_depth=50, min_samples_split=5, n_estimators=90, score=0.420, total=  23.1s\n",
      "[CV] max_depth=50, min_samples_split=5, n_estimators=90 ..............\n",
      "[CV]  max_depth=50, min_samples_split=5, n_estimators=90, score=0.398, total=  23.6s\n",
      "[CV] max_depth=50, min_samples_split=5, n_estimators=100 .............\n",
      "[CV]  max_depth=50, min_samples_split=5, n_estimators=100, score=0.386, total=  31.3s\n",
      "[CV] max_depth=50, min_samples_split=5, n_estimators=100 .............\n",
      "[CV]  max_depth=50, min_samples_split=5, n_estimators=100, score=0.418, total=  27.3s\n",
      "[CV] max_depth=50, min_samples_split=5, n_estimators=100 .............\n",
      "[CV]  max_depth=50, min_samples_split=5, n_estimators=100, score=0.388, total=  23.9s\n",
      "[CV] max_depth=50, min_samples_split=5, n_estimators=110 .............\n",
      "[CV]  max_depth=50, min_samples_split=5, n_estimators=110, score=0.373, total=  28.4s\n",
      "[CV] max_depth=50, min_samples_split=5, n_estimators=110 .............\n",
      "[CV]  max_depth=50, min_samples_split=5, n_estimators=110, score=0.410, total=  28.4s\n",
      "[CV] max_depth=50, min_samples_split=5, n_estimators=110 .............\n",
      "[CV]  max_depth=50, min_samples_split=5, n_estimators=110, score=0.392, total=  30.4s\n"
     ]
    },
    {
     "name": "stderr",
     "output_type": "stream",
     "text": [
      "[Parallel(n_jobs=1)]: Done  48 out of  48 | elapsed: 17.5min finished\n"
     ]
    },
    {
     "data": {
      "text/plain": [
       "GridSearchCV(cv=3, estimator=RandomForestClassifier(),\n",
       "             param_grid={'max_depth': [None, 10, 20, 50],\n",
       "                         'min_samples_split': [5],\n",
       "                         'n_estimators': [80, 90, 100, 110]},\n",
       "             scoring='f1_macro', verbose=3)"
      ]
     },
     "execution_count": 87,
     "metadata": {},
     "output_type": "execute_result"
    }
   ],
   "source": [
    "params = {\n",
    "    'n_estimators': [80, 90, 100, 110],\n",
    "    'max_depth': [None, 10, 20, 50],\n",
    "    'min_samples_split': [5]\n",
    "}\n",
    "\n",
    "clf_rf = RandomForestClassifier()\n",
    "gs_rf = GridSearchCV(clf_rf, param_grid=params, scoring='f1_macro', cv=3, verbose=3)\n",
    "gs_rf.fit(svd_X_train_lemmatized, y_train)"
   ]
  },
  {
   "cell_type": "code",
   "execution_count": 88,
   "metadata": {},
   "outputs": [
    {
     "data": {
      "text/plain": [
       "0.4061351056243612"
      ]
     },
     "execution_count": 88,
     "metadata": {},
     "output_type": "execute_result"
    }
   ],
   "source": [
    "gs_rf.best_score_"
   ]
  },
  {
   "cell_type": "code",
   "execution_count": 89,
   "metadata": {},
   "outputs": [
    {
     "data": {
      "text/plain": [
       "{'max_depth': None, 'min_samples_split': 5, 'n_estimators': 90}"
      ]
     },
     "execution_count": 89,
     "metadata": {},
     "output_type": "execute_result"
    }
   ],
   "source": [
    "gs_rf.best_params_"
   ]
  },
  {
   "cell_type": "code",
   "execution_count": 90,
   "metadata": {
    "scrolled": true
   },
   "outputs": [
    {
     "name": "stdout",
     "output_type": "stream",
     "text": [
      "[[13.2 83.6  3.2]\n",
      " [ 0.7 93.4  5.9]\n",
      " [ 0.1 78.6 21.2]]\n",
      "\n",
      "              precision    recall  f1-score   support\n",
      "\n",
      "           0       0.68      0.13      0.22       189\n",
      "           1       0.64      0.93      0.76      1612\n",
      "           2       0.65      0.21      0.32       880\n",
      "\n",
      "    accuracy                           0.64      2681\n",
      "   macro avg       0.65      0.43      0.43      2681\n",
      "weighted avg       0.65      0.64      0.58      2681\n",
      "\n"
     ]
    }
   ],
   "source": [
    "report(y_test, gs_rf.predict(svd_X_test_lemmatized))"
   ]
  },
  {
   "cell_type": "markdown",
   "metadata": {},
   "source": [
    "**Disappointingly, the f1 score on test data––0.43––hasn't improve after the GridSearch on the RF's hyperparameters.**"
   ]
  },
  {
   "cell_type": "code",
   "execution_count": 91,
   "metadata": {},
   "outputs": [
    {
     "name": "stdout",
     "output_type": "stream",
     "text": [
      "Fitting 3 folds for each of 7 candidates, totalling 21 fits\n",
      "[CV] Cs=1 ............................................................\n"
     ]
    },
    {
     "name": "stderr",
     "output_type": "stream",
     "text": [
      "[Parallel(n_jobs=1)]: Using backend SequentialBackend with 1 concurrent workers.\n"
     ]
    },
    {
     "name": "stdout",
     "output_type": "stream",
     "text": [
      "[CV] ................................ Cs=1, score=0.251, total=   2.6s\n",
      "[CV] Cs=1 ............................................................\n"
     ]
    },
    {
     "name": "stderr",
     "output_type": "stream",
     "text": [
      "[Parallel(n_jobs=1)]: Done   1 out of   1 | elapsed:    2.6s remaining:    0.0s\n"
     ]
    },
    {
     "name": "stdout",
     "output_type": "stream",
     "text": [
      "[CV] ................................ Cs=1, score=0.251, total=   2.1s\n",
      "[CV] Cs=1 ............................................................\n"
     ]
    },
    {
     "name": "stderr",
     "output_type": "stream",
     "text": [
      "[Parallel(n_jobs=1)]: Done   2 out of   2 | elapsed:    4.7s remaining:    0.0s\n"
     ]
    },
    {
     "name": "stdout",
     "output_type": "stream",
     "text": [
      "[CV] ................................ Cs=1, score=0.251, total=   2.8s\n",
      "[CV] Cs=3 ............................................................\n"
     ]
    },
    {
     "name": "stderr",
     "output_type": "stream",
     "text": [
      "/Users/stlanier/opt/anaconda3/envs/learn-env/lib/python3.6/site-packages/sklearn/linear_model/_logistic.py:764: ConvergenceWarning: lbfgs failed to converge (status=1):\n",
      "STOP: TOTAL NO. of ITERATIONS REACHED LIMIT.\n",
      "\n",
      "Increase the number of iterations (max_iter) or scale the data as shown in:\n",
      "    https://scikit-learn.org/stable/modules/preprocessing.html\n",
      "Please also refer to the documentation for alternative solver options:\n",
      "    https://scikit-learn.org/stable/modules/linear_model.html#logistic-regression\n",
      "  extra_warning_msg=_LOGISTIC_SOLVER_CONVERGENCE_MSG)\n",
      "/Users/stlanier/opt/anaconda3/envs/learn-env/lib/python3.6/site-packages/sklearn/linear_model/_logistic.py:764: ConvergenceWarning: lbfgs failed to converge (status=1):\n",
      "STOP: TOTAL NO. of ITERATIONS REACHED LIMIT.\n",
      "\n",
      "Increase the number of iterations (max_iter) or scale the data as shown in:\n",
      "    https://scikit-learn.org/stable/modules/preprocessing.html\n",
      "Please also refer to the documentation for alternative solver options:\n",
      "    https://scikit-learn.org/stable/modules/linear_model.html#logistic-regression\n",
      "  extra_warning_msg=_LOGISTIC_SOLVER_CONVERGENCE_MSG)\n",
      "/Users/stlanier/opt/anaconda3/envs/learn-env/lib/python3.6/site-packages/sklearn/linear_model/_logistic.py:764: ConvergenceWarning: lbfgs failed to converge (status=1):\n",
      "STOP: TOTAL NO. of ITERATIONS REACHED LIMIT.\n",
      "\n",
      "Increase the number of iterations (max_iter) or scale the data as shown in:\n",
      "    https://scikit-learn.org/stable/modules/preprocessing.html\n",
      "Please also refer to the documentation for alternative solver options:\n",
      "    https://scikit-learn.org/stable/modules/linear_model.html#logistic-regression\n",
      "  extra_warning_msg=_LOGISTIC_SOLVER_CONVERGENCE_MSG)\n",
      "/Users/stlanier/opt/anaconda3/envs/learn-env/lib/python3.6/site-packages/sklearn/linear_model/_logistic.py:764: ConvergenceWarning: lbfgs failed to converge (status=1):\n",
      "STOP: TOTAL NO. of ITERATIONS REACHED LIMIT.\n",
      "\n",
      "Increase the number of iterations (max_iter) or scale the data as shown in:\n",
      "    https://scikit-learn.org/stable/modules/preprocessing.html\n",
      "Please also refer to the documentation for alternative solver options:\n",
      "    https://scikit-learn.org/stable/modules/linear_model.html#logistic-regression\n",
      "  extra_warning_msg=_LOGISTIC_SOLVER_CONVERGENCE_MSG)\n",
      "/Users/stlanier/opt/anaconda3/envs/learn-env/lib/python3.6/site-packages/sklearn/linear_model/_logistic.py:764: ConvergenceWarning: lbfgs failed to converge (status=1):\n",
      "STOP: TOTAL NO. of ITERATIONS REACHED LIMIT.\n",
      "\n",
      "Increase the number of iterations (max_iter) or scale the data as shown in:\n",
      "    https://scikit-learn.org/stable/modules/preprocessing.html\n",
      "Please also refer to the documentation for alternative solver options:\n",
      "    https://scikit-learn.org/stable/modules/linear_model.html#logistic-regression\n",
      "  extra_warning_msg=_LOGISTIC_SOLVER_CONVERGENCE_MSG)\n"
     ]
    },
    {
     "name": "stdout",
     "output_type": "stream",
     "text": [
      "[CV] ................................ Cs=3, score=0.469, total=  31.5s\n",
      "[CV] Cs=3 ............................................................\n"
     ]
    },
    {
     "name": "stderr",
     "output_type": "stream",
     "text": [
      "/Users/stlanier/opt/anaconda3/envs/learn-env/lib/python3.6/site-packages/sklearn/linear_model/_logistic.py:764: ConvergenceWarning: lbfgs failed to converge (status=1):\n",
      "STOP: TOTAL NO. of ITERATIONS REACHED LIMIT.\n",
      "\n",
      "Increase the number of iterations (max_iter) or scale the data as shown in:\n",
      "    https://scikit-learn.org/stable/modules/preprocessing.html\n",
      "Please also refer to the documentation for alternative solver options:\n",
      "    https://scikit-learn.org/stable/modules/linear_model.html#logistic-regression\n",
      "  extra_warning_msg=_LOGISTIC_SOLVER_CONVERGENCE_MSG)\n",
      "/Users/stlanier/opt/anaconda3/envs/learn-env/lib/python3.6/site-packages/sklearn/linear_model/_logistic.py:764: ConvergenceWarning: lbfgs failed to converge (status=1):\n",
      "STOP: TOTAL NO. of ITERATIONS REACHED LIMIT.\n",
      "\n",
      "Increase the number of iterations (max_iter) or scale the data as shown in:\n",
      "    https://scikit-learn.org/stable/modules/preprocessing.html\n",
      "Please also refer to the documentation for alternative solver options:\n",
      "    https://scikit-learn.org/stable/modules/linear_model.html#logistic-regression\n",
      "  extra_warning_msg=_LOGISTIC_SOLVER_CONVERGENCE_MSG)\n",
      "/Users/stlanier/opt/anaconda3/envs/learn-env/lib/python3.6/site-packages/sklearn/linear_model/_logistic.py:764: ConvergenceWarning: lbfgs failed to converge (status=1):\n",
      "STOP: TOTAL NO. of ITERATIONS REACHED LIMIT.\n",
      "\n",
      "Increase the number of iterations (max_iter) or scale the data as shown in:\n",
      "    https://scikit-learn.org/stable/modules/preprocessing.html\n",
      "Please also refer to the documentation for alternative solver options:\n",
      "    https://scikit-learn.org/stable/modules/linear_model.html#logistic-regression\n",
      "  extra_warning_msg=_LOGISTIC_SOLVER_CONVERGENCE_MSG)\n",
      "/Users/stlanier/opt/anaconda3/envs/learn-env/lib/python3.6/site-packages/sklearn/linear_model/_logistic.py:764: ConvergenceWarning: lbfgs failed to converge (status=1):\n",
      "STOP: TOTAL NO. of ITERATIONS REACHED LIMIT.\n",
      "\n",
      "Increase the number of iterations (max_iter) or scale the data as shown in:\n",
      "    https://scikit-learn.org/stable/modules/preprocessing.html\n",
      "Please also refer to the documentation for alternative solver options:\n",
      "    https://scikit-learn.org/stable/modules/linear_model.html#logistic-regression\n",
      "  extra_warning_msg=_LOGISTIC_SOLVER_CONVERGENCE_MSG)\n",
      "/Users/stlanier/opt/anaconda3/envs/learn-env/lib/python3.6/site-packages/sklearn/linear_model/_logistic.py:764: ConvergenceWarning: lbfgs failed to converge (status=1):\n",
      "STOP: TOTAL NO. of ITERATIONS REACHED LIMIT.\n",
      "\n",
      "Increase the number of iterations (max_iter) or scale the data as shown in:\n",
      "    https://scikit-learn.org/stable/modules/preprocessing.html\n",
      "Please also refer to the documentation for alternative solver options:\n",
      "    https://scikit-learn.org/stable/modules/linear_model.html#logistic-regression\n",
      "  extra_warning_msg=_LOGISTIC_SOLVER_CONVERGENCE_MSG)\n"
     ]
    },
    {
     "name": "stdout",
     "output_type": "stream",
     "text": [
      "[CV] ................................ Cs=3, score=0.448, total=  34.0s\n",
      "[CV] Cs=3 ............................................................\n"
     ]
    },
    {
     "name": "stderr",
     "output_type": "stream",
     "text": [
      "/Users/stlanier/opt/anaconda3/envs/learn-env/lib/python3.6/site-packages/sklearn/linear_model/_logistic.py:764: ConvergenceWarning: lbfgs failed to converge (status=1):\n",
      "STOP: TOTAL NO. of ITERATIONS REACHED LIMIT.\n",
      "\n",
      "Increase the number of iterations (max_iter) or scale the data as shown in:\n",
      "    https://scikit-learn.org/stable/modules/preprocessing.html\n",
      "Please also refer to the documentation for alternative solver options:\n",
      "    https://scikit-learn.org/stable/modules/linear_model.html#logistic-regression\n",
      "  extra_warning_msg=_LOGISTIC_SOLVER_CONVERGENCE_MSG)\n",
      "/Users/stlanier/opt/anaconda3/envs/learn-env/lib/python3.6/site-packages/sklearn/linear_model/_logistic.py:764: ConvergenceWarning: lbfgs failed to converge (status=1):\n",
      "STOP: TOTAL NO. of ITERATIONS REACHED LIMIT.\n",
      "\n",
      "Increase the number of iterations (max_iter) or scale the data as shown in:\n",
      "    https://scikit-learn.org/stable/modules/preprocessing.html\n",
      "Please also refer to the documentation for alternative solver options:\n",
      "    https://scikit-learn.org/stable/modules/linear_model.html#logistic-regression\n",
      "  extra_warning_msg=_LOGISTIC_SOLVER_CONVERGENCE_MSG)\n",
      "/Users/stlanier/opt/anaconda3/envs/learn-env/lib/python3.6/site-packages/sklearn/linear_model/_logistic.py:764: ConvergenceWarning: lbfgs failed to converge (status=1):\n",
      "STOP: TOTAL NO. of ITERATIONS REACHED LIMIT.\n",
      "\n",
      "Increase the number of iterations (max_iter) or scale the data as shown in:\n",
      "    https://scikit-learn.org/stable/modules/preprocessing.html\n",
      "Please also refer to the documentation for alternative solver options:\n",
      "    https://scikit-learn.org/stable/modules/linear_model.html#logistic-regression\n",
      "  extra_warning_msg=_LOGISTIC_SOLVER_CONVERGENCE_MSG)\n",
      "/Users/stlanier/opt/anaconda3/envs/learn-env/lib/python3.6/site-packages/sklearn/linear_model/_logistic.py:764: ConvergenceWarning: lbfgs failed to converge (status=1):\n",
      "STOP: TOTAL NO. of ITERATIONS REACHED LIMIT.\n",
      "\n",
      "Increase the number of iterations (max_iter) or scale the data as shown in:\n",
      "    https://scikit-learn.org/stable/modules/preprocessing.html\n",
      "Please also refer to the documentation for alternative solver options:\n",
      "    https://scikit-learn.org/stable/modules/linear_model.html#logistic-regression\n",
      "  extra_warning_msg=_LOGISTIC_SOLVER_CONVERGENCE_MSG)\n",
      "/Users/stlanier/opt/anaconda3/envs/learn-env/lib/python3.6/site-packages/sklearn/linear_model/_logistic.py:764: ConvergenceWarning: lbfgs failed to converge (status=1):\n",
      "STOP: TOTAL NO. of ITERATIONS REACHED LIMIT.\n",
      "\n",
      "Increase the number of iterations (max_iter) or scale the data as shown in:\n",
      "    https://scikit-learn.org/stable/modules/preprocessing.html\n",
      "Please also refer to the documentation for alternative solver options:\n",
      "    https://scikit-learn.org/stable/modules/linear_model.html#logistic-regression\n",
      "  extra_warning_msg=_LOGISTIC_SOLVER_CONVERGENCE_MSG)\n"
     ]
    },
    {
     "name": "stdout",
     "output_type": "stream",
     "text": [
      "[CV] ................................ Cs=3, score=0.449, total=  32.9s\n",
      "[CV] Cs=5 ............................................................\n"
     ]
    },
    {
     "name": "stderr",
     "output_type": "stream",
     "text": [
      "/Users/stlanier/opt/anaconda3/envs/learn-env/lib/python3.6/site-packages/sklearn/linear_model/_logistic.py:764: ConvergenceWarning: lbfgs failed to converge (status=1):\n",
      "STOP: TOTAL NO. of ITERATIONS REACHED LIMIT.\n",
      "\n",
      "Increase the number of iterations (max_iter) or scale the data as shown in:\n",
      "    https://scikit-learn.org/stable/modules/preprocessing.html\n",
      "Please also refer to the documentation for alternative solver options:\n",
      "    https://scikit-learn.org/stable/modules/linear_model.html#logistic-regression\n",
      "  extra_warning_msg=_LOGISTIC_SOLVER_CONVERGENCE_MSG)\n",
      "/Users/stlanier/opt/anaconda3/envs/learn-env/lib/python3.6/site-packages/sklearn/linear_model/_logistic.py:764: ConvergenceWarning: lbfgs failed to converge (status=1):\n",
      "STOP: TOTAL NO. of ITERATIONS REACHED LIMIT.\n",
      "\n",
      "Increase the number of iterations (max_iter) or scale the data as shown in:\n",
      "    https://scikit-learn.org/stable/modules/preprocessing.html\n",
      "Please also refer to the documentation for alternative solver options:\n",
      "    https://scikit-learn.org/stable/modules/linear_model.html#logistic-regression\n",
      "  extra_warning_msg=_LOGISTIC_SOLVER_CONVERGENCE_MSG)\n",
      "/Users/stlanier/opt/anaconda3/envs/learn-env/lib/python3.6/site-packages/sklearn/linear_model/_logistic.py:764: ConvergenceWarning: lbfgs failed to converge (status=1):\n",
      "STOP: TOTAL NO. of ITERATIONS REACHED LIMIT.\n",
      "\n",
      "Increase the number of iterations (max_iter) or scale the data as shown in:\n",
      "    https://scikit-learn.org/stable/modules/preprocessing.html\n",
      "Please also refer to the documentation for alternative solver options:\n",
      "    https://scikit-learn.org/stable/modules/linear_model.html#logistic-regression\n",
      "  extra_warning_msg=_LOGISTIC_SOLVER_CONVERGENCE_MSG)\n",
      "/Users/stlanier/opt/anaconda3/envs/learn-env/lib/python3.6/site-packages/sklearn/linear_model/_logistic.py:764: ConvergenceWarning: lbfgs failed to converge (status=1):\n",
      "STOP: TOTAL NO. of ITERATIONS REACHED LIMIT.\n",
      "\n",
      "Increase the number of iterations (max_iter) or scale the data as shown in:\n",
      "    https://scikit-learn.org/stable/modules/preprocessing.html\n",
      "Please also refer to the documentation for alternative solver options:\n",
      "    https://scikit-learn.org/stable/modules/linear_model.html#logistic-regression\n",
      "  extra_warning_msg=_LOGISTIC_SOLVER_CONVERGENCE_MSG)\n",
      "/Users/stlanier/opt/anaconda3/envs/learn-env/lib/python3.6/site-packages/sklearn/linear_model/_logistic.py:764: ConvergenceWarning: lbfgs failed to converge (status=1):\n",
      "STOP: TOTAL NO. of ITERATIONS REACHED LIMIT.\n",
      "\n",
      "Increase the number of iterations (max_iter) or scale the data as shown in:\n",
      "    https://scikit-learn.org/stable/modules/preprocessing.html\n",
      "Please also refer to the documentation for alternative solver options:\n",
      "    https://scikit-learn.org/stable/modules/linear_model.html#logistic-regression\n",
      "  extra_warning_msg=_LOGISTIC_SOLVER_CONVERGENCE_MSG)\n"
     ]
    },
    {
     "name": "stdout",
     "output_type": "stream",
     "text": [
      "[CV] ................................ Cs=5, score=0.469, total=  51.3s\n",
      "[CV] Cs=5 ............................................................\n"
     ]
    },
    {
     "name": "stderr",
     "output_type": "stream",
     "text": [
      "/Users/stlanier/opt/anaconda3/envs/learn-env/lib/python3.6/site-packages/sklearn/linear_model/_logistic.py:764: ConvergenceWarning: lbfgs failed to converge (status=1):\n",
      "STOP: TOTAL NO. of ITERATIONS REACHED LIMIT.\n",
      "\n",
      "Increase the number of iterations (max_iter) or scale the data as shown in:\n",
      "    https://scikit-learn.org/stable/modules/preprocessing.html\n",
      "Please also refer to the documentation for alternative solver options:\n",
      "    https://scikit-learn.org/stable/modules/linear_model.html#logistic-regression\n",
      "  extra_warning_msg=_LOGISTIC_SOLVER_CONVERGENCE_MSG)\n",
      "/Users/stlanier/opt/anaconda3/envs/learn-env/lib/python3.6/site-packages/sklearn/linear_model/_logistic.py:764: ConvergenceWarning: lbfgs failed to converge (status=1):\n",
      "STOP: TOTAL NO. of ITERATIONS REACHED LIMIT.\n",
      "\n",
      "Increase the number of iterations (max_iter) or scale the data as shown in:\n",
      "    https://scikit-learn.org/stable/modules/preprocessing.html\n",
      "Please also refer to the documentation for alternative solver options:\n",
      "    https://scikit-learn.org/stable/modules/linear_model.html#logistic-regression\n",
      "  extra_warning_msg=_LOGISTIC_SOLVER_CONVERGENCE_MSG)\n",
      "/Users/stlanier/opt/anaconda3/envs/learn-env/lib/python3.6/site-packages/sklearn/linear_model/_logistic.py:764: ConvergenceWarning: lbfgs failed to converge (status=1):\n",
      "STOP: TOTAL NO. of ITERATIONS REACHED LIMIT.\n",
      "\n",
      "Increase the number of iterations (max_iter) or scale the data as shown in:\n",
      "    https://scikit-learn.org/stable/modules/preprocessing.html\n",
      "Please also refer to the documentation for alternative solver options:\n",
      "    https://scikit-learn.org/stable/modules/linear_model.html#logistic-regression\n",
      "  extra_warning_msg=_LOGISTIC_SOLVER_CONVERGENCE_MSG)\n",
      "/Users/stlanier/opt/anaconda3/envs/learn-env/lib/python3.6/site-packages/sklearn/linear_model/_logistic.py:764: ConvergenceWarning: lbfgs failed to converge (status=1):\n",
      "STOP: TOTAL NO. of ITERATIONS REACHED LIMIT.\n",
      "\n",
      "Increase the number of iterations (max_iter) or scale the data as shown in:\n",
      "    https://scikit-learn.org/stable/modules/preprocessing.html\n",
      "Please also refer to the documentation for alternative solver options:\n",
      "    https://scikit-learn.org/stable/modules/linear_model.html#logistic-regression\n",
      "  extra_warning_msg=_LOGISTIC_SOLVER_CONVERGENCE_MSG)\n",
      "/Users/stlanier/opt/anaconda3/envs/learn-env/lib/python3.6/site-packages/sklearn/linear_model/_logistic.py:764: ConvergenceWarning: lbfgs failed to converge (status=1):\n",
      "STOP: TOTAL NO. of ITERATIONS REACHED LIMIT.\n",
      "\n",
      "Increase the number of iterations (max_iter) or scale the data as shown in:\n",
      "    https://scikit-learn.org/stable/modules/preprocessing.html\n",
      "Please also refer to the documentation for alternative solver options:\n",
      "    https://scikit-learn.org/stable/modules/linear_model.html#logistic-regression\n",
      "  extra_warning_msg=_LOGISTIC_SOLVER_CONVERGENCE_MSG)\n"
     ]
    },
    {
     "name": "stdout",
     "output_type": "stream",
     "text": [
      "[CV] ................................ Cs=5, score=0.448, total=  45.4s\n",
      "[CV] Cs=5 ............................................................\n"
     ]
    },
    {
     "name": "stderr",
     "output_type": "stream",
     "text": [
      "/Users/stlanier/opt/anaconda3/envs/learn-env/lib/python3.6/site-packages/sklearn/linear_model/_logistic.py:764: ConvergenceWarning: lbfgs failed to converge (status=1):\n",
      "STOP: TOTAL NO. of ITERATIONS REACHED LIMIT.\n",
      "\n",
      "Increase the number of iterations (max_iter) or scale the data as shown in:\n",
      "    https://scikit-learn.org/stable/modules/preprocessing.html\n",
      "Please also refer to the documentation for alternative solver options:\n",
      "    https://scikit-learn.org/stable/modules/linear_model.html#logistic-regression\n",
      "  extra_warning_msg=_LOGISTIC_SOLVER_CONVERGENCE_MSG)\n",
      "/Users/stlanier/opt/anaconda3/envs/learn-env/lib/python3.6/site-packages/sklearn/linear_model/_logistic.py:764: ConvergenceWarning: lbfgs failed to converge (status=1):\n",
      "STOP: TOTAL NO. of ITERATIONS REACHED LIMIT.\n",
      "\n",
      "Increase the number of iterations (max_iter) or scale the data as shown in:\n",
      "    https://scikit-learn.org/stable/modules/preprocessing.html\n",
      "Please also refer to the documentation for alternative solver options:\n",
      "    https://scikit-learn.org/stable/modules/linear_model.html#logistic-regression\n",
      "  extra_warning_msg=_LOGISTIC_SOLVER_CONVERGENCE_MSG)\n",
      "/Users/stlanier/opt/anaconda3/envs/learn-env/lib/python3.6/site-packages/sklearn/linear_model/_logistic.py:764: ConvergenceWarning: lbfgs failed to converge (status=1):\n",
      "STOP: TOTAL NO. of ITERATIONS REACHED LIMIT.\n",
      "\n",
      "Increase the number of iterations (max_iter) or scale the data as shown in:\n",
      "    https://scikit-learn.org/stable/modules/preprocessing.html\n",
      "Please also refer to the documentation for alternative solver options:\n",
      "    https://scikit-learn.org/stable/modules/linear_model.html#logistic-regression\n",
      "  extra_warning_msg=_LOGISTIC_SOLVER_CONVERGENCE_MSG)\n",
      "/Users/stlanier/opt/anaconda3/envs/learn-env/lib/python3.6/site-packages/sklearn/linear_model/_logistic.py:764: ConvergenceWarning: lbfgs failed to converge (status=1):\n",
      "STOP: TOTAL NO. of ITERATIONS REACHED LIMIT.\n",
      "\n",
      "Increase the number of iterations (max_iter) or scale the data as shown in:\n",
      "    https://scikit-learn.org/stable/modules/preprocessing.html\n",
      "Please also refer to the documentation for alternative solver options:\n",
      "    https://scikit-learn.org/stable/modules/linear_model.html#logistic-regression\n",
      "  extra_warning_msg=_LOGISTIC_SOLVER_CONVERGENCE_MSG)\n",
      "/Users/stlanier/opt/anaconda3/envs/learn-env/lib/python3.6/site-packages/sklearn/linear_model/_logistic.py:764: ConvergenceWarning: lbfgs failed to converge (status=1):\n",
      "STOP: TOTAL NO. of ITERATIONS REACHED LIMIT.\n",
      "\n",
      "Increase the number of iterations (max_iter) or scale the data as shown in:\n",
      "    https://scikit-learn.org/stable/modules/preprocessing.html\n",
      "Please also refer to the documentation for alternative solver options:\n",
      "    https://scikit-learn.org/stable/modules/linear_model.html#logistic-regression\n",
      "  extra_warning_msg=_LOGISTIC_SOLVER_CONVERGENCE_MSG)\n"
     ]
    },
    {
     "name": "stdout",
     "output_type": "stream",
     "text": [
      "[CV] ................................ Cs=5, score=0.449, total=  44.2s\n",
      "[CV] Cs=7 ............................................................\n"
     ]
    },
    {
     "name": "stderr",
     "output_type": "stream",
     "text": [
      "/Users/stlanier/opt/anaconda3/envs/learn-env/lib/python3.6/site-packages/sklearn/linear_model/_logistic.py:764: ConvergenceWarning: lbfgs failed to converge (status=1):\n",
      "STOP: TOTAL NO. of ITERATIONS REACHED LIMIT.\n",
      "\n",
      "Increase the number of iterations (max_iter) or scale the data as shown in:\n",
      "    https://scikit-learn.org/stable/modules/preprocessing.html\n",
      "Please also refer to the documentation for alternative solver options:\n",
      "    https://scikit-learn.org/stable/modules/linear_model.html#logistic-regression\n",
      "  extra_warning_msg=_LOGISTIC_SOLVER_CONVERGENCE_MSG)\n",
      "/Users/stlanier/opt/anaconda3/envs/learn-env/lib/python3.6/site-packages/sklearn/linear_model/_logistic.py:764: ConvergenceWarning: lbfgs failed to converge (status=1):\n",
      "STOP: TOTAL NO. of ITERATIONS REACHED LIMIT.\n",
      "\n",
      "Increase the number of iterations (max_iter) or scale the data as shown in:\n",
      "    https://scikit-learn.org/stable/modules/preprocessing.html\n",
      "Please also refer to the documentation for alternative solver options:\n",
      "    https://scikit-learn.org/stable/modules/linear_model.html#logistic-regression\n",
      "  extra_warning_msg=_LOGISTIC_SOLVER_CONVERGENCE_MSG)\n",
      "/Users/stlanier/opt/anaconda3/envs/learn-env/lib/python3.6/site-packages/sklearn/linear_model/_logistic.py:764: ConvergenceWarning: lbfgs failed to converge (status=1):\n",
      "STOP: TOTAL NO. of ITERATIONS REACHED LIMIT.\n",
      "\n",
      "Increase the number of iterations (max_iter) or scale the data as shown in:\n",
      "    https://scikit-learn.org/stable/modules/preprocessing.html\n",
      "Please also refer to the documentation for alternative solver options:\n",
      "    https://scikit-learn.org/stable/modules/linear_model.html#logistic-regression\n",
      "  extra_warning_msg=_LOGISTIC_SOLVER_CONVERGENCE_MSG)\n",
      "/Users/stlanier/opt/anaconda3/envs/learn-env/lib/python3.6/site-packages/sklearn/linear_model/_logistic.py:764: ConvergenceWarning: lbfgs failed to converge (status=1):\n",
      "STOP: TOTAL NO. of ITERATIONS REACHED LIMIT.\n",
      "\n",
      "Increase the number of iterations (max_iter) or scale the data as shown in:\n",
      "    https://scikit-learn.org/stable/modules/preprocessing.html\n",
      "Please also refer to the documentation for alternative solver options:\n",
      "    https://scikit-learn.org/stable/modules/linear_model.html#logistic-regression\n",
      "  extra_warning_msg=_LOGISTIC_SOLVER_CONVERGENCE_MSG)\n",
      "/Users/stlanier/opt/anaconda3/envs/learn-env/lib/python3.6/site-packages/sklearn/linear_model/_logistic.py:764: ConvergenceWarning: lbfgs failed to converge (status=1):\n",
      "STOP: TOTAL NO. of ITERATIONS REACHED LIMIT.\n",
      "\n",
      "Increase the number of iterations (max_iter) or scale the data as shown in:\n",
      "    https://scikit-learn.org/stable/modules/preprocessing.html\n",
      "Please also refer to the documentation for alternative solver options:\n",
      "    https://scikit-learn.org/stable/modules/linear_model.html#logistic-regression\n",
      "  extra_warning_msg=_LOGISTIC_SOLVER_CONVERGENCE_MSG)\n"
     ]
    },
    {
     "name": "stdout",
     "output_type": "stream",
     "text": [
      "[CV] ................................ Cs=7, score=0.469, total= 1.1min\n",
      "[CV] Cs=7 ............................................................\n"
     ]
    },
    {
     "name": "stderr",
     "output_type": "stream",
     "text": [
      "/Users/stlanier/opt/anaconda3/envs/learn-env/lib/python3.6/site-packages/sklearn/linear_model/_logistic.py:764: ConvergenceWarning: lbfgs failed to converge (status=1):\n",
      "STOP: TOTAL NO. of ITERATIONS REACHED LIMIT.\n",
      "\n",
      "Increase the number of iterations (max_iter) or scale the data as shown in:\n",
      "    https://scikit-learn.org/stable/modules/preprocessing.html\n",
      "Please also refer to the documentation for alternative solver options:\n",
      "    https://scikit-learn.org/stable/modules/linear_model.html#logistic-regression\n",
      "  extra_warning_msg=_LOGISTIC_SOLVER_CONVERGENCE_MSG)\n",
      "/Users/stlanier/opt/anaconda3/envs/learn-env/lib/python3.6/site-packages/sklearn/linear_model/_logistic.py:764: ConvergenceWarning: lbfgs failed to converge (status=1):\n",
      "STOP: TOTAL NO. of ITERATIONS REACHED LIMIT.\n",
      "\n",
      "Increase the number of iterations (max_iter) or scale the data as shown in:\n",
      "    https://scikit-learn.org/stable/modules/preprocessing.html\n",
      "Please also refer to the documentation for alternative solver options:\n",
      "    https://scikit-learn.org/stable/modules/linear_model.html#logistic-regression\n",
      "  extra_warning_msg=_LOGISTIC_SOLVER_CONVERGENCE_MSG)\n",
      "/Users/stlanier/opt/anaconda3/envs/learn-env/lib/python3.6/site-packages/sklearn/linear_model/_logistic.py:764: ConvergenceWarning: lbfgs failed to converge (status=1):\n",
      "STOP: TOTAL NO. of ITERATIONS REACHED LIMIT.\n",
      "\n",
      "Increase the number of iterations (max_iter) or scale the data as shown in:\n",
      "    https://scikit-learn.org/stable/modules/preprocessing.html\n",
      "Please also refer to the documentation for alternative solver options:\n",
      "    https://scikit-learn.org/stable/modules/linear_model.html#logistic-regression\n",
      "  extra_warning_msg=_LOGISTIC_SOLVER_CONVERGENCE_MSG)\n",
      "/Users/stlanier/opt/anaconda3/envs/learn-env/lib/python3.6/site-packages/sklearn/linear_model/_logistic.py:764: ConvergenceWarning: lbfgs failed to converge (status=1):\n",
      "STOP: TOTAL NO. of ITERATIONS REACHED LIMIT.\n",
      "\n",
      "Increase the number of iterations (max_iter) or scale the data as shown in:\n",
      "    https://scikit-learn.org/stable/modules/preprocessing.html\n",
      "Please also refer to the documentation for alternative solver options:\n",
      "    https://scikit-learn.org/stable/modules/linear_model.html#logistic-regression\n",
      "  extra_warning_msg=_LOGISTIC_SOLVER_CONVERGENCE_MSG)\n",
      "/Users/stlanier/opt/anaconda3/envs/learn-env/lib/python3.6/site-packages/sklearn/linear_model/_logistic.py:764: ConvergenceWarning: lbfgs failed to converge (status=1):\n",
      "STOP: TOTAL NO. of ITERATIONS REACHED LIMIT.\n",
      "\n",
      "Increase the number of iterations (max_iter) or scale the data as shown in:\n",
      "    https://scikit-learn.org/stable/modules/preprocessing.html\n",
      "Please also refer to the documentation for alternative solver options:\n",
      "    https://scikit-learn.org/stable/modules/linear_model.html#logistic-regression\n",
      "  extra_warning_msg=_LOGISTIC_SOLVER_CONVERGENCE_MSG)\n"
     ]
    },
    {
     "name": "stdout",
     "output_type": "stream",
     "text": [
      "[CV] ................................ Cs=7, score=0.448, total= 1.1min\n",
      "[CV] Cs=7 ............................................................\n"
     ]
    },
    {
     "name": "stderr",
     "output_type": "stream",
     "text": [
      "/Users/stlanier/opt/anaconda3/envs/learn-env/lib/python3.6/site-packages/sklearn/linear_model/_logistic.py:764: ConvergenceWarning: lbfgs failed to converge (status=1):\n",
      "STOP: TOTAL NO. of ITERATIONS REACHED LIMIT.\n",
      "\n",
      "Increase the number of iterations (max_iter) or scale the data as shown in:\n",
      "    https://scikit-learn.org/stable/modules/preprocessing.html\n",
      "Please also refer to the documentation for alternative solver options:\n",
      "    https://scikit-learn.org/stable/modules/linear_model.html#logistic-regression\n",
      "  extra_warning_msg=_LOGISTIC_SOLVER_CONVERGENCE_MSG)\n",
      "/Users/stlanier/opt/anaconda3/envs/learn-env/lib/python3.6/site-packages/sklearn/linear_model/_logistic.py:764: ConvergenceWarning: lbfgs failed to converge (status=1):\n",
      "STOP: TOTAL NO. of ITERATIONS REACHED LIMIT.\n",
      "\n",
      "Increase the number of iterations (max_iter) or scale the data as shown in:\n",
      "    https://scikit-learn.org/stable/modules/preprocessing.html\n",
      "Please also refer to the documentation for alternative solver options:\n",
      "    https://scikit-learn.org/stable/modules/linear_model.html#logistic-regression\n",
      "  extra_warning_msg=_LOGISTIC_SOLVER_CONVERGENCE_MSG)\n",
      "/Users/stlanier/opt/anaconda3/envs/learn-env/lib/python3.6/site-packages/sklearn/linear_model/_logistic.py:764: ConvergenceWarning: lbfgs failed to converge (status=1):\n",
      "STOP: TOTAL NO. of ITERATIONS REACHED LIMIT.\n",
      "\n",
      "Increase the number of iterations (max_iter) or scale the data as shown in:\n",
      "    https://scikit-learn.org/stable/modules/preprocessing.html\n",
      "Please also refer to the documentation for alternative solver options:\n",
      "    https://scikit-learn.org/stable/modules/linear_model.html#logistic-regression\n",
      "  extra_warning_msg=_LOGISTIC_SOLVER_CONVERGENCE_MSG)\n",
      "/Users/stlanier/opt/anaconda3/envs/learn-env/lib/python3.6/site-packages/sklearn/linear_model/_logistic.py:764: ConvergenceWarning: lbfgs failed to converge (status=1):\n",
      "STOP: TOTAL NO. of ITERATIONS REACHED LIMIT.\n",
      "\n",
      "Increase the number of iterations (max_iter) or scale the data as shown in:\n",
      "    https://scikit-learn.org/stable/modules/preprocessing.html\n",
      "Please also refer to the documentation for alternative solver options:\n",
      "    https://scikit-learn.org/stable/modules/linear_model.html#logistic-regression\n",
      "  extra_warning_msg=_LOGISTIC_SOLVER_CONVERGENCE_MSG)\n",
      "/Users/stlanier/opt/anaconda3/envs/learn-env/lib/python3.6/site-packages/sklearn/linear_model/_logistic.py:764: ConvergenceWarning: lbfgs failed to converge (status=1):\n",
      "STOP: TOTAL NO. of ITERATIONS REACHED LIMIT.\n",
      "\n",
      "Increase the number of iterations (max_iter) or scale the data as shown in:\n",
      "    https://scikit-learn.org/stable/modules/preprocessing.html\n",
      "Please also refer to the documentation for alternative solver options:\n",
      "    https://scikit-learn.org/stable/modules/linear_model.html#logistic-regression\n",
      "  extra_warning_msg=_LOGISTIC_SOLVER_CONVERGENCE_MSG)\n"
     ]
    },
    {
     "name": "stdout",
     "output_type": "stream",
     "text": [
      "[CV] ................................ Cs=7, score=0.449, total= 1.4min\n",
      "[CV] Cs=10 ...........................................................\n"
     ]
    },
    {
     "name": "stderr",
     "output_type": "stream",
     "text": [
      "/Users/stlanier/opt/anaconda3/envs/learn-env/lib/python3.6/site-packages/sklearn/linear_model/_logistic.py:764: ConvergenceWarning: lbfgs failed to converge (status=1):\n",
      "STOP: TOTAL NO. of ITERATIONS REACHED LIMIT.\n",
      "\n",
      "Increase the number of iterations (max_iter) or scale the data as shown in:\n",
      "    https://scikit-learn.org/stable/modules/preprocessing.html\n",
      "Please also refer to the documentation for alternative solver options:\n",
      "    https://scikit-learn.org/stable/modules/linear_model.html#logistic-regression\n",
      "  extra_warning_msg=_LOGISTIC_SOLVER_CONVERGENCE_MSG)\n",
      "/Users/stlanier/opt/anaconda3/envs/learn-env/lib/python3.6/site-packages/sklearn/linear_model/_logistic.py:764: ConvergenceWarning: lbfgs failed to converge (status=1):\n",
      "STOP: TOTAL NO. of ITERATIONS REACHED LIMIT.\n",
      "\n",
      "Increase the number of iterations (max_iter) or scale the data as shown in:\n",
      "    https://scikit-learn.org/stable/modules/preprocessing.html\n",
      "Please also refer to the documentation for alternative solver options:\n",
      "    https://scikit-learn.org/stable/modules/linear_model.html#logistic-regression\n",
      "  extra_warning_msg=_LOGISTIC_SOLVER_CONVERGENCE_MSG)\n",
      "/Users/stlanier/opt/anaconda3/envs/learn-env/lib/python3.6/site-packages/sklearn/linear_model/_logistic.py:764: ConvergenceWarning: lbfgs failed to converge (status=1):\n",
      "STOP: TOTAL NO. of ITERATIONS REACHED LIMIT.\n",
      "\n",
      "Increase the number of iterations (max_iter) or scale the data as shown in:\n",
      "    https://scikit-learn.org/stable/modules/preprocessing.html\n",
      "Please also refer to the documentation for alternative solver options:\n",
      "    https://scikit-learn.org/stable/modules/linear_model.html#logistic-regression\n",
      "  extra_warning_msg=_LOGISTIC_SOLVER_CONVERGENCE_MSG)\n",
      "/Users/stlanier/opt/anaconda3/envs/learn-env/lib/python3.6/site-packages/sklearn/linear_model/_logistic.py:764: ConvergenceWarning: lbfgs failed to converge (status=1):\n",
      "STOP: TOTAL NO. of ITERATIONS REACHED LIMIT.\n",
      "\n",
      "Increase the number of iterations (max_iter) or scale the data as shown in:\n",
      "    https://scikit-learn.org/stable/modules/preprocessing.html\n",
      "Please also refer to the documentation for alternative solver options:\n",
      "    https://scikit-learn.org/stable/modules/linear_model.html#logistic-regression\n",
      "  extra_warning_msg=_LOGISTIC_SOLVER_CONVERGENCE_MSG)\n",
      "/Users/stlanier/opt/anaconda3/envs/learn-env/lib/python3.6/site-packages/sklearn/linear_model/_logistic.py:764: ConvergenceWarning: lbfgs failed to converge (status=1):\n",
      "STOP: TOTAL NO. of ITERATIONS REACHED LIMIT.\n",
      "\n",
      "Increase the number of iterations (max_iter) or scale the data as shown in:\n",
      "    https://scikit-learn.org/stable/modules/preprocessing.html\n",
      "Please also refer to the documentation for alternative solver options:\n",
      "    https://scikit-learn.org/stable/modules/linear_model.html#logistic-regression\n",
      "  extra_warning_msg=_LOGISTIC_SOLVER_CONVERGENCE_MSG)\n"
     ]
    },
    {
     "name": "stdout",
     "output_type": "stream",
     "text": [
      "[CV] ............................... Cs=10, score=0.514, total= 1.6min\n",
      "[CV] Cs=10 ...........................................................\n"
     ]
    },
    {
     "name": "stderr",
     "output_type": "stream",
     "text": [
      "/Users/stlanier/opt/anaconda3/envs/learn-env/lib/python3.6/site-packages/sklearn/linear_model/_logistic.py:764: ConvergenceWarning: lbfgs failed to converge (status=1):\n",
      "STOP: TOTAL NO. of ITERATIONS REACHED LIMIT.\n",
      "\n",
      "Increase the number of iterations (max_iter) or scale the data as shown in:\n",
      "    https://scikit-learn.org/stable/modules/preprocessing.html\n",
      "Please also refer to the documentation for alternative solver options:\n",
      "    https://scikit-learn.org/stable/modules/linear_model.html#logistic-regression\n",
      "  extra_warning_msg=_LOGISTIC_SOLVER_CONVERGENCE_MSG)\n",
      "/Users/stlanier/opt/anaconda3/envs/learn-env/lib/python3.6/site-packages/sklearn/linear_model/_logistic.py:764: ConvergenceWarning: lbfgs failed to converge (status=1):\n",
      "STOP: TOTAL NO. of ITERATIONS REACHED LIMIT.\n",
      "\n",
      "Increase the number of iterations (max_iter) or scale the data as shown in:\n",
      "    https://scikit-learn.org/stable/modules/preprocessing.html\n",
      "Please also refer to the documentation for alternative solver options:\n",
      "    https://scikit-learn.org/stable/modules/linear_model.html#logistic-regression\n",
      "  extra_warning_msg=_LOGISTIC_SOLVER_CONVERGENCE_MSG)\n",
      "/Users/stlanier/opt/anaconda3/envs/learn-env/lib/python3.6/site-packages/sklearn/linear_model/_logistic.py:764: ConvergenceWarning: lbfgs failed to converge (status=1):\n",
      "STOP: TOTAL NO. of ITERATIONS REACHED LIMIT.\n",
      "\n",
      "Increase the number of iterations (max_iter) or scale the data as shown in:\n",
      "    https://scikit-learn.org/stable/modules/preprocessing.html\n",
      "Please also refer to the documentation for alternative solver options:\n",
      "    https://scikit-learn.org/stable/modules/linear_model.html#logistic-regression\n",
      "  extra_warning_msg=_LOGISTIC_SOLVER_CONVERGENCE_MSG)\n",
      "/Users/stlanier/opt/anaconda3/envs/learn-env/lib/python3.6/site-packages/sklearn/linear_model/_logistic.py:764: ConvergenceWarning: lbfgs failed to converge (status=1):\n",
      "STOP: TOTAL NO. of ITERATIONS REACHED LIMIT.\n",
      "\n",
      "Increase the number of iterations (max_iter) or scale the data as shown in:\n",
      "    https://scikit-learn.org/stable/modules/preprocessing.html\n",
      "Please also refer to the documentation for alternative solver options:\n",
      "    https://scikit-learn.org/stable/modules/linear_model.html#logistic-regression\n",
      "  extra_warning_msg=_LOGISTIC_SOLVER_CONVERGENCE_MSG)\n",
      "/Users/stlanier/opt/anaconda3/envs/learn-env/lib/python3.6/site-packages/sklearn/linear_model/_logistic.py:764: ConvergenceWarning: lbfgs failed to converge (status=1):\n",
      "STOP: TOTAL NO. of ITERATIONS REACHED LIMIT.\n",
      "\n",
      "Increase the number of iterations (max_iter) or scale the data as shown in:\n",
      "    https://scikit-learn.org/stable/modules/preprocessing.html\n",
      "Please also refer to the documentation for alternative solver options:\n",
      "    https://scikit-learn.org/stable/modules/linear_model.html#logistic-regression\n",
      "  extra_warning_msg=_LOGISTIC_SOLVER_CONVERGENCE_MSG)\n"
     ]
    },
    {
     "name": "stdout",
     "output_type": "stream",
     "text": [
      "[CV] ............................... Cs=10, score=0.500, total= 1.3min\n",
      "[CV] Cs=10 ...........................................................\n"
     ]
    },
    {
     "name": "stderr",
     "output_type": "stream",
     "text": [
      "/Users/stlanier/opt/anaconda3/envs/learn-env/lib/python3.6/site-packages/sklearn/linear_model/_logistic.py:764: ConvergenceWarning: lbfgs failed to converge (status=1):\n",
      "STOP: TOTAL NO. of ITERATIONS REACHED LIMIT.\n",
      "\n",
      "Increase the number of iterations (max_iter) or scale the data as shown in:\n",
      "    https://scikit-learn.org/stable/modules/preprocessing.html\n",
      "Please also refer to the documentation for alternative solver options:\n",
      "    https://scikit-learn.org/stable/modules/linear_model.html#logistic-regression\n",
      "  extra_warning_msg=_LOGISTIC_SOLVER_CONVERGENCE_MSG)\n",
      "/Users/stlanier/opt/anaconda3/envs/learn-env/lib/python3.6/site-packages/sklearn/linear_model/_logistic.py:764: ConvergenceWarning: lbfgs failed to converge (status=1):\n",
      "STOP: TOTAL NO. of ITERATIONS REACHED LIMIT.\n",
      "\n",
      "Increase the number of iterations (max_iter) or scale the data as shown in:\n",
      "    https://scikit-learn.org/stable/modules/preprocessing.html\n",
      "Please also refer to the documentation for alternative solver options:\n",
      "    https://scikit-learn.org/stable/modules/linear_model.html#logistic-regression\n",
      "  extra_warning_msg=_LOGISTIC_SOLVER_CONVERGENCE_MSG)\n",
      "/Users/stlanier/opt/anaconda3/envs/learn-env/lib/python3.6/site-packages/sklearn/linear_model/_logistic.py:764: ConvergenceWarning: lbfgs failed to converge (status=1):\n",
      "STOP: TOTAL NO. of ITERATIONS REACHED LIMIT.\n",
      "\n",
      "Increase the number of iterations (max_iter) or scale the data as shown in:\n",
      "    https://scikit-learn.org/stable/modules/preprocessing.html\n",
      "Please also refer to the documentation for alternative solver options:\n",
      "    https://scikit-learn.org/stable/modules/linear_model.html#logistic-regression\n",
      "  extra_warning_msg=_LOGISTIC_SOLVER_CONVERGENCE_MSG)\n",
      "/Users/stlanier/opt/anaconda3/envs/learn-env/lib/python3.6/site-packages/sklearn/linear_model/_logistic.py:764: ConvergenceWarning: lbfgs failed to converge (status=1):\n",
      "STOP: TOTAL NO. of ITERATIONS REACHED LIMIT.\n",
      "\n",
      "Increase the number of iterations (max_iter) or scale the data as shown in:\n",
      "    https://scikit-learn.org/stable/modules/preprocessing.html\n",
      "Please also refer to the documentation for alternative solver options:\n",
      "    https://scikit-learn.org/stable/modules/linear_model.html#logistic-regression\n",
      "  extra_warning_msg=_LOGISTIC_SOLVER_CONVERGENCE_MSG)\n",
      "/Users/stlanier/opt/anaconda3/envs/learn-env/lib/python3.6/site-packages/sklearn/linear_model/_logistic.py:764: ConvergenceWarning: lbfgs failed to converge (status=1):\n",
      "STOP: TOTAL NO. of ITERATIONS REACHED LIMIT.\n",
      "\n",
      "Increase the number of iterations (max_iter) or scale the data as shown in:\n",
      "    https://scikit-learn.org/stable/modules/preprocessing.html\n",
      "Please also refer to the documentation for alternative solver options:\n",
      "    https://scikit-learn.org/stable/modules/linear_model.html#logistic-regression\n",
      "  extra_warning_msg=_LOGISTIC_SOLVER_CONVERGENCE_MSG)\n"
     ]
    },
    {
     "name": "stdout",
     "output_type": "stream",
     "text": [
      "[CV] ............................... Cs=10, score=0.496, total= 1.4min\n",
      "[CV] Cs=15 ...........................................................\n"
     ]
    },
    {
     "name": "stderr",
     "output_type": "stream",
     "text": [
      "/Users/stlanier/opt/anaconda3/envs/learn-env/lib/python3.6/site-packages/sklearn/linear_model/_logistic.py:764: ConvergenceWarning: lbfgs failed to converge (status=1):\n",
      "STOP: TOTAL NO. of ITERATIONS REACHED LIMIT.\n",
      "\n",
      "Increase the number of iterations (max_iter) or scale the data as shown in:\n",
      "    https://scikit-learn.org/stable/modules/preprocessing.html\n",
      "Please also refer to the documentation for alternative solver options:\n",
      "    https://scikit-learn.org/stable/modules/linear_model.html#logistic-regression\n",
      "  extra_warning_msg=_LOGISTIC_SOLVER_CONVERGENCE_MSG)\n",
      "/Users/stlanier/opt/anaconda3/envs/learn-env/lib/python3.6/site-packages/sklearn/linear_model/_logistic.py:764: ConvergenceWarning: lbfgs failed to converge (status=1):\n",
      "STOP: TOTAL NO. of ITERATIONS REACHED LIMIT.\n",
      "\n",
      "Increase the number of iterations (max_iter) or scale the data as shown in:\n",
      "    https://scikit-learn.org/stable/modules/preprocessing.html\n",
      "Please also refer to the documentation for alternative solver options:\n",
      "    https://scikit-learn.org/stable/modules/linear_model.html#logistic-regression\n",
      "  extra_warning_msg=_LOGISTIC_SOLVER_CONVERGENCE_MSG)\n",
      "/Users/stlanier/opt/anaconda3/envs/learn-env/lib/python3.6/site-packages/sklearn/linear_model/_logistic.py:764: ConvergenceWarning: lbfgs failed to converge (status=1):\n",
      "STOP: TOTAL NO. of ITERATIONS REACHED LIMIT.\n",
      "\n",
      "Increase the number of iterations (max_iter) or scale the data as shown in:\n",
      "    https://scikit-learn.org/stable/modules/preprocessing.html\n",
      "Please also refer to the documentation for alternative solver options:\n",
      "    https://scikit-learn.org/stable/modules/linear_model.html#logistic-regression\n",
      "  extra_warning_msg=_LOGISTIC_SOLVER_CONVERGENCE_MSG)\n",
      "/Users/stlanier/opt/anaconda3/envs/learn-env/lib/python3.6/site-packages/sklearn/linear_model/_logistic.py:764: ConvergenceWarning: lbfgs failed to converge (status=1):\n",
      "STOP: TOTAL NO. of ITERATIONS REACHED LIMIT.\n",
      "\n",
      "Increase the number of iterations (max_iter) or scale the data as shown in:\n",
      "    https://scikit-learn.org/stable/modules/preprocessing.html\n",
      "Please also refer to the documentation for alternative solver options:\n",
      "    https://scikit-learn.org/stable/modules/linear_model.html#logistic-regression\n",
      "  extra_warning_msg=_LOGISTIC_SOLVER_CONVERGENCE_MSG)\n",
      "/Users/stlanier/opt/anaconda3/envs/learn-env/lib/python3.6/site-packages/sklearn/linear_model/_logistic.py:764: ConvergenceWarning: lbfgs failed to converge (status=1):\n",
      "STOP: TOTAL NO. of ITERATIONS REACHED LIMIT.\n",
      "\n",
      "Increase the number of iterations (max_iter) or scale the data as shown in:\n",
      "    https://scikit-learn.org/stable/modules/preprocessing.html\n",
      "Please also refer to the documentation for alternative solver options:\n",
      "    https://scikit-learn.org/stable/modules/linear_model.html#logistic-regression\n",
      "  extra_warning_msg=_LOGISTIC_SOLVER_CONVERGENCE_MSG)\n",
      "/Users/stlanier/opt/anaconda3/envs/learn-env/lib/python3.6/site-packages/sklearn/linear_model/_logistic.py:764: ConvergenceWarning: lbfgs failed to converge (status=1):\n",
      "STOP: TOTAL NO. of ITERATIONS REACHED LIMIT.\n",
      "\n",
      "Increase the number of iterations (max_iter) or scale the data as shown in:\n",
      "    https://scikit-learn.org/stable/modules/preprocessing.html\n",
      "Please also refer to the documentation for alternative solver options:\n",
      "    https://scikit-learn.org/stable/modules/linear_model.html#logistic-regression\n",
      "  extra_warning_msg=_LOGISTIC_SOLVER_CONVERGENCE_MSG)\n"
     ]
    },
    {
     "name": "stdout",
     "output_type": "stream",
     "text": [
      "[CV] ............................... Cs=15, score=0.514, total= 1.9min\n",
      "[CV] Cs=15 ...........................................................\n"
     ]
    },
    {
     "name": "stderr",
     "output_type": "stream",
     "text": [
      "/Users/stlanier/opt/anaconda3/envs/learn-env/lib/python3.6/site-packages/sklearn/linear_model/_logistic.py:764: ConvergenceWarning: lbfgs failed to converge (status=1):\n",
      "STOP: TOTAL NO. of ITERATIONS REACHED LIMIT.\n",
      "\n",
      "Increase the number of iterations (max_iter) or scale the data as shown in:\n",
      "    https://scikit-learn.org/stable/modules/preprocessing.html\n",
      "Please also refer to the documentation for alternative solver options:\n",
      "    https://scikit-learn.org/stable/modules/linear_model.html#logistic-regression\n",
      "  extra_warning_msg=_LOGISTIC_SOLVER_CONVERGENCE_MSG)\n",
      "/Users/stlanier/opt/anaconda3/envs/learn-env/lib/python3.6/site-packages/sklearn/linear_model/_logistic.py:764: ConvergenceWarning: lbfgs failed to converge (status=1):\n",
      "STOP: TOTAL NO. of ITERATIONS REACHED LIMIT.\n",
      "\n",
      "Increase the number of iterations (max_iter) or scale the data as shown in:\n",
      "    https://scikit-learn.org/stable/modules/preprocessing.html\n",
      "Please also refer to the documentation for alternative solver options:\n",
      "    https://scikit-learn.org/stable/modules/linear_model.html#logistic-regression\n",
      "  extra_warning_msg=_LOGISTIC_SOLVER_CONVERGENCE_MSG)\n",
      "/Users/stlanier/opt/anaconda3/envs/learn-env/lib/python3.6/site-packages/sklearn/linear_model/_logistic.py:764: ConvergenceWarning: lbfgs failed to converge (status=1):\n",
      "STOP: TOTAL NO. of ITERATIONS REACHED LIMIT.\n",
      "\n",
      "Increase the number of iterations (max_iter) or scale the data as shown in:\n",
      "    https://scikit-learn.org/stable/modules/preprocessing.html\n",
      "Please also refer to the documentation for alternative solver options:\n",
      "    https://scikit-learn.org/stable/modules/linear_model.html#logistic-regression\n",
      "  extra_warning_msg=_LOGISTIC_SOLVER_CONVERGENCE_MSG)\n",
      "/Users/stlanier/opt/anaconda3/envs/learn-env/lib/python3.6/site-packages/sklearn/linear_model/_logistic.py:764: ConvergenceWarning: lbfgs failed to converge (status=1):\n",
      "STOP: TOTAL NO. of ITERATIONS REACHED LIMIT.\n",
      "\n",
      "Increase the number of iterations (max_iter) or scale the data as shown in:\n",
      "    https://scikit-learn.org/stable/modules/preprocessing.html\n",
      "Please also refer to the documentation for alternative solver options:\n",
      "    https://scikit-learn.org/stable/modules/linear_model.html#logistic-regression\n",
      "  extra_warning_msg=_LOGISTIC_SOLVER_CONVERGENCE_MSG)\n",
      "/Users/stlanier/opt/anaconda3/envs/learn-env/lib/python3.6/site-packages/sklearn/linear_model/_logistic.py:764: ConvergenceWarning: lbfgs failed to converge (status=1):\n",
      "STOP: TOTAL NO. of ITERATIONS REACHED LIMIT.\n",
      "\n",
      "Increase the number of iterations (max_iter) or scale the data as shown in:\n",
      "    https://scikit-learn.org/stable/modules/preprocessing.html\n",
      "Please also refer to the documentation for alternative solver options:\n",
      "    https://scikit-learn.org/stable/modules/linear_model.html#logistic-regression\n",
      "  extra_warning_msg=_LOGISTIC_SOLVER_CONVERGENCE_MSG)\n",
      "/Users/stlanier/opt/anaconda3/envs/learn-env/lib/python3.6/site-packages/sklearn/linear_model/_logistic.py:764: ConvergenceWarning: lbfgs failed to converge (status=1):\n",
      "STOP: TOTAL NO. of ITERATIONS REACHED LIMIT.\n",
      "\n",
      "Increase the number of iterations (max_iter) or scale the data as shown in:\n",
      "    https://scikit-learn.org/stable/modules/preprocessing.html\n",
      "Please also refer to the documentation for alternative solver options:\n",
      "    https://scikit-learn.org/stable/modules/linear_model.html#logistic-regression\n",
      "  extra_warning_msg=_LOGISTIC_SOLVER_CONVERGENCE_MSG)\n"
     ]
    },
    {
     "name": "stdout",
     "output_type": "stream",
     "text": [
      "[CV] ............................... Cs=15, score=0.503, total= 2.0min\n",
      "[CV] Cs=15 ...........................................................\n"
     ]
    },
    {
     "name": "stderr",
     "output_type": "stream",
     "text": [
      "/Users/stlanier/opt/anaconda3/envs/learn-env/lib/python3.6/site-packages/sklearn/linear_model/_logistic.py:764: ConvergenceWarning: lbfgs failed to converge (status=1):\n",
      "STOP: TOTAL NO. of ITERATIONS REACHED LIMIT.\n",
      "\n",
      "Increase the number of iterations (max_iter) or scale the data as shown in:\n",
      "    https://scikit-learn.org/stable/modules/preprocessing.html\n",
      "Please also refer to the documentation for alternative solver options:\n",
      "    https://scikit-learn.org/stable/modules/linear_model.html#logistic-regression\n",
      "  extra_warning_msg=_LOGISTIC_SOLVER_CONVERGENCE_MSG)\n",
      "/Users/stlanier/opt/anaconda3/envs/learn-env/lib/python3.6/site-packages/sklearn/linear_model/_logistic.py:764: ConvergenceWarning: lbfgs failed to converge (status=1):\n",
      "STOP: TOTAL NO. of ITERATIONS REACHED LIMIT.\n",
      "\n",
      "Increase the number of iterations (max_iter) or scale the data as shown in:\n",
      "    https://scikit-learn.org/stable/modules/preprocessing.html\n",
      "Please also refer to the documentation for alternative solver options:\n",
      "    https://scikit-learn.org/stable/modules/linear_model.html#logistic-regression\n",
      "  extra_warning_msg=_LOGISTIC_SOLVER_CONVERGENCE_MSG)\n",
      "/Users/stlanier/opt/anaconda3/envs/learn-env/lib/python3.6/site-packages/sklearn/linear_model/_logistic.py:764: ConvergenceWarning: lbfgs failed to converge (status=1):\n",
      "STOP: TOTAL NO. of ITERATIONS REACHED LIMIT.\n",
      "\n",
      "Increase the number of iterations (max_iter) or scale the data as shown in:\n",
      "    https://scikit-learn.org/stable/modules/preprocessing.html\n",
      "Please also refer to the documentation for alternative solver options:\n",
      "    https://scikit-learn.org/stable/modules/linear_model.html#logistic-regression\n",
      "  extra_warning_msg=_LOGISTIC_SOLVER_CONVERGENCE_MSG)\n",
      "/Users/stlanier/opt/anaconda3/envs/learn-env/lib/python3.6/site-packages/sklearn/linear_model/_logistic.py:764: ConvergenceWarning: lbfgs failed to converge (status=1):\n",
      "STOP: TOTAL NO. of ITERATIONS REACHED LIMIT.\n",
      "\n",
      "Increase the number of iterations (max_iter) or scale the data as shown in:\n",
      "    https://scikit-learn.org/stable/modules/preprocessing.html\n",
      "Please also refer to the documentation for alternative solver options:\n",
      "    https://scikit-learn.org/stable/modules/linear_model.html#logistic-regression\n",
      "  extra_warning_msg=_LOGISTIC_SOLVER_CONVERGENCE_MSG)\n",
      "/Users/stlanier/opt/anaconda3/envs/learn-env/lib/python3.6/site-packages/sklearn/linear_model/_logistic.py:764: ConvergenceWarning: lbfgs failed to converge (status=1):\n",
      "STOP: TOTAL NO. of ITERATIONS REACHED LIMIT.\n",
      "\n",
      "Increase the number of iterations (max_iter) or scale the data as shown in:\n",
      "    https://scikit-learn.org/stable/modules/preprocessing.html\n",
      "Please also refer to the documentation for alternative solver options:\n",
      "    https://scikit-learn.org/stable/modules/linear_model.html#logistic-regression\n",
      "  extra_warning_msg=_LOGISTIC_SOLVER_CONVERGENCE_MSG)\n"
     ]
    },
    {
     "name": "stdout",
     "output_type": "stream",
     "text": [
      "[CV] ............................... Cs=15, score=0.449, total= 3.2min\n",
      "[CV] Cs=20 ...........................................................\n"
     ]
    },
    {
     "name": "stderr",
     "output_type": "stream",
     "text": [
      "/Users/stlanier/opt/anaconda3/envs/learn-env/lib/python3.6/site-packages/sklearn/linear_model/_logistic.py:764: ConvergenceWarning: lbfgs failed to converge (status=1):\n",
      "STOP: TOTAL NO. of ITERATIONS REACHED LIMIT.\n",
      "\n",
      "Increase the number of iterations (max_iter) or scale the data as shown in:\n",
      "    https://scikit-learn.org/stable/modules/preprocessing.html\n",
      "Please also refer to the documentation for alternative solver options:\n",
      "    https://scikit-learn.org/stable/modules/linear_model.html#logistic-regression\n",
      "  extra_warning_msg=_LOGISTIC_SOLVER_CONVERGENCE_MSG)\n",
      "/Users/stlanier/opt/anaconda3/envs/learn-env/lib/python3.6/site-packages/sklearn/linear_model/_logistic.py:764: ConvergenceWarning: lbfgs failed to converge (status=1):\n",
      "STOP: TOTAL NO. of ITERATIONS REACHED LIMIT.\n",
      "\n",
      "Increase the number of iterations (max_iter) or scale the data as shown in:\n",
      "    https://scikit-learn.org/stable/modules/preprocessing.html\n",
      "Please also refer to the documentation for alternative solver options:\n",
      "    https://scikit-learn.org/stable/modules/linear_model.html#logistic-regression\n",
      "  extra_warning_msg=_LOGISTIC_SOLVER_CONVERGENCE_MSG)\n",
      "/Users/stlanier/opt/anaconda3/envs/learn-env/lib/python3.6/site-packages/sklearn/linear_model/_logistic.py:764: ConvergenceWarning: lbfgs failed to converge (status=1):\n",
      "STOP: TOTAL NO. of ITERATIONS REACHED LIMIT.\n",
      "\n",
      "Increase the number of iterations (max_iter) or scale the data as shown in:\n",
      "    https://scikit-learn.org/stable/modules/preprocessing.html\n",
      "Please also refer to the documentation for alternative solver options:\n",
      "    https://scikit-learn.org/stable/modules/linear_model.html#logistic-regression\n",
      "  extra_warning_msg=_LOGISTIC_SOLVER_CONVERGENCE_MSG)\n",
      "/Users/stlanier/opt/anaconda3/envs/learn-env/lib/python3.6/site-packages/sklearn/linear_model/_logistic.py:764: ConvergenceWarning: lbfgs failed to converge (status=1):\n",
      "STOP: TOTAL NO. of ITERATIONS REACHED LIMIT.\n",
      "\n",
      "Increase the number of iterations (max_iter) or scale the data as shown in:\n",
      "    https://scikit-learn.org/stable/modules/preprocessing.html\n",
      "Please also refer to the documentation for alternative solver options:\n",
      "    https://scikit-learn.org/stable/modules/linear_model.html#logistic-regression\n",
      "  extra_warning_msg=_LOGISTIC_SOLVER_CONVERGENCE_MSG)\n",
      "/Users/stlanier/opt/anaconda3/envs/learn-env/lib/python3.6/site-packages/sklearn/linear_model/_logistic.py:764: ConvergenceWarning: lbfgs failed to converge (status=1):\n",
      "STOP: TOTAL NO. of ITERATIONS REACHED LIMIT.\n",
      "\n",
      "Increase the number of iterations (max_iter) or scale the data as shown in:\n",
      "    https://scikit-learn.org/stable/modules/preprocessing.html\n",
      "Please also refer to the documentation for alternative solver options:\n",
      "    https://scikit-learn.org/stable/modules/linear_model.html#logistic-regression\n",
      "  extra_warning_msg=_LOGISTIC_SOLVER_CONVERGENCE_MSG)\n",
      "/Users/stlanier/opt/anaconda3/envs/learn-env/lib/python3.6/site-packages/sklearn/linear_model/_logistic.py:764: ConvergenceWarning: lbfgs failed to converge (status=1):\n",
      "STOP: TOTAL NO. of ITERATIONS REACHED LIMIT.\n",
      "\n",
      "Increase the number of iterations (max_iter) or scale the data as shown in:\n",
      "    https://scikit-learn.org/stable/modules/preprocessing.html\n",
      "Please also refer to the documentation for alternative solver options:\n",
      "    https://scikit-learn.org/stable/modules/linear_model.html#logistic-regression\n",
      "  extra_warning_msg=_LOGISTIC_SOLVER_CONVERGENCE_MSG)\n"
     ]
    },
    {
     "name": "stdout",
     "output_type": "stream",
     "text": [
      "[CV] ............................... Cs=20, score=0.527, total= 3.8min\n",
      "[CV] Cs=20 ...........................................................\n"
     ]
    },
    {
     "name": "stderr",
     "output_type": "stream",
     "text": [
      "/Users/stlanier/opt/anaconda3/envs/learn-env/lib/python3.6/site-packages/sklearn/linear_model/_logistic.py:764: ConvergenceWarning: lbfgs failed to converge (status=1):\n",
      "STOP: TOTAL NO. of ITERATIONS REACHED LIMIT.\n",
      "\n",
      "Increase the number of iterations (max_iter) or scale the data as shown in:\n",
      "    https://scikit-learn.org/stable/modules/preprocessing.html\n",
      "Please also refer to the documentation for alternative solver options:\n",
      "    https://scikit-learn.org/stable/modules/linear_model.html#logistic-regression\n",
      "  extra_warning_msg=_LOGISTIC_SOLVER_CONVERGENCE_MSG)\n",
      "/Users/stlanier/opt/anaconda3/envs/learn-env/lib/python3.6/site-packages/sklearn/linear_model/_logistic.py:764: ConvergenceWarning: lbfgs failed to converge (status=1):\n",
      "STOP: TOTAL NO. of ITERATIONS REACHED LIMIT.\n",
      "\n",
      "Increase the number of iterations (max_iter) or scale the data as shown in:\n",
      "    https://scikit-learn.org/stable/modules/preprocessing.html\n",
      "Please also refer to the documentation for alternative solver options:\n",
      "    https://scikit-learn.org/stable/modules/linear_model.html#logistic-regression\n",
      "  extra_warning_msg=_LOGISTIC_SOLVER_CONVERGENCE_MSG)\n",
      "/Users/stlanier/opt/anaconda3/envs/learn-env/lib/python3.6/site-packages/sklearn/linear_model/_logistic.py:764: ConvergenceWarning: lbfgs failed to converge (status=1):\n",
      "STOP: TOTAL NO. of ITERATIONS REACHED LIMIT.\n",
      "\n",
      "Increase the number of iterations (max_iter) or scale the data as shown in:\n",
      "    https://scikit-learn.org/stable/modules/preprocessing.html\n",
      "Please also refer to the documentation for alternative solver options:\n",
      "    https://scikit-learn.org/stable/modules/linear_model.html#logistic-regression\n",
      "  extra_warning_msg=_LOGISTIC_SOLVER_CONVERGENCE_MSG)\n",
      "/Users/stlanier/opt/anaconda3/envs/learn-env/lib/python3.6/site-packages/sklearn/linear_model/_logistic.py:764: ConvergenceWarning: lbfgs failed to converge (status=1):\n",
      "STOP: TOTAL NO. of ITERATIONS REACHED LIMIT.\n",
      "\n",
      "Increase the number of iterations (max_iter) or scale the data as shown in:\n",
      "    https://scikit-learn.org/stable/modules/preprocessing.html\n",
      "Please also refer to the documentation for alternative solver options:\n",
      "    https://scikit-learn.org/stable/modules/linear_model.html#logistic-regression\n",
      "  extra_warning_msg=_LOGISTIC_SOLVER_CONVERGENCE_MSG)\n",
      "/Users/stlanier/opt/anaconda3/envs/learn-env/lib/python3.6/site-packages/sklearn/linear_model/_logistic.py:764: ConvergenceWarning: lbfgs failed to converge (status=1):\n",
      "STOP: TOTAL NO. of ITERATIONS REACHED LIMIT.\n",
      "\n",
      "Increase the number of iterations (max_iter) or scale the data as shown in:\n",
      "    https://scikit-learn.org/stable/modules/preprocessing.html\n",
      "Please also refer to the documentation for alternative solver options:\n",
      "    https://scikit-learn.org/stable/modules/linear_model.html#logistic-regression\n",
      "  extra_warning_msg=_LOGISTIC_SOLVER_CONVERGENCE_MSG)\n"
     ]
    },
    {
     "name": "stdout",
     "output_type": "stream",
     "text": [
      "[CV] ............................... Cs=20, score=0.472, total= 3.2min\n",
      "[CV] Cs=20 ...........................................................\n"
     ]
    },
    {
     "name": "stderr",
     "output_type": "stream",
     "text": [
      "/Users/stlanier/opt/anaconda3/envs/learn-env/lib/python3.6/site-packages/sklearn/linear_model/_logistic.py:764: ConvergenceWarning: lbfgs failed to converge (status=1):\n",
      "STOP: TOTAL NO. of ITERATIONS REACHED LIMIT.\n",
      "\n",
      "Increase the number of iterations (max_iter) or scale the data as shown in:\n",
      "    https://scikit-learn.org/stable/modules/preprocessing.html\n",
      "Please also refer to the documentation for alternative solver options:\n",
      "    https://scikit-learn.org/stable/modules/linear_model.html#logistic-regression\n",
      "  extra_warning_msg=_LOGISTIC_SOLVER_CONVERGENCE_MSG)\n",
      "/Users/stlanier/opt/anaconda3/envs/learn-env/lib/python3.6/site-packages/sklearn/linear_model/_logistic.py:764: ConvergenceWarning: lbfgs failed to converge (status=1):\n",
      "STOP: TOTAL NO. of ITERATIONS REACHED LIMIT.\n",
      "\n",
      "Increase the number of iterations (max_iter) or scale the data as shown in:\n",
      "    https://scikit-learn.org/stable/modules/preprocessing.html\n",
      "Please also refer to the documentation for alternative solver options:\n",
      "    https://scikit-learn.org/stable/modules/linear_model.html#logistic-regression\n",
      "  extra_warning_msg=_LOGISTIC_SOLVER_CONVERGENCE_MSG)\n",
      "/Users/stlanier/opt/anaconda3/envs/learn-env/lib/python3.6/site-packages/sklearn/linear_model/_logistic.py:764: ConvergenceWarning: lbfgs failed to converge (status=1):\n",
      "STOP: TOTAL NO. of ITERATIONS REACHED LIMIT.\n",
      "\n",
      "Increase the number of iterations (max_iter) or scale the data as shown in:\n",
      "    https://scikit-learn.org/stable/modules/preprocessing.html\n",
      "Please also refer to the documentation for alternative solver options:\n",
      "    https://scikit-learn.org/stable/modules/linear_model.html#logistic-regression\n",
      "  extra_warning_msg=_LOGISTIC_SOLVER_CONVERGENCE_MSG)\n",
      "/Users/stlanier/opt/anaconda3/envs/learn-env/lib/python3.6/site-packages/sklearn/linear_model/_logistic.py:764: ConvergenceWarning: lbfgs failed to converge (status=1):\n",
      "STOP: TOTAL NO. of ITERATIONS REACHED LIMIT.\n",
      "\n",
      "Increase the number of iterations (max_iter) or scale the data as shown in:\n",
      "    https://scikit-learn.org/stable/modules/preprocessing.html\n",
      "Please also refer to the documentation for alternative solver options:\n",
      "    https://scikit-learn.org/stable/modules/linear_model.html#logistic-regression\n",
      "  extra_warning_msg=_LOGISTIC_SOLVER_CONVERGENCE_MSG)\n",
      "/Users/stlanier/opt/anaconda3/envs/learn-env/lib/python3.6/site-packages/sklearn/linear_model/_logistic.py:764: ConvergenceWarning: lbfgs failed to converge (status=1):\n",
      "STOP: TOTAL NO. of ITERATIONS REACHED LIMIT.\n",
      "\n",
      "Increase the number of iterations (max_iter) or scale the data as shown in:\n",
      "    https://scikit-learn.org/stable/modules/preprocessing.html\n",
      "Please also refer to the documentation for alternative solver options:\n",
      "    https://scikit-learn.org/stable/modules/linear_model.html#logistic-regression\n",
      "  extra_warning_msg=_LOGISTIC_SOLVER_CONVERGENCE_MSG)\n"
     ]
    },
    {
     "name": "stdout",
     "output_type": "stream",
     "text": [
      "[CV] ............................... Cs=20, score=0.468, total= 3.0min\n"
     ]
    },
    {
     "name": "stderr",
     "output_type": "stream",
     "text": [
      "[Parallel(n_jobs=1)]: Done  21 out of  21 | elapsed: 29.2min finished\n",
      "/Users/stlanier/opt/anaconda3/envs/learn-env/lib/python3.6/site-packages/sklearn/linear_model/_logistic.py:764: ConvergenceWarning: lbfgs failed to converge (status=1):\n",
      "STOP: TOTAL NO. of ITERATIONS REACHED LIMIT.\n",
      "\n",
      "Increase the number of iterations (max_iter) or scale the data as shown in:\n",
      "    https://scikit-learn.org/stable/modules/preprocessing.html\n",
      "Please also refer to the documentation for alternative solver options:\n",
      "    https://scikit-learn.org/stable/modules/linear_model.html#logistic-regression\n",
      "  extra_warning_msg=_LOGISTIC_SOLVER_CONVERGENCE_MSG)\n",
      "/Users/stlanier/opt/anaconda3/envs/learn-env/lib/python3.6/site-packages/sklearn/linear_model/_logistic.py:764: ConvergenceWarning: lbfgs failed to converge (status=1):\n",
      "STOP: TOTAL NO. of ITERATIONS REACHED LIMIT.\n",
      "\n",
      "Increase the number of iterations (max_iter) or scale the data as shown in:\n",
      "    https://scikit-learn.org/stable/modules/preprocessing.html\n",
      "Please also refer to the documentation for alternative solver options:\n",
      "    https://scikit-learn.org/stable/modules/linear_model.html#logistic-regression\n",
      "  extra_warning_msg=_LOGISTIC_SOLVER_CONVERGENCE_MSG)\n",
      "/Users/stlanier/opt/anaconda3/envs/learn-env/lib/python3.6/site-packages/sklearn/linear_model/_logistic.py:764: ConvergenceWarning: lbfgs failed to converge (status=1):\n",
      "STOP: TOTAL NO. of ITERATIONS REACHED LIMIT.\n",
      "\n",
      "Increase the number of iterations (max_iter) or scale the data as shown in:\n",
      "    https://scikit-learn.org/stable/modules/preprocessing.html\n",
      "Please also refer to the documentation for alternative solver options:\n",
      "    https://scikit-learn.org/stable/modules/linear_model.html#logistic-regression\n",
      "  extra_warning_msg=_LOGISTIC_SOLVER_CONVERGENCE_MSG)\n",
      "/Users/stlanier/opt/anaconda3/envs/learn-env/lib/python3.6/site-packages/sklearn/linear_model/_logistic.py:764: ConvergenceWarning: lbfgs failed to converge (status=1):\n",
      "STOP: TOTAL NO. of ITERATIONS REACHED LIMIT.\n",
      "\n",
      "Increase the number of iterations (max_iter) or scale the data as shown in:\n",
      "    https://scikit-learn.org/stable/modules/preprocessing.html\n",
      "Please also refer to the documentation for alternative solver options:\n",
      "    https://scikit-learn.org/stable/modules/linear_model.html#logistic-regression\n",
      "  extra_warning_msg=_LOGISTIC_SOLVER_CONVERGENCE_MSG)\n",
      "/Users/stlanier/opt/anaconda3/envs/learn-env/lib/python3.6/site-packages/sklearn/linear_model/_logistic.py:764: ConvergenceWarning: lbfgs failed to converge (status=1):\n",
      "STOP: TOTAL NO. of ITERATIONS REACHED LIMIT.\n",
      "\n",
      "Increase the number of iterations (max_iter) or scale the data as shown in:\n",
      "    https://scikit-learn.org/stable/modules/preprocessing.html\n",
      "Please also refer to the documentation for alternative solver options:\n",
      "    https://scikit-learn.org/stable/modules/linear_model.html#logistic-regression\n",
      "  extra_warning_msg=_LOGISTIC_SOLVER_CONVERGENCE_MSG)\n"
     ]
    },
    {
     "data": {
      "text/plain": [
       "GridSearchCV(cv=3, estimator=LogisticRegressionCV(cv=5),\n",
       "             param_grid={'Cs': [1, 3, 5, 7, 10, 15, 20]}, scoring='f1_macro',\n",
       "             verbose=3)"
      ]
     },
     "execution_count": 91,
     "metadata": {},
     "output_type": "execute_result"
    }
   ],
   "source": [
    "params = {\n",
    "    'Cs': [1, 3, 5, 7, 10, 15, 20],\n",
    "}\n",
    "\n",
    "clf_lr = LogisticRegressionCV(cv=5)\n",
    "gs_lr = GridSearchCV(clf_lr, param_grid=params, scoring='f1_macro', cv=3, verbose=3)\n",
    "gs_lr.fit(svd_X_train_lemmatized, y_train)"
   ]
  },
  {
   "cell_type": "code",
   "execution_count": 100,
   "metadata": {},
   "outputs": [
    {
     "data": {
      "text/plain": [
       "{'Cs': 10}"
      ]
     },
     "execution_count": 100,
     "metadata": {},
     "output_type": "execute_result"
    }
   ],
   "source": [
    "gs_lr.best_params_"
   ]
  },
  {
   "cell_type": "code",
   "execution_count": 93,
   "metadata": {},
   "outputs": [
    {
     "name": "stdout",
     "output_type": "stream",
     "text": [
      "[[14.3 65.6 20.1]\n",
      " [ 0.9 83.3 15.8]\n",
      " [ 0.9 50.5 48.6]]\n",
      "\n",
      "              precision    recall  f1-score   support\n",
      "\n",
      "           0       0.54      0.14      0.23       189\n",
      "           1       0.70      0.83      0.76      1612\n",
      "           2       0.59      0.49      0.53       880\n",
      "\n",
      "    accuracy                           0.67      2681\n",
      "   macro avg       0.61      0.49      0.51      2681\n",
      "weighted avg       0.66      0.67      0.65      2681\n",
      "\n"
     ]
    }
   ],
   "source": [
    "report(y_test, gs_lr.predict(svd_X_test_lemmatized))"
   ]
  },
  {
   "cell_type": "markdown",
   "metadata": {},
   "source": [
    "**Logistic has decreased slightly to 0.51 f1 score, but looking at the confusion matrix, it's getting most of the 0-class and 2-class items wrong.** That's a pretty big error, as those are the negative and positive reviews, respectively. There is a slightly mitigating factor that they're both being mostly misclassified as 1, no emotion, but still the majority of 0-class and 2-class reviews are wrongly labeled as no sentiment."
   ]
  },
  {
   "cell_type": "code",
   "execution_count": 120,
   "metadata": {
    "scrolled": true
   },
   "outputs": [
    {
     "name": "stdout",
     "output_type": "stream",
     "text": [
      "Epoch 1/20\n",
      "6255/6255 [==============================] - 4s 706us/step - loss: 1.0199 - accuracy: 0.5990\n",
      "Epoch 2/20\n",
      "6255/6255 [==============================] - 4s 580us/step - loss: 0.9169 - accuracy: 0.6037\n",
      "Epoch 3/20\n",
      "6255/6255 [==============================] - 4s 591us/step - loss: 0.8750 - accuracy: 0.6037\n",
      "Epoch 4/20\n",
      "6255/6255 [==============================] - 4s 575us/step - loss: 0.8575 - accuracy: 0.6037\n",
      "Epoch 5/20\n",
      "6255/6255 [==============================] - 4s 585us/step - loss: 0.8491 - accuracy: 0.6037\n",
      "Epoch 6/20\n",
      "6255/6255 [==============================] - 4s 586us/step - loss: 0.8446 - accuracy: 0.6037\n",
      "Epoch 7/20\n",
      "6255/6255 [==============================] - 4s 591us/step - loss: 0.8419 - accuracy: 0.6037\n",
      "Epoch 8/20\n",
      "6255/6255 [==============================] - 5s 734us/step - loss: 0.8404 - accuracy: 0.6037\n",
      "Epoch 9/20\n",
      "6255/6255 [==============================] - 5s 810us/step - loss: 0.8394 - accuracy: 0.6037\n",
      "Epoch 10/20\n",
      "6255/6255 [==============================] - 4s 667us/step - loss: 0.8387 - accuracy: 0.6037\n",
      "Epoch 11/20\n",
      "6255/6255 [==============================] - 4s 609us/step - loss: 0.8381 - accuracy: 0.6037\n",
      "Epoch 12/20\n",
      "6255/6255 [==============================] - 4s 571us/step - loss: 0.8376 - accuracy: 0.6037\n",
      "Epoch 13/20\n",
      "6255/6255 [==============================] - 4s 587us/step - loss: 0.8371 - accuracy: 0.6037\n",
      "Epoch 14/20\n",
      "6255/6255 [==============================] - 4s 630us/step - loss: 0.8366 - accuracy: 0.6037\n",
      "Epoch 15/20\n",
      "6255/6255 [==============================] - 4s 622us/step - loss: 0.8362 - accuracy: 0.6037\n",
      "Epoch 16/20\n",
      "6255/6255 [==============================] - 4s 602us/step - loss: 0.8357 - accuracy: 0.6037\n",
      "Epoch 17/20\n",
      "6255/6255 [==============================] - 4s 584us/step - loss: 0.8354 - accuracy: 0.6037\n",
      "Epoch 18/20\n",
      "6255/6255 [==============================] - 4s 592us/step - loss: 0.8348 - accuracy: 0.6037\n",
      "Epoch 19/20\n",
      "6255/6255 [==============================] - 4s 620us/step - loss: 0.8344 - accuracy: 0.6037\n",
      "Epoch 20/20\n",
      "6255/6255 [==============================] - 4s 610us/step - loss: 0.8339 - accuracy: 0.6037\n"
     ]
    }
   ],
   "source": [
    "clf_ann_3 = models.Sequential()\n",
    "clf_ann_3.add(layers.Dense(1000, activation='relu', input_shape = (ideal_dim, )))\n",
    "clf_ann_3.add(layers.Dense(500, activation='relu'))\n",
    "clf_ann_3.add(layers.Dense(100, activation='relu'))\n",
    "clf_ann_3.add(layers.Dense(3, activation='softmax'))\n",
    "clf_ann_3.compile(optimizer='SGD', \n",
    "                loss='categorical_crossentropy',\n",
    "                metrics=[get_f1])\n",
    "history_3 = clf_ann_3.fit(svd_X_train_lemmatized, y_train_ohe, epochs=20, batch_size=100)"
   ]
  },
  {
   "cell_type": "code",
   "execution_count": 127,
   "metadata": {},
   "outputs": [
    {
     "name": "stdout",
     "output_type": "stream",
     "text": [
      "[[  0. 100.   0.]\n",
      " [  0. 100.   0.]\n",
      " [  0. 100.   0.]]\n",
      "\n",
      "              precision    recall  f1-score   support\n",
      "\n",
      "           0       0.00      0.00      0.00       189\n",
      "           1       0.60      1.00      0.75      1612\n",
      "           2       0.00      0.00      0.00       880\n",
      "\n",
      "    accuracy                           0.60      2681\n",
      "   macro avg       0.20      0.33      0.25      2681\n",
      "weighted avg       0.36      0.60      0.45      2681\n",
      "\n"
     ]
    },
    {
     "name": "stderr",
     "output_type": "stream",
     "text": [
      "/Users/stlanier/opt/anaconda3/envs/learn-env/lib/python3.6/site-packages/sklearn/metrics/_classification.py:1221: UndefinedMetricWarning: Precision and F-score are ill-defined and being set to 0.0 in labels with no predicted samples. Use `zero_division` parameter to control this behavior.\n",
      "  _warn_prf(average, modifier, msg_start, len(result))\n"
     ]
    }
   ],
   "source": [
    "yhat_test = clf_ann_3.predict(svd_X_test_lemmatized)\n",
    "yhat_test = [np.argmax(y) for y in yhat_test]\n",
    "report(y_test, yhat_test)"
   ]
  },
  {
   "cell_type": "markdown",
   "metadata": {},
   "source": [
    "Pretty awful. Look at the confusion matrix: the model is just guessing 1 for everything. F1 score is 0.25."
   ]
  },
  {
   "cell_type": "code",
   "execution_count": 126,
   "metadata": {
    "scrolled": true
   },
   "outputs": [
    {
     "name": "stdout",
     "output_type": "stream",
     "text": [
      "Epoch 1/20\n",
      "6255/6255 [==============================] - 8s 1ms/step - loss: 1.0190 - accuracy: 0.5880\n",
      "Epoch 2/20\n",
      "6255/6255 [==============================] - 7s 1ms/step - loss: 0.9230 - accuracy: 0.6037\n",
      "Epoch 3/20\n",
      "6255/6255 [==============================] - 6s 1ms/step - loss: 0.8791 - accuracy: 0.6037\n",
      "Epoch 4/20\n",
      "6255/6255 [==============================] - 7s 1ms/step - loss: 0.8611 - accuracy: 0.6037\n",
      "Epoch 5/20\n",
      "6255/6255 [==============================] - 7s 1ms/step - loss: 0.8533 - accuracy: 0.6037\n",
      "Epoch 6/20\n",
      "6255/6255 [==============================] - 8s 1ms/step - loss: 0.8476 - accuracy: 0.6037\n",
      "Epoch 7/20\n",
      "6255/6255 [==============================] - 9s 1ms/step - loss: 0.8465 - accuracy: 0.6037\n",
      "Epoch 8/20\n",
      "6255/6255 [==============================] - 7s 1ms/step - loss: 0.8463 - accuracy: 0.6037\n",
      "Epoch 9/20\n",
      "6255/6255 [==============================] - 7s 1ms/step - loss: 0.8437 - accuracy: 0.6037\n",
      "Epoch 10/20\n",
      "6255/6255 [==============================] - 6s 959us/step - loss: 0.8426 - accuracy: 0.6037\n",
      "Epoch 11/20\n",
      "6255/6255 [==============================] - 7s 1ms/step - loss: 0.8424 - accuracy: 0.6037\n",
      "Epoch 12/20\n",
      "6255/6255 [==============================] - 9s 1ms/step - loss: 0.8438 - accuracy: 0.6037\n",
      "Epoch 13/20\n",
      "6255/6255 [==============================] - 8s 1ms/step - loss: 0.8427 - accuracy: 0.6037\n",
      "Epoch 14/20\n",
      "6255/6255 [==============================] - 8s 1ms/step - loss: 0.8403 - accuracy: 0.6037\n",
      "Epoch 15/20\n",
      "6255/6255 [==============================] - 5s 824us/step - loss: 0.8410 - accuracy: 0.6037\n",
      "Epoch 16/20\n",
      "6255/6255 [==============================] - 5s 748us/step - loss: 0.8428 - accuracy: 0.6037\n",
      "Epoch 17/20\n",
      "6255/6255 [==============================] - 5s 752us/step - loss: 0.8402 - accuracy: 0.6037\n",
      "Epoch 18/20\n",
      "6255/6255 [==============================] - 5s 813us/step - loss: 0.8415 - accuracy: 0.6037\n",
      "Epoch 19/20\n",
      "6255/6255 [==============================] - 5s 807us/step - loss: 0.8401 - accuracy: 0.6037\n",
      "Epoch 20/20\n",
      "6255/6255 [==============================] - 5s 812us/step - loss: 0.8424 - accuracy: 0.6037\n"
     ]
    }
   ],
   "source": [
    "clf_ann_4 = models.Sequential()\n",
    "clf_ann_4.add(layers.Dropout(.3, input_shape=(ideal_dim, )))\n",
    "clf_ann_4.add(layers.Dense(1000, activation='relu'))\n",
    "clf_ann_4.add(layers.Dropout(.3))\n",
    "clf_ann_4.add(layers.Dense(500, activation='relu'))\n",
    "clf_ann_4.add(layers.Dropout(.3))\n",
    "clf_ann_4.add(layers.Dense(100, activation='relu'))\n",
    "clf_ann_4.add(layers.Dropout(.3))\n",
    "clf_ann_4.add(layers.Dense(3, activation='softmax'))\n",
    "clf_ann_4.compile(optimizer='SGD', \n",
    "                loss='categorical_crossentropy',\n",
    "                metrics=[get_f1])\n",
    "history_4 = clf_ann_4.fit(svd_X_train_lemmatized, y_train_ohe, epochs=20, batch_size=100)"
   ]
  },
  {
   "cell_type": "code",
   "execution_count": 128,
   "metadata": {
    "scrolled": true
   },
   "outputs": [
    {
     "name": "stdout",
     "output_type": "stream",
     "text": [
      "[[  0. 100.   0.]\n",
      " [  0. 100.   0.]\n",
      " [  0. 100.   0.]]\n",
      "\n",
      "              precision    recall  f1-score   support\n",
      "\n",
      "           0       0.00      0.00      0.00       189\n",
      "           1       0.60      1.00      0.75      1612\n",
      "           2       0.00      0.00      0.00       880\n",
      "\n",
      "    accuracy                           0.60      2681\n",
      "   macro avg       0.20      0.33      0.25      2681\n",
      "weighted avg       0.36      0.60      0.45      2681\n",
      "\n"
     ]
    }
   ],
   "source": [
    "yhat_test = clf_ann_4.predict(svd_X_test_lemmatized)\n",
    "yhat_test = [np.argmax(y) for y in yhat_test]\n",
    "report(y_test, yhat_test)"
   ]
  },
  {
   "cell_type": "markdown",
   "metadata": {},
   "source": [
    "Same problem as before. It's at this point that the support column of the classification report above is catching my eye. There are 189 \"0\" labels, but 1612 \"1\" labels. The difference is nearly 1:10, so below I try implementing SMOTE to see if that improves things."
   ]
  },
  {
   "cell_type": "code",
   "execution_count": 95,
   "metadata": {},
   "outputs": [
    {
     "name": "stderr",
     "output_type": "stream",
     "text": [
      "/Users/stlanier/opt/anaconda3/envs/learn-env/lib/python3.6/site-packages/sklearn/utils/deprecation.py:86: FutureWarning: Function safe_indexing is deprecated; safe_indexing is deprecated in version 0.22 and will be removed in version 0.24.\n",
      "  warnings.warn(msg, category=FutureWarning)\n",
      "/Users/stlanier/opt/anaconda3/envs/learn-env/lib/python3.6/site-packages/sklearn/utils/deprecation.py:86: FutureWarning: Function safe_indexing is deprecated; safe_indexing is deprecated in version 0.22 and will be removed in version 0.24.\n",
      "  warnings.warn(msg, category=FutureWarning)\n",
      "/Users/stlanier/opt/anaconda3/envs/learn-env/lib/python3.6/site-packages/sklearn/utils/validation.py:70: FutureWarning: Pass classes=[0 1 2] as keyword args. From version 0.25 passing these as positional arguments will result in an error\n",
      "  FutureWarning)\n"
     ]
    }
   ],
   "source": [
    "smote = SMOTE(random_state=42)\n",
    "X_res, y_res = smote.fit_resample(svd_X_train_lemmatized, y_train_ohe)"
   ]
  },
  {
   "cell_type": "code",
   "execution_count": 131,
   "metadata": {
    "scrolled": true
   },
   "outputs": [
    {
     "name": "stdout",
     "output_type": "stream",
     "text": [
      "Epoch 1/20\n",
      "11328/11328 [==============================] - 7s 658us/step - loss: 1.0979 - accuracy: 0.3403\n",
      "Epoch 2/20\n",
      "11328/11328 [==============================] - 7s 586us/step - loss: 1.0963 - accuracy: 0.4127\n",
      "Epoch 3/20\n",
      "11328/11328 [==============================] - 7s 584us/step - loss: 1.0948 - accuracy: 0.4496\n",
      "Epoch 4/20\n",
      "11328/11328 [==============================] - 7s 590us/step - loss: 1.0933 - accuracy: 0.4889\n",
      "Epoch 5/20\n",
      "11328/11328 [==============================] - 7s 604us/step - loss: 1.0917 - accuracy: 0.5273\n",
      "Epoch 6/20\n",
      "11328/11328 [==============================] - 7s 639us/step - loss: 1.0900 - accuracy: 0.5272\n",
      "Epoch 7/20\n",
      "11328/11328 [==============================] - 7s 591us/step - loss: 1.0883 - accuracy: 0.55320s - loss:\n",
      "Epoch 8/20\n",
      "11328/11328 [==============================] - 7s 592us/step - loss: 1.0863 - accuracy: 0.5674\n",
      "Epoch 9/20\n",
      "11328/11328 [==============================] - 7s 583us/step - loss: 1.0842 - accuracy: 0.5783\n",
      "Epoch 10/20\n",
      "11328/11328 [==============================] - 7s 616us/step - loss: 1.0819 - accuracy: 0.5959\n",
      "Epoch 11/20\n",
      "11328/11328 [==============================] - 8s 664us/step - loss: 1.0792 - accuracy: 0.6014\n",
      "Epoch 12/20\n",
      "11328/11328 [==============================] - 7s 608us/step - loss: 1.0763 - accuracy: 0.6174\n",
      "Epoch 13/20\n",
      "11328/11328 [==============================] - 7s 594us/step - loss: 1.0729 - accuracy: 0.6285\n",
      "Epoch 14/20\n",
      "11328/11328 [==============================] - 7s 649us/step - loss: 1.0690 - accuracy: 0.6345\n",
      "Epoch 15/20\n",
      "11328/11328 [==============================] - 7s 649us/step - loss: 1.0645 - accuracy: 0.6393\n",
      "Epoch 16/20\n",
      "11328/11328 [==============================] - 7s 594us/step - loss: 1.0593 - accuracy: 0.6447\n",
      "Epoch 17/20\n",
      "11328/11328 [==============================] - 7s 583us/step - loss: 1.0532 - accuracy: 0.6427\n",
      "Epoch 18/20\n",
      "11328/11328 [==============================] - 7s 594us/step - loss: 1.0462 - accuracy: 0.6593\n",
      "Epoch 19/20\n",
      "11328/11328 [==============================] - 7s 601us/step - loss: 1.0379 - accuracy: 0.6512\n",
      "Epoch 20/20\n",
      "11328/11328 [==============================] - 7s 599us/step - loss: 1.0279 - accuracy: 0.6532\n"
     ]
    }
   ],
   "source": [
    "clf_ann_5 = models.Sequential()\n",
    "clf_ann_5.add(layers.Dense(1000, activation='relu', input_shape = (ideal_dim, )))\n",
    "clf_ann_5.add(layers.Dense(500, activation='relu'))\n",
    "clf_ann_5.add(layers.Dense(100, activation='relu'))\n",
    "clf_ann_5.add(layers.Dense(3, activation='softmax'))\n",
    "clf_ann_5.compile(optimizer='SGD', \n",
    "                loss='categorical_crossentropy',\n",
    "                metrics=[get_f1])\n",
    "history_5 = clf_ann_5.fit(X_res, y_res, epochs=20, batch_size=100)"
   ]
  },
  {
   "cell_type": "code",
   "execution_count": 132,
   "metadata": {
    "scrolled": false
   },
   "outputs": [
    {
     "name": "stdout",
     "output_type": "stream",
     "text": [
      "[[75.1 13.2 11.6]\n",
      " [29.8 45.3 24.9]\n",
      " [35.8 28.4 35.8]]\n",
      "\n",
      "              precision    recall  f1-score   support\n",
      "\n",
      "           0       0.15      0.75      0.25       189\n",
      "           1       0.73      0.45      0.56      1612\n",
      "           2       0.43      0.36      0.39       880\n",
      "\n",
      "    accuracy                           0.44      2681\n",
      "   macro avg       0.44      0.52      0.40      2681\n",
      "weighted avg       0.59      0.44      0.48      2681\n",
      "\n"
     ]
    }
   ],
   "source": [
    "yhat_test = clf_ann_5.predict(svd_X_test_lemmatized)\n",
    "yhat_test = [np.argmax(y) for y in yhat_test]\n",
    "report(y_test, yhat_test)"
   ]
  },
  {
   "cell_type": "markdown",
   "metadata": {},
   "source": [
    "Big improvement. The f1 score is up to 0.4 from 0.25. Still not a great score, though. Next I try whittling down my model a bit."
   ]
  },
  {
   "cell_type": "code",
   "execution_count": 135,
   "metadata": {
    "scrolled": true
   },
   "outputs": [
    {
     "name": "stdout",
     "output_type": "stream",
     "text": [
      "Epoch 1/120\n",
      "11328/11328 [==============================] - 13s 1ms/step - loss: 1.0985 - accuracy: 0.3419\n",
      "Epoch 2/120\n",
      "11328/11328 [==============================] - 12s 1ms/step - loss: 1.0979 - accuracy: 0.3508\n",
      "Epoch 3/120\n",
      "11328/11328 [==============================] - 13s 1ms/step - loss: 1.0973 - accuracy: 0.3600\n",
      "Epoch 4/120\n",
      "11328/11328 [==============================] - 12s 1ms/step - loss: 1.0968 - accuracy: 0.3678\n",
      "Epoch 5/120\n",
      "11328/11328 [==============================] - 11s 1ms/step - loss: 1.0958 - accuracy: 0.3829\n",
      "Epoch 6/120\n",
      "11328/11328 [==============================] - 11s 1ms/step - loss: 1.0947 - accuracy: 0.3939\n",
      "Epoch 7/120\n",
      "11328/11328 [==============================] - 11s 1ms/step - loss: 1.0942 - accuracy: 0.3986\n",
      "Epoch 8/120\n",
      "11328/11328 [==============================] - 12s 1ms/step - loss: 1.0927 - accuracy: 0.4116\n",
      "Epoch 9/120\n",
      "11328/11328 [==============================] - 12s 1ms/step - loss: 1.0912 - accuracy: 0.4220\n",
      "Epoch 10/120\n",
      "11328/11328 [==============================] - 12s 1ms/step - loss: 1.0900 - accuracy: 0.4318\n",
      "Epoch 11/120\n",
      "11328/11328 [==============================] - 12s 1ms/step - loss: 1.0887 - accuracy: 0.4334\n",
      "Epoch 12/120\n",
      "11328/11328 [==============================] - 12s 1ms/step - loss: 1.0869 - accuracy: 0.4413\n",
      "Epoch 13/120\n",
      "11328/11328 [==============================] - 12s 1ms/step - loss: 1.0853 - accuracy: 0.4514\n",
      "Epoch 14/120\n",
      "11328/11328 [==============================] - 12s 1ms/step - loss: 1.0821 - accuracy: 0.4619\n",
      "Epoch 15/120\n",
      "11328/11328 [==============================] - 11s 1ms/step - loss: 1.0811 - accuracy: 0.4615\n",
      "Epoch 16/120\n",
      "11328/11328 [==============================] - 12s 1ms/step - loss: 1.0784 - accuracy: 0.4698\n",
      "Epoch 17/120\n",
      "11328/11328 [==============================] - 12s 1ms/step - loss: 1.0762 - accuracy: 0.4727\n",
      "Epoch 18/120\n",
      "11328/11328 [==============================] - 12s 1ms/step - loss: 1.0720 - accuracy: 0.4835\n",
      "Epoch 19/120\n",
      "11328/11328 [==============================] - 12s 1ms/step - loss: 1.0682 - accuracy: 0.4940\n",
      "Epoch 20/120\n",
      "11328/11328 [==============================] - 12s 1ms/step - loss: 1.0639 - accuracy: 0.4959\n",
      "Epoch 21/120\n",
      "11328/11328 [==============================] - 12s 1ms/step - loss: 1.0584 - accuracy: 0.5078\n",
      "Epoch 22/120\n",
      "11328/11328 [==============================] - 12s 1ms/step - loss: 1.0539 - accuracy: 0.5122\n",
      "Epoch 23/120\n",
      "11328/11328 [==============================] - 12s 1ms/step - loss: 1.0471 - accuracy: 0.5197\n",
      "Epoch 24/120\n",
      "11328/11328 [==============================] - 11s 1ms/step - loss: 1.0413 - accuracy: 0.5149\n",
      "Epoch 25/120\n",
      "11328/11328 [==============================] - 12s 1ms/step - loss: 1.0295 - accuracy: 0.5288\n",
      "Epoch 26/120\n",
      "11328/11328 [==============================] - 12s 1ms/step - loss: 1.0223 - accuracy: 0.5285\n",
      "Epoch 27/120\n",
      "11328/11328 [==============================] - 12s 1ms/step - loss: 1.0102 - accuracy: 0.5343\n",
      "Epoch 28/120\n",
      "11328/11328 [==============================] - 12s 1ms/step - loss: 0.9956 - accuracy: 0.5484\n",
      "Epoch 29/120\n",
      "11328/11328 [==============================] - 12s 1ms/step - loss: 0.9818 - accuracy: 0.5544\n",
      "Epoch 30/120\n",
      "11328/11328 [==============================] - 12s 1ms/step - loss: 0.9644 - accuracy: 0.5589 1s - loss: 0\n",
      "Epoch 31/120\n",
      "11328/11328 [==============================] - 12s 1ms/step - loss: 0.9479 - accuracy: 0.5656\n",
      "Epoch 32/120\n",
      "11328/11328 [==============================] - 12s 1ms/step - loss: 0.9316 - accuracy: 0.5689\n",
      "Epoch 33/120\n",
      "11328/11328 [==============================] - 12s 1ms/step - loss: 0.9131 - accuracy: 0.5800 0s - loss: 0.9133 - accuracy\n",
      "Epoch 34/120\n",
      "11328/11328 [==============================] - 12s 1ms/step - loss: 0.8922 - accuracy: 0.5855\n",
      "Epoch 35/120\n",
      "11328/11328 [==============================] - 12s 1ms/step - loss: 0.8716 - accuracy: 0.5959\n",
      "Epoch 36/120\n",
      "11328/11328 [==============================] - 12s 1ms/step - loss: 0.8552 - accuracy: 0.5915\n",
      "Epoch 37/120\n",
      "11328/11328 [==============================] - 12s 1ms/step - loss: 0.8344 - accuracy: 0.6034\n",
      "Epoch 38/120\n",
      "11328/11328 [==============================] - 12s 1ms/step - loss: 0.8168 - accuracy: 0.6141\n",
      "Epoch 39/120\n",
      "11328/11328 [==============================] - 12s 1ms/step - loss: 0.8001 - accuracy: 0.6189\n",
      "Epoch 40/120\n",
      "11328/11328 [==============================] - 12s 1ms/step - loss: 0.7817 - accuracy: 0.6216\n",
      "Epoch 41/120\n",
      "11328/11328 [==============================] - 12s 1ms/step - loss: 0.7624 - accuracy: 0.6337\n",
      "Epoch 42/120\n",
      "11328/11328 [==============================] - 12s 1ms/step - loss: 0.7454 - accuracy: 0.6425\n",
      "Epoch 43/120\n",
      "11328/11328 [==============================] - 12s 1ms/step - loss: 0.7343 - accuracy: 0.6456\n",
      "Epoch 44/120\n",
      "11328/11328 [==============================] - 12s 1ms/step - loss: 0.7162 - accuracy: 0.6541\n",
      "Epoch 45/120\n",
      "11328/11328 [==============================] - 12s 1ms/step - loss: 0.7115 - accuracy: 0.6552\n",
      "Epoch 46/120\n",
      "11328/11328 [==============================] - 12s 1ms/step - loss: 0.6951 - accuracy: 0.6615\n",
      "Epoch 47/120\n",
      "11328/11328 [==============================] - 12s 1ms/step - loss: 0.6781 - accuracy: 0.6757\n",
      "Epoch 48/120\n",
      "11328/11328 [==============================] - 12s 1ms/step - loss: 0.6711 - accuracy: 0.6717\n",
      "Epoch 49/120\n",
      "11328/11328 [==============================] - 12s 1ms/step - loss: 0.6595 - accuracy: 0.6757\n",
      "Epoch 50/120\n",
      "11328/11328 [==============================] - 12s 1ms/step - loss: 0.6490 - accuracy: 0.6805\n",
      "Epoch 51/120\n",
      "11328/11328 [==============================] - 12s 1ms/step - loss: 0.6409 - accuracy: 0.6833\n",
      "Epoch 52/120\n",
      "11328/11328 [==============================] - 12s 1ms/step - loss: 0.6295 - accuracy: 0.6867\n",
      "Epoch 53/120\n",
      "11328/11328 [==============================] - 13s 1ms/step - loss: 0.6263 - accuracy: 0.6913\n",
      "Epoch 54/120\n",
      "11328/11328 [==============================] - 13s 1ms/step - loss: 0.6153 - accuracy: 0.6960\n",
      "Epoch 55/120\n",
      "11328/11328 [==============================] - 12s 1ms/step - loss: 0.6070 - accuracy: 0.7022\n",
      "Epoch 56/120\n",
      "11328/11328 [==============================] - 12s 1ms/step - loss: 0.6048 - accuracy: 0.7049\n",
      "Epoch 57/120\n",
      "11328/11328 [==============================] - 12s 1ms/step - loss: 0.6006 - accuracy: 0.6996\n",
      "Epoch 58/120\n",
      "11328/11328 [==============================] - 12s 1ms/step - loss: 0.5875 - accuracy: 0.7107\n",
      "Epoch 59/120\n",
      "11328/11328 [==============================] - 12s 1ms/step - loss: 0.5820 - accuracy: 0.7137\n",
      "Epoch 60/120\n",
      "11328/11328 [==============================] - 12s 1ms/step - loss: 0.5733 - accuracy: 0.7210\n",
      "Epoch 61/120\n",
      "11328/11328 [==============================] - 12s 1ms/step - loss: 0.5669 - accuracy: 0.7263\n",
      "Epoch 62/120\n",
      "11328/11328 [==============================] - 12s 1ms/step - loss: 0.5639 - accuracy: 0.7244\n",
      "Epoch 63/120\n",
      "11328/11328 [==============================] - 12s 1ms/step - loss: 0.5572 - accuracy: 0.7286\n",
      "Epoch 64/120\n",
      "11328/11328 [==============================] - 12s 1ms/step - loss: 0.5453 - accuracy: 0.7341\n",
      "Epoch 65/120\n",
      "11328/11328 [==============================] - 12s 1ms/step - loss: 0.5413 - accuracy: 0.7369\n",
      "Epoch 66/120\n",
      "11328/11328 [==============================] - 12s 1ms/step - loss: 0.5371 - accuracy: 0.7396\n",
      "Epoch 67/120\n",
      "11328/11328 [==============================] - 12s 1ms/step - loss: 0.5342 - accuracy: 0.7335\n",
      "Epoch 68/120\n",
      "11328/11328 [==============================] - 12s 1ms/step - loss: 0.5248 - accuracy: 0.7451\n",
      "Epoch 69/120\n",
      "11328/11328 [==============================] - 12s 1ms/step - loss: 0.5199 - accuracy: 0.7425\n",
      "Epoch 70/120\n",
      "11328/11328 [==============================] - 12s 1ms/step - loss: 0.5170 - accuracy: 0.7568\n",
      "Epoch 71/120\n",
      "11328/11328 [==============================] - 12s 1ms/step - loss: 0.5102 - accuracy: 0.7540\n",
      "Epoch 72/120\n",
      "11328/11328 [==============================] - 12s 1ms/step - loss: 0.5081 - accuracy: 0.7549\n",
      "Epoch 73/120\n",
      "11328/11328 [==============================] - 12s 1ms/step - loss: 0.5056 - accuracy: 0.7519\n",
      "Epoch 74/120\n",
      "11328/11328 [==============================] - 12s 1ms/step - loss: 0.5003 - accuracy: 0.7597\n",
      "Epoch 75/120\n",
      "11328/11328 [==============================] - 12s 1ms/step - loss: 0.4936 - accuracy: 0.7637\n",
      "Epoch 76/120\n",
      "11328/11328 [==============================] - 12s 1ms/step - loss: 0.4912 - accuracy: 0.7684\n",
      "Epoch 77/120\n",
      "11328/11328 [==============================] - 11s 1ms/step - loss: 0.4859 - accuracy: 0.7690\n",
      "Epoch 78/120\n",
      "11328/11328 [==============================] - 11s 998us/step - loss: 0.4808 - accuracy: 0.7685\n",
      "Epoch 79/120\n",
      "11328/11328 [==============================] - 11s 992us/step - loss: 0.4798 - accuracy: 0.7737\n",
      "Epoch 80/120\n",
      "11328/11328 [==============================] - 11s 1ms/step - loss: 0.4779 - accuracy: 0.7726\n",
      "Epoch 81/120\n",
      "11328/11328 [==============================] - 11s 1ms/step - loss: 0.4692 - accuracy: 0.7734\n",
      "Epoch 82/120\n",
      "11328/11328 [==============================] - 11s 998us/step - loss: 0.4686 - accuracy: 0.7846\n",
      "Epoch 83/120\n",
      "11328/11328 [==============================] - 12s 1ms/step - loss: 0.4635 - accuracy: 0.7784\n",
      "Epoch 84/120\n",
      "11328/11328 [==============================] - 12s 1ms/step - loss: 0.4619 - accuracy: 0.7867\n",
      "Epoch 85/120\n",
      "11328/11328 [==============================] - 11s 1ms/step - loss: 0.4488 - accuracy: 0.7908\n",
      "Epoch 86/120\n",
      "11328/11328 [==============================] - 11s 998us/step - loss: 0.4454 - accuracy: 0.7966\n",
      "Epoch 87/120\n",
      "11328/11328 [==============================] - 11s 995us/step - loss: 0.4452 - accuracy: 0.7963\n",
      "Epoch 88/120\n",
      "11328/11328 [==============================] - 11s 997us/step - loss: 0.4404 - accuracy: 0.8001\n",
      "Epoch 89/120\n",
      "11328/11328 [==============================] - 11s 1ms/step - loss: 0.4345 - accuracy: 0.8037\n",
      "Epoch 90/120\n",
      "11328/11328 [==============================] - 11s 1ms/step - loss: 0.4399 - accuracy: 0.7951\n",
      "Epoch 91/120\n",
      "11328/11328 [==============================] - 11s 1ms/step - loss: 0.4343 - accuracy: 0.7973\n",
      "Epoch 92/120\n",
      "11328/11328 [==============================] - 11s 1ms/step - loss: 0.4342 - accuracy: 0.7986\n",
      "Epoch 93/120\n",
      "11328/11328 [==============================] - 11s 998us/step - loss: 0.4240 - accuracy: 0.8076\n",
      "Epoch 94/120\n",
      "11328/11328 [==============================] - 12s 1ms/step - loss: 0.4198 - accuracy: 0.8082\n",
      "Epoch 95/120\n",
      "11328/11328 [==============================] - 12s 1ms/step - loss: 0.4103 - accuracy: 0.8143\n",
      "Epoch 96/120\n",
      "11328/11328 [==============================] - 11s 1ms/step - loss: 0.4168 - accuracy: 0.8131 0s - loss: 0.4165 - accuracy: 0.81\n",
      "Epoch 97/120\n",
      "11328/11328 [==============================] - 11s 1ms/step - loss: 0.4090 - accuracy: 0.8145\n",
      "Epoch 98/120\n",
      "11328/11328 [==============================] - 11s 1ms/step - loss: 0.4054 - accuracy: 0.8201\n",
      "Epoch 99/120\n",
      "11328/11328 [==============================] - 11s 1ms/step - loss: 0.4059 - accuracy: 0.8146 0s - loss: 0.406\n",
      "Epoch 100/120\n",
      "11328/11328 [==============================] - 11s 1ms/step - loss: 0.4088 - accuracy: 0.8125\n",
      "Epoch 101/120\n",
      "11328/11328 [==============================] - 11s 998us/step - loss: 0.3975 - accuracy: 0.8192\n",
      "Epoch 102/120\n",
      "11328/11328 [==============================] - 11s 1ms/step - loss: 0.3969 - accuracy: 0.8204\n",
      "Epoch 103/120\n",
      "11328/11328 [==============================] - 12s 1ms/step - loss: 0.3959 - accuracy: 0.8213\n",
      "Epoch 104/120\n",
      "11328/11328 [==============================] - 11s 1ms/step - loss: 0.3861 - accuracy: 0.8285\n",
      "Epoch 105/120\n",
      "11328/11328 [==============================] - 12s 1ms/step - loss: 0.3850 - accuracy: 0.8302\n",
      "Epoch 106/120\n",
      "11328/11328 [==============================] - 12s 1ms/step - loss: 0.3808 - accuracy: 0.8323\n",
      "Epoch 107/120\n",
      "11328/11328 [==============================] - 12s 1ms/step - loss: 0.3787 - accuracy: 0.8355\n",
      "Epoch 108/120\n",
      "11328/11328 [==============================] - 12s 1ms/step - loss: 0.3795 - accuracy: 0.8316 0s - loss: 0.3795 - accura\n",
      "Epoch 109/120\n",
      "11328/11328 [==============================] - 15s 1ms/step - loss: 0.3706 - accuracy: 0.8377\n",
      "Epoch 110/120\n",
      "11328/11328 [==============================] - 23s 2ms/step - loss: 0.3673 - accuracy: 0.8419\n",
      "Epoch 111/120\n",
      "11328/11328 [==============================] - 20s 2ms/step - loss: 0.3683 - accuracy: 0.8441\n",
      "Epoch 112/120\n",
      "11328/11328 [==============================] - 18s 2ms/step - loss: 0.3610 - accuracy: 0.8373\n",
      "Epoch 113/120\n",
      "11328/11328 [==============================] - 10s 860us/step - loss: 0.3618 - accuracy: 0.8407\n",
      "Epoch 114/120\n",
      "11328/11328 [==============================] - 11s 928us/step - loss: 0.3530 - accuracy: 0.8494\n",
      "Epoch 115/120\n",
      "11328/11328 [==============================] - 10s 902us/step - loss: 0.3509 - accuracy: 0.8465\n",
      "Epoch 116/120\n",
      "11328/11328 [==============================] - 14s 1ms/step - loss: 0.3564 - accuracy: 0.8462\n",
      "Epoch 117/120\n",
      "11328/11328 [==============================] - 11s 952us/step - loss: 0.3513 - accuracy: 0.8445\n",
      "Epoch 118/120\n",
      "11328/11328 [==============================] - 11s 1ms/step - loss: 0.3464 - accuracy: 0.8504\n",
      "Epoch 119/120\n",
      "11328/11328 [==============================] - 10s 908us/step - loss: 0.3449 - accuracy: 0.8566\n",
      "Epoch 120/120\n",
      "11328/11328 [==============================] - 10s 909us/step - loss: 0.3396 - accuracy: 0.8555\n"
     ]
    }
   ],
   "source": [
    "clf_ann_6 = models.Sequential()\n",
    "clf_ann_6.add(layers.Dropout(.3, input_shape=(ideal_dim, )))\n",
    "clf_ann_6.add(layers.Dense(1000, activation='relu'))\n",
    "clf_ann_6.add(layers.Dropout(.3))\n",
    "clf_ann_6.add(layers.Dense(500, activation='relu'))\n",
    "clf_ann_6.add(layers.Dropout(.3))\n",
    "clf_ann_6.add(layers.Dense(100, activation='relu'))\n",
    "clf_ann_6.add(layers.Dropout(.3))\n",
    "clf_ann_6.add(layers.Dense(3, activation='softmax'))\n",
    "clf_ann_6.compile(optimizer='SGD', \n",
    "                loss='categorical_crossentropy',\n",
    "                metrics=[get_f1])\n",
    "history_6 = clf_ann_6.fit(X_res, y_res, epochs=120, batch_size=100)"
   ]
  },
  {
   "cell_type": "code",
   "execution_count": 136,
   "metadata": {
    "scrolled": true
   },
   "outputs": [
    {
     "name": "stdout",
     "output_type": "stream",
     "text": [
      "[[60.3 13.8 25.9]\n",
      " [ 9.2 48.7 42.1]\n",
      " [10.2 17.7 72. ]]\n",
      "\n",
      "              precision    recall  f1-score   support\n",
      "\n",
      "           0       0.32      0.60      0.42       189\n",
      "           1       0.81      0.49      0.61      1612\n",
      "           2       0.47      0.72      0.57       880\n",
      "\n",
      "    accuracy                           0.57      2681\n",
      "   macro avg       0.53      0.60      0.53      2681\n",
      "weighted avg       0.66      0.57      0.58      2681\n",
      "\n"
     ]
    }
   ],
   "source": [
    "yhat_test = clf_ann_6.predict(svd_X_test_lemmatized)\n",
    "yhat_test = [np.argmax(y) for y in yhat_test]\n",
    "report(y_test, yhat_test)"
   ]
  },
  {
   "cell_type": "markdown",
   "metadata": {},
   "source": [
    "Adding some dropout layers to my ANN improved the f1 significantly, now at 0.53 on test data. Importantly, looking at the confusion matrix shows that for each class, it correctly predicts that class more than any other: 60% of 0's are accurately predicted, 49% of 1's are accurately predicted, and 72% of 2's are accurately predicted.\n",
    "\n",
    "The biggest mistake the ANN is making now is classifying 42% of 1's as 2's. In other words, 42% of reviews with no emotion are being categorized as positive."
   ]
  },
  {
   "cell_type": "code",
   "execution_count": 96,
   "metadata": {},
   "outputs": [
    {
     "name": "stderr",
     "output_type": "stream",
     "text": [
      "/Users/stlanier/opt/anaconda3/envs/learn-env/lib/python3.6/site-packages/sklearn/utils/deprecation.py:86: FutureWarning: Function safe_indexing is deprecated; safe_indexing is deprecated in version 0.22 and will be removed in version 0.24.\n",
      "  warnings.warn(msg, category=FutureWarning)\n",
      "/Users/stlanier/opt/anaconda3/envs/learn-env/lib/python3.6/site-packages/sklearn/utils/deprecation.py:86: FutureWarning: Function safe_indexing is deprecated; safe_indexing is deprecated in version 0.22 and will be removed in version 0.24.\n",
      "  warnings.warn(msg, category=FutureWarning)\n"
     ]
    }
   ],
   "source": [
    "# had to rerun SMOTE on the non-OHE version of y_train for the following models\n",
    "X_res, y_res = smote.fit_resample(svd_X_train_lemmatized, y_train)"
   ]
  },
  {
   "cell_type": "code",
   "execution_count": 97,
   "metadata": {
    "scrolled": true
   },
   "outputs": [
    {
     "name": "stdout",
     "output_type": "stream",
     "text": [
      "Fitting 3 folds for each of 16 candidates, totalling 48 fits\n",
      "[CV] max_depth=None, min_samples_split=5, n_estimators=80 ............\n"
     ]
    },
    {
     "name": "stderr",
     "output_type": "stream",
     "text": [
      "[Parallel(n_jobs=1)]: Using backend SequentialBackend with 1 concurrent workers.\n"
     ]
    },
    {
     "name": "stdout",
     "output_type": "stream",
     "text": [
      "[CV]  max_depth=None, min_samples_split=5, n_estimators=80, score=0.798, total=  34.7s\n",
      "[CV] max_depth=None, min_samples_split=5, n_estimators=80 ............\n"
     ]
    },
    {
     "name": "stderr",
     "output_type": "stream",
     "text": [
      "[Parallel(n_jobs=1)]: Done   1 out of   1 | elapsed:   34.7s remaining:    0.0s\n"
     ]
    },
    {
     "name": "stdout",
     "output_type": "stream",
     "text": [
      "[CV]  max_depth=None, min_samples_split=5, n_estimators=80, score=0.794, total=  36.3s\n",
      "[CV] max_depth=None, min_samples_split=5, n_estimators=80 ............\n"
     ]
    },
    {
     "name": "stderr",
     "output_type": "stream",
     "text": [
      "[Parallel(n_jobs=1)]: Done   2 out of   2 | elapsed:  1.2min remaining:    0.0s\n"
     ]
    },
    {
     "name": "stdout",
     "output_type": "stream",
     "text": [
      "[CV]  max_depth=None, min_samples_split=5, n_estimators=80, score=0.842, total=  34.0s\n",
      "[CV] max_depth=None, min_samples_split=5, n_estimators=90 ............\n",
      "[CV]  max_depth=None, min_samples_split=5, n_estimators=90, score=0.786, total=  38.1s\n",
      "[CV] max_depth=None, min_samples_split=5, n_estimators=90 ............\n",
      "[CV]  max_depth=None, min_samples_split=5, n_estimators=90, score=0.805, total=  41.1s\n",
      "[CV] max_depth=None, min_samples_split=5, n_estimators=90 ............\n",
      "[CV]  max_depth=None, min_samples_split=5, n_estimators=90, score=0.852, total=  44.5s\n",
      "[CV] max_depth=None, min_samples_split=5, n_estimators=100 ...........\n",
      "[CV]  max_depth=None, min_samples_split=5, n_estimators=100, score=0.788, total=  43.2s\n",
      "[CV] max_depth=None, min_samples_split=5, n_estimators=100 ...........\n",
      "[CV]  max_depth=None, min_samples_split=5, n_estimators=100, score=0.818, total=  43.0s\n",
      "[CV] max_depth=None, min_samples_split=5, n_estimators=100 ...........\n",
      "[CV]  max_depth=None, min_samples_split=5, n_estimators=100, score=0.851, total=  46.0s\n",
      "[CV] max_depth=None, min_samples_split=5, n_estimators=110 ...........\n",
      "[CV]  max_depth=None, min_samples_split=5, n_estimators=110, score=0.790, total=  49.8s\n",
      "[CV] max_depth=None, min_samples_split=5, n_estimators=110 ...........\n",
      "[CV]  max_depth=None, min_samples_split=5, n_estimators=110, score=0.812, total=  46.6s\n",
      "[CV] max_depth=None, min_samples_split=5, n_estimators=110 ...........\n",
      "[CV]  max_depth=None, min_samples_split=5, n_estimators=110, score=0.854, total=  48.7s\n",
      "[CV] max_depth=10, min_samples_split=5, n_estimators=80 ..............\n",
      "[CV]  max_depth=10, min_samples_split=5, n_estimators=80, score=0.761, total=  26.4s\n",
      "[CV] max_depth=10, min_samples_split=5, n_estimators=80 ..............\n",
      "[CV]  max_depth=10, min_samples_split=5, n_estimators=80, score=0.790, total=  26.3s\n",
      "[CV] max_depth=10, min_samples_split=5, n_estimators=80 ..............\n",
      "[CV]  max_depth=10, min_samples_split=5, n_estimators=80, score=0.821, total=  25.4s\n",
      "[CV] max_depth=10, min_samples_split=5, n_estimators=90 ..............\n",
      "[CV]  max_depth=10, min_samples_split=5, n_estimators=90, score=0.766, total=  29.7s\n",
      "[CV] max_depth=10, min_samples_split=5, n_estimators=90 ..............\n",
      "[CV]  max_depth=10, min_samples_split=5, n_estimators=90, score=0.792, total=  27.3s\n",
      "[CV] max_depth=10, min_samples_split=5, n_estimators=90 ..............\n",
      "[CV]  max_depth=10, min_samples_split=5, n_estimators=90, score=0.821, total=  26.3s\n",
      "[CV] max_depth=10, min_samples_split=5, n_estimators=100 .............\n",
      "[CV]  max_depth=10, min_samples_split=5, n_estimators=100, score=0.768, total=  30.9s\n",
      "[CV] max_depth=10, min_samples_split=5, n_estimators=100 .............\n",
      "[CV]  max_depth=10, min_samples_split=5, n_estimators=100, score=0.798, total=  30.5s\n",
      "[CV] max_depth=10, min_samples_split=5, n_estimators=100 .............\n",
      "[CV]  max_depth=10, min_samples_split=5, n_estimators=100, score=0.816, total=  27.9s\n",
      "[CV] max_depth=10, min_samples_split=5, n_estimators=110 .............\n",
      "[CV]  max_depth=10, min_samples_split=5, n_estimators=110, score=0.771, total=  30.6s\n",
      "[CV] max_depth=10, min_samples_split=5, n_estimators=110 .............\n",
      "[CV]  max_depth=10, min_samples_split=5, n_estimators=110, score=0.796, total=  30.5s\n",
      "[CV] max_depth=10, min_samples_split=5, n_estimators=110 .............\n",
      "[CV]  max_depth=10, min_samples_split=5, n_estimators=110, score=0.825, total=  32.9s\n",
      "[CV] max_depth=20, min_samples_split=5, n_estimators=80 ..............\n",
      "[CV]  max_depth=20, min_samples_split=5, n_estimators=80, score=0.791, total=  29.8s\n",
      "[CV] max_depth=20, min_samples_split=5, n_estimators=80 ..............\n",
      "[CV]  max_depth=20, min_samples_split=5, n_estimators=80, score=0.800, total=  32.3s\n",
      "[CV] max_depth=20, min_samples_split=5, n_estimators=80 ..............\n",
      "[CV]  max_depth=20, min_samples_split=5, n_estimators=80, score=0.847, total=  30.4s\n",
      "[CV] max_depth=20, min_samples_split=5, n_estimators=90 ..............\n",
      "[CV]  max_depth=20, min_samples_split=5, n_estimators=90, score=0.788, total=  33.0s\n",
      "[CV] max_depth=20, min_samples_split=5, n_estimators=90 ..............\n",
      "[CV]  max_depth=20, min_samples_split=5, n_estimators=90, score=0.810, total=  32.7s\n",
      "[CV] max_depth=20, min_samples_split=5, n_estimators=90 ..............\n",
      "[CV]  max_depth=20, min_samples_split=5, n_estimators=90, score=0.851, total=  32.6s\n",
      "[CV] max_depth=20, min_samples_split=5, n_estimators=100 .............\n",
      "[CV]  max_depth=20, min_samples_split=5, n_estimators=100, score=0.780, total=  37.0s\n",
      "[CV] max_depth=20, min_samples_split=5, n_estimators=100 .............\n",
      "[CV]  max_depth=20, min_samples_split=5, n_estimators=100, score=0.814, total=  36.4s\n",
      "[CV] max_depth=20, min_samples_split=5, n_estimators=100 .............\n",
      "[CV]  max_depth=20, min_samples_split=5, n_estimators=100, score=0.851, total=  36.7s\n",
      "[CV] max_depth=20, min_samples_split=5, n_estimators=110 .............\n",
      "[CV]  max_depth=20, min_samples_split=5, n_estimators=110, score=0.788, total=  40.4s\n",
      "[CV] max_depth=20, min_samples_split=5, n_estimators=110 .............\n",
      "[CV]  max_depth=20, min_samples_split=5, n_estimators=110, score=0.823, total=  40.2s\n",
      "[CV] max_depth=20, min_samples_split=5, n_estimators=110 .............\n",
      "[CV]  max_depth=20, min_samples_split=5, n_estimators=110, score=0.854, total=  40.8s\n",
      "[CV] max_depth=50, min_samples_split=5, n_estimators=80 ..............\n",
      "[CV]  max_depth=50, min_samples_split=5, n_estimators=80, score=0.784, total=  31.0s\n",
      "[CV] max_depth=50, min_samples_split=5, n_estimators=80 ..............\n",
      "[CV]  max_depth=50, min_samples_split=5, n_estimators=80, score=0.820, total=  30.0s\n",
      "[CV] max_depth=50, min_samples_split=5, n_estimators=80 ..............\n",
      "[CV]  max_depth=50, min_samples_split=5, n_estimators=80, score=0.859, total=  32.5s\n",
      "[CV] max_depth=50, min_samples_split=5, n_estimators=90 ..............\n",
      "[CV]  max_depth=50, min_samples_split=5, n_estimators=90, score=0.781, total=  34.2s\n",
      "[CV] max_depth=50, min_samples_split=5, n_estimators=90 ..............\n",
      "[CV]  max_depth=50, min_samples_split=5, n_estimators=90, score=0.814, total=  34.3s\n",
      "[CV] max_depth=50, min_samples_split=5, n_estimators=90 ..............\n",
      "[CV]  max_depth=50, min_samples_split=5, n_estimators=90, score=0.845, total=  35.9s\n",
      "[CV] max_depth=50, min_samples_split=5, n_estimators=100 .............\n",
      "[CV]  max_depth=50, min_samples_split=5, n_estimators=100, score=0.787, total=  38.6s\n",
      "[CV] max_depth=50, min_samples_split=5, n_estimators=100 .............\n",
      "[CV]  max_depth=50, min_samples_split=5, n_estimators=100, score=0.809, total=  37.9s\n",
      "[CV] max_depth=50, min_samples_split=5, n_estimators=100 .............\n",
      "[CV]  max_depth=50, min_samples_split=5, n_estimators=100, score=0.854, total=  43.0s\n",
      "[CV] max_depth=50, min_samples_split=5, n_estimators=110 .............\n",
      "[CV]  max_depth=50, min_samples_split=5, n_estimators=110, score=0.798, total= 2.0min\n",
      "[CV] max_depth=50, min_samples_split=5, n_estimators=110 .............\n",
      "[CV]  max_depth=50, min_samples_split=5, n_estimators=110, score=0.825, total= 2.1min\n",
      "[CV] max_depth=50, min_samples_split=5, n_estimators=110 .............\n",
      "[CV]  max_depth=50, min_samples_split=5, n_estimators=110, score=0.854, total= 1.4min\n"
     ]
    },
    {
     "name": "stderr",
     "output_type": "stream",
     "text": [
      "[Parallel(n_jobs=1)]: Done  48 out of  48 | elapsed: 32.0min finished\n"
     ]
    },
    {
     "data": {
      "text/plain": [
       "GridSearchCV(cv=3, estimator=RandomForestClassifier(),\n",
       "             param_grid={'max_depth': [None, 10, 20, 50],\n",
       "                         'min_samples_split': [5],\n",
       "                         'n_estimators': [80, 90, 100, 110]},\n",
       "             scoring='f1_macro', verbose=3)"
      ]
     },
     "execution_count": 97,
     "metadata": {},
     "output_type": "execute_result"
    }
   ],
   "source": [
    "params = {\n",
    "    'n_estimators': [80, 90, 100, 110],\n",
    "    'max_depth': [None, 10, 20, 50],\n",
    "    'min_samples_split': [5]\n",
    "}\n",
    "\n",
    "clf_rf = RandomForestClassifier()\n",
    "gs_rf = GridSearchCV(clf_rf, param_grid=params, scoring='f1_macro', cv=3, verbose=3)\n",
    "gs_rf.fit(X_res, y_res)"
   ]
  },
  {
   "cell_type": "code",
   "execution_count": 99,
   "metadata": {},
   "outputs": [
    {
     "data": {
      "text/plain": [
       "{'max_depth': 50, 'min_samples_split': 5, 'n_estimators': 110}"
      ]
     },
     "execution_count": 99,
     "metadata": {},
     "output_type": "execute_result"
    }
   ],
   "source": [
    "gs_rf.best_params_"
   ]
  },
  {
   "cell_type": "code",
   "execution_count": 98,
   "metadata": {},
   "outputs": [
    {
     "name": "stdout",
     "output_type": "stream",
     "text": [
      "[[20.1 59.3 20.6]\n",
      " [ 1.6 79.4 19. ]\n",
      " [ 0.6 57.  42.4]]\n",
      "\n",
      "              precision    recall  f1-score   support\n",
      "\n",
      "           0       0.55      0.20      0.29       189\n",
      "           1       0.68      0.79      0.73      1612\n",
      "           2       0.52      0.42      0.47       880\n",
      "\n",
      "    accuracy                           0.63      2681\n",
      "   macro avg       0.58      0.47      0.50      2681\n",
      "weighted avg       0.62      0.63      0.61      2681\n",
      "\n"
     ]
    }
   ],
   "source": [
    "report(y_test, gs_rf.predict(svd_X_test_lemmatized))"
   ]
  },
  {
   "cell_type": "code",
   "execution_count": 105,
   "metadata": {
    "scrolled": false
   },
   "outputs": [
    {
     "data": {
      "image/png": "[encoded data removed]",
      "text/plain": [
       "<Figure size 576x576 with 1 Axes>"
      ]
     },
     "metadata": {
      "needs_background": "light"
     },
     "output_type": "display_data"
    }
   ],
   "source": [
    "roc_curve_multiclass(gs_rf.predict_proba(svd_X_test_lemmatized), \n",
    "                    label_binarize(y_test, classes=[0,1,2]),\n",
    "                    title='Random Forest ROC (Test)')"
   ]
  },
  {
   "cell_type": "markdown",
   "metadata": {},
   "source": [
    "Still not much improvement on the RF even using SMOTEd train data, but we can tell it does best corrrectly classifying negative reviews. I've got to throw in the hat on it for now. "
   ]
  },
  {
   "cell_type": "markdown",
   "metadata": {},
   "source": [
    "## Results "
   ]
  },
  {
   "cell_type": "markdown",
   "metadata": {},
   "source": [
    "The neural network, random forest, and logistic regression models seems to be faring best. With more time, it might be a good idea to check out more forest models, like AdaBoost or XGBoost.\n",
    "\n",
    "|Model|Initial (Test) F1|**Best (Test) F1**|\n",
    "|---|---|---|\n",
    "| Neural Network | 0.25 | 0.53 |\n",
    "| Logistic Regressions | 0.53 | 0.53 |\n",
    "| Random Forest | 0.49 | 0.51 |\n",
    "| Support Vector Machine | 0.47 | 0.48 |\n",
    "| Naive Bayes Classifier | 0.37 | 0.38 |\n",
    "|  |  |  |"
   ]
  },
  {
   "cell_type": "markdown",
   "metadata": {},
   "source": [
    "## Conclusions"
   ]
  },
  {
   "cell_type": "markdown",
   "metadata": {},
   "source": [
    "The hardest part about this project has turned out to be the three-way classification problem as well as class imbalance, approximately 10:1 in the case of classes '1' and '0'. At present, the most informative component of this analysis seems to be the purely exploratory: dividing data into groups by sentiment (positive, negative, none) and inspecting most common tokens from there. That line of inquiry yielded some interesting insights, particularly when comparing between positive and negative reviews. For example, exclamation marks are one of the top 40 most common (filtered) tokens among positive reviews, as were \"great,\" \"social,\" and \"new\"; meanwhile, \"need,\" \"headaches,\" and \"long\" and \"line\" were in the top 40 most common for negative reviews.\n",
    "\n",
    "As a \"black box\" model for discerning review sentiment, these models don't yet appear very impressive, with the very best models producing **~0.53 macro f1 score on test data**. Decent, but not terribly impressive. ROC curves revealed that across the board models were best at identifying negative reviews. F1 scores for this project were achieved by the following steps:\n",
    "\n",
    "1. Preprocess data\n",
    "\n",
    " a. Lowercase all reviews\n",
    "  \n",
    " b. Break reviews into individual tokens\n",
    "  \n",
    " c. Remove all punctuation (except exclamation points) and stop words from tokens\n",
    "  \n",
    " d. Lemmatize tokens\n",
    "  \n",
    " e. Vectorize with tf-idf\n",
    "  \n",
    " f. Reduce dimensions with TSVD\n",
    "  \n",
    " g. Resample using SMOTE\n",
    "  \n",
    "  \n",
    "2.  Train models. Caution: I trained my models without a validation set, so be aware of that when interpretting my results; I should have, but forgot. Best hyperparameters for each model were as follows:\n",
    "\n",
    " RF:  {'max_depth': None, 'min_samples_split': 5, 'n_estimators': 90}\n",
    "  \n",
    " LogRegCV: {'Cs': 10}\n",
    "  \n",
    " SVM: out of the box\n",
    "  \n",
    " Multinomial Naive Bayes:  out of the box\n",
    "  \n",
    " ANN: 3 hidden layers of 1000, 500, and 100; all with ReLU activation, except softmax on the output layer; and 30% dropout at each layer.\n"
   ]
  }
 ],
 "metadata": {
  "kernelspec": {
   "display_name": "Python [conda env:learn-env] *",
   "language": "python",
   "name": "conda-env-learn-env-py"
  },
  "language_info": {
   "codemirror_mode": {
    "name": "ipython",
    "version": 3
   },
   "file_extension": ".py",
   "mimetype": "text/x-python",
   "name": "python",
   "nbconvert_exporter": "python",
   "pygments_lexer": "ipython3",
   "version": "3.6.9"
  },
  "toc": {
   "base_numbering": 1,
   "nav_menu": {},
   "number_sections": true,
   "sideBar": true,
   "skip_h1_title": true,
   "title_cell": "Table of Contents",
   "title_sidebar": "Contents",
   "toc_cell": false,
   "toc_position": {},
   "toc_section_display": true,
   "toc_window_display": true
  }
 },
 "nbformat": 4,
 "nbformat_minor": 2
}
